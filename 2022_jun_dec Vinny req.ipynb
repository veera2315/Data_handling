{
 "cells": [
  {
   "cell_type": "code",
   "execution_count": 14,
   "id": "16620527",
   "metadata": {},
   "outputs": [],
   "source": [
    "import pandas as pd\n",
    "\n",
    "dg1 = pd.read_excel(f\"C:\\\\Users\\EFRNV\\Downloads\\DG raw data\\DG Activities Page 1.xlsx\")\n",
    "dg2 = pd.read_excel(f\"C:\\\\Users\\EFRNV\\Downloads\\DG raw data\\DG Activities Page 2.xlsx\")\n",
    "dg3 = pd.read_excel(f\"C:\\\\Users\\EFRNV\\Downloads\\DG raw data\\DG Activities Page 3.xlsx\")\n",
    "dg4 = pd.read_excel(f\"C:\\\\Users\\EFRNV\\Downloads\\DG raw data\\DG Activities Page 4.xlsx\")"
   ]
  },
  {
   "cell_type": "code",
   "execution_count": 15,
   "id": "567f0844",
   "metadata": {},
   "outputs": [],
   "source": [
    "\n",
    "dg5 = pd.read_excel(f\"C:\\\\Users\\EFRNV\\Downloads\\DG raw data\\DG Activities Page 5.xlsx\")\n",
    "dg6 = pd.read_excel(f\"C:\\\\Users\\EFRNV\\Downloads\\DG raw data\\DG Activities Page 6.xlsx\")\n",
    "dg7 = pd.read_excel(f\"C:\\\\Users\\EFRNV\\Downloads\\DG raw data\\DG Activities Page 7.xlsx\")\n",
    "dg8 = pd.read_excel(f\"C:\\\\Users\\EFRNV\\Downloads\\DG raw data\\DG Activities Page 8.xlsx\")\n",
    "dg9 = pd.read_excel(f\"C:\\\\Users\\EFRNV\\Downloads\\DG raw data\\DG Activities Page 9.xlsx\")\n",
    "dg10 = pd.read_excel(f\"C:\\\\Users\\EFRNV\\Downloads\\DG raw data\\DG Activities Page 10.xlsx\")\n",
    "\n"
   ]
  },
  {
   "cell_type": "code",
   "execution_count": 16,
   "id": "4aff7c83",
   "metadata": {},
   "outputs": [
    {
     "data": {
      "text/plain": [
       "(2799110, 61)"
      ]
     },
     "execution_count": 16,
     "metadata": {},
     "output_type": "execute_result"
    }
   ],
   "source": [
    "dg_final=pd.concat([dg1,dg2,dg3,dg4,dg5,dg6,dg7,dg8,dg9,dg10], axis=0)\n",
    "pd.set_option('display.max_columns',None)\n",
    "dg_final.shape"
   ]
  },
  {
   "cell_type": "code",
   "execution_count": 17,
   "id": "864e7842",
   "metadata": {},
   "outputs": [
    {
     "data": {
      "text/plain": [
       "(962760, 61)"
      ]
     },
     "execution_count": 17,
     "metadata": {},
     "output_type": "execute_result"
    }
   ],
   "source": [
    "DG_unq=dg_final.drop_duplicates(subset='activity_id', keep=\"first\", inplace=False)\n",
    "DG_unq.shape\n",
    "#DG_unq.to_csv('DG_unq27may.csv')"
   ]
  },
  {
   "cell_type": "code",
   "execution_count": 28,
   "id": "fdf3543d",
   "metadata": {},
   "outputs": [],
   "source": [
    "dg_2023 = DG_unq[(DG_unq['year'] == 2023)]\n",
    "dg_2023.shape\n",
    "#dg_2023.to_csv('dg_2023_may27.csv')"
   ]
  },
  {
   "cell_type": "code",
   "execution_count": 24,
   "id": "5bb03340",
   "metadata": {},
   "outputs": [
    {
     "data": {
      "text/html": [
       "<div>\n",
       "<style scoped>\n",
       "    .dataframe tbody tr th:only-of-type {\n",
       "        vertical-align: middle;\n",
       "    }\n",
       "\n",
       "    .dataframe tbody tr th {\n",
       "        vertical-align: top;\n",
       "    }\n",
       "\n",
       "    .dataframe thead th {\n",
       "        text-align: right;\n",
       "    }\n",
       "</style>\n",
       "<table border=\"1\" class=\"dataframe\">\n",
       "  <thead>\n",
       "    <tr style=\"text-align: right;\">\n",
       "      <th></th>\n",
       "      <th>village</th>\n",
       "      <th>village_code</th>\n",
       "      <th>activity_id</th>\n",
       "      <th>activity_status</th>\n",
       "      <th>week_no</th>\n",
       "      <th>sub_district</th>\n",
       "      <th>sub_district_code</th>\n",
       "      <th>classification</th>\n",
       "      <th>cropmaingroup</th>\n",
       "      <th>cropmaingroupcode</th>\n",
       "      <th>cropgroupname</th>\n",
       "      <th>cropgroupcode</th>\n",
       "      <th>cropcode</th>\n",
       "      <th>cropname</th>\n",
       "      <th>engagement_program</th>\n",
       "      <th>activity_type_name</th>\n",
       "      <th>no_of_farmers_attended</th>\n",
       "      <th>month</th>\n",
       "      <th>iscompleted</th>\n",
       "      <th>remarks</th>\n",
       "      <th>product_name</th>\n",
       "      <th>completed_date</th>\n",
       "      <th>campaign_name</th>\n",
       "      <th>radl</th>\n",
       "      <th>purchase_intent</th>\n",
       "      <th>activity_latitude</th>\n",
       "      <th>activity_longitude</th>\n",
       "      <th>satellite_villages</th>\n",
       "      <th>fo_id</th>\n",
       "      <th>activity_resource_id</th>\n",
       "      <th>activity_resource</th>\n",
       "      <th>value_per_item</th>\n",
       "      <th>resource_type</th>\n",
       "      <th>consumed_count</th>\n",
       "      <th>planned_count</th>\n",
       "      <th>reject_reason</th>\n",
       "      <th>cancel_reason</th>\n",
       "      <th>imageurl_1</th>\n",
       "      <th>imageurl_2</th>\n",
       "      <th>imageurl_3</th>\n",
       "      <th>business_area_code</th>\n",
       "      <th>business_area</th>\n",
       "      <th>business_unit_code</th>\n",
       "      <th>business_unit</th>\n",
       "      <th>iscascaded</th>\n",
       "      <th>fo_name</th>\n",
       "      <th>district_code</th>\n",
       "      <th>district_name</th>\n",
       "      <th>state_code</th>\n",
       "      <th>state</th>\n",
       "      <th>program_description</th>\n",
       "      <th>uom</th>\n",
       "      <th>isadhoc</th>\n",
       "      <th>campaign_type</th>\n",
       "      <th>program_id</th>\n",
       "      <th>activity_type_id</th>\n",
       "      <th>territory_code</th>\n",
       "      <th>territory_name</th>\n",
       "      <th>fs_id</th>\n",
       "      <th>fs_name</th>\n",
       "      <th>year</th>\n",
       "    </tr>\n",
       "  </thead>\n",
       "  <tbody>\n",
       "    <tr>\n",
       "      <th>0</th>\n",
       "      <td>Pilakhanwali</td>\n",
       "      <td>9.142007e+14</td>\n",
       "      <td>4e2152bd-0a26-49b1-8635-77d483240bb1</td>\n",
       "      <td>Rejected</td>\n",
       "      <td>3</td>\n",
       "      <td>Sikandrabad</td>\n",
       "      <td>914200745</td>\n",
       "      <td>Crop Main Group</td>\n",
       "      <td>RICE</td>\n",
       "      <td>IN19</td>\n",
       "      <td>NaN</td>\n",
       "      <td>NaN</td>\n",
       "      <td>NaN</td>\n",
       "      <td>NaN</td>\n",
       "      <td>Field Visits/Field Day</td>\n",
       "      <td>Harvest Festival/ Harvest Day</td>\n",
       "      <td>10.0</td>\n",
       "      <td>June</td>\n",
       "      <td>True</td>\n",
       "      <td>With 1 Deler\\n</td>\n",
       "      <td>NaN</td>\n",
       "      <td>2021-06-15</td>\n",
       "      <td>Adhoc</td>\n",
       "      <td>NaN</td>\n",
       "      <td>NaN</td>\n",
       "      <td>28.521458</td>\n",
       "      <td>77.936919</td>\n",
       "      <td>Dulehra</td>\n",
       "      <td>DIVAKA</td>\n",
       "      <td>inadres16</td>\n",
       "      <td>Banner</td>\n",
       "      <td>NaN</td>\n",
       "      <td>NaN</td>\n",
       "      <td>1.0</td>\n",
       "      <td>0.0</td>\n",
       "      <td>Please update the photo</td>\n",
       "      <td>NaN</td>\n",
       "      <td>villageActivityPH/DIVAKA_06151134_4iPoc5pSe.jpg</td>\n",
       "      <td>NaN</td>\n",
       "      <td>NaN</td>\n",
       "      <td>9IE</td>\n",
       "      <td>West Up&amp;Uttaranchal</td>\n",
       "      <td>IN61PBC</td>\n",
       "      <td>Central</td>\n",
       "      <td>True</td>\n",
       "      <td>Divakar Kaushik</td>\n",
       "      <td>9142</td>\n",
       "      <td>Bulandshahr</td>\n",
       "      <td>9</td>\n",
       "      <td>Uttar Pradesh</td>\n",
       "      <td>NaN</td>\n",
       "      <td>NaN</td>\n",
       "      <td>1.0</td>\n",
       "      <td>Adhoc</td>\n",
       "      <td>inadprog2</td>\n",
       "      <td>inadact8</td>\n",
       "      <td>INBUN</td>\n",
       "      <td>Bulandshahr</td>\n",
       "      <td>AKHIJA1</td>\n",
       "      <td>Akhil Jadoun</td>\n",
       "      <td>2021</td>\n",
       "    </tr>\n",
       "    <tr>\n",
       "      <th>1</th>\n",
       "      <td>Pilakhanwali</td>\n",
       "      <td>9.142007e+14</td>\n",
       "      <td>4e2152bd-0a26-49b1-8635-77d483240bb1</td>\n",
       "      <td>Rejected</td>\n",
       "      <td>3</td>\n",
       "      <td>Sikandrabad</td>\n",
       "      <td>914200745</td>\n",
       "      <td>Crop Main Group</td>\n",
       "      <td>RICE</td>\n",
       "      <td>IN19</td>\n",
       "      <td>NaN</td>\n",
       "      <td>NaN</td>\n",
       "      <td>NaN</td>\n",
       "      <td>NaN</td>\n",
       "      <td>Field Visits/Field Day</td>\n",
       "      <td>Harvest Festival/ Harvest Day</td>\n",
       "      <td>10.0</td>\n",
       "      <td>June</td>\n",
       "      <td>True</td>\n",
       "      <td>With 1 Deler\\n</td>\n",
       "      <td>NaN</td>\n",
       "      <td>2021-06-15</td>\n",
       "      <td>Adhoc</td>\n",
       "      <td>NaN</td>\n",
       "      <td>NaN</td>\n",
       "      <td>28.521458</td>\n",
       "      <td>77.936919</td>\n",
       "      <td>Dulehra</td>\n",
       "      <td>DIVAKA</td>\n",
       "      <td>inadres30</td>\n",
       "      <td>Canopy</td>\n",
       "      <td>NaN</td>\n",
       "      <td>NaN</td>\n",
       "      <td>1.0</td>\n",
       "      <td>0.0</td>\n",
       "      <td>Please update the photo</td>\n",
       "      <td>NaN</td>\n",
       "      <td>villageActivityPH/DIVAKA_06151134_4iPoc5pSe.jpg</td>\n",
       "      <td>NaN</td>\n",
       "      <td>NaN</td>\n",
       "      <td>9IE</td>\n",
       "      <td>West Up&amp;Uttaranchal</td>\n",
       "      <td>IN61PBC</td>\n",
       "      <td>Central</td>\n",
       "      <td>True</td>\n",
       "      <td>Divakar Kaushik</td>\n",
       "      <td>9142</td>\n",
       "      <td>Bulandshahr</td>\n",
       "      <td>9</td>\n",
       "      <td>Uttar Pradesh</td>\n",
       "      <td>NaN</td>\n",
       "      <td>NaN</td>\n",
       "      <td>1.0</td>\n",
       "      <td>Adhoc</td>\n",
       "      <td>inadprog2</td>\n",
       "      <td>inadact8</td>\n",
       "      <td>INBUN</td>\n",
       "      <td>Bulandshahr</td>\n",
       "      <td>AKHIJA1</td>\n",
       "      <td>Akhil Jadoun</td>\n",
       "      <td>2021</td>\n",
       "    </tr>\n",
       "    <tr>\n",
       "      <th>2</th>\n",
       "      <td>Chamraud</td>\n",
       "      <td>9.138007e+14</td>\n",
       "      <td>994f9e3b-8300-46e2-b779-1f763f0fdcf2</td>\n",
       "      <td>Approved</td>\n",
       "      <td>3</td>\n",
       "      <td>Mawana</td>\n",
       "      <td>913800733</td>\n",
       "      <td>Crop Main Group</td>\n",
       "      <td>RICE</td>\n",
       "      <td>IN19</td>\n",
       "      <td>NaN</td>\n",
       "      <td>NaN</td>\n",
       "      <td>NaN</td>\n",
       "      <td>NaN</td>\n",
       "      <td>Field Visits/Field Day</td>\n",
       "      <td>Harvest Festival/ Harvest Day</td>\n",
       "      <td>40.0</td>\n",
       "      <td>June</td>\n",
       "      <td>True</td>\n",
       "      <td>Farmer meeting</td>\n",
       "      <td>NaN</td>\n",
       "      <td>2021-06-15</td>\n",
       "      <td>Adhoc</td>\n",
       "      <td>NaN</td>\n",
       "      <td>NaN</td>\n",
       "      <td>29.251564</td>\n",
       "      <td>78.007695</td>\n",
       "      <td>Dabkheri,Gajrauli,Ganeshpur,Garina</td>\n",
       "      <td>JAGM</td>\n",
       "      <td>inadres16</td>\n",
       "      <td>Banner</td>\n",
       "      <td>NaN</td>\n",
       "      <td>NaN</td>\n",
       "      <td>2.0</td>\n",
       "      <td>0.0</td>\n",
       "      <td>NaN</td>\n",
       "      <td>NaN</td>\n",
       "      <td>villageActivityPH/JAGM_06151135_wyMcq4ygF.jpg</td>\n",
       "      <td>NaN</td>\n",
       "      <td>NaN</td>\n",
       "      <td>9IE</td>\n",
       "      <td>West Up&amp;Uttaranchal</td>\n",
       "      <td>IN61PBC</td>\n",
       "      <td>Central</td>\n",
       "      <td>True</td>\n",
       "      <td>JAGMOHAN -</td>\n",
       "      <td>9138</td>\n",
       "      <td>Meerut</td>\n",
       "      <td>9</td>\n",
       "      <td>Uttar Pradesh</td>\n",
       "      <td>NaN</td>\n",
       "      <td>NaN</td>\n",
       "      <td>1.0</td>\n",
       "      <td>Adhoc</td>\n",
       "      <td>inadprog2</td>\n",
       "      <td>inadact8</td>\n",
       "      <td>INMER</td>\n",
       "      <td>Meerut</td>\n",
       "      <td>SUSHKU</td>\n",
       "      <td>SUSHEEL KUMAR</td>\n",
       "      <td>2021</td>\n",
       "    </tr>\n",
       "    <tr>\n",
       "      <th>3</th>\n",
       "      <td>Aarafpur</td>\n",
       "      <td>9.135007e+14</td>\n",
       "      <td>d699ed44-9060-4254-b598-927bbf3d7d09</td>\n",
       "      <td>Rejected</td>\n",
       "      <td>3</td>\n",
       "      <td>Bilari</td>\n",
       "      <td>913500720</td>\n",
       "      <td>NaN</td>\n",
       "      <td>NaN</td>\n",
       "      <td>NaN</td>\n",
       "      <td>NaN</td>\n",
       "      <td>NaN</td>\n",
       "      <td>NaN</td>\n",
       "      <td>NaN</td>\n",
       "      <td>Field Visits/Field Day</td>\n",
       "      <td>Field Visit at Farm</td>\n",
       "      <td>10.0</td>\n",
       "      <td>June</td>\n",
       "      <td>True</td>\n",
       "      <td>With 3 dealer \\n</td>\n",
       "      <td>Regent GR</td>\n",
       "      <td>2021-06-15</td>\n",
       "      <td>Adhoc</td>\n",
       "      <td>NaN</td>\n",
       "      <td>0.0</td>\n",
       "      <td>28.699895</td>\n",
       "      <td>78.785340</td>\n",
       "      <td>Aari Khera,Abdullapur,Abhanpur Kundarki,Abhanp...</td>\n",
       "      <td>HIMADI</td>\n",
       "      <td>inadres46</td>\n",
       "      <td>Flex</td>\n",
       "      <td>NaN</td>\n",
       "      <td>NaN</td>\n",
       "      <td>2.0</td>\n",
       "      <td>0.0</td>\n",
       "      <td>Activity Demo</td>\n",
       "      <td>NaN</td>\n",
       "      <td>villageActivityPH/HIMADI_06151136_WxGfbsgh3.jpg</td>\n",
       "      <td>NaN</td>\n",
       "      <td>NaN</td>\n",
       "      <td>9IE</td>\n",
       "      <td>West Up&amp;Uttaranchal</td>\n",
       "      <td>IN61PBC</td>\n",
       "      <td>Central</td>\n",
       "      <td>True</td>\n",
       "      <td>Himanshu Dixit</td>\n",
       "      <td>9135</td>\n",
       "      <td>Moradabad</td>\n",
       "      <td>9</td>\n",
       "      <td>Uttar Pradesh</td>\n",
       "      <td>NaN</td>\n",
       "      <td>KG</td>\n",
       "      <td>1.0</td>\n",
       "      <td>Adhoc</td>\n",
       "      <td>inadprog2</td>\n",
       "      <td>inadact10</td>\n",
       "      <td>INMOR</td>\n",
       "      <td>Moradabad</td>\n",
       "      <td>MITRSI</td>\n",
       "      <td>Mitrapal Singh</td>\n",
       "      <td>2021</td>\n",
       "    </tr>\n",
       "    <tr>\n",
       "      <th>4</th>\n",
       "      <td>Aarafpur</td>\n",
       "      <td>9.135007e+14</td>\n",
       "      <td>d699ed44-9060-4254-b598-927bbf3d7d09</td>\n",
       "      <td>Rejected</td>\n",
       "      <td>3</td>\n",
       "      <td>Bilari</td>\n",
       "      <td>913500720</td>\n",
       "      <td>Crop Main Group</td>\n",
       "      <td>RICE</td>\n",
       "      <td>IN19</td>\n",
       "      <td>NaN</td>\n",
       "      <td>NaN</td>\n",
       "      <td>NaN</td>\n",
       "      <td>NaN</td>\n",
       "      <td>Field Visits/Field Day</td>\n",
       "      <td>Field Visit at Farm</td>\n",
       "      <td>10.0</td>\n",
       "      <td>June</td>\n",
       "      <td>True</td>\n",
       "      <td>With 3 dealer \\n</td>\n",
       "      <td>NaN</td>\n",
       "      <td>2021-06-15</td>\n",
       "      <td>Adhoc</td>\n",
       "      <td>NaN</td>\n",
       "      <td>NaN</td>\n",
       "      <td>28.699895</td>\n",
       "      <td>78.785340</td>\n",
       "      <td>Aari Khera,Abdullapur,Abhanpur Kundarki,Abhanp...</td>\n",
       "      <td>HIMADI</td>\n",
       "      <td>inadres46</td>\n",
       "      <td>Flex</td>\n",
       "      <td>NaN</td>\n",
       "      <td>NaN</td>\n",
       "      <td>2.0</td>\n",
       "      <td>0.0</td>\n",
       "      <td>Activity Demo</td>\n",
       "      <td>NaN</td>\n",
       "      <td>villageActivityPH/HIMADI_06151136_WxGfbsgh3.jpg</td>\n",
       "      <td>NaN</td>\n",
       "      <td>NaN</td>\n",
       "      <td>9IE</td>\n",
       "      <td>West Up&amp;Uttaranchal</td>\n",
       "      <td>IN61PBC</td>\n",
       "      <td>Central</td>\n",
       "      <td>True</td>\n",
       "      <td>Himanshu Dixit</td>\n",
       "      <td>9135</td>\n",
       "      <td>Moradabad</td>\n",
       "      <td>9</td>\n",
       "      <td>Uttar Pradesh</td>\n",
       "      <td>NaN</td>\n",
       "      <td>NaN</td>\n",
       "      <td>1.0</td>\n",
       "      <td>Adhoc</td>\n",
       "      <td>inadprog2</td>\n",
       "      <td>inadact10</td>\n",
       "      <td>INMOR</td>\n",
       "      <td>Moradabad</td>\n",
       "      <td>MITRSI</td>\n",
       "      <td>Mitrapal Singh</td>\n",
       "      <td>2021</td>\n",
       "    </tr>\n",
       "  </tbody>\n",
       "</table>\n",
       "</div>"
      ],
      "text/plain": [
       "        village  village_code                           activity_id   \n",
       "0  Pilakhanwali  9.142007e+14  4e2152bd-0a26-49b1-8635-77d483240bb1  \\\n",
       "1  Pilakhanwali  9.142007e+14  4e2152bd-0a26-49b1-8635-77d483240bb1   \n",
       "2      Chamraud  9.138007e+14  994f9e3b-8300-46e2-b779-1f763f0fdcf2   \n",
       "3      Aarafpur  9.135007e+14  d699ed44-9060-4254-b598-927bbf3d7d09   \n",
       "4      Aarafpur  9.135007e+14  d699ed44-9060-4254-b598-927bbf3d7d09   \n",
       "\n",
       "  activity_status  week_no sub_district  sub_district_code   classification   \n",
       "0        Rejected        3  Sikandrabad          914200745  Crop Main Group  \\\n",
       "1        Rejected        3  Sikandrabad          914200745  Crop Main Group   \n",
       "2        Approved        3       Mawana          913800733  Crop Main Group   \n",
       "3        Rejected        3       Bilari          913500720              NaN   \n",
       "4        Rejected        3       Bilari          913500720  Crop Main Group   \n",
       "\n",
       "  cropmaingroup cropmaingroupcode cropgroupname cropgroupcode cropcode   \n",
       "0          RICE              IN19           NaN           NaN      NaN  \\\n",
       "1          RICE              IN19           NaN           NaN      NaN   \n",
       "2          RICE              IN19           NaN           NaN      NaN   \n",
       "3           NaN               NaN           NaN           NaN      NaN   \n",
       "4          RICE              IN19           NaN           NaN      NaN   \n",
       "\n",
       "  cropname      engagement_program             activity_type_name   \n",
       "0      NaN  Field Visits/Field Day  Harvest Festival/ Harvest Day  \\\n",
       "1      NaN  Field Visits/Field Day  Harvest Festival/ Harvest Day   \n",
       "2      NaN  Field Visits/Field Day  Harvest Festival/ Harvest Day   \n",
       "3      NaN  Field Visits/Field Day            Field Visit at Farm   \n",
       "4      NaN  Field Visits/Field Day            Field Visit at Farm   \n",
       "\n",
       "   no_of_farmers_attended month  iscompleted           remarks product_name   \n",
       "0                    10.0  June         True    With 1 Deler\\n          NaN  \\\n",
       "1                    10.0  June         True    With 1 Deler\\n          NaN   \n",
       "2                    40.0  June         True   Farmer meeting           NaN   \n",
       "3                    10.0  June         True  With 3 dealer \\n    Regent GR   \n",
       "4                    10.0  June         True  With 3 dealer \\n          NaN   \n",
       "\n",
       "  completed_date campaign_name radl  purchase_intent  activity_latitude   \n",
       "0     2021-06-15         Adhoc  NaN              NaN          28.521458  \\\n",
       "1     2021-06-15         Adhoc  NaN              NaN          28.521458   \n",
       "2     2021-06-15         Adhoc  NaN              NaN          29.251564   \n",
       "3     2021-06-15         Adhoc  NaN              0.0          28.699895   \n",
       "4     2021-06-15         Adhoc  NaN              NaN          28.699895   \n",
       "\n",
       "   activity_longitude                                 satellite_villages   \n",
       "0           77.936919                                            Dulehra  \\\n",
       "1           77.936919                                            Dulehra   \n",
       "2           78.007695                 Dabkheri,Gajrauli,Ganeshpur,Garina   \n",
       "3           78.785340  Aari Khera,Abdullapur,Abhanpur Kundarki,Abhanp...   \n",
       "4           78.785340  Aari Khera,Abdullapur,Abhanpur Kundarki,Abhanp...   \n",
       "\n",
       "    fo_id activity_resource_id activity_resource  value_per_item   \n",
       "0  DIVAKA            inadres16            Banner             NaN  \\\n",
       "1  DIVAKA            inadres30            Canopy             NaN   \n",
       "2    JAGM            inadres16            Banner             NaN   \n",
       "3  HIMADI            inadres46              Flex             NaN   \n",
       "4  HIMADI            inadres46              Flex             NaN   \n",
       "\n",
       "  resource_type  consumed_count  planned_count             reject_reason   \n",
       "0           NaN             1.0            0.0  Please update the photo   \\\n",
       "1           NaN             1.0            0.0  Please update the photo    \n",
       "2           NaN             2.0            0.0                       NaN   \n",
       "3           NaN             2.0            0.0            Activity Demo    \n",
       "4           NaN             2.0            0.0            Activity Demo    \n",
       "\n",
       "  cancel_reason                                       imageurl_1 imageurl_2   \n",
       "0           NaN  villageActivityPH/DIVAKA_06151134_4iPoc5pSe.jpg        NaN  \\\n",
       "1           NaN  villageActivityPH/DIVAKA_06151134_4iPoc5pSe.jpg        NaN   \n",
       "2           NaN    villageActivityPH/JAGM_06151135_wyMcq4ygF.jpg        NaN   \n",
       "3           NaN  villageActivityPH/HIMADI_06151136_WxGfbsgh3.jpg        NaN   \n",
       "4           NaN  villageActivityPH/HIMADI_06151136_WxGfbsgh3.jpg        NaN   \n",
       "\n",
       "  imageurl_3 business_area_code        business_area business_unit_code   \n",
       "0        NaN                9IE  West Up&Uttaranchal            IN61PBC  \\\n",
       "1        NaN                9IE  West Up&Uttaranchal            IN61PBC   \n",
       "2        NaN                9IE  West Up&Uttaranchal            IN61PBC   \n",
       "3        NaN                9IE  West Up&Uttaranchal            IN61PBC   \n",
       "4        NaN                9IE  West Up&Uttaranchal            IN61PBC   \n",
       "\n",
       "  business_unit  iscascaded          fo_name  district_code district_name   \n",
       "0       Central        True  Divakar Kaushik           9142   Bulandshahr  \\\n",
       "1       Central        True  Divakar Kaushik           9142   Bulandshahr   \n",
       "2       Central        True       JAGMOHAN -           9138        Meerut   \n",
       "3       Central        True   Himanshu Dixit           9135     Moradabad   \n",
       "4       Central        True   Himanshu Dixit           9135     Moradabad   \n",
       "\n",
       "   state_code          state program_description  uom  isadhoc campaign_type   \n",
       "0           9  Uttar Pradesh                 NaN  NaN      1.0         Adhoc  \\\n",
       "1           9  Uttar Pradesh                 NaN  NaN      1.0         Adhoc   \n",
       "2           9  Uttar Pradesh                 NaN  NaN      1.0         Adhoc   \n",
       "3           9  Uttar Pradesh                 NaN   KG      1.0         Adhoc   \n",
       "4           9  Uttar Pradesh                 NaN  NaN      1.0         Adhoc   \n",
       "\n",
       "  program_id activity_type_id territory_code territory_name    fs_id   \n",
       "0  inadprog2         inadact8          INBUN    Bulandshahr  AKHIJA1  \\\n",
       "1  inadprog2         inadact8          INBUN    Bulandshahr  AKHIJA1   \n",
       "2  inadprog2         inadact8          INMER         Meerut   SUSHKU   \n",
       "3  inadprog2        inadact10          INMOR      Moradabad   MITRSI   \n",
       "4  inadprog2        inadact10          INMOR      Moradabad   MITRSI   \n",
       "\n",
       "          fs_name  year  \n",
       "0    Akhil Jadoun  2021  \n",
       "1    Akhil Jadoun  2021  \n",
       "2   SUSHEEL KUMAR  2021  \n",
       "3  Mitrapal Singh  2021  \n",
       "4  Mitrapal Singh  2021  "
      ]
     },
     "execution_count": 24,
     "metadata": {},
     "output_type": "execute_result"
    }
   ],
   "source": [
    "pd.set_option('display.max_columns',None)\n",
    "dg_final.head()"
   ]
  },
  {
   "cell_type": "code",
   "execution_count": 18,
   "id": "60f2bb9a",
   "metadata": {},
   "outputs": [],
   "source": [
    "import pandas as pd\n",
    "\n",
    "fr1= pd.read_excel(r\"C:\\\\Users\\EFRNV\\Downloads\\farmer raw data\\Farmer Registration Page 1.xlsx\")\n",
    "fr2= pd.read_excel(r\"C:\\\\Users\\EFRNV\\Downloads\\farmer raw data\\Farmer Registration Page 2.xlsx\")\n",
    "fr3= pd.read_excel(r\"C:\\\\Users\\EFRNV\\Downloads\\farmer raw data\\Farmer Registration Page 3.xlsx\")\n",
    "fr4= pd.read_excel(r\"C:\\\\Users\\EFRNV\\Downloads\\farmer raw data\\Farmer Registration Page 4.xlsx\")\n",
    "fr5= pd.read_excel(r\"C:\\\\Users\\EFRNV\\Downloads\\farmer raw data\\Farmer Registration Page 5.xlsx\")\n"
   ]
  },
  {
   "cell_type": "code",
   "execution_count": 34,
   "id": "24e40582",
   "metadata": {},
   "outputs": [
    {
     "data": {
      "text/plain": [
       "(1347092, 28)"
      ]
     },
     "execution_count": 34,
     "metadata": {},
     "output_type": "execute_result"
    }
   ],
   "source": [
    "fr_final=pd.concat([fr1,fr2,fr3,fr4,fr5], axis=0)\n",
    "pd.set_option('display.max_columns',None)\n",
    "fr_final.shape"
   ]
  },
  {
   "cell_type": "code",
   "execution_count": 35,
   "id": "ca4a27af",
   "metadata": {},
   "outputs": [
    {
     "data": {
      "text/plain": [
       "(1189808, 28)"
      ]
     },
     "execution_count": 35,
     "metadata": {},
     "output_type": "execute_result"
    }
   ],
   "source": [
    "FR_unq=fr_final.drop_duplicates(subset='id', keep=\"first\", inplace=False)\n",
    "FR_unq.shape\n",
    "#FR_unq.to_csv('FR_unq03june.csv')"
   ]
  },
  {
   "cell_type": "code",
   "execution_count": 40,
   "id": "7f272dd4",
   "metadata": {},
   "outputs": [
    {
     "data": {
      "text/plain": [
       "(20108, 28)"
      ]
     },
     "execution_count": 40,
     "metadata": {},
     "output_type": "execute_result"
    }
   ],
   "source": [
    "FR_chilli= FR_unq[(FR_unq['Crop Name']=='CHILLIES: RED CHILLIES, GREEN CHILLIES & CAPSICUM')]\n",
    "FR_chilli.shape\n",
    "#FR_chilli.to_excel('fr_chilli.xlsx')"
   ]
  },
  {
   "cell_type": "code",
   "execution_count": 8,
   "id": "fa1eb869",
   "metadata": {},
   "outputs": [
    {
     "data": {
      "text/plain": [
       "(2572, 61)"
      ]
     },
     "execution_count": 8,
     "metadata": {},
     "output_type": "execute_result"
    }
   ],
   "source": [
    "dg_2022 = dg_final[(dg_final['year'] == 2022)  & (dg_final['iscompleted']==True) & (dg_final['engagement_program']=='BAYER GRAM')]\n",
    "\n",
    "dg_2022=(dg_2022.loc[dg_2022['activity_type_name'].isin(['Bayer Gram - Harvest Day','Bayer Gram - Model Plot','Bayer Gram - Field Demo - Package','Bayer Gram - Model Farm visit'])])\n",
    "dgd_2022=dg_2022.drop_duplicates(subset='activity_id', keep=\"first\", inplace=False)\n",
    "dgd_2022.shape\n",
    "\n"
   ]
  },
  {
   "cell_type": "code",
   "execution_count": 11,
   "id": "978dc89c",
   "metadata": {},
   "outputs": [
    {
     "name": "stderr",
     "output_type": "stream",
     "text": [
      "C:\\Users\\EFRNV\\AppData\\Local\\Temp\\ipykernel_12036\\4254031187.py:1: FutureWarning: The frame.append method is deprecated and will be removed from pandas in a future version. Use pandas.concat instead.\n",
      "  frf1 =fr1.append(fr2)\n",
      "C:\\Users\\EFRNV\\AppData\\Local\\Temp\\ipykernel_12036\\4254031187.py:2: FutureWarning: The frame.append method is deprecated and will be removed from pandas in a future version. Use pandas.concat instead.\n",
      "  frf2 =fr3.append(fr4)\n",
      "C:\\Users\\EFRNV\\AppData\\Local\\Temp\\ipykernel_12036\\4254031187.py:3: FutureWarning: The frame.append method is deprecated and will be removed from pandas in a future version. Use pandas.concat instead.\n",
      "  fr_final=frf1.append(frf2)\n"
     ]
    },
    {
     "data": {
      "text/plain": [
       "(933049, 28)"
      ]
     },
     "execution_count": 11,
     "metadata": {},
     "output_type": "execute_result"
    }
   ],
   "source": [
    "frf1 =fr1.append(fr2)\n",
    "frf2 =fr3.append(fr4)\n",
    "fr_final=frf1.append(frf2)\n",
    "fr_final.shape"
   ]
  },
  {
   "cell_type": "code",
   "execution_count": 90,
   "id": "e85918a4",
   "metadata": {},
   "outputs": [],
   "source": [
    "import os\n",
    "os.chdir(r'C:\\\\Users\\\\EFRNV\\\\Downloads\\\\')\n",
    "bayer_gram = pd.read_excel(f\"Bayer gram - TBM All India_19 Mar.xlsx\")\n"
   ]
  },
  {
   "cell_type": "code",
   "execution_count": 163,
   "id": "0d98ba4d",
   "metadata": {},
   "outputs": [
    {
     "data": {
      "text/plain": [
       "Index(['State', 'Territory Name', 'Sub District', 'Village',\n",
       "       'Count of Activity Id', 'Count of Activity Id (Dg 2022.Csv)'],\n",
       "      dtype='object')"
      ]
     },
     "execution_count": 163,
     "metadata": {},
     "output_type": "execute_result"
    }
   ],
   "source": [
    "dg_2022_data = pd.read_excel(f\"dg_data_2022_final.xlsx\")\n",
    "dg_2022_data.columns"
   ]
  },
  {
   "cell_type": "code",
   "execution_count": 155,
   "id": "81017570",
   "metadata": {
    "scrolled": true
   },
   "outputs": [
    {
     "data": {
      "text/html": [
       "<div>\n",
       "<style scoped>\n",
       "    .dataframe tbody tr th:only-of-type {\n",
       "        vertical-align: middle;\n",
       "    }\n",
       "\n",
       "    .dataframe tbody tr th {\n",
       "        vertical-align: top;\n",
       "    }\n",
       "\n",
       "    .dataframe thead th {\n",
       "        text-align: right;\n",
       "    }\n",
       "</style>\n",
       "<table border=\"1\" class=\"dataframe\">\n",
       "  <thead>\n",
       "    <tr style=\"text-align: right;\">\n",
       "      <th></th>\n",
       "      <th>Territory Name</th>\n",
       "      <th>Village Name</th>\n",
       "      <th>Cultivation Size</th>\n",
       "    </tr>\n",
       "  </thead>\n",
       "  <tbody>\n",
       "    <tr>\n",
       "      <th>0</th>\n",
       "      <td>Abohar</td>\n",
       "      <td>Alam Shah (288)</td>\n",
       "      <td>1.0</td>\n",
       "    </tr>\n",
       "    <tr>\n",
       "      <th>1</th>\n",
       "      <td>Abohar</td>\n",
       "      <td>Asafwala (272)</td>\n",
       "      <td>93.0</td>\n",
       "    </tr>\n",
       "    <tr>\n",
       "      <th>2</th>\n",
       "      <td>Abohar</td>\n",
       "      <td>Azamwala (140)</td>\n",
       "      <td>302.0</td>\n",
       "    </tr>\n",
       "    <tr>\n",
       "      <th>3</th>\n",
       "      <td>Abohar</td>\n",
       "      <td>Bandiwala (258)</td>\n",
       "      <td>36.0</td>\n",
       "    </tr>\n",
       "    <tr>\n",
       "      <th>4</th>\n",
       "      <td>Abohar</td>\n",
       "      <td>Banwala Hanwanta (244)</td>\n",
       "      <td>53.0</td>\n",
       "    </tr>\n",
       "    <tr>\n",
       "      <th>...</th>\n",
       "      <td>...</td>\n",
       "      <td>...</td>\n",
       "      <td>...</td>\n",
       "    </tr>\n",
       "    <tr>\n",
       "      <th>42884</th>\n",
       "      <td>Yeola (F&amp;V)</td>\n",
       "      <td>Vaghale</td>\n",
       "      <td>5.0</td>\n",
       "    </tr>\n",
       "    <tr>\n",
       "      <th>42885</th>\n",
       "      <td>Yeola (F&amp;V)</td>\n",
       "      <td>Vikharni</td>\n",
       "      <td>96.0</td>\n",
       "    </tr>\n",
       "    <tr>\n",
       "      <th>42886</th>\n",
       "      <td>Yeola (F&amp;V)</td>\n",
       "      <td>Vinchur</td>\n",
       "      <td>143.5</td>\n",
       "    </tr>\n",
       "    <tr>\n",
       "      <th>42887</th>\n",
       "      <td>Yeola (F&amp;V)</td>\n",
       "      <td>Visapur</td>\n",
       "      <td>48.0</td>\n",
       "    </tr>\n",
       "    <tr>\n",
       "      <th>42888</th>\n",
       "      <td>Yeola (F&amp;V)</td>\n",
       "      <td>Vishnu Nagar</td>\n",
       "      <td>2.0</td>\n",
       "    </tr>\n",
       "  </tbody>\n",
       "</table>\n",
       "<p>42889 rows × 3 columns</p>\n",
       "</div>"
      ],
      "text/plain": [
       "      Territory Name            Village Name  Cultivation Size\n",
       "0             Abohar         Alam Shah (288)               1.0\n",
       "1             Abohar          Asafwala (272)              93.0\n",
       "2             Abohar          Azamwala (140)             302.0\n",
       "3             Abohar         Bandiwala (258)              36.0\n",
       "4             Abohar  Banwala Hanwanta (244)              53.0\n",
       "...              ...                     ...               ...\n",
       "42884    Yeola (F&V)                 Vaghale               5.0\n",
       "42885    Yeola (F&V)                Vikharni              96.0\n",
       "42886    Yeola (F&V)                 Vinchur             143.5\n",
       "42887    Yeola (F&V)                 Visapur              48.0\n",
       "42888    Yeola (F&V)            Vishnu Nagar               2.0\n",
       "\n",
       "[42889 rows x 3 columns]"
      ]
     },
     "execution_count": 155,
     "metadata": {},
     "output_type": "execute_result"
    }
   ],
   "source": [
    "fr_final_d_cult = fr_final_d[['Territory Name','SubDistrict Name','Village Name','Cultivation Size']].groupby(['Territory Name','SubDistrict Name','Village Name']).sum('Cultivation Size').reset_index()\n",
    "fr_final_d_cult"
   ]
  },
  {
   "cell_type": "code",
   "execution_count": 156,
   "id": "8e9c1d56",
   "metadata": {
    "scrolled": true
   },
   "outputs": [
    {
     "data": {
      "text/html": [
       "<div>\n",
       "<style scoped>\n",
       "    .dataframe tbody tr th:only-of-type {\n",
       "        vertical-align: middle;\n",
       "    }\n",
       "\n",
       "    .dataframe tbody tr th {\n",
       "        vertical-align: top;\n",
       "    }\n",
       "\n",
       "    .dataframe thead th {\n",
       "        text-align: right;\n",
       "    }\n",
       "</style>\n",
       "<table border=\"1\" class=\"dataframe\">\n",
       "  <thead>\n",
       "    <tr style=\"text-align: right;\">\n",
       "      <th></th>\n",
       "      <th>Territory Name</th>\n",
       "      <th>Village Name</th>\n",
       "      <th>Cultivation Size</th>\n",
       "    </tr>\n",
       "  </thead>\n",
       "  <tbody>\n",
       "    <tr>\n",
       "      <th>0</th>\n",
       "      <td>Abohar</td>\n",
       "      <td>Alam Shah (288)</td>\n",
       "      <td>1.0</td>\n",
       "    </tr>\n",
       "    <tr>\n",
       "      <th>1</th>\n",
       "      <td>Abohar</td>\n",
       "      <td>Asafwala (272)</td>\n",
       "      <td>93.0</td>\n",
       "    </tr>\n",
       "    <tr>\n",
       "      <th>2</th>\n",
       "      <td>Abohar</td>\n",
       "      <td>Azamwala (140)</td>\n",
       "      <td>302.0</td>\n",
       "    </tr>\n",
       "    <tr>\n",
       "      <th>3</th>\n",
       "      <td>Abohar</td>\n",
       "      <td>Bandiwala (258)</td>\n",
       "      <td>36.0</td>\n",
       "    </tr>\n",
       "    <tr>\n",
       "      <th>4</th>\n",
       "      <td>Abohar</td>\n",
       "      <td>Banwala Hanwanta (244)</td>\n",
       "      <td>53.0</td>\n",
       "    </tr>\n",
       "    <tr>\n",
       "      <th>...</th>\n",
       "      <td>...</td>\n",
       "      <td>...</td>\n",
       "      <td>...</td>\n",
       "    </tr>\n",
       "    <tr>\n",
       "      <th>42884</th>\n",
       "      <td>Yeola (F&amp;V)</td>\n",
       "      <td>Vaghale</td>\n",
       "      <td>5.0</td>\n",
       "    </tr>\n",
       "    <tr>\n",
       "      <th>42885</th>\n",
       "      <td>Yeola (F&amp;V)</td>\n",
       "      <td>Vikharni</td>\n",
       "      <td>96.0</td>\n",
       "    </tr>\n",
       "    <tr>\n",
       "      <th>42886</th>\n",
       "      <td>Yeola (F&amp;V)</td>\n",
       "      <td>Vinchur</td>\n",
       "      <td>143.5</td>\n",
       "    </tr>\n",
       "    <tr>\n",
       "      <th>42887</th>\n",
       "      <td>Yeola (F&amp;V)</td>\n",
       "      <td>Visapur</td>\n",
       "      <td>48.0</td>\n",
       "    </tr>\n",
       "    <tr>\n",
       "      <th>42888</th>\n",
       "      <td>Yeola (F&amp;V)</td>\n",
       "      <td>Vishnu Nagar</td>\n",
       "      <td>2.0</td>\n",
       "    </tr>\n",
       "  </tbody>\n",
       "</table>\n",
       "<p>42889 rows × 3 columns</p>\n",
       "</div>"
      ],
      "text/plain": [
       "      Territory Name            Village Name  Cultivation Size\n",
       "0             Abohar         Alam Shah (288)               1.0\n",
       "1             Abohar          Asafwala (272)              93.0\n",
       "2             Abohar          Azamwala (140)             302.0\n",
       "3             Abohar         Bandiwala (258)              36.0\n",
       "4             Abohar  Banwala Hanwanta (244)              53.0\n",
       "...              ...                     ...               ...\n",
       "42884    Yeola (F&V)                 Vaghale               5.0\n",
       "42885    Yeola (F&V)                Vikharni              96.0\n",
       "42886    Yeola (F&V)                 Vinchur             143.5\n",
       "42887    Yeola (F&V)                 Visapur              48.0\n",
       "42888    Yeola (F&V)            Vishnu Nagar               2.0\n",
       "\n",
       "[42889 rows x 3 columns]"
      ]
     },
     "execution_count": 156,
     "metadata": {},
     "output_type": "execute_result"
    }
   ],
   "source": [
    "fr_final_d_id = fr_final_d[['Territory Name','Village Name','Cultivation Size']].groupby(['Territory Name','Village Name']).sum('Cultivation Size').reset_index()\n",
    "fr_final_d_id"
   ]
  },
  {
   "cell_type": "code",
   "execution_count": 165,
   "id": "cf507c6c",
   "metadata": {},
   "outputs": [],
   "source": [
    "compareColumn = []\n",
    "cultivation_final_count = []\n",
    "#farmer_reg_l = []\n",
    "for index, row in dg_2022_data.iterrows():\n",
    "    df2Row = fr_final_d_cult[fr_final_d_cult[\"Territory Name\"] == row[\"Territory Name\"]]\n",
    "    if df2Row.shape[0] == 0:\n",
    "        compareColumn.append(\"Territory not available\")\n",
    "    else:\n",
    "        check = False\n",
    "        for index, row2 in df2Row.iterrows():\n",
    "            if (row2[\"Village Name\"] == row[\"Village\"]):\n",
    "                coulti_count = row2['Cultivation Size']\n",
    "                compareColumn.append(\"matching\")\n",
    "                cultivation_final_count.append(coulti_count)\n",
    "                check = True\n",
    "                break\n",
    "        if check == False:\n",
    "            compareColumn.append(\"Date not matching\")\n",
    "dg_2022_data[\"compare\"] = compareColumn\n",
    "# bayer_gram[\"compare\"] = cultivation_final_count"
   ]
  },
  {
   "cell_type": "code",
   "execution_count": 166,
   "id": "5a075ca9",
   "metadata": {},
   "outputs": [],
   "source": [
    "compareColumn = []\n",
    "farmer_reg_count = []\n",
    "for index, row in dg_2022_data.iterrows():\n",
    "    df2Row = fr_gp_id_count[fr_gp_id_count[\"Territory Name\"] == row[\"Territory Name\"]]\n",
    "    if df2Row.shape[0] == 0:\n",
    "        compareColumn.append(\"Territory not available\")\n",
    "    else:\n",
    "        check = False\n",
    "        for index, row2 in df2Row.iterrows():\n",
    "            if (row2[\"Village Name\"] == row[\"Village\"]):\n",
    "                farmer_reg = row2['id']\n",
    "                compareColumn.append(\"matching\")\n",
    "                farmer_reg_count.append(farmer_reg)\n",
    "                check = True\n",
    "                break\n",
    "        if check == False:\n",
    "            compareColumn.append(\"Date not matching\")\n",
    "dg_2022_data[\"compare1\"] = compareColumn\n",
    "# bayer_gram[\"compare\"] = cultivation_final_count"
   ]
  },
  {
   "cell_type": "code",
   "execution_count": 181,
   "id": "23326cf6",
   "metadata": {},
   "outputs": [],
   "source": [
    "dg_2022_data_f = dg_2022_data[dg_2022_data['compare'] == 'matching']\n",
    "dg_2022_data_f = dg_2022_data[dg_2022_data['compare1'] == 'matching']\n",
    "dg_2022_data_f2 = dg_2022_data[dg_2022_data['compare'] == 'Date not matching']\n",
    "dg_2022_data_f2 = dg_2022_data[dg_2022_data['compare1'] == 'Date not matching']\n"
   ]
  },
  {
   "cell_type": "code",
   "execution_count": 116,
   "id": "6a6b56fb",
   "metadata": {},
   "outputs": [
    {
     "name": "stderr",
     "output_type": "stream",
     "text": [
      "C:\\Users\\EFRNV\\AppData\\Local\\Temp\\ipykernel_20856\\894427232.py:2: SettingWithCopyWarning: \n",
      "A value is trying to be set on a copy of a slice from a DataFrame.\n",
      "Try using .loc[row_indexer,col_indexer] = value instead\n",
      "\n",
      "See the caveats in the documentation: https://pandas.pydata.org/pandas-docs/stable/user_guide/indexing.html#returning-a-view-versus-a-copy\n",
      "  bayer_gram_match['mapping'] = np.where((bayer_gram_match['Cutivation Size']!=bayer_gram_match['cultivation_fr']) & (bayer_gram_match['# of Bayer Mitra']!=bayer_gram_match['farmer_id']) ,False,True)\n"
     ]
    }
   ],
   "source": [
    "import numpy as np\n",
    "bayer_gram_match['mapping'] = np.where((bayer_gram_match['Cutivation Size']!=bayer_gram_match['cultivation_fr']) & (bayer_gram_match['# of Bayer Mitra']!=bayer_gram_match['farmer_id']) ,False,True)"
   ]
  },
  {
   "cell_type": "code",
   "execution_count": 117,
   "id": "7a7ec9e7",
   "metadata": {
    "scrolled": true
   },
   "outputs": [
    {
     "data": {
      "text/html": [
       "<div>\n",
       "<style scoped>\n",
       "    .dataframe tbody tr th:only-of-type {\n",
       "        vertical-align: middle;\n",
       "    }\n",
       "\n",
       "    .dataframe tbody tr th {\n",
       "        vertical-align: top;\n",
       "    }\n",
       "\n",
       "    .dataframe thead th {\n",
       "        text-align: right;\n",
       "    }\n",
       "</style>\n",
       "<table border=\"1\" class=\"dataframe\">\n",
       "  <thead>\n",
       "    <tr style=\"text-align: right;\">\n",
       "      <th></th>\n",
       "      <th>HelperColumn</th>\n",
       "      <th>CU</th>\n",
       "      <th>CA</th>\n",
       "      <th>Territory</th>\n",
       "      <th>TBM/FS Name</th>\n",
       "      <th>Bayer Gram Village</th>\n",
       "      <th>Sahbhaagi Name</th>\n",
       "      <th>TBM/FS Village</th>\n",
       "      <th>Cutivation Size</th>\n",
       "      <th># of Farmers Registered</th>\n",
       "      <th># of Bayer Mitra</th>\n",
       "      <th>Model Plot since 1st Jan</th>\n",
       "      <th>No.of DG activites since 1st Jan</th>\n",
       "      <th>Overall Status</th>\n",
       "      <th>compare</th>\n",
       "      <th>compare1</th>\n",
       "      <th>cultivation_fr</th>\n",
       "      <th>farmer_id</th>\n",
       "      <th>mapping</th>\n",
       "    </tr>\n",
       "  </thead>\n",
       "  <tbody>\n",
       "    <tr>\n",
       "      <th>119</th>\n",
       "      <td>AboharDangar Khera (131)</td>\n",
       "      <td>North</td>\n",
       "      <td>Chandigarh</td>\n",
       "      <td>Abohar</td>\n",
       "      <td>Ankur Kumar</td>\n",
       "      <td>Dangar Khera (131)</td>\n",
       "      <td>NaN</td>\n",
       "      <td>TBM VILLAGE</td>\n",
       "      <td>704.0</td>\n",
       "      <td>36</td>\n",
       "      <td>2</td>\n",
       "      <td>2</td>\n",
       "      <td>10</td>\n",
       "      <td>RED</td>\n",
       "      <td>matching</td>\n",
       "      <td>matching</td>\n",
       "      <td>704.0</td>\n",
       "      <td>37</td>\n",
       "      <td>True</td>\n",
       "    </tr>\n",
       "    <tr>\n",
       "      <th>171</th>\n",
       "      <td>AdilabadGuda</td>\n",
       "      <td>West</td>\n",
       "      <td>Nanded</td>\n",
       "      <td>Adilabad</td>\n",
       "      <td>Ganesh Shinde</td>\n",
       "      <td>Guda</td>\n",
       "      <td>Thakre,Sumith</td>\n",
       "      <td>TBM VILLAGE</td>\n",
       "      <td>2130.0</td>\n",
       "      <td>201</td>\n",
       "      <td>3</td>\n",
       "      <td>3</td>\n",
       "      <td>4</td>\n",
       "      <td>GREEN</td>\n",
       "      <td>matching</td>\n",
       "      <td>matching</td>\n",
       "      <td>2130.0</td>\n",
       "      <td>203</td>\n",
       "      <td>True</td>\n",
       "    </tr>\n",
       "    <tr>\n",
       "      <th>261</th>\n",
       "      <td>AdoniKogilathota</td>\n",
       "      <td>South</td>\n",
       "      <td>Kurnool</td>\n",
       "      <td>Adoni</td>\n",
       "      <td>Manikanteswara Reddy</td>\n",
       "      <td>Kogilathota</td>\n",
       "      <td>NaN</td>\n",
       "      <td>TBM VILLAGE</td>\n",
       "      <td>1226.0</td>\n",
       "      <td>216</td>\n",
       "      <td>2</td>\n",
       "      <td>1</td>\n",
       "      <td>11</td>\n",
       "      <td>RED</td>\n",
       "      <td>matching</td>\n",
       "      <td>matching</td>\n",
       "      <td>1226.0</td>\n",
       "      <td>223</td>\n",
       "      <td>True</td>\n",
       "    </tr>\n",
       "    <tr>\n",
       "      <th>80</th>\n",
       "      <td>AgraBilara</td>\n",
       "      <td>Central</td>\n",
       "      <td>Agra</td>\n",
       "      <td>Agra</td>\n",
       "      <td>Ashwani Kumar</td>\n",
       "      <td>Bilara</td>\n",
       "      <td>Jasram,Jasram</td>\n",
       "      <td>FS VILLAGE</td>\n",
       "      <td>2880.0</td>\n",
       "      <td>464</td>\n",
       "      <td>1</td>\n",
       "      <td>3</td>\n",
       "      <td>3</td>\n",
       "      <td>GREEN</td>\n",
       "      <td>matching</td>\n",
       "      <td>matching</td>\n",
       "      <td>2880.0</td>\n",
       "      <td>464</td>\n",
       "      <td>True</td>\n",
       "    </tr>\n",
       "    <tr>\n",
       "      <th>109</th>\n",
       "      <td>AgraChitaura</td>\n",
       "      <td>Central</td>\n",
       "      <td>Agra</td>\n",
       "      <td>Agra</td>\n",
       "      <td>Yuvraj Singh Rathore</td>\n",
       "      <td>Chitaura</td>\n",
       "      <td>Ajeet ,Kumar</td>\n",
       "      <td>TBM VILLAGE</td>\n",
       "      <td>1640.0</td>\n",
       "      <td>315</td>\n",
       "      <td>1</td>\n",
       "      <td>2</td>\n",
       "      <td>13</td>\n",
       "      <td>GREEN</td>\n",
       "      <td>matching</td>\n",
       "      <td>matching</td>\n",
       "      <td>1640.0</td>\n",
       "      <td>316</td>\n",
       "      <td>True</td>\n",
       "    </tr>\n",
       "    <tr>\n",
       "      <th>...</th>\n",
       "      <td>...</td>\n",
       "      <td>...</td>\n",
       "      <td>...</td>\n",
       "      <td>...</td>\n",
       "      <td>...</td>\n",
       "      <td>...</td>\n",
       "      <td>...</td>\n",
       "      <td>...</td>\n",
       "      <td>...</td>\n",
       "      <td>...</td>\n",
       "      <td>...</td>\n",
       "      <td>...</td>\n",
       "      <td>...</td>\n",
       "      <td>...</td>\n",
       "      <td>...</td>\n",
       "      <td>...</td>\n",
       "      <td>...</td>\n",
       "      <td>...</td>\n",
       "      <td>...</td>\n",
       "    </tr>\n",
       "    <tr>\n",
       "      <th>93</th>\n",
       "      <td>YamunanagarBubka (53)</td>\n",
       "      <td>North</td>\n",
       "      <td>Karnal</td>\n",
       "      <td>Yamunanagar</td>\n",
       "      <td>Ishanka Gahlawat</td>\n",
       "      <td>Bubka (53)</td>\n",
       "      <td>NaN</td>\n",
       "      <td>TBM VILLAGE</td>\n",
       "      <td>1356.0</td>\n",
       "      <td>102</td>\n",
       "      <td>2</td>\n",
       "      <td>1</td>\n",
       "      <td>6</td>\n",
       "      <td>RED</td>\n",
       "      <td>matching</td>\n",
       "      <td>matching</td>\n",
       "      <td>1356.0</td>\n",
       "      <td>198</td>\n",
       "      <td>True</td>\n",
       "    </tr>\n",
       "    <tr>\n",
       "      <th>491</th>\n",
       "      <td>YavatmalWatholi</td>\n",
       "      <td>West</td>\n",
       "      <td>Amravati</td>\n",
       "      <td>Yavatmal</td>\n",
       "      <td>Jadhav Jagjerao</td>\n",
       "      <td>Watholi</td>\n",
       "      <td>NaN</td>\n",
       "      <td>TBM VILLAGE</td>\n",
       "      <td>803.0</td>\n",
       "      <td>62</td>\n",
       "      <td>2</td>\n",
       "      <td>0</td>\n",
       "      <td>0</td>\n",
       "      <td>RED</td>\n",
       "      <td>matching</td>\n",
       "      <td>matching</td>\n",
       "      <td>803.0</td>\n",
       "      <td>86</td>\n",
       "      <td>True</td>\n",
       "    </tr>\n",
       "    <tr>\n",
       "      <th>386</th>\n",
       "      <td>YemmiganurPedda Marriveedu</td>\n",
       "      <td>South</td>\n",
       "      <td>Kurnool</td>\n",
       "      <td>Yemmiganur</td>\n",
       "      <td>K Bhargav</td>\n",
       "      <td>Pedda Marriveedu</td>\n",
       "      <td>B ,Raviteja</td>\n",
       "      <td>TBM VILLAGE</td>\n",
       "      <td>1062.0</td>\n",
       "      <td>375</td>\n",
       "      <td>2</td>\n",
       "      <td>9</td>\n",
       "      <td>65</td>\n",
       "      <td>GREEN</td>\n",
       "      <td>matching</td>\n",
       "      <td>matching</td>\n",
       "      <td>1062.0</td>\n",
       "      <td>376</td>\n",
       "      <td>True</td>\n",
       "    </tr>\n",
       "    <tr>\n",
       "      <th>141</th>\n",
       "      <td>Yeola (F&amp;V)Ekwai</td>\n",
       "      <td>West</td>\n",
       "      <td>Nashik</td>\n",
       "      <td>Yeola (F&amp;V)</td>\n",
       "      <td>Sayali Kale</td>\n",
       "      <td>Ekwai</td>\n",
       "      <td>NaN</td>\n",
       "      <td>TBM VILLAGE</td>\n",
       "      <td>956.0</td>\n",
       "      <td>174</td>\n",
       "      <td>2</td>\n",
       "      <td>1</td>\n",
       "      <td>2</td>\n",
       "      <td>RED</td>\n",
       "      <td>matching</td>\n",
       "      <td>matching</td>\n",
       "      <td>956.0</td>\n",
       "      <td>341</td>\n",
       "      <td>True</td>\n",
       "    </tr>\n",
       "    <tr>\n",
       "      <th>167</th>\n",
       "      <td>Yeola (F&amp;V)Gondegaon</td>\n",
       "      <td>West</td>\n",
       "      <td>Nashik</td>\n",
       "      <td>Yeola (F&amp;V)</td>\n",
       "      <td>Sayali Kale</td>\n",
       "      <td>Gondegaon</td>\n",
       "      <td>NaN</td>\n",
       "      <td>TBM VILLAGE</td>\n",
       "      <td>150.5</td>\n",
       "      <td>75</td>\n",
       "      <td>0</td>\n",
       "      <td>1</td>\n",
       "      <td>4</td>\n",
       "      <td>RED</td>\n",
       "      <td>matching</td>\n",
       "      <td>matching</td>\n",
       "      <td>675.5</td>\n",
       "      <td>303</td>\n",
       "      <td>False</td>\n",
       "    </tr>\n",
       "  </tbody>\n",
       "</table>\n",
       "<p>438 rows × 19 columns</p>\n",
       "</div>"
      ],
      "text/plain": [
       "                   HelperColumn      CU           CA   Territory   \\\n",
       "119    AboharDangar Khera (131)    North  Chandigarh       Abohar   \n",
       "171                AdilabadGuda     West      Nanded     Adilabad   \n",
       "261            AdoniKogilathota    South     Kurnool        Adoni   \n",
       "80                   AgraBilara  Central        Agra         Agra   \n",
       "109                AgraChitaura  Central        Agra         Agra   \n",
       "..                          ...      ...         ...          ...   \n",
       "93        YamunanagarBubka (53)    North      Karnal  Yamunanagar   \n",
       "491             YavatmalWatholi     West    Amravati     Yavatmal   \n",
       "386  YemmiganurPedda Marriveedu    South     Kurnool   Yemmiganur   \n",
       "141            Yeola (F&V)Ekwai     West      Nashik  Yeola (F&V)   \n",
       "167        Yeola (F&V)Gondegaon     West      Nashik  Yeola (F&V)   \n",
       "\n",
       "              TBM/FS Name  Bayer Gram Village Sahbhaagi Name  TBM/FS Village  \\\n",
       "119           Ankur Kumar  Dangar Khera (131)             NaN    TBM VILLAGE   \n",
       "171         Ganesh Shinde                Guda   Thakre,Sumith    TBM VILLAGE   \n",
       "261  Manikanteswara Reddy         Kogilathota             NaN    TBM VILLAGE   \n",
       "80          Ashwani Kumar              Bilara   Jasram,Jasram     FS VILLAGE   \n",
       "109  Yuvraj Singh Rathore            Chitaura   Ajeet ,Kumar     TBM VILLAGE   \n",
       "..                    ...                 ...             ...            ...   \n",
       "93       Ishanka Gahlawat          Bubka (53)             NaN    TBM VILLAGE   \n",
       "491       Jadhav Jagjerao             Watholi             NaN    TBM VILLAGE   \n",
       "386             K Bhargav    Pedda Marriveedu     B ,Raviteja    TBM VILLAGE   \n",
       "141           Sayali Kale               Ekwai             NaN    TBM VILLAGE   \n",
       "167           Sayali Kale           Gondegaon             NaN    TBM VILLAGE   \n",
       "\n",
       "     Cutivation Size  # of Farmers Registered  # of Bayer Mitra  \\\n",
       "119            704.0                       36                 2   \n",
       "171           2130.0                      201                 3   \n",
       "261           1226.0                      216                 2   \n",
       "80            2880.0                      464                 1   \n",
       "109           1640.0                      315                 1   \n",
       "..               ...                      ...               ...   \n",
       "93            1356.0                      102                 2   \n",
       "491            803.0                       62                 2   \n",
       "386           1062.0                      375                 2   \n",
       "141            956.0                      174                 2   \n",
       "167            150.5                       75                 0   \n",
       "\n",
       "     Model Plot since 1st Jan  No.of DG activites since 1st Jan  \\\n",
       "119                         2                                10   \n",
       "171                         3                                 4   \n",
       "261                         1                                11   \n",
       "80                          3                                 3   \n",
       "109                         2                                13   \n",
       "..                        ...                               ...   \n",
       "93                          1                                 6   \n",
       "491                         0                                 0   \n",
       "386                         9                                65   \n",
       "141                         1                                 2   \n",
       "167                         1                                 4   \n",
       "\n",
       "    Overall Status   compare  compare1  cultivation_fr  farmer_id  mapping  \n",
       "119            RED  matching  matching           704.0         37     True  \n",
       "171          GREEN  matching  matching          2130.0        203     True  \n",
       "261            RED  matching  matching          1226.0        223     True  \n",
       "80           GREEN  matching  matching          2880.0        464     True  \n",
       "109          GREEN  matching  matching          1640.0        316     True  \n",
       "..             ...       ...       ...             ...        ...      ...  \n",
       "93             RED  matching  matching          1356.0        198     True  \n",
       "491            RED  matching  matching           803.0         86     True  \n",
       "386          GREEN  matching  matching          1062.0        376     True  \n",
       "141            RED  matching  matching           956.0        341     True  \n",
       "167            RED  matching  matching           675.5        303    False  \n",
       "\n",
       "[438 rows x 19 columns]"
      ]
     },
     "execution_count": 117,
     "metadata": {},
     "output_type": "execute_result"
    }
   ],
   "source": [
    "bgm=bayer_gram_match.sort_values(['Territory ','Bayer Gram Village'])\n",
    "bgm\n",
    "#bayer_gram_match[['Territory ','Bayer Gram Village','Cutivation Size','cultivation_fr','mapping']].sort_values(['Territory ','Bayer Gram Village'])"
   ]
  },
  {
   "cell_type": "code",
   "execution_count": 118,
   "id": "cf53fbe6",
   "metadata": {},
   "outputs": [],
   "source": [
    "bgm.to_excel('cultivation_and_id.xlsx')"
   ]
  },
  {
   "cell_type": "code",
   "execution_count": 39,
   "id": "99da5a08",
   "metadata": {},
   "outputs": [
    {
     "data": {
      "text/plain": [
       "True     344\n",
       "False     92\n",
       "Name: mapping, dtype: int64"
      ]
     },
     "execution_count": 39,
     "metadata": {},
     "output_type": "execute_result"
    }
   ],
   "source": [
    "bayer_gram_match.mapping.value_counts()"
   ]
  },
  {
   "cell_type": "code",
   "execution_count": 40,
   "id": "5c305cac",
   "metadata": {},
   "outputs": [
    {
     "data": {
      "text/html": [
       "<div>\n",
       "<style scoped>\n",
       "    .dataframe tbody tr th:only-of-type {\n",
       "        vertical-align: middle;\n",
       "    }\n",
       "\n",
       "    .dataframe tbody tr th {\n",
       "        vertical-align: top;\n",
       "    }\n",
       "\n",
       "    .dataframe thead th {\n",
       "        text-align: right;\n",
       "    }\n",
       "</style>\n",
       "<table border=\"1\" class=\"dataframe\">\n",
       "  <thead>\n",
       "    <tr style=\"text-align: right;\">\n",
       "      <th></th>\n",
       "      <th>HelperColumn</th>\n",
       "      <th>CU</th>\n",
       "      <th>CA</th>\n",
       "      <th>Territory</th>\n",
       "      <th>TBM/FS Name</th>\n",
       "      <th>Bayer Gram Village</th>\n",
       "      <th>Sahbhaagi Name</th>\n",
       "      <th>TBM/FS Village</th>\n",
       "      <th>Cutivation Size</th>\n",
       "      <th># of Farmers Registered</th>\n",
       "      <th># of Bayer Mitra</th>\n",
       "      <th>Model Plot since 1st Jan</th>\n",
       "      <th>No.of DG activites since 1st Jan</th>\n",
       "      <th>Overall Status</th>\n",
       "      <th>compare</th>\n",
       "      <th>cultivation_fr</th>\n",
       "      <th>mapping</th>\n",
       "    </tr>\n",
       "  </thead>\n",
       "  <tbody>\n",
       "    <tr>\n",
       "      <th>171</th>\n",
       "      <td>AdilabadGuda</td>\n",
       "      <td>West</td>\n",
       "      <td>Nanded</td>\n",
       "      <td>Adilabad</td>\n",
       "      <td>Ganesh Shinde</td>\n",
       "      <td>Guda</td>\n",
       "      <td>Thakre,Sumith</td>\n",
       "      <td>TBM VILLAGE</td>\n",
       "      <td>2130.0</td>\n",
       "      <td>201</td>\n",
       "      <td>3</td>\n",
       "      <td>3</td>\n",
       "      <td>4</td>\n",
       "      <td>GREEN</td>\n",
       "      <td>matching</td>\n",
       "      <td>1639.0</td>\n",
       "      <td>False</td>\n",
       "    </tr>\n",
       "  </tbody>\n",
       "</table>\n",
       "</div>"
      ],
      "text/plain": [
       "     HelperColumn   CU       CA Territory     TBM/FS Name Bayer Gram Village  \\\n",
       "171  AdilabadGuda  West  Nanded   Adilabad  Ganesh Shinde               Guda   \n",
       "\n",
       "    Sahbhaagi Name  TBM/FS Village  Cutivation Size  # of Farmers Registered  \\\n",
       "171   Thakre,Sumith    TBM VILLAGE           2130.0                      201   \n",
       "\n",
       "     # of Bayer Mitra  Model Plot since 1st Jan  \\\n",
       "171                 3                         3   \n",
       "\n",
       "     No.of DG activites since 1st Jan Overall Status   compare  \\\n",
       "171                                 4          GREEN  matching   \n",
       "\n",
       "     cultivation_fr  mapping  \n",
       "171          1639.0    False  "
      ]
     },
     "execution_count": 40,
     "metadata": {},
     "output_type": "execute_result"
    }
   ],
   "source": [
    "bayer_gram_match[(bayer_gram_match['Territory ']=='Adilabad')&(bayer_gram_match['Bayer Gram Village']=='Guda')]"
   ]
  },
  {
   "cell_type": "code",
   "execution_count": 43,
   "id": "f6f1c6d1",
   "metadata": {},
   "outputs": [
    {
     "data": {
      "text/html": [
       "<div>\n",
       "<style scoped>\n",
       "    .dataframe tbody tr th:only-of-type {\n",
       "        vertical-align: middle;\n",
       "    }\n",
       "\n",
       "    .dataframe tbody tr th {\n",
       "        vertical-align: top;\n",
       "    }\n",
       "\n",
       "    .dataframe thead th {\n",
       "        text-align: right;\n",
       "    }\n",
       "</style>\n",
       "<table border=\"1\" class=\"dataframe\">\n",
       "  <thead>\n",
       "    <tr style=\"text-align: right;\">\n",
       "      <th></th>\n",
       "      <th>Territory Name</th>\n",
       "      <th>Village Name</th>\n",
       "      <th>Cultivation Size</th>\n",
       "    </tr>\n",
       "  </thead>\n",
       "  <tbody>\n",
       "    <tr>\n",
       "      <th>37</th>\n",
       "      <td>Adilabad</td>\n",
       "      <td>Guda</td>\n",
       "      <td>1639.0</td>\n",
       "    </tr>\n",
       "  </tbody>\n",
       "</table>\n",
       "</div>"
      ],
      "text/plain": [
       "   Territory Name Village Name  Cultivation Size\n",
       "37       Adilabad         Guda            1639.0"
      ]
     },
     "execution_count": 43,
     "metadata": {},
     "output_type": "execute_result"
    }
   ],
   "source": [
    "fr_gp_cult_sum[(fr_gp_cult_sum['Territory Name']=='Adilabad')&(fr_gp_cult_sum['Village Name']=='Guda')]"
   ]
  },
  {
   "cell_type": "code",
   "execution_count": 45,
   "id": "99ae78dd",
   "metadata": {},
   "outputs": [
    {
     "data": {
      "text/html": [
       "<div>\n",
       "<style scoped>\n",
       "    .dataframe tbody tr th:only-of-type {\n",
       "        vertical-align: middle;\n",
       "    }\n",
       "\n",
       "    .dataframe tbody tr th {\n",
       "        vertical-align: top;\n",
       "    }\n",
       "\n",
       "    .dataframe thead th {\n",
       "        text-align: right;\n",
       "    }\n",
       "</style>\n",
       "<table border=\"1\" class=\"dataframe\">\n",
       "  <thead>\n",
       "    <tr style=\"text-align: right;\">\n",
       "      <th></th>\n",
       "      <th>Territory Name</th>\n",
       "      <th>Village Name</th>\n",
       "      <th>Cultivation Size</th>\n",
       "    </tr>\n",
       "  </thead>\n",
       "  <tbody>\n",
       "    <tr>\n",
       "      <th>12</th>\n",
       "      <td>Abohar</td>\n",
       "      <td>Dangar Khera (131)</td>\n",
       "      <td>704.0</td>\n",
       "    </tr>\n",
       "    <tr>\n",
       "      <th>37</th>\n",
       "      <td>Adilabad</td>\n",
       "      <td>Guda</td>\n",
       "      <td>1639.0</td>\n",
       "    </tr>\n",
       "    <tr>\n",
       "      <th>89</th>\n",
       "      <td>Adoni</td>\n",
       "      <td>Kogilathota</td>\n",
       "      <td>1226.0</td>\n",
       "    </tr>\n",
       "    <tr>\n",
       "      <th>283</th>\n",
       "      <td>Agra</td>\n",
       "      <td>Bilara</td>\n",
       "      <td>2880.0</td>\n",
       "    </tr>\n",
       "    <tr>\n",
       "      <th>320</th>\n",
       "      <td>Agra</td>\n",
       "      <td>Chitaura</td>\n",
       "      <td>1610.0</td>\n",
       "    </tr>\n",
       "    <tr>\n",
       "      <th>...</th>\n",
       "      <td>...</td>\n",
       "      <td>...</td>\n",
       "      <td>...</td>\n",
       "    </tr>\n",
       "    <tr>\n",
       "      <th>50480</th>\n",
       "      <td>Yeola (F&amp;V)</td>\n",
       "      <td>Gondegaon</td>\n",
       "      <td>150.5</td>\n",
       "    </tr>\n",
       "    <tr>\n",
       "      <th>50499</th>\n",
       "      <td>Yeola (F&amp;V)</td>\n",
       "      <td>Khadak Malegaon</td>\n",
       "      <td>276.0</td>\n",
       "    </tr>\n",
       "    <tr>\n",
       "      <th>50534</th>\n",
       "      <td>Yeola (F&amp;V)</td>\n",
       "      <td>Palkhed</td>\n",
       "      <td>53.0</td>\n",
       "    </tr>\n",
       "    <tr>\n",
       "      <th>50551</th>\n",
       "      <td>Yeola (F&amp;V)</td>\n",
       "      <td>Rui</td>\n",
       "      <td>213.0</td>\n",
       "    </tr>\n",
       "    <tr>\n",
       "      <th>50572</th>\n",
       "      <td>Yeola (F&amp;V)</td>\n",
       "      <td>Vadner Bhairao</td>\n",
       "      <td>353.0</td>\n",
       "    </tr>\n",
       "  </tbody>\n",
       "</table>\n",
       "<p>721 rows × 3 columns</p>\n",
       "</div>"
      ],
      "text/plain": [
       "      Territory Name        Village Name  Cultivation Size\n",
       "12            Abohar  Dangar Khera (131)             704.0\n",
       "37          Adilabad                Guda            1639.0\n",
       "89             Adoni         Kogilathota            1226.0\n",
       "283             Agra              Bilara            2880.0\n",
       "320             Agra            Chitaura            1610.0\n",
       "...              ...                 ...               ...\n",
       "50480    Yeola (F&V)           Gondegaon             150.5\n",
       "50499    Yeola (F&V)     Khadak Malegaon             276.0\n",
       "50534    Yeola (F&V)             Palkhed              53.0\n",
       "50551    Yeola (F&V)                 Rui             213.0\n",
       "50572    Yeola (F&V)      Vadner Bhairao             353.0\n",
       "\n",
       "[721 rows x 3 columns]"
      ]
     },
     "execution_count": 45,
     "metadata": {},
     "output_type": "execute_result"
    }
   ],
   "source": [
    "#validation from fr_gp\n",
    "fr_gp_cult_sum[(fr_gp_cult_sum['Territory Name'].isin(list(bayer_gram_match['Territory '].unique())))&(fr_gp_cult_sum['Village Name'].isin(list(bayer_gram_match['Bayer Gram Village'].unique())))].sort_values(['Territory Name','Village Name'])"
   ]
  },
  {
   "cell_type": "code",
   "execution_count": 47,
   "id": "8f620814",
   "metadata": {},
   "outputs": [],
   "source": [
    "compare_merge = bayer_gram_match.merge(fr_gp_cult_sum,left_on=['Territory ','Bayer Gram Village'], right_on=['Territory Name','Village Name'],how = 'inner')"
   ]
  },
  {
   "cell_type": "code",
   "execution_count": 68,
   "id": "80e0f59f",
   "metadata": {},
   "outputs": [
    {
     "data": {
      "text/html": [
       "<div>\n",
       "<style scoped>\n",
       "    .dataframe tbody tr th:only-of-type {\n",
       "        vertical-align: middle;\n",
       "    }\n",
       "\n",
       "    .dataframe tbody tr th {\n",
       "        vertical-align: top;\n",
       "    }\n",
       "\n",
       "    .dataframe thead th {\n",
       "        text-align: right;\n",
       "    }\n",
       "</style>\n",
       "<table border=\"1\" class=\"dataframe\">\n",
       "  <thead>\n",
       "    <tr style=\"text-align: right;\">\n",
       "      <th></th>\n",
       "      <th>Territory</th>\n",
       "      <th>Bayer Gram Village</th>\n",
       "      <th>cultivation_final_count</th>\n",
       "      <th>Territory Name</th>\n",
       "      <th>Village Name</th>\n",
       "      <th>Cultivation Size</th>\n",
       "    </tr>\n",
       "  </thead>\n",
       "  <tbody>\n",
       "    <tr>\n",
       "      <th>0</th>\n",
       "      <td>Agra</td>\n",
       "      <td>Chitaura</td>\n",
       "      <td>1610.00</td>\n",
       "      <td>Agra</td>\n",
       "      <td>Chitaura</td>\n",
       "      <td>1610.00</td>\n",
       "    </tr>\n",
       "    <tr>\n",
       "      <th>1</th>\n",
       "      <td>Aligarh</td>\n",
       "      <td>Mahera</td>\n",
       "      <td>12.00</td>\n",
       "      <td>Aligarh</td>\n",
       "      <td>Mahera</td>\n",
       "      <td>12.00</td>\n",
       "    </tr>\n",
       "    <tr>\n",
       "      <th>2</th>\n",
       "      <td>Etah</td>\n",
       "      <td>Takuawar</td>\n",
       "      <td>221.00</td>\n",
       "      <td>Etah</td>\n",
       "      <td>Takuawar</td>\n",
       "      <td>221.00</td>\n",
       "    </tr>\n",
       "    <tr>\n",
       "      <th>3</th>\n",
       "      <td>Etawah</td>\n",
       "      <td>Bhalasaiyed</td>\n",
       "      <td>565.00</td>\n",
       "      <td>Etawah</td>\n",
       "      <td>Bhalasaiyed</td>\n",
       "      <td>565.00</td>\n",
       "    </tr>\n",
       "    <tr>\n",
       "      <th>4</th>\n",
       "      <td>Firozabad</td>\n",
       "      <td>Itora</td>\n",
       "      <td>332.00</td>\n",
       "      <td>Firozabad</td>\n",
       "      <td>Itora</td>\n",
       "      <td>332.00</td>\n",
       "    </tr>\n",
       "    <tr>\n",
       "      <th>...</th>\n",
       "      <td>...</td>\n",
       "      <td>...</td>\n",
       "      <td>...</td>\n",
       "      <td>...</td>\n",
       "      <td>...</td>\n",
       "      <td>...</td>\n",
       "    </tr>\n",
       "    <tr>\n",
       "      <th>431</th>\n",
       "      <td>Sangli (Seed)</td>\n",
       "      <td>Morale Ped</td>\n",
       "      <td>147.00</td>\n",
       "      <td>Sangli (Seed)</td>\n",
       "      <td>Morale Ped</td>\n",
       "      <td>147.00</td>\n",
       "    </tr>\n",
       "    <tr>\n",
       "      <th>432</th>\n",
       "      <td>Sangli (F&amp;V)</td>\n",
       "      <td>Kavalapur</td>\n",
       "      <td>445.50</td>\n",
       "      <td>Sangli (F&amp;V)</td>\n",
       "      <td>Kavalapur</td>\n",
       "      <td>445.50</td>\n",
       "    </tr>\n",
       "    <tr>\n",
       "      <th>433</th>\n",
       "      <td>Solapur</td>\n",
       "      <td>Khandali</td>\n",
       "      <td>1200.00</td>\n",
       "      <td>Solapur</td>\n",
       "      <td>Khandali</td>\n",
       "      <td>1200.00</td>\n",
       "    </tr>\n",
       "    <tr>\n",
       "      <th>434</th>\n",
       "      <td>Solapur</td>\n",
       "      <td>Kurul</td>\n",
       "      <td>1026.75</td>\n",
       "      <td>Solapur</td>\n",
       "      <td>Kurul</td>\n",
       "      <td>1026.75</td>\n",
       "    </tr>\n",
       "    <tr>\n",
       "      <th>435</th>\n",
       "      <td>Solapur</td>\n",
       "      <td>Borgaon (Zadi)</td>\n",
       "      <td>462.00</td>\n",
       "      <td>Solapur</td>\n",
       "      <td>Borgaon (Zadi)</td>\n",
       "      <td>462.00</td>\n",
       "    </tr>\n",
       "  </tbody>\n",
       "</table>\n",
       "<p>436 rows × 6 columns</p>\n",
       "</div>"
      ],
      "text/plain": [
       "        Territory  Bayer Gram Village  cultivation_final_count Territory Name  \\\n",
       "0             Agra           Chitaura                  1610.00           Agra   \n",
       "1          Aligarh             Mahera                    12.00        Aligarh   \n",
       "2             Etah           Takuawar                   221.00           Etah   \n",
       "3           Etawah        Bhalasaiyed                   565.00         Etawah   \n",
       "4        Firozabad              Itora                   332.00      Firozabad   \n",
       "..             ...                ...                      ...            ...   \n",
       "431  Sangli (Seed)         Morale Ped                   147.00  Sangli (Seed)   \n",
       "432   Sangli (F&V)          Kavalapur                   445.50   Sangli (F&V)   \n",
       "433        Solapur           Khandali                  1200.00        Solapur   \n",
       "434        Solapur              Kurul                  1026.75        Solapur   \n",
       "435        Solapur     Borgaon (Zadi)                   462.00        Solapur   \n",
       "\n",
       "       Village Name  Cultivation Size  \n",
       "0          Chitaura           1610.00  \n",
       "1            Mahera             12.00  \n",
       "2          Takuawar            221.00  \n",
       "3       Bhalasaiyed            565.00  \n",
       "4             Itora            332.00  \n",
       "..              ...               ...  \n",
       "431      Morale Ped            147.00  \n",
       "432       Kavalapur            445.50  \n",
       "433        Khandali           1200.00  \n",
       "434           Kurul           1026.75  \n",
       "435  Borgaon (Zadi)            462.00  \n",
       "\n",
       "[436 rows x 6 columns]"
      ]
     },
     "execution_count": 68,
     "metadata": {},
     "output_type": "execute_result"
    }
   ],
   "source": [
    "compare_merge[['Territory ','Bayer Gram Village','cultivation_final_count','Territory Name','Village Name','Cultivation Size']]"
   ]
  },
  {
   "cell_type": "code",
   "execution_count": null,
   "id": "2bdea658",
   "metadata": {},
   "outputs": [],
   "source": [
    "bayer_gram_match[['Territory ','Bayer Gram Village',]].groupby()"
   ]
  },
  {
   "attachments": {},
   "cell_type": "markdown",
   "id": "8cb67837",
   "metadata": {},
   "source": [
    "# bayer gram 2023"
   ]
  },
  {
   "cell_type": "code",
   "execution_count": 24,
   "id": "abd9640a",
   "metadata": {},
   "outputs": [],
   "source": [
    "dgbg_2023 = dg_final[(dg_final['year'] == 2023)  & (dg_final['iscompleted']==True) & (dg_final['engagement_program']=='BAYER GRAM')]\n",
    "dgbgd_2023=dgbg_2023.drop_duplicates(subset='activity_id', keep=\"first\", inplace=False)\n",
    "dgbgd_2023.to_csv('dgbgd_2023.csv')"
   ]
  },
  {
   "cell_type": "code",
   "execution_count": 23,
   "id": "f16aa450",
   "metadata": {},
   "outputs": [],
   "source": [
    "dg_2023 = dg_final[(dg_final['year'] == 2023)  & (dg_final['iscompleted']==True) & (dg_final['engagement_program']=='BAYER GRAM')]\n",
    "dg_2023\n",
    "dg_2023=(dg_2023.loc[dg_2023['activity_type_name'].isin(['Bayer Gram - Harvest Day','Bayer Gram - Model Plot','Bayer Gram - Field Demo - Package','Bayer Gram - Model Farm visit'])])\n",
    "dgd_2023=dg_2023.drop_duplicates(subset='activity_id', keep=\"first\", inplace=False)\n",
    "dgd_2023.to_csv('dgd_2023.csv')\n"
   ]
  },
  {
   "cell_type": "code",
   "execution_count": 25,
   "id": "aed59a2e",
   "metadata": {},
   "outputs": [],
   "source": [
    "fr_final2023 = fr_final.loc[fr_final[\"Date of Registration\"].between(\"2023-01-01\", \"2023-12-31\")]\n",
    "fr_final2023_d=fr_final.drop_duplicates(subset='id', keep=\"first\", inplace=False)\n",
    "fr_final2023_d.to_csv('fr_final2023_d.csv')"
   ]
  },
  {
   "cell_type": "code",
   "execution_count": null,
   "id": "d040d2d8",
   "metadata": {},
   "outputs": [],
   "source": []
  },
  {
   "cell_type": "code",
   "execution_count": 40,
   "id": "744af139",
   "metadata": {},
   "outputs": [
    {
     "data": {
      "text/html": [
       "<div>\n",
       "<style scoped>\n",
       "    .dataframe tbody tr th:only-of-type {\n",
       "        vertical-align: middle;\n",
       "    }\n",
       "\n",
       "    .dataframe tbody tr th {\n",
       "        vertical-align: top;\n",
       "    }\n",
       "\n",
       "    .dataframe thead th {\n",
       "        text-align: right;\n",
       "    }\n",
       "</style>\n",
       "<table border=\"1\" class=\"dataframe\">\n",
       "  <thead>\n",
       "    <tr style=\"text-align: right;\">\n",
       "      <th></th>\n",
       "      <th>Territory Name</th>\n",
       "      <th>Village Name</th>\n",
       "      <th>id</th>\n",
       "    </tr>\n",
       "  </thead>\n",
       "  <tbody>\n",
       "    <tr>\n",
       "      <th>0</th>\n",
       "      <td>Abohar</td>\n",
       "      <td>Bahadar Khera (61)</td>\n",
       "      <td>19</td>\n",
       "    </tr>\n",
       "    <tr>\n",
       "      <th>1</th>\n",
       "      <td>Abohar</td>\n",
       "      <td>Baluana (115)</td>\n",
       "      <td>1</td>\n",
       "    </tr>\n",
       "    <tr>\n",
       "      <th>2</th>\n",
       "      <td>Abohar</td>\n",
       "      <td>Dangar Khera (131)</td>\n",
       "      <td>37</td>\n",
       "    </tr>\n",
       "    <tr>\n",
       "      <th>3</th>\n",
       "      <td>Adilabad</td>\n",
       "      <td>Guda</td>\n",
       "      <td>128</td>\n",
       "    </tr>\n",
       "    <tr>\n",
       "      <th>4</th>\n",
       "      <td>Adilabad</td>\n",
       "      <td>Kokasmannur</td>\n",
       "      <td>172</td>\n",
       "    </tr>\n",
       "    <tr>\n",
       "      <th>...</th>\n",
       "      <td>...</td>\n",
       "      <td>...</td>\n",
       "      <td>...</td>\n",
       "    </tr>\n",
       "    <tr>\n",
       "      <th>7794</th>\n",
       "      <td>Yeola (F&amp;V)</td>\n",
       "      <td>Vikharni</td>\n",
       "      <td>77</td>\n",
       "    </tr>\n",
       "    <tr>\n",
       "      <th>7795</th>\n",
       "      <td>Yeola (F&amp;V)</td>\n",
       "      <td>Visapur</td>\n",
       "      <td>97</td>\n",
       "    </tr>\n",
       "    <tr>\n",
       "      <th>7796</th>\n",
       "      <td>Yeola (F&amp;V)</td>\n",
       "      <td>Wagdardi</td>\n",
       "      <td>1</td>\n",
       "    </tr>\n",
       "    <tr>\n",
       "      <th>7797</th>\n",
       "      <td>Yeola (F&amp;V)</td>\n",
       "      <td>Wahegaon</td>\n",
       "      <td>25</td>\n",
       "    </tr>\n",
       "    <tr>\n",
       "      <th>7798</th>\n",
       "      <td>Yeola (F&amp;V)</td>\n",
       "      <td>Welapur</td>\n",
       "      <td>35</td>\n",
       "    </tr>\n",
       "  </tbody>\n",
       "</table>\n",
       "<p>7799 rows × 3 columns</p>\n",
       "</div>"
      ],
      "text/plain": [
       "     Territory Name        Village Name   id\n",
       "0            Abohar  Bahadar Khera (61)   19\n",
       "1            Abohar       Baluana (115)    1\n",
       "2            Abohar  Dangar Khera (131)   37\n",
       "3          Adilabad                Guda  128\n",
       "4          Adilabad         Kokasmannur  172\n",
       "...             ...                 ...  ...\n",
       "7794    Yeola (F&V)            Vikharni   77\n",
       "7795    Yeola (F&V)             Visapur   97\n",
       "7796    Yeola (F&V)            Wagdardi    1\n",
       "7797    Yeola (F&V)            Wahegaon   25\n",
       "7798    Yeola (F&V)             Welapur   35\n",
       "\n",
       "[7799 rows x 3 columns]"
      ]
     },
     "execution_count": 40,
     "metadata": {},
     "output_type": "execute_result"
    }
   ],
   "source": [
    "fr_smpl = fr_smpl[['Territory Name','Village Name','id']].groupby(['Territory Name','Village Name']).count().reset_index()\n",
    "fr_smpl"
   ]
  },
  {
   "attachments": {},
   "cell_type": "markdown",
   "id": "41cb9cde",
   "metadata": {},
   "source": [
    "# DG Unique"
   ]
  },
  {
   "cell_type": "code",
   "execution_count": 3,
   "id": "da35cf95",
   "metadata": {},
   "outputs": [
    {
     "data": {
      "text/plain": [
       "(19280, 61)"
      ]
     },
     "execution_count": 3,
     "metadata": {},
     "output_type": "execute_result"
    }
   ],
   "source": [
    "import pandas as pd\n",
    "DG_may21_Ma27= pd.read_excel(r\"C:\\\\Users\\EFRNV\\Downloads\\DG raw data\\DG Activities Page 9.xlsx\")\n",
    "DG_May28_june3= pd.read_excel(r\"C:\\\\Users\\EFRNV\\Downloads\\DG Activities Page june3.xlsx\")\n",
    "DG_page10= pd.read_excel(r\"C:\\\\Users\\EFRNV\\Downloads\\DG Activities Page 10.xlsx\")\n",
    "#DG_Apr23_29.columns\n",
    "DG_page10.shape"
   ]
  },
  {
   "cell_type": "code",
   "execution_count": 4,
   "id": "5e1ca17a",
   "metadata": {},
   "outputs": [
    {
     "data": {
      "text/plain": [
       "(285221, 61)"
      ]
     },
     "execution_count": 4,
     "metadata": {},
     "output_type": "execute_result"
    }
   ],
   "source": [
    "DG_may21_Ma27.shape"
   ]
  },
  {
   "cell_type": "code",
   "execution_count": 5,
   "id": "3ea4e72b",
   "metadata": {},
   "outputs": [
    {
     "data": {
      "text/plain": [
       "(300000, 61)"
      ]
     },
     "execution_count": 5,
     "metadata": {},
     "output_type": "execute_result"
    }
   ],
   "source": [
    "DG_May28_june3.shape"
   ]
  },
  {
   "cell_type": "code",
   "execution_count": 6,
   "id": "d215d88f",
   "metadata": {},
   "outputs": [
    {
     "data": {
      "text/plain": [
       "(9384, 61)"
      ]
     },
     "execution_count": 6,
     "metadata": {},
     "output_type": "execute_result"
    }
   ],
   "source": [
    "DG_may21_Ma27_unq=DG_may21_Ma27.drop_duplicates(subset='activity_id', keep=\"first\", inplace=False)\n",
    "DG_May28_june3_unq=DG_May28_june3.drop_duplicates(subset='activity_id', keep=\"first\", inplace=False)\n",
    "DG_page10_unq=DG_page10.drop_duplicates(subset='activity_id', keep=\"first\", inplace=False)\n",
    "DG_page10_unq.shape"
   ]
  },
  {
   "cell_type": "code",
   "execution_count": 7,
   "id": "fd147b48",
   "metadata": {},
   "outputs": [
    {
     "data": {
      "text/plain": [
       "(96273, 61)"
      ]
     },
     "execution_count": 7,
     "metadata": {},
     "output_type": "execute_result"
    }
   ],
   "source": [
    "DG_may21_Ma27_unq.shape"
   ]
  },
  {
   "cell_type": "code",
   "execution_count": 8,
   "id": "1a487755",
   "metadata": {},
   "outputs": [
    {
     "data": {
      "text/plain": [
       "(103376, 61)"
      ]
     },
     "execution_count": 8,
     "metadata": {},
     "output_type": "execute_result"
    }
   ],
   "source": [
    "DG_May28_june3_unq.shape\n"
   ]
  },
  {
   "cell_type": "code",
   "execution_count": 9,
   "id": "3554e802",
   "metadata": {},
   "outputs": [
    {
     "data": {
      "text/plain": [
       "(112760, 61)"
      ]
     },
     "execution_count": 9,
     "metadata": {},
     "output_type": "execute_result"
    }
   ],
   "source": [
    "DG_May28_june3_merge=pd.concat([DG_May28_june3_unq,DG_page10_unq], axis=0)\n",
    "pd.set_option('display.max_columns',None)\n",
    "DG_May28_june3_merge.shape"
   ]
  },
  {
   "cell_type": "code",
   "execution_count": 11,
   "id": "c1b88d66",
   "metadata": {},
   "outputs": [],
   "source": [
    "DG_May28_june3_data = DG_May28_june3_merge[~DG_May28_june3_merge['activity_id'].isin(DG_may21_Ma27_unq['activity_id'])]\n",
    "DG_May28_june3_data.shape\n",
    "DG_May28_june3_data.to_excel('DG_May28_june3.xlsx')"
   ]
  },
  {
   "attachments": {},
   "cell_type": "markdown",
   "id": "1475bf4c",
   "metadata": {},
   "source": [
    "# FR Unique"
   ]
  },
  {
   "cell_type": "code",
   "execution_count": 18,
   "id": "f4eee700",
   "metadata": {},
   "outputs": [
    {
     "data": {
      "text/plain": [
       "(123828, 28)"
      ]
     },
     "execution_count": 18,
     "metadata": {},
     "output_type": "execute_result"
    }
   ],
   "source": [
    "import pandas as pd\n",
    "FR_may27= pd.read_excel(r\"C:\\\\Users\\EFRNV\\Downloads\\farmer raw data\\Farmer Registration Page 27may.xlsx\",'my sheet')\n",
    "FR_may28_june3= pd.read_excel(r\"C:\\\\Users\\EFRNV\\Downloads\\Farmer Registration Page june3.xlsx\")\n",
    "FR_may27.shape"
   ]
  },
  {
   "cell_type": "code",
   "execution_count": 19,
   "id": "f5599255",
   "metadata": {},
   "outputs": [
    {
     "data": {
      "text/plain": [
       "(134708, 28)"
      ]
     },
     "execution_count": 19,
     "metadata": {},
     "output_type": "execute_result"
    }
   ],
   "source": [
    "FR_may28_june3.shape"
   ]
  },
  {
   "cell_type": "code",
   "execution_count": 20,
   "id": "0435d36b",
   "metadata": {},
   "outputs": [
    {
     "data": {
      "text/plain": [
       "(111835, 28)"
      ]
     },
     "execution_count": 20,
     "metadata": {},
     "output_type": "execute_result"
    }
   ],
   "source": [
    "FR_may27_unq=FR_may27.drop_duplicates(subset='id', keep=\"first\", inplace=False)\n",
    "FR_may28_june3_unq=FR_may28_june3.drop_duplicates(subset='id', keep=\"first\", inplace=False)\n",
    "\n",
    "FR_may27_unq.shape"
   ]
  },
  {
   "cell_type": "code",
   "execution_count": 21,
   "id": "c00fe1c6",
   "metadata": {},
   "outputs": [
    {
     "data": {
      "text/plain": [
       "(121423, 28)"
      ]
     },
     "execution_count": 21,
     "metadata": {},
     "output_type": "execute_result"
    }
   ],
   "source": [
    "FR_may28_june3_unq.shape"
   ]
  },
  {
   "cell_type": "code",
   "execution_count": 17,
   "id": "3e7fab60",
   "metadata": {},
   "outputs": [],
   "source": [
    "FR_may28_june3_data = FR_may28_june3_unq[~FR_may28_june3_unq['id'].isin(FR_may27_unq['id'])]\n",
    "FR_may28_june3_data.shape\n",
    "FR_may28_june3_data.to_excel('FR_may28_june3.xlsx')"
   ]
  },
  {
   "attachments": {},
   "cell_type": "markdown",
   "id": "821b54a6",
   "metadata": {},
   "source": [
    "## weekly added Sabhagies "
   ]
  },
  {
   "cell_type": "code",
   "execution_count": 4,
   "id": "bd7caf2b",
   "metadata": {},
   "outputs": [
    {
     "data": {
      "text/plain": [
       "(12792, 25)"
      ]
     },
     "execution_count": 4,
     "metadata": {},
     "output_type": "execute_result"
    }
   ],
   "source": [
    "import pandas as pd\n",
    "adv_june5= pd.read_excel(r\"C:\\\\Users\\EFRNV\\Downloads\\India Advisor Data 05-06-2023.xlsx\")\n",
    "adv_may18= pd.read_excel(r\"C:\\\\Users\\EFRNV\\Downloads\\India Advisor Dump Data 18-05.xlsx\")\n",
    "adv_may18.shape\n"
   ]
  },
  {
   "cell_type": "code",
   "execution_count": 5,
   "id": "ada1b5ea",
   "metadata": {},
   "outputs": [
    {
     "data": {
      "text/plain": [
       "(13766, 25)"
      ]
     },
     "execution_count": 5,
     "metadata": {},
     "output_type": "execute_result"
    }
   ],
   "source": [
    "adv_june5.shape"
   ]
  },
  {
   "cell_type": "code",
   "execution_count": 61,
   "id": "fc99d121",
   "metadata": {},
   "outputs": [
    {
     "data": {
      "text/plain": [
       "Index(['ID', 'First Name', 'Last Name', 'User Name', 'Email', 'Country Code',\n",
       "       'Phone Number', 'Role', 'Geo Level 1', 'Geo Level 2', 'Geo Level 3',\n",
       "       'Address One', 'Address Two', 'Postal Code', 'Status', 'Advisor Type',\n",
       "       'Source Of Information', 'PL signed off', 'Self Registered',\n",
       "       'Privacy Consent', 'Marketing Consent', 'Enrollment Date',\n",
       "       'Referrer's Phone Number'', 'Agreement Signed Date',\n",
       "       'Legal Agreement Version'],\n",
       "      dtype='object')"
      ]
     },
     "execution_count": 61,
     "metadata": {},
     "output_type": "execute_result"
    }
   ],
   "source": [
    "adv_may18.columns"
   ]
  },
  {
   "cell_type": "code",
   "execution_count": 7,
   "id": "e5983e9a",
   "metadata": {},
   "outputs": [],
   "source": [
    "adv_may19_june03 = adv_june5[~adv_june5['ID'].isin(adv_may18['ID'])]\n",
    "adv_may19_june03.shape\n",
    "adv_may19_june03.to_excel('adv_may19_june03.xlsx')"
   ]
  },
  {
   "cell_type": "code",
   "execution_count": 6,
   "id": "d8d95c1a",
   "metadata": {},
   "outputs": [
    {
     "data": {
      "text/plain": [
       "(8459, 13)"
      ]
     },
     "execution_count": 6,
     "metadata": {},
     "output_type": "execute_result"
    }
   ],
   "source": [
    "import pandas as pd\n",
    "adv_weekly_09_15= pd.read_excel(r\"C:\\\\Users\\EFRNV\\Downloads\\2023 bg_adv\\raw data.xlsx\",'adv_weekly ')\n",
    "adv_weekly_09_15.shape\n"
   ]
  },
  {
   "cell_type": "code",
   "execution_count": 7,
   "id": "0a2ed3bf",
   "metadata": {},
   "outputs": [
    {
     "data": {
      "text/plain": [
       "(1799, 13)"
      ]
     },
     "execution_count": 7,
     "metadata": {},
     "output_type": "execute_result"
    }
   ],
   "source": [
    "adv_weekly_09_15_unq=adv_weekly_09_15.drop_duplicates(subset='Phone Number', keep=\"first\", inplace=False)\n",
    "\n",
    "adv_weekly_09_15_unq.shape\n",
    "#adv_weekly_09_15_unq.to_excel('FR_Apr09_15_unq.xlsx')"
   ]
  },
  {
   "cell_type": "code",
   "execution_count": 42,
   "id": "e01a5097",
   "metadata": {},
   "outputs": [],
   "source": [
    "FR_2022 = FR_unq.loc[FR_unq[\"Date of Registration\"].between(\"2022-01-01\", \"2022-12-31\")]\n",
    "FR_2022.shape\n",
    "FR_2022.to_csv('FR_2022.csv')"
   ]
  },
  {
   "cell_type": "code",
   "execution_count": 13,
   "id": "97040b20",
   "metadata": {},
   "outputs": [
    {
     "name": "stderr",
     "output_type": "stream",
     "text": [
      "C:\\Users\\EFRNV\\AppData\\Local\\Temp\\ipykernel_16540\\1444333454.py:1: DtypeWarning: Columns (13) have mixed types. Specify dtype option on import or set low_memory=False.\n",
      "  FR_unq= pd.read_csv(r\"C:\\\\Users\\EFRNV\\Downloads\\FR_unq03june.csv\")\n"
     ]
    },
    {
     "name": "stdout",
     "output_type": "stream",
     "text": [
      "Count of 'Id': 1178831\n",
      "Distinct Count of 'Village Code': 63841\n",
      "Pivot table by 'CU Name':\n",
      "                Village Code                                         id   \n",
      "Type of Village Direct Touch Direct Touch\\n Indirect Touch Direct Touch   \n",
      "CU Name                                                                   \n",
      "Central                17770              0          15276       293532  \\\n",
      "East                    7840              1           5376        88442   \n",
      "North                   2882              0           2231        42049   \n",
      "South                   9666              0           5760       281417   \n",
      "West                    6904              0           3071       231599   \n",
      "\n",
      "                                               \n",
      "Type of Village Direct Touch\\n Indirect Touch  \n",
      "CU Name                                        \n",
      "Central                      0         110738  \n",
      "East                         1          27043  \n",
      "North                        0           9713  \n",
      "South                        0          51114  \n",
      "West                         0          40847  \n"
     ]
    }
   ],
   "source": [
    "FR_unq= pd.read_csv(r\"C:\\\\Users\\EFRNV\\Downloads\\FR_unq03june.csv\")\n",
    "id_count = FR_unq['id'].nunique()\n",
    "village_count = FR_unq['Village Code'].nunique()\n",
    "\n",
    "count_by_type_of_village = FR_unq.groupby(['CU Name', 'Type of Village']).agg({'id': 'count', 'Village Code': 'nunique'}).reset_index()\n",
    "\n",
    "pivot_table = pd.pivot_table(count_by_type_of_village, values=['id', 'Village Code'], index='CU Name', columns='Type of Village', aggfunc=sum, fill_value=0)\n",
    "\n",
    "print(\"Count of 'Id':\", id_count)\n",
    "print(\"Distinct Count of 'Village Code':\", village_count)\n",
    "print(\"Pivot table by 'CU Name':\")\n",
    "print(pivot_table)\n"
   ]
  },
  {
   "cell_type": "code",
   "execution_count": null,
   "id": "4840ad88",
   "metadata": {},
   "outputs": [],
   "source": []
  },
  {
   "cell_type": "code",
   "execution_count": 37,
   "id": "ffecad49",
   "metadata": {},
   "outputs": [
    {
     "data": {
      "text/plain": [
       "(533395, 28)"
      ]
     },
     "execution_count": 37,
     "metadata": {},
     "output_type": "execute_result"
    }
   ],
   "source": [
    "fr_2023 = fr_final.loc[fr_final[\"Date of Registration\"].between(\"2023-01-01\", \"2023-12-31\")]\n",
    "fr_2023.shape"
   ]
  },
  {
   "cell_type": "code",
   "execution_count": 38,
   "id": "ac08918e",
   "metadata": {},
   "outputs": [],
   "source": [
    "##ca_pivot = pd.pivot_table(fr_final2023, values=['id', 'Village Code'], index=['CA Name', 'Territory Name'], aggfunc='count')\n",
    "fr_final2023 = fr_2023.groupby(['CA Name', 'Territory Name']).agg({'id': 'count', 'Village Code': 'nunique'}).reset_index()\n",
    "\n",
    "pivot_table = pd.pivot_table(fr_final2023, values=['id', 'Village Code'], index=['CA Name', 'Territory Name'], aggfunc=sum, fill_value=0)\n"
   ]
  },
  {
   "cell_type": "code",
   "execution_count": 41,
   "id": "ed2e7398",
   "metadata": {},
   "outputs": [],
   "source": [
    "pivot_table.to_excel('farmer_data_2023.xlsx')"
   ]
  },
  {
   "cell_type": "code",
   "execution_count": 54,
   "id": "3f69f688",
   "metadata": {},
   "outputs": [],
   "source": [
    "crop_count_ca = fr_2023.groupby(['CA Name', 'Territory Name', 'Crop Name'])['id'].count().reset_index(name='Count')"
   ]
  },
  {
   "cell_type": "code",
   "execution_count": 55,
   "id": "c0b2291c",
   "metadata": {},
   "outputs": [],
   "source": [
    "crop_pivot = crop_count_ca.pivot(index=['CA Name', 'Territory Name'], columns='Crop Name', values='Count').reset_index()"
   ]
  },
  {
   "cell_type": "code",
   "execution_count": 56,
   "id": "14e1dab4",
   "metadata": {},
   "outputs": [],
   "source": [
    "crop_pivot.fillna(0, inplace=True)\n",
    "crop_pivot = crop_pivot.apply(lambda x: x.sort_values(ascending=False).head(3))"
   ]
  },
  {
   "cell_type": "code",
   "execution_count": null,
   "id": "d215a1d9",
   "metadata": {},
   "outputs": [],
   "source": [
    "crop_pivot = crop_pivot.T.reset_index()\n",
    "crop_pivot.columns = ['Crop Name', 'CA Name 1', 'CA Name 2', 'CA Name 3']\n",
    "print('Top three Id Count of each Crop in CA Name and Territory:\\n', crop_pivot)"
   ]
  },
  {
   "cell_type": "code",
   "execution_count": 62,
   "id": "fc940d16",
   "metadata": {},
   "outputs": [],
   "source": [
    "\n",
    "# Create a pivot table to get the count of IDs based on 'Crop Name', 'CA Name', and 'Territory Name'\n",
    "pivot_table = fr_2023.pivot_table(index=['Crop Name', 'CA Name', 'Territory Name'], values='id', aggfunc='count')\n",
    "\n",
    "# Sort the pivot table by count of IDs in descending order\n",
    "sorted_table = pivot_table.sort_values(by='id', ascending=False)\n",
    "\n",
    "# Get the top three counts of IDs\n",
    "##top_three_counts = sorted_table.head(3)\n",
    "\n",
    "# Print the result\n",
    "sorted_table.to_excel('crop_top3.xlsx')\n"
   ]
  },
  {
   "cell_type": "code",
   "execution_count": 64,
   "id": "66168cb9",
   "metadata": {},
   "outputs": [
    {
     "name": "stdout",
     "output_type": "stream",
     "text": [
      "                                                                                                                         id\n",
      "CA Name             Territory Name CA Name             Territory Name Crop Name                                            \n",
      "Agra                Agra           Agra                Agra           POTATOES                                         5476\n",
      "                                                                      VEGETABLES: OTHER                                 205\n",
      "                                                                      CORN/MAIZE                                        103\n",
      "                    Aligarh        Agra                Aligarh        CORN/MAIZE:  TRADITIONAL YELLOW HYBRID - SPRING  2212\n",
      "                                                                      POTATOES                                         1117\n",
      "...                                                                                                                     ...\n",
      "West Up&Uttaranchal Roorke         West Up&Uttaranchal Roorke         WHEAT                                             122\n",
      "                                                                      MANGOES                                           117\n",
      "                    Rudrapur       West Up&Uttaranchal Rudrapur       WHEAT                                             380\n",
      "                                                                      RICE                                              203\n",
      "                                                                      SUGAR CANE                                         93\n",
      "\n",
      "[1104 rows x 1 columns]\n"
     ]
    }
   ],
   "source": [
    "# Assuming your DataFrame is named 'fr_2023'\n",
    "# Create a pivot table to get the count of IDs based on 'Crop Name', 'CA Name', and 'Territory Name'\n",
    "pivot_table = fr_2023.pivot_table(index=['CA Name', 'Territory Name', 'Crop Name'], values='id', aggfunc='count')\n",
    "\n",
    "# Sort the pivot table by count of IDs in descending order within each 'CA Name' and 'Territory Name' group\n",
    "sorted_table = pivot_table.groupby(['CA Name', 'Territory Name']).apply(lambda x: x.sort_values(by='id', ascending=False))\n",
    "\n",
    "# Get the top three counts of IDs for each 'CA Name' and 'Territory Name' group\n",
    "top_three_counts = sorted_table.groupby(['CA Name', 'Territory Name']).head(3)\n",
    "\n",
    "# Print the result\n",
    "print(top_three_counts)\n",
    "\n",
    "# Save the result to an Excel file\n",
    "top_three_counts.to_excel('crop_top.xlsx')\n"
   ]
  },
  {
   "cell_type": "code",
   "execution_count": 71,
   "id": "8f2cb857",
   "metadata": {},
   "outputs": [
    {
     "ename": "ValueError",
     "evalue": "cannot insert Crop Name, already exists",
     "output_type": "error",
     "traceback": [
      "\u001b[1;31m---------------------------------------------------------------------------\u001b[0m",
      "\u001b[1;31mValueError\u001b[0m                                Traceback (most recent call last)",
      "\u001b[1;32m~\\AppData\\Local\\Temp\\ipykernel_16540\\252858248.py\u001b[0m in \u001b[0;36m?\u001b[1;34m()\u001b[0m\n\u001b[0;32m      2\u001b[0m \u001b[1;33m\u001b[0m\u001b[0m\n\u001b[0;32m      3\u001b[0m \u001b[1;31m# Assuming the first output data frame is named 'sorted_table' and the second output data frame is named 'top_three_counts'\u001b[0m\u001b[1;33m\u001b[0m\u001b[1;33m\u001b[0m\u001b[0m\n\u001b[0;32m      4\u001b[0m \u001b[1;33m\u001b[0m\u001b[0m\n\u001b[0;32m      5\u001b[0m \u001b[1;31m# Reset the index of both data frames\u001b[0m\u001b[1;33m\u001b[0m\u001b[1;33m\u001b[0m\u001b[0m\n\u001b[1;32m----> 6\u001b[1;33m \u001b[0msorted_table\u001b[0m\u001b[1;33m.\u001b[0m\u001b[0mreset_index\u001b[0m\u001b[1;33m(\u001b[0m\u001b[0minplace\u001b[0m\u001b[1;33m=\u001b[0m\u001b[1;32mTrue\u001b[0m\u001b[1;33m)\u001b[0m\u001b[1;33m\u001b[0m\u001b[1;33m\u001b[0m\u001b[0m\n\u001b[0m\u001b[0;32m      7\u001b[0m \u001b[0mtop_three_counts\u001b[0m\u001b[1;33m.\u001b[0m\u001b[0mreset_index\u001b[0m\u001b[1;33m(\u001b[0m\u001b[0minplace\u001b[0m\u001b[1;33m=\u001b[0m\u001b[1;32mTrue\u001b[0m\u001b[1;33m)\u001b[0m\u001b[1;33m\u001b[0m\u001b[1;33m\u001b[0m\u001b[0m\n\u001b[0;32m      8\u001b[0m \u001b[1;33m\u001b[0m\u001b[0m\n\u001b[0;32m      9\u001b[0m \u001b[1;31m# Concatenate the two data frames vertically\u001b[0m\u001b[1;33m\u001b[0m\u001b[1;33m\u001b[0m\u001b[0m\n",
      "\u001b[1;32mc:\\Users\\EFRNV\\AppData\\Local\\Programs\\Python\\Python310\\lib\\site-packages\\pandas\\core\\frame.py\u001b[0m in \u001b[0;36m?\u001b[1;34m(self, level, drop, inplace, col_level, col_fill, allow_duplicates, names)\u001b[0m\n\u001b[0;32m   6215\u001b[0m                     level_values = algorithms.take(\n\u001b[0;32m   6216\u001b[0m                         \u001b[0mlevel_values\u001b[0m\u001b[1;33m,\u001b[0m \u001b[0mlab\u001b[0m\u001b[1;33m,\u001b[0m \u001b[0mallow_fill\u001b[0m\u001b[1;33m=\u001b[0m\u001b[1;32mTrue\u001b[0m\u001b[1;33m,\u001b[0m \u001b[0mfill_value\u001b[0m\u001b[1;33m=\u001b[0m\u001b[0mlev\u001b[0m\u001b[1;33m.\u001b[0m\u001b[0m_na_value\u001b[0m\u001b[1;33m\u001b[0m\u001b[1;33m\u001b[0m\u001b[0m\n\u001b[0;32m   6217\u001b[0m                     )\n\u001b[0;32m   6218\u001b[0m \u001b[1;33m\u001b[0m\u001b[0m\n\u001b[1;32m-> 6219\u001b[1;33m                 new_obj.insert(\n\u001b[0m\u001b[0;32m   6220\u001b[0m                     \u001b[1;36m0\u001b[0m\u001b[1;33m,\u001b[0m\u001b[1;33m\u001b[0m\u001b[1;33m\u001b[0m\u001b[0m\n\u001b[0;32m   6221\u001b[0m                     \u001b[0mname\u001b[0m\u001b[1;33m,\u001b[0m\u001b[1;33m\u001b[0m\u001b[1;33m\u001b[0m\u001b[0m\n\u001b[0;32m   6222\u001b[0m                     \u001b[0mlevel_values\u001b[0m\u001b[1;33m,\u001b[0m\u001b[1;33m\u001b[0m\u001b[1;33m\u001b[0m\u001b[0m\n",
      "\u001b[1;32mc:\\Users\\EFRNV\\AppData\\Local\\Programs\\Python\\Python310\\lib\\site-packages\\pandas\\core\\frame.py\u001b[0m in \u001b[0;36m?\u001b[1;34m(self, loc, column, value, allow_duplicates)\u001b[0m\n\u001b[0;32m   4778\u001b[0m                 \u001b[1;34m\"'self.flags.allows_duplicate_labels' is False.\"\u001b[0m\u001b[1;33m\u001b[0m\u001b[1;33m\u001b[0m\u001b[0m\n\u001b[0;32m   4779\u001b[0m             )\n\u001b[0;32m   4780\u001b[0m         \u001b[1;32mif\u001b[0m \u001b[1;32mnot\u001b[0m \u001b[0mallow_duplicates\u001b[0m \u001b[1;32mand\u001b[0m \u001b[0mcolumn\u001b[0m \u001b[1;32min\u001b[0m \u001b[0mself\u001b[0m\u001b[1;33m.\u001b[0m\u001b[0mcolumns\u001b[0m\u001b[1;33m:\u001b[0m\u001b[1;33m\u001b[0m\u001b[1;33m\u001b[0m\u001b[0m\n\u001b[0;32m   4781\u001b[0m             \u001b[1;31m# Should this be a different kind of error??\u001b[0m\u001b[1;33m\u001b[0m\u001b[1;33m\u001b[0m\u001b[0m\n\u001b[1;32m-> 4782\u001b[1;33m             \u001b[1;32mraise\u001b[0m \u001b[0mValueError\u001b[0m\u001b[1;33m(\u001b[0m\u001b[1;34mf\"cannot insert {column}, already exists\"\u001b[0m\u001b[1;33m)\u001b[0m\u001b[1;33m\u001b[0m\u001b[1;33m\u001b[0m\u001b[0m\n\u001b[0m\u001b[0;32m   4783\u001b[0m         \u001b[1;32mif\u001b[0m \u001b[1;32mnot\u001b[0m \u001b[0misinstance\u001b[0m\u001b[1;33m(\u001b[0m\u001b[0mloc\u001b[0m\u001b[1;33m,\u001b[0m \u001b[0mint\u001b[0m\u001b[1;33m)\u001b[0m\u001b[1;33m:\u001b[0m\u001b[1;33m\u001b[0m\u001b[1;33m\u001b[0m\u001b[0m\n\u001b[0;32m   4784\u001b[0m             \u001b[1;32mraise\u001b[0m \u001b[0mTypeError\u001b[0m\u001b[1;33m(\u001b[0m\u001b[1;34m\"loc must be int\"\u001b[0m\u001b[1;33m)\u001b[0m\u001b[1;33m\u001b[0m\u001b[1;33m\u001b[0m\u001b[0m\n\u001b[0;32m   4785\u001b[0m \u001b[1;33m\u001b[0m\u001b[0m\n",
      "\u001b[1;31mValueError\u001b[0m: cannot insert Crop Name, already exists"
     ]
    }
   ],
   "source": [
    "import pandas as pd\n",
    "\n",
    "# Assuming the first output data frame is named 'sorted_table' and the second output data frame is named 'top_three_counts'\n",
    "\n",
    "# Reset the index of both data frames\n",
    "sorted_table.reset_index(inplace=True)\n",
    "top_three_counts.reset_index(inplace=True)\n",
    "\n",
    "# Concatenate the two data frames vertically\n",
    "concatenated_df = pd.concat([sorted_table, top_three_counts], ignore_index=True)\n",
    "\n",
    "# Group by 'CA Name', 'Territory Name', and 'Crop Name' and get the count of IDs\n",
    "merged_df = concatenated_df.groupby(['CA Name', 'Territory Name', 'Crop Name']).agg({'id': 'sum'}).reset_index()\n",
    "\n",
    "# Sort the merged data frame by count of IDs in descending order\n",
    "merged_df.sort_values('id', ascending=False, inplace=True)\n",
    "\n",
    "# Print the merged data frame\n",
    "print(merged_df)\n",
    "\n",
    "# Save the merged data frame to an Excel file\n",
    "merged_df.to_excel('merged_output.xlsx')\n"
   ]
  },
  {
   "cell_type": "code",
   "execution_count": 72,
   "id": "310a2a63",
   "metadata": {},
   "outputs": [
    {
     "data": {
      "text/plain": [
       "Index(['village', 'village_code', 'activity_id', 'activity_status', 'week_no',\n",
       "       'sub_district', 'sub_district_code', 'classification', 'cropmaingroup',\n",
       "       'cropmaingroupcode', 'cropgroupname', 'cropgroupcode', 'cropcode',\n",
       "       'cropname', 'engagement_program', 'activity_type_name',\n",
       "       'no_of_farmers_attended', 'month', 'iscompleted', 'remarks',\n",
       "       'product_name', 'completed_date', 'campaign_name', 'radl',\n",
       "       'purchase_intent', 'activity_latitude', 'activity_longitude',\n",
       "       'satellite_villages', 'fo_id', 'activity_resource_id',\n",
       "       'activity_resource', 'value_per_item', 'resource_type',\n",
       "       'consumed_count', 'planned_count', 'reject_reason', 'cancel_reason',\n",
       "       'imageurl_1', 'imageurl_2', 'imageurl_3', 'business_area_code',\n",
       "       'business_area', 'business_unit_code', 'business_unit', 'iscascaded',\n",
       "       'fo_name', 'district_code', 'district_name', 'state_code', 'state',\n",
       "       'program_description', 'uom', 'isadhoc', 'campaign_type', 'program_id',\n",
       "       'activity_type_id', 'territory_code', 'territory_name', 'fs_id',\n",
       "       'fs_name', 'year'],\n",
       "      dtype='object')"
      ]
     },
     "execution_count": 72,
     "metadata": {},
     "output_type": "execute_result"
    }
   ],
   "source": [
    "DG_unq.columns"
   ]
  },
  {
   "cell_type": "code",
   "execution_count": 99,
   "id": "9224a726",
   "metadata": {},
   "outputs": [],
   "source": [
    "# Create a pivot table with 'business_area' and 'territory_name' as the index\n",
    "# 'activity_id_count' as the values, 'village_code_count' as an additional column, and 'no_of_farmers_attended_sum' as the column for aggregation\n",
    "result = pd.pivot_table(DG_unq, values='activity_id', index=['business_area', 'territory_name'], aggfunc={'activity_id': 'count'}, fill_value=0)\n",
    "\n",
    "# Add 'village_code_count' column with the count of 'village_code'\n",
    "result['village_code_count'] = DG_unq.groupby(['business_area', 'territory_name'])['village_code'].nunique()\n",
    "\n",
    "# Add 'no_of_farmers_attended_sum' column with the sum of 'no_of_farmers_attended'\n",
    "result['no_of_farmers_attended_sum'] = DG_unq.groupby(['business_area', 'territory_name'])['no_of_farmers_attended'].sum()\n",
    "\n",
    "# Reset the index\n",
    "result.reset_index(inplace=True)\n",
    "\n",
    "# Print the result\n",
    "result.to_excel('act_count.xlsx')"
   ]
  },
  {
   "cell_type": "code",
   "execution_count": 100,
   "id": "eaca96f1",
   "metadata": {},
   "outputs": [],
   "source": [
    "DG_unq_planned = DG_unq[DG_unq['iscompleted'] == True]\n",
    "##DG_unq_planned = DG_unq.query(\"iscompleted == True\")\n",
    "result = pd.pivot_table(DG_unq_planned, values='activity_id', index=['business_area', 'territory_name'], aggfunc={'activity_id': 'count'}, fill_value=0)\n",
    "\n",
    "# Add 'village_code_count' column with the count of 'village_code'\n",
    "result['village_code_count'] = DG_unq_planned.groupby(['business_area', 'territory_name'])['village_code'].nunique()\n",
    "\n",
    "# Add 'no_of_farmers_attended_sum' column with the sum of 'no_of_farmers_attended'\n",
    "result['no_of_farmers_attended_sum'] = DG_unq_planned.groupby(['business_area', 'territory_name'])['no_of_farmers_attended'].sum()\n",
    "\n",
    "# Reset the index\n",
    "result.reset_index(inplace=True)\n",
    "\n",
    "# Print the result\n",
    "result.to_excel('act_count_completed.xlsx')"
   ]
  },
  {
   "cell_type": "code",
   "execution_count": 86,
   "metadata": {},
   "outputs": [
    {
     "data": {
      "text/plain": [
       "Index(['id', 'First Name', 'Last Name', 'Mobile Number', 'Village Code',\n",
       "       'Village Name', 'Type of Village', 'SubDistrict Code',\n",
       "       'SubDistrict Name', 'District Code', 'District Name', 'Total Land Size',\n",
       "       'Preferred Language', 'Uses Smartphone', 'Bayer Customer',\n",
       "       'Bayer Mitra', 'Crop Name', 'Cultivation Size', 'Cultivation Is Active',\n",
       "       'FO ID', 'FO Name', 'CU Code', 'CU Name', 'CA Code', 'CA Name',\n",
       "       'Territory Code', 'Territory Name', 'Date of Registration'],\n",
       "      dtype='object')"
      ]
     },
     "execution_count": 86,
     "metadata": {},
     "output_type": "execute_result"
    }
   ],
   "source": [
    "FR_unq.columns"
   ]
  },
  {
   "cell_type": "code",
   "execution_count": 94,
   "id": "996351c6",
   "metadata": {},
   "outputs": [
    {
     "name": "stdout",
     "output_type": "stream",
     "text": [
      "<class 'pandas.core.frame.DataFrame'>\n",
      "Index: 1189808 entries, 0 to 147091\n",
      "Data columns (total 28 columns):\n",
      " #   Column                 Non-Null Count    Dtype  \n",
      "---  ------                 --------------    -----  \n",
      " 0   id                     1189808 non-null  int64  \n",
      " 1   First Name             1189807 non-null  object \n",
      " 2   Last Name              1188441 non-null  object \n",
      " 3   Mobile Number          1189808 non-null  int64  \n",
      " 4   Village Code           1189808 non-null  int64  \n",
      " 5   Village Name           1189808 non-null  object \n",
      " 6   Type of Village        1186987 non-null  object \n",
      " 7   SubDistrict Code       1189808 non-null  int64  \n",
      " 8   SubDistrict Name       1189808 non-null  object \n",
      " 9   District Code          1189808 non-null  int64  \n",
      " 10  District Name          1189808 non-null  object \n",
      " 11  Total Land Size        1187491 non-null  float64\n",
      " 12  Preferred Language     1297 non-null     object \n",
      " 13  Uses Smartphone        1189808 non-null  object \n",
      " 14  Bayer Customer         1189808 non-null  object \n",
      " 15  Bayer Mitra            1189808 non-null  object \n",
      " 16  Crop Name              1189808 non-null  object \n",
      " 17  Cultivation Size       1189215 non-null  float64\n",
      " 18  Cultivation Is Active  1189808 non-null  object \n",
      " 19  FO ID                  1189808 non-null  object \n",
      " 20  FO Name                1189808 non-null  object \n",
      " 21  CU Code                1189808 non-null  object \n",
      " 22  CU Name                1189808 non-null  object \n",
      " 23  CA Code                1189808 non-null  object \n",
      " 24  CA Name                1189808 non-null  object \n",
      " 25  Territory Code         1189808 non-null  object \n",
      " 26  Territory Name         1189808 non-null  object \n",
      " 27  Date of Registration   1189808 non-null  object \n",
      "dtypes: float64(2), int64(5), object(21)\n",
      "memory usage: 263.2+ MB\n"
     ]
    }
   ],
   "source": [
    "FR_unq.info()"
   ]
  },
  {
   "cell_type": "code",
   "execution_count": 106,
   "id": "cba65d5e",
   "metadata": {},
   "outputs": [
    {
     "name": "stderr",
     "output_type": "stream",
     "text": [
      "c:\\Users\\EFRNV\\AppData\\Local\\Programs\\Python\\Python310\\lib\\site-packages\\pandas\\core\\reshape\\reshape.py:125: RuntimeWarning: overflow encountered in scalar multiply\n",
      "  num_cells = num_rows * num_columns\n"
     ]
    },
    {
     "ename": "ValueError",
     "evalue": "negative dimensions are not allowed",
     "output_type": "error",
     "traceback": [
      "\u001b[1;31m---------------------------------------------------------------------------\u001b[0m",
      "\u001b[1;31mValueError\u001b[0m                                Traceback (most recent call last)",
      "Cell \u001b[1;32mIn[106], line 3\u001b[0m\n\u001b[0;32m      1\u001b[0m fr_final[\u001b[39m'\u001b[39m\u001b[39mCrop Name\u001b[39m\u001b[39m'\u001b[39m] \u001b[39m=\u001b[39m fr_final[\u001b[39m'\u001b[39m\u001b[39mCrop Name\u001b[39m\u001b[39m'\u001b[39m]\u001b[39m.\u001b[39mastype(\u001b[39mstr\u001b[39m)\n\u001b[1;32m----> 3\u001b[0m pivot \u001b[39m=\u001b[39m pd\u001b[39m.\u001b[39;49mpivot_table(fr_final, values\u001b[39m=\u001b[39;49m\u001b[39m'\u001b[39;49m\u001b[39mCrop Name\u001b[39;49m\u001b[39m'\u001b[39;49m, index\u001b[39m=\u001b[39;49m[\u001b[39m'\u001b[39;49m\u001b[39mid\u001b[39;49m\u001b[39m'\u001b[39;49m, \u001b[39m'\u001b[39;49m\u001b[39mFirst Name\u001b[39;49m\u001b[39m'\u001b[39;49m, \u001b[39m'\u001b[39;49m\u001b[39mLast Name\u001b[39;49m\u001b[39m'\u001b[39;49m, \u001b[39m'\u001b[39;49m\u001b[39mMobile Number\u001b[39;49m\u001b[39m'\u001b[39;49m],columns\u001b[39m=\u001b[39;49m[\u001b[39m'\u001b[39;49m\u001b[39mCU Name\u001b[39;49m\u001b[39m'\u001b[39;49m, \u001b[39m'\u001b[39;49m\u001b[39mCA Name\u001b[39;49m\u001b[39m'\u001b[39;49m, \u001b[39m'\u001b[39;49m\u001b[39mTerritory Name\u001b[39;49m\u001b[39m'\u001b[39;49m, \u001b[39m'\u001b[39;49m\u001b[39mDistrict Name\u001b[39;49m\u001b[39m'\u001b[39;49m, \u001b[39m'\u001b[39;49m\u001b[39mSubDistrict Name\u001b[39;49m\u001b[39m'\u001b[39;49m, \u001b[39m'\u001b[39;49m\u001b[39mVillage Name\u001b[39;49m\u001b[39m'\u001b[39;49m],\n\u001b[0;32m      4\u001b[0m                           aggfunc\u001b[39m=\u001b[39;49m\u001b[39mlambda\u001b[39;49;00m x: \u001b[39m'\u001b[39;49m\u001b[39m \u001b[39;49m\u001b[39m'\u001b[39;49m\u001b[39m.\u001b[39;49mjoin(x\u001b[39m.\u001b[39;49munique()), fill_value\u001b[39m=\u001b[39;49m\u001b[39m'\u001b[39;49m\u001b[39m'\u001b[39;49m)\n\u001b[0;32m      5\u001b[0m pivot\u001b[39m.\u001b[39mreset_index(inplace\u001b[39m=\u001b[39m\u001b[39mTrue\u001b[39;00m)\n\u001b[0;32m      6\u001b[0m pivot\u001b[39m.\u001b[39mto_csv(\u001b[39m'\u001b[39m\u001b[39mfarmer_details.csv\u001b[39m\u001b[39m'\u001b[39m)\n",
      "File \u001b[1;32mc:\\Users\\EFRNV\\AppData\\Local\\Programs\\Python\\Python310\\lib\\site-packages\\pandas\\core\\reshape\\pivot.py:97\u001b[0m, in \u001b[0;36mpivot_table\u001b[1;34m(data, values, index, columns, aggfunc, fill_value, margins, dropna, margins_name, observed, sort)\u001b[0m\n\u001b[0;32m     94\u001b[0m     table \u001b[39m=\u001b[39m concat(pieces, keys\u001b[39m=\u001b[39mkeys, axis\u001b[39m=\u001b[39m\u001b[39m1\u001b[39m)\n\u001b[0;32m     95\u001b[0m     \u001b[39mreturn\u001b[39;00m table\u001b[39m.\u001b[39m__finalize__(data, method\u001b[39m=\u001b[39m\u001b[39m\"\u001b[39m\u001b[39mpivot_table\u001b[39m\u001b[39m\"\u001b[39m)\n\u001b[1;32m---> 97\u001b[0m table \u001b[39m=\u001b[39m __internal_pivot_table(\n\u001b[0;32m     98\u001b[0m     data,\n\u001b[0;32m     99\u001b[0m     values,\n\u001b[0;32m    100\u001b[0m     index,\n\u001b[0;32m    101\u001b[0m     columns,\n\u001b[0;32m    102\u001b[0m     aggfunc,\n\u001b[0;32m    103\u001b[0m     fill_value,\n\u001b[0;32m    104\u001b[0m     margins,\n\u001b[0;32m    105\u001b[0m     dropna,\n\u001b[0;32m    106\u001b[0m     margins_name,\n\u001b[0;32m    107\u001b[0m     observed,\n\u001b[0;32m    108\u001b[0m     sort,\n\u001b[0;32m    109\u001b[0m )\n\u001b[0;32m    110\u001b[0m \u001b[39mreturn\u001b[39;00m table\u001b[39m.\u001b[39m__finalize__(data, method\u001b[39m=\u001b[39m\u001b[39m\"\u001b[39m\u001b[39mpivot_table\u001b[39m\u001b[39m\"\u001b[39m)\n",
      "File \u001b[1;32mc:\\Users\\EFRNV\\AppData\\Local\\Programs\\Python\\Python310\\lib\\site-packages\\pandas\\core\\reshape\\pivot.py:209\u001b[0m, in \u001b[0;36m__internal_pivot_table\u001b[1;34m(data, values, index, columns, aggfunc, fill_value, margins, dropna, margins_name, observed, sort)\u001b[0m\n\u001b[0;32m    207\u001b[0m         \u001b[39melse\u001b[39;00m:\n\u001b[0;32m    208\u001b[0m             to_unstack\u001b[39m.\u001b[39mappend(name)\n\u001b[1;32m--> 209\u001b[0m     table \u001b[39m=\u001b[39m agged\u001b[39m.\u001b[39;49munstack(to_unstack)\n\u001b[0;32m    211\u001b[0m \u001b[39mif\u001b[39;00m \u001b[39mnot\u001b[39;00m dropna:\n\u001b[0;32m    212\u001b[0m     \u001b[39mif\u001b[39;00m \u001b[39misinstance\u001b[39m(table\u001b[39m.\u001b[39mindex, MultiIndex):\n",
      "File \u001b[1;32mc:\\Users\\EFRNV\\AppData\\Local\\Programs\\Python\\Python310\\lib\\site-packages\\pandas\\core\\frame.py:8971\u001b[0m, in \u001b[0;36mDataFrame.unstack\u001b[1;34m(self, level, fill_value)\u001b[0m\n\u001b[0;32m   8909\u001b[0m \u001b[39m\u001b[39m\u001b[39m\"\"\"\u001b[39;00m\n\u001b[0;32m   8910\u001b[0m \u001b[39mPivot a level of the (necessarily hierarchical) index labels.\u001b[39;00m\n\u001b[0;32m   8911\u001b[0m \n\u001b[1;32m   (...)\u001b[0m\n\u001b[0;32m   8967\u001b[0m \u001b[39mdtype: float64\u001b[39;00m\n\u001b[0;32m   8968\u001b[0m \u001b[39m\"\"\"\u001b[39;00m\n\u001b[0;32m   8969\u001b[0m \u001b[39mfrom\u001b[39;00m \u001b[39mpandas\u001b[39;00m\u001b[39m.\u001b[39;00m\u001b[39mcore\u001b[39;00m\u001b[39m.\u001b[39;00m\u001b[39mreshape\u001b[39;00m\u001b[39m.\u001b[39;00m\u001b[39mreshape\u001b[39;00m \u001b[39mimport\u001b[39;00m unstack\n\u001b[1;32m-> 8971\u001b[0m result \u001b[39m=\u001b[39m unstack(\u001b[39mself\u001b[39;49m, level, fill_value)\n\u001b[0;32m   8973\u001b[0m \u001b[39mreturn\u001b[39;00m result\u001b[39m.\u001b[39m__finalize__(\u001b[39mself\u001b[39m, method\u001b[39m=\u001b[39m\u001b[39m\"\u001b[39m\u001b[39munstack\u001b[39m\u001b[39m\"\u001b[39m)\n",
      "File \u001b[1;32mc:\\Users\\EFRNV\\AppData\\Local\\Programs\\Python\\Python310\\lib\\site-packages\\pandas\\core\\reshape\\reshape.py:465\u001b[0m, in \u001b[0;36munstack\u001b[1;34m(obj, level, fill_value)\u001b[0m\n\u001b[0;32m    461\u001b[0m \u001b[39mif\u001b[39;00m \u001b[39misinstance\u001b[39m(level, (\u001b[39mtuple\u001b[39m, \u001b[39mlist\u001b[39m)):\n\u001b[0;32m    462\u001b[0m     \u001b[39mif\u001b[39;00m \u001b[39mlen\u001b[39m(level) \u001b[39m!=\u001b[39m \u001b[39m1\u001b[39m:\n\u001b[0;32m    463\u001b[0m         \u001b[39m# _unstack_multiple only handles MultiIndexes,\u001b[39;00m\n\u001b[0;32m    464\u001b[0m         \u001b[39m# and isn't needed for a single level\u001b[39;00m\n\u001b[1;32m--> 465\u001b[0m         \u001b[39mreturn\u001b[39;00m _unstack_multiple(obj, level, fill_value\u001b[39m=\u001b[39;49mfill_value)\n\u001b[0;32m    466\u001b[0m     \u001b[39melse\u001b[39;00m:\n\u001b[0;32m    467\u001b[0m         level \u001b[39m=\u001b[39m level[\u001b[39m0\u001b[39m]\n",
      "File \u001b[1;32mc:\\Users\\EFRNV\\AppData\\Local\\Programs\\Python\\Python310\\lib\\site-packages\\pandas\\core\\reshape\\reshape.py:435\u001b[0m, in \u001b[0;36m_unstack_multiple\u001b[1;34m(data, clocs, fill_value)\u001b[0m\n\u001b[0;32m    432\u001b[0m dummy \u001b[39m=\u001b[39m data\u001b[39m.\u001b[39mcopy(deep\u001b[39m=\u001b[39m\u001b[39mFalse\u001b[39;00m)\n\u001b[0;32m    433\u001b[0m dummy\u001b[39m.\u001b[39mindex \u001b[39m=\u001b[39m dummy_index\n\u001b[1;32m--> 435\u001b[0m unstacked \u001b[39m=\u001b[39m dummy\u001b[39m.\u001b[39;49munstack(\u001b[39m\"\u001b[39;49m\u001b[39m__placeholder__\u001b[39;49m\u001b[39m\"\u001b[39;49m, fill_value\u001b[39m=\u001b[39;49mfill_value)\n\u001b[0;32m    436\u001b[0m \u001b[39mif\u001b[39;00m \u001b[39misinstance\u001b[39m(unstacked, Series):\n\u001b[0;32m    437\u001b[0m     unstcols \u001b[39m=\u001b[39m unstacked\u001b[39m.\u001b[39mindex\n",
      "File \u001b[1;32mc:\\Users\\EFRNV\\AppData\\Local\\Programs\\Python\\Python310\\lib\\site-packages\\pandas\\core\\frame.py:8971\u001b[0m, in \u001b[0;36mDataFrame.unstack\u001b[1;34m(self, level, fill_value)\u001b[0m\n\u001b[0;32m   8909\u001b[0m \u001b[39m\u001b[39m\u001b[39m\"\"\"\u001b[39;00m\n\u001b[0;32m   8910\u001b[0m \u001b[39mPivot a level of the (necessarily hierarchical) index labels.\u001b[39;00m\n\u001b[0;32m   8911\u001b[0m \n\u001b[1;32m   (...)\u001b[0m\n\u001b[0;32m   8967\u001b[0m \u001b[39mdtype: float64\u001b[39;00m\n\u001b[0;32m   8968\u001b[0m \u001b[39m\"\"\"\u001b[39;00m\n\u001b[0;32m   8969\u001b[0m \u001b[39mfrom\u001b[39;00m \u001b[39mpandas\u001b[39;00m\u001b[39m.\u001b[39;00m\u001b[39mcore\u001b[39;00m\u001b[39m.\u001b[39;00m\u001b[39mreshape\u001b[39;00m\u001b[39m.\u001b[39;00m\u001b[39mreshape\u001b[39;00m \u001b[39mimport\u001b[39;00m unstack\n\u001b[1;32m-> 8971\u001b[0m result \u001b[39m=\u001b[39m unstack(\u001b[39mself\u001b[39;49m, level, fill_value)\n\u001b[0;32m   8973\u001b[0m \u001b[39mreturn\u001b[39;00m result\u001b[39m.\u001b[39m__finalize__(\u001b[39mself\u001b[39m, method\u001b[39m=\u001b[39m\u001b[39m\"\u001b[39m\u001b[39munstack\u001b[39m\u001b[39m\"\u001b[39m)\n",
      "File \u001b[1;32mc:\\Users\\EFRNV\\AppData\\Local\\Programs\\Python\\Python310\\lib\\site-packages\\pandas\\core\\reshape\\reshape.py:475\u001b[0m, in \u001b[0;36munstack\u001b[1;34m(obj, level, fill_value)\u001b[0m\n\u001b[0;32m    473\u001b[0m \u001b[39mif\u001b[39;00m \u001b[39misinstance\u001b[39m(obj, DataFrame):\n\u001b[0;32m    474\u001b[0m     \u001b[39mif\u001b[39;00m \u001b[39misinstance\u001b[39m(obj\u001b[39m.\u001b[39mindex, MultiIndex):\n\u001b[1;32m--> 475\u001b[0m         \u001b[39mreturn\u001b[39;00m _unstack_frame(obj, level, fill_value\u001b[39m=\u001b[39;49mfill_value)\n\u001b[0;32m    476\u001b[0m     \u001b[39melse\u001b[39;00m:\n\u001b[0;32m    477\u001b[0m         \u001b[39mreturn\u001b[39;00m obj\u001b[39m.\u001b[39mT\u001b[39m.\u001b[39mstack(dropna\u001b[39m=\u001b[39m\u001b[39mFalse\u001b[39;00m)\n",
      "File \u001b[1;32mc:\\Users\\EFRNV\\AppData\\Local\\Programs\\Python\\Python310\\lib\\site-packages\\pandas\\core\\reshape\\reshape.py:498\u001b[0m, in \u001b[0;36m_unstack_frame\u001b[1;34m(obj, level, fill_value)\u001b[0m\n\u001b[0;32m    496\u001b[0m \u001b[39mdef\u001b[39;00m \u001b[39m_unstack_frame\u001b[39m(obj: DataFrame, level, fill_value\u001b[39m=\u001b[39m\u001b[39mNone\u001b[39;00m):\n\u001b[0;32m    497\u001b[0m     \u001b[39massert\u001b[39;00m \u001b[39misinstance\u001b[39m(obj\u001b[39m.\u001b[39mindex, MultiIndex)  \u001b[39m# checked by caller\u001b[39;00m\n\u001b[1;32m--> 498\u001b[0m     unstacker \u001b[39m=\u001b[39m _Unstacker(obj\u001b[39m.\u001b[39;49mindex, level\u001b[39m=\u001b[39;49mlevel, constructor\u001b[39m=\u001b[39;49mobj\u001b[39m.\u001b[39;49m_constructor)\n\u001b[0;32m    500\u001b[0m     \u001b[39mif\u001b[39;00m \u001b[39mnot\u001b[39;00m obj\u001b[39m.\u001b[39m_can_fast_transpose:\n\u001b[0;32m    501\u001b[0m         mgr \u001b[39m=\u001b[39m obj\u001b[39m.\u001b[39m_mgr\u001b[39m.\u001b[39munstack(unstacker, fill_value\u001b[39m=\u001b[39mfill_value)\n",
      "File \u001b[1;32mc:\\Users\\EFRNV\\AppData\\Local\\Programs\\Python\\Python310\\lib\\site-packages\\pandas\\core\\reshape\\reshape.py:136\u001b[0m, in \u001b[0;36m_Unstacker.__init__\u001b[1;34m(self, index, level, constructor)\u001b[0m\n\u001b[0;32m    128\u001b[0m \u001b[39mif\u001b[39;00m num_cells \u001b[39m>\u001b[39m np\u001b[39m.\u001b[39miinfo(np\u001b[39m.\u001b[39mint32)\u001b[39m.\u001b[39mmax:\n\u001b[0;32m    129\u001b[0m     warnings\u001b[39m.\u001b[39mwarn(\n\u001b[0;32m    130\u001b[0m         \u001b[39mf\u001b[39m\u001b[39m\"\u001b[39m\u001b[39mThe following operation may generate \u001b[39m\u001b[39m{\u001b[39;00mnum_cells\u001b[39m}\u001b[39;00m\u001b[39m cells \u001b[39m\u001b[39m\"\u001b[39m\n\u001b[0;32m    131\u001b[0m         \u001b[39mf\u001b[39m\u001b[39m\"\u001b[39m\u001b[39min the resulting pandas object.\u001b[39m\u001b[39m\"\u001b[39m,\n\u001b[0;32m    132\u001b[0m         PerformanceWarning,\n\u001b[0;32m    133\u001b[0m         stacklevel\u001b[39m=\u001b[39mfind_stack_level(),\n\u001b[0;32m    134\u001b[0m     )\n\u001b[1;32m--> 136\u001b[0m \u001b[39mself\u001b[39;49m\u001b[39m.\u001b[39;49m_make_selectors()\n",
      "File \u001b[1;32mc:\\Users\\EFRNV\\AppData\\Local\\Programs\\Python\\Python310\\lib\\site-packages\\pandas\\core\\reshape\\reshape.py:184\u001b[0m, in \u001b[0;36m_Unstacker._make_selectors\u001b[1;34m(self)\u001b[0m\n\u001b[0;32m    181\u001b[0m \u001b[39mself\u001b[39m\u001b[39m.\u001b[39mfull_shape \u001b[39m=\u001b[39m ngroups, stride\n\u001b[0;32m    183\u001b[0m selector \u001b[39m=\u001b[39m \u001b[39mself\u001b[39m\u001b[39m.\u001b[39msorted_labels[\u001b[39m-\u001b[39m\u001b[39m1\u001b[39m] \u001b[39m+\u001b[39m stride \u001b[39m*\u001b[39m comp_index \u001b[39m+\u001b[39m \u001b[39mself\u001b[39m\u001b[39m.\u001b[39mlift\n\u001b[1;32m--> 184\u001b[0m mask \u001b[39m=\u001b[39m np\u001b[39m.\u001b[39;49mzeros(np\u001b[39m.\u001b[39;49mprod(\u001b[39mself\u001b[39;49m\u001b[39m.\u001b[39;49mfull_shape), dtype\u001b[39m=\u001b[39;49m\u001b[39mbool\u001b[39;49m)\n\u001b[0;32m    185\u001b[0m mask\u001b[39m.\u001b[39mput(selector, \u001b[39mTrue\u001b[39;00m)\n\u001b[0;32m    187\u001b[0m \u001b[39mif\u001b[39;00m mask\u001b[39m.\u001b[39msum() \u001b[39m<\u001b[39m \u001b[39mlen\u001b[39m(\u001b[39mself\u001b[39m\u001b[39m.\u001b[39mindex):\n",
      "\u001b[1;31mValueError\u001b[0m: negative dimensions are not allowed"
     ]
    }
   ],
   "source": [
    "fr_final['Crop Name'] = fr_final['Crop Name'].astype(str)\n",
    "\n",
    "pivot = pd.pivot_table(fr_final, values='Crop Name', index=['id', 'First Name', 'Last Name', 'Mobile Number'],columns=['CU Name', 'CA Name', 'Territory Name', 'District Name', 'SubDistrict Name', 'Village Name'],\n",
    "                          aggfunc=lambda x: ' '.join(x.unique()), fill_value='')\n",
    "pivot.reset_index(inplace=True)\n",
    "pivot.to_csv('farmer_details.csv')"
   ]
  },
  {
   "cell_type": "code",
   "execution_count": 107,
   "id": "2b75a1f5",
   "metadata": {},
   "outputs": [],
   "source": [
    "\n",
    "fr_final['Crop Name'] = fr_final['Crop Name'].astype(str)\n",
    "\n",
    "pivot = pd.pivot_table(fr_final, \n",
    "                       values='Crop Name', \n",
    "                       index=['id', 'First Name'], \n",
    "                       columns=['CU Name', 'CA Name'], \n",
    "                       aggfunc=lambda x: ' '.join(x.unique()), \n",
    "                       fill_value='')\n",
    "pivot.reset_index(inplace=True)\n",
    "\n",
    "# Save the resulting pivot table to a CSV file\n",
    "pivot.to_csv('farmer_details.csv', index=False)\n"
   ]
  },
  {
   "cell_type": "code",
   "execution_count": 108,
   "id": "b516f717",
   "metadata": {},
   "outputs": [
    {
     "ename": "ValueError",
     "evalue": "Index contains duplicate entries, cannot reshape",
     "output_type": "error",
     "traceback": [
      "\u001b[1;31m---------------------------------------------------------------------------\u001b[0m",
      "\u001b[1;31mValueError\u001b[0m                                Traceback (most recent call last)",
      "Cell \u001b[1;32mIn[108], line 6\u001b[0m\n\u001b[0;32m      3\u001b[0m \u001b[39m# Assuming your DataFrame is named 'df'\u001b[39;00m\n\u001b[0;32m      4\u001b[0m fr_final[\u001b[39m'\u001b[39m\u001b[39mCrop Name\u001b[39m\u001b[39m'\u001b[39m] \u001b[39m=\u001b[39m fr_final[\u001b[39m'\u001b[39m\u001b[39mCrop Name\u001b[39m\u001b[39m'\u001b[39m]\u001b[39m.\u001b[39mastype(\u001b[39mstr\u001b[39m)\n\u001b[1;32m----> 6\u001b[0m pivot \u001b[39m=\u001b[39m fr_final\u001b[39m.\u001b[39;49mpivot(index\u001b[39m=\u001b[39;49m[\u001b[39m'\u001b[39;49m\u001b[39mCU Name\u001b[39;49m\u001b[39m'\u001b[39;49m, \u001b[39m'\u001b[39;49m\u001b[39mCA Name\u001b[39;49m\u001b[39m'\u001b[39;49m, \u001b[39m'\u001b[39;49m\u001b[39mid\u001b[39;49m\u001b[39m'\u001b[39;49m, \u001b[39m'\u001b[39;49m\u001b[39mFirst Name\u001b[39;49m\u001b[39m'\u001b[39;49m], columns\u001b[39m=\u001b[39;49m\u001b[39m'\u001b[39;49m\u001b[39mCrop Name\u001b[39;49m\u001b[39m'\u001b[39;49m, values\u001b[39m=\u001b[39;49m\u001b[39m'\u001b[39;49m\u001b[39mCrop Name\u001b[39;49m\u001b[39m'\u001b[39;49m)\u001b[39m.\u001b[39mreset_index()\n\u001b[0;32m      8\u001b[0m \u001b[39m# Save the resulting pivot table to a CSV file\u001b[39;00m\n\u001b[0;32m      9\u001b[0m pivot\u001b[39m.\u001b[39mto_csv(\u001b[39m'\u001b[39m\u001b[39mfarmer_details_proper.csv\u001b[39m\u001b[39m'\u001b[39m, index\u001b[39m=\u001b[39m\u001b[39mFalse\u001b[39;00m)\n",
      "File \u001b[1;32mc:\\Users\\EFRNV\\AppData\\Local\\Programs\\Python\\Python310\\lib\\site-packages\\pandas\\core\\frame.py:8424\u001b[0m, in \u001b[0;36mDataFrame.pivot\u001b[1;34m(self, columns, index, values)\u001b[0m\n\u001b[0;32m   8419\u001b[0m \u001b[39m@Substitution\u001b[39m(\u001b[39m\"\u001b[39m\u001b[39m\"\u001b[39m)\n\u001b[0;32m   8420\u001b[0m \u001b[39m@Appender\u001b[39m(_shared_docs[\u001b[39m\"\u001b[39m\u001b[39mpivot\u001b[39m\u001b[39m\"\u001b[39m])\n\u001b[0;32m   8421\u001b[0m \u001b[39mdef\u001b[39;00m \u001b[39mpivot\u001b[39m(\u001b[39mself\u001b[39m, \u001b[39m*\u001b[39m, columns, index\u001b[39m=\u001b[39mlib\u001b[39m.\u001b[39mNoDefault, values\u001b[39m=\u001b[39mlib\u001b[39m.\u001b[39mNoDefault) \u001b[39m-\u001b[39m\u001b[39m>\u001b[39m DataFrame:\n\u001b[0;32m   8422\u001b[0m     \u001b[39mfrom\u001b[39;00m \u001b[39mpandas\u001b[39;00m\u001b[39m.\u001b[39;00m\u001b[39mcore\u001b[39;00m\u001b[39m.\u001b[39;00m\u001b[39mreshape\u001b[39;00m\u001b[39m.\u001b[39;00m\u001b[39mpivot\u001b[39;00m \u001b[39mimport\u001b[39;00m pivot\n\u001b[1;32m-> 8424\u001b[0m     \u001b[39mreturn\u001b[39;00m pivot(\u001b[39mself\u001b[39;49m, index\u001b[39m=\u001b[39;49mindex, columns\u001b[39m=\u001b[39;49mcolumns, values\u001b[39m=\u001b[39;49mvalues)\n",
      "File \u001b[1;32mc:\\Users\\EFRNV\\AppData\\Local\\Programs\\Python\\Python310\\lib\\site-packages\\pandas\\core\\reshape\\pivot.py:557\u001b[0m, in \u001b[0;36mpivot\u001b[1;34m(data, columns, index, values)\u001b[0m\n\u001b[0;32m    553\u001b[0m         indexed \u001b[39m=\u001b[39m data\u001b[39m.\u001b[39m_constructor_sliced(data[values]\u001b[39m.\u001b[39m_values, index\u001b[39m=\u001b[39mmultiindex)\n\u001b[0;32m    554\u001b[0m \u001b[39m# error: Argument 1 to \"unstack\" of \"DataFrame\" has incompatible type \"Union\u001b[39;00m\n\u001b[0;32m    555\u001b[0m \u001b[39m# [List[Any], ExtensionArray, ndarray[Any, Any], Index, Series]\"; expected\u001b[39;00m\n\u001b[0;32m    556\u001b[0m \u001b[39m# \"Hashable\"\u001b[39;00m\n\u001b[1;32m--> 557\u001b[0m result \u001b[39m=\u001b[39m indexed\u001b[39m.\u001b[39;49munstack(columns_listlike)  \u001b[39m# type: ignore[arg-type]\u001b[39;00m\n\u001b[0;32m    558\u001b[0m result\u001b[39m.\u001b[39mindex\u001b[39m.\u001b[39mnames \u001b[39m=\u001b[39m [\n\u001b[0;32m    559\u001b[0m     name \u001b[39mif\u001b[39;00m name \u001b[39mis\u001b[39;00m \u001b[39mnot\u001b[39;00m lib\u001b[39m.\u001b[39mNoDefault \u001b[39melse\u001b[39;00m \u001b[39mNone\u001b[39;00m \u001b[39mfor\u001b[39;00m name \u001b[39min\u001b[39;00m result\u001b[39m.\u001b[39mindex\u001b[39m.\u001b[39mnames\n\u001b[0;32m    560\u001b[0m ]\n\u001b[0;32m    562\u001b[0m \u001b[39mreturn\u001b[39;00m result\n",
      "File \u001b[1;32mc:\\Users\\EFRNV\\AppData\\Local\\Programs\\Python\\Python310\\lib\\site-packages\\pandas\\core\\series.py:4309\u001b[0m, in \u001b[0;36mSeries.unstack\u001b[1;34m(self, level, fill_value)\u001b[0m\n\u001b[0;32m   4266\u001b[0m \u001b[39m\u001b[39m\u001b[39m\"\"\"\u001b[39;00m\n\u001b[0;32m   4267\u001b[0m \u001b[39mUnstack, also known as pivot, Series with MultiIndex to produce DataFrame.\u001b[39;00m\n\u001b[0;32m   4268\u001b[0m \n\u001b[1;32m   (...)\u001b[0m\n\u001b[0;32m   4305\u001b[0m \u001b[39mb    2    4\u001b[39;00m\n\u001b[0;32m   4306\u001b[0m \u001b[39m\"\"\"\u001b[39;00m\n\u001b[0;32m   4307\u001b[0m \u001b[39mfrom\u001b[39;00m \u001b[39mpandas\u001b[39;00m\u001b[39m.\u001b[39;00m\u001b[39mcore\u001b[39;00m\u001b[39m.\u001b[39;00m\u001b[39mreshape\u001b[39;00m\u001b[39m.\u001b[39;00m\u001b[39mreshape\u001b[39;00m \u001b[39mimport\u001b[39;00m unstack\n\u001b[1;32m-> 4309\u001b[0m \u001b[39mreturn\u001b[39;00m unstack(\u001b[39mself\u001b[39;49m, level, fill_value)\n",
      "File \u001b[1;32mc:\\Users\\EFRNV\\AppData\\Local\\Programs\\Python\\Python310\\lib\\site-packages\\pandas\\core\\reshape\\reshape.py:488\u001b[0m, in \u001b[0;36munstack\u001b[1;34m(obj, level, fill_value)\u001b[0m\n\u001b[0;32m    486\u001b[0m \u001b[39mif\u001b[39;00m is_1d_only_ea_dtype(obj\u001b[39m.\u001b[39mdtype):\n\u001b[0;32m    487\u001b[0m     \u001b[39mreturn\u001b[39;00m _unstack_extension_series(obj, level, fill_value)\n\u001b[1;32m--> 488\u001b[0m unstacker \u001b[39m=\u001b[39m _Unstacker(\n\u001b[0;32m    489\u001b[0m     obj\u001b[39m.\u001b[39;49mindex, level\u001b[39m=\u001b[39;49mlevel, constructor\u001b[39m=\u001b[39;49mobj\u001b[39m.\u001b[39;49m_constructor_expanddim\n\u001b[0;32m    490\u001b[0m )\n\u001b[0;32m    491\u001b[0m \u001b[39mreturn\u001b[39;00m unstacker\u001b[39m.\u001b[39mget_result(\n\u001b[0;32m    492\u001b[0m     obj\u001b[39m.\u001b[39m_values, value_columns\u001b[39m=\u001b[39m\u001b[39mNone\u001b[39;00m, fill_value\u001b[39m=\u001b[39mfill_value\n\u001b[0;32m    493\u001b[0m )\n",
      "File \u001b[1;32mc:\\Users\\EFRNV\\AppData\\Local\\Programs\\Python\\Python310\\lib\\site-packages\\pandas\\core\\reshape\\reshape.py:136\u001b[0m, in \u001b[0;36m_Unstacker.__init__\u001b[1;34m(self, index, level, constructor)\u001b[0m\n\u001b[0;32m    128\u001b[0m \u001b[39mif\u001b[39;00m num_cells \u001b[39m>\u001b[39m np\u001b[39m.\u001b[39miinfo(np\u001b[39m.\u001b[39mint32)\u001b[39m.\u001b[39mmax:\n\u001b[0;32m    129\u001b[0m     warnings\u001b[39m.\u001b[39mwarn(\n\u001b[0;32m    130\u001b[0m         \u001b[39mf\u001b[39m\u001b[39m\"\u001b[39m\u001b[39mThe following operation may generate \u001b[39m\u001b[39m{\u001b[39;00mnum_cells\u001b[39m}\u001b[39;00m\u001b[39m cells \u001b[39m\u001b[39m\"\u001b[39m\n\u001b[0;32m    131\u001b[0m         \u001b[39mf\u001b[39m\u001b[39m\"\u001b[39m\u001b[39min the resulting pandas object.\u001b[39m\u001b[39m\"\u001b[39m,\n\u001b[0;32m    132\u001b[0m         PerformanceWarning,\n\u001b[0;32m    133\u001b[0m         stacklevel\u001b[39m=\u001b[39mfind_stack_level(),\n\u001b[0;32m    134\u001b[0m     )\n\u001b[1;32m--> 136\u001b[0m \u001b[39mself\u001b[39;49m\u001b[39m.\u001b[39;49m_make_selectors()\n",
      "File \u001b[1;32mc:\\Users\\EFRNV\\AppData\\Local\\Programs\\Python\\Python310\\lib\\site-packages\\pandas\\core\\reshape\\reshape.py:188\u001b[0m, in \u001b[0;36m_Unstacker._make_selectors\u001b[1;34m(self)\u001b[0m\n\u001b[0;32m    185\u001b[0m mask\u001b[39m.\u001b[39mput(selector, \u001b[39mTrue\u001b[39;00m)\n\u001b[0;32m    187\u001b[0m \u001b[39mif\u001b[39;00m mask\u001b[39m.\u001b[39msum() \u001b[39m<\u001b[39m \u001b[39mlen\u001b[39m(\u001b[39mself\u001b[39m\u001b[39m.\u001b[39mindex):\n\u001b[1;32m--> 188\u001b[0m     \u001b[39mraise\u001b[39;00m \u001b[39mValueError\u001b[39;00m(\u001b[39m\"\u001b[39m\u001b[39mIndex contains duplicate entries, cannot reshape\u001b[39m\u001b[39m\"\u001b[39m)\n\u001b[0;32m    190\u001b[0m \u001b[39mself\u001b[39m\u001b[39m.\u001b[39mgroup_index \u001b[39m=\u001b[39m comp_index\n\u001b[0;32m    191\u001b[0m \u001b[39mself\u001b[39m\u001b[39m.\u001b[39mmask \u001b[39m=\u001b[39m mask\n",
      "\u001b[1;31mValueError\u001b[0m: Index contains duplicate entries, cannot reshape"
     ]
    }
   ],
   "source": [
    "import pandas as pd\n",
    "\n",
    "# Assuming your DataFrame is named 'df'\n",
    "fr_final['Crop Name'] = fr_final['Crop Name'].astype(str)\n",
    "\n",
    "pivot = fr_final.pivot(index=['CU Name', 'CA Name', 'id', 'First Name'], columns='Crop Name', values='Crop Name').reset_index()\n",
    "\n",
    "# Save the resulting pivot table to a CSV file\n",
    "pivot.to_csv('farmer_details_proper.csv', index=False)\n"
   ]
  },
  {
   "cell_type": "code",
   "execution_count": 109,
   "id": "05c92444",
   "metadata": {},
   "outputs": [],
   "source": [
    "import pandas as pd\n",
    "\n",
    "# Assuming your DataFrame is named 'df'\n",
    "fr_final['Crop Name'] = fr_final['Crop Name'].astype(str)\n",
    "\n",
    "# Filter the DataFrame to include only the 'id' values with more than two Crop Names\n",
    "filtered_df = fr_final.groupby('id').filter(lambda x: len(x['Crop Name'].unique()) > 2)\n",
    "\n",
    "# Create the pivot table\n",
    "pivot = pd.pivot_table(filtered_df, values='Crop Name', index=['id', 'First Name'], columns=['CU Name', 'CA Name'], aggfunc=lambda x: ' '.join(x.unique()), fill_value='').reset_index()\n",
    "\n",
    "# Save the resulting pivot table to a CSV file\n",
    "pivot.to_csv('farmer_data.csv', index=False)\n"
   ]
  },
  {
   "cell_type": "code",
   "execution_count": 117,
   "id": "e6041987",
   "metadata": {},
   "outputs": [],
   "source": [
    "columns = ['id', 'Mobile Number', 'CU Name', 'CA Name', 'Territory Name', 'Crop Name']\n",
    "df_filtered = FR_unq[columns]\n",
    "\n",
    "pivot_table = pd.pivot_table(df_filtered, index=['CU Name', 'CA Name', 'Territory Name','id', 'Mobile Number'], columns='Crop Name',aggfunc='count', fill_value=0)\n",
    "\n",
    "grouped = pivot_table.groupby('CU Name')\n",
    "for cu_name, group_df in grouped:\n",
    "    file_name = f'fr_crop_{cu_name}.csv'\n",
    "    group_df.to_csv(file_name, index=False)"
   ]
  },
  {
   "cell_type": "code",
   "execution_count": 121,
   "id": "63e543ea",
   "metadata": {},
   "outputs": [
    {
     "ename": "MergeError",
     "evalue": "Not allowed to merge between different levels. (2 levels on the left, 1 on the right)",
     "output_type": "error",
     "traceback": [
      "\u001b[1;31m---------------------------------------------------------------------------\u001b[0m",
      "\u001b[1;31mMergeError\u001b[0m                                Traceback (most recent call last)",
      "Cell \u001b[1;32mIn[121], line 15\u001b[0m\n\u001b[0;32m     12\u001b[0m pivot_table \u001b[39m=\u001b[39m pivot_table\u001b[39m.\u001b[39mreset_index()\n\u001b[0;32m     14\u001b[0m \u001b[39m# Merge using index levels\u001b[39;00m\n\u001b[1;32m---> 15\u001b[0m merged_df \u001b[39m=\u001b[39m pd\u001b[39m.\u001b[39;49mmerge(pivot_table, df_filtered[[\u001b[39m'\u001b[39;49m\u001b[39mCU Name\u001b[39;49m\u001b[39m'\u001b[39;49m]], left_on\u001b[39m=\u001b[39;49m[\u001b[39m'\u001b[39;49m\u001b[39mCU Name\u001b[39;49m\u001b[39m'\u001b[39;49m], right_index\u001b[39m=\u001b[39;49m\u001b[39mTrue\u001b[39;49;00m, how\u001b[39m=\u001b[39;49m\u001b[39m'\u001b[39;49m\u001b[39minner\u001b[39;49m\u001b[39m'\u001b[39;49m)\n\u001b[0;32m     17\u001b[0m \u001b[39m# Splitting the merged dataframe into multiple small files based on 'CU Name'\u001b[39;00m\n\u001b[0;32m     18\u001b[0m grouped \u001b[39m=\u001b[39m merged_df\u001b[39m.\u001b[39mgroupby(\u001b[39m'\u001b[39m\u001b[39mCU Name\u001b[39m\u001b[39m'\u001b[39m)\n",
      "File \u001b[1;32mc:\\Users\\EFRNV\\AppData\\Local\\Programs\\Python\\Python310\\lib\\site-packages\\pandas\\core\\reshape\\merge.py:144\u001b[0m, in \u001b[0;36mmerge\u001b[1;34m(left, right, how, on, left_on, right_on, left_index, right_index, sort, suffixes, copy, indicator, validate)\u001b[0m\n\u001b[0;32m    127\u001b[0m \u001b[39m@Substitution\u001b[39m(\u001b[39m\"\u001b[39m\u001b[39m\\n\u001b[39;00m\u001b[39mleft : DataFrame or named Series\u001b[39m\u001b[39m\"\u001b[39m)\n\u001b[0;32m    128\u001b[0m \u001b[39m@Appender\u001b[39m(_merge_doc, indents\u001b[39m=\u001b[39m\u001b[39m0\u001b[39m)\n\u001b[0;32m    129\u001b[0m \u001b[39mdef\u001b[39;00m \u001b[39mmerge\u001b[39m(\n\u001b[1;32m   (...)\u001b[0m\n\u001b[0;32m    142\u001b[0m     validate: \u001b[39mstr\u001b[39m \u001b[39m|\u001b[39m \u001b[39mNone\u001b[39;00m \u001b[39m=\u001b[39m \u001b[39mNone\u001b[39;00m,\n\u001b[0;32m    143\u001b[0m ) \u001b[39m-\u001b[39m\u001b[39m>\u001b[39m DataFrame:\n\u001b[1;32m--> 144\u001b[0m     op \u001b[39m=\u001b[39m _MergeOperation(\n\u001b[0;32m    145\u001b[0m         left,\n\u001b[0;32m    146\u001b[0m         right,\n\u001b[0;32m    147\u001b[0m         how\u001b[39m=\u001b[39;49mhow,\n\u001b[0;32m    148\u001b[0m         on\u001b[39m=\u001b[39;49mon,\n\u001b[0;32m    149\u001b[0m         left_on\u001b[39m=\u001b[39;49mleft_on,\n\u001b[0;32m    150\u001b[0m         right_on\u001b[39m=\u001b[39;49mright_on,\n\u001b[0;32m    151\u001b[0m         left_index\u001b[39m=\u001b[39;49mleft_index,\n\u001b[0;32m    152\u001b[0m         right_index\u001b[39m=\u001b[39;49mright_index,\n\u001b[0;32m    153\u001b[0m         sort\u001b[39m=\u001b[39;49msort,\n\u001b[0;32m    154\u001b[0m         suffixes\u001b[39m=\u001b[39;49msuffixes,\n\u001b[0;32m    155\u001b[0m         indicator\u001b[39m=\u001b[39;49mindicator,\n\u001b[0;32m    156\u001b[0m         validate\u001b[39m=\u001b[39;49mvalidate,\n\u001b[0;32m    157\u001b[0m     )\n\u001b[0;32m    158\u001b[0m     \u001b[39mreturn\u001b[39;00m op\u001b[39m.\u001b[39mget_result(copy\u001b[39m=\u001b[39mcopy)\n",
      "File \u001b[1;32mc:\\Users\\EFRNV\\AppData\\Local\\Programs\\Python\\Python310\\lib\\site-packages\\pandas\\core\\reshape\\merge.py:713\u001b[0m, in \u001b[0;36m_MergeOperation.__init__\u001b[1;34m(self, left, right, how, on, left_on, right_on, axis, left_index, right_index, sort, suffixes, indicator, validate)\u001b[0m\n\u001b[0;32m    707\u001b[0m \u001b[39mif\u001b[39;00m _left\u001b[39m.\u001b[39mcolumns\u001b[39m.\u001b[39mnlevels \u001b[39m!=\u001b[39m _right\u001b[39m.\u001b[39mcolumns\u001b[39m.\u001b[39mnlevels:\n\u001b[0;32m    708\u001b[0m     msg \u001b[39m=\u001b[39m (\n\u001b[0;32m    709\u001b[0m         \u001b[39m\"\u001b[39m\u001b[39mNot allowed to merge between different levels. \u001b[39m\u001b[39m\"\u001b[39m\n\u001b[0;32m    710\u001b[0m         \u001b[39mf\u001b[39m\u001b[39m\"\u001b[39m\u001b[39m(\u001b[39m\u001b[39m{\u001b[39;00m_left\u001b[39m.\u001b[39mcolumns\u001b[39m.\u001b[39mnlevels\u001b[39m}\u001b[39;00m\u001b[39m levels on the left, \u001b[39m\u001b[39m\"\u001b[39m\n\u001b[0;32m    711\u001b[0m         \u001b[39mf\u001b[39m\u001b[39m\"\u001b[39m\u001b[39m{\u001b[39;00m_right\u001b[39m.\u001b[39mcolumns\u001b[39m.\u001b[39mnlevels\u001b[39m}\u001b[39;00m\u001b[39m on the right)\u001b[39m\u001b[39m\"\u001b[39m\n\u001b[0;32m    712\u001b[0m     )\n\u001b[1;32m--> 713\u001b[0m     \u001b[39mraise\u001b[39;00m MergeError(msg)\n\u001b[0;32m    715\u001b[0m \u001b[39mself\u001b[39m\u001b[39m.\u001b[39mleft_on, \u001b[39mself\u001b[39m\u001b[39m.\u001b[39mright_on \u001b[39m=\u001b[39m \u001b[39mself\u001b[39m\u001b[39m.\u001b[39m_validate_left_right_on(left_on, right_on)\n\u001b[0;32m    717\u001b[0m cross_col \u001b[39m=\u001b[39m \u001b[39mNone\u001b[39;00m\n",
      "\u001b[1;31mMergeError\u001b[0m: Not allowed to merge between different levels. (2 levels on the left, 1 on the right)"
     ]
    }
   ],
   "source": [
    "import pandas as pd\n",
    "\n",
    "# Assuming 'FR_unq' is your dataframe containing the data\n",
    "# Extracting the desired columns\n",
    "columns = ['id', 'Mobile Number', 'CU Name', 'CA Name', 'Territory Name', 'Crop Name']\n",
    "df_filtered = FR_unq[columns]\n",
    "\n",
    "# Creating a pivot table\n",
    "pivot_table = pd.pivot_table(df_filtered, index=['CU Name', 'CA Name', 'Territory Name', 'id', 'Mobile Number'], columns='Crop Name', aggfunc='count', fill_value=0)\n",
    "\n",
    "# Resetting index to make 'CU Name' a column\n",
    "pivot_table = pivot_table.reset_index()\n",
    "\n",
    "# Merge using index levels\n",
    "merged_df = pd.merge(pivot_table, df_filtered[['CU Name']], left_on=['CU Name'], right_index=True, how='inner')\n",
    "\n",
    "# Splitting the merged dataframe into multiple small files based on 'CU Name'\n",
    "grouped = merged_df.groupby('CU Name')\n",
    "\n",
    "for cu_name, group_df in grouped:\n",
    "    file_name = f'fr_crop_{cu_name}.csv'\n",
    "    group_df.to_csv(file_name, index=False)\n"
   ]
  },
  {
   "cell_type": "code",
   "execution_count": null,
   "id": "d1b1eac6",
   "metadata": {},
   "outputs": [],
   "source": []
  }
 ],
 "metadata": {
  "kernelspec": {
   "display_name": "Python 3 (ipykernel)",
   "language": "python",
   "name": "python3"
  },
  "language_info": {
   "codemirror_mode": {
    "name": "ipython",
    "version": 3
   },
   "file_extension": ".py",
   "mimetype": "text/x-python",
   "name": "python",
   "nbconvert_exporter": "python",
   "pygments_lexer": "ipython3",
   "version": "3.10.4"
  }
 },
 "nbformat": 4,
 "nbformat_minor": 5
}
