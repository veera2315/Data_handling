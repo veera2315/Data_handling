{
  "cells": [
    {
      "cell_type": "markdown",
      "id": "fc2294e4-a8a6-4b39-9627-a53fd2a6c702",
      "metadata": {},
      "outputs": [],
      "source": [
        "<center>\n",
        "    <img src=\"https://cf-courses-data.s3.us.cloud-object-storage.appdomain.cloud/IBMDeveloperSkillsNetwork-DA0101EN-SkillsNetwork/labs/Module%204/images/IDSNlogo.png\" width=\"300\" alt=\"cognitiveclass.ai logo\">\n",
        "</center>\n",
        "\n",
        "# Model Development\n",
        "\n",
        "Estimated time needed: **30** minutes\n",
        "\n",
        "## Objectives\n",
        "\n",
        "After completing this lab you will be able to:\n",
        "\n",
        "*   Develop prediction models\n"
      ]
    },
    {
      "cell_type": "markdown",
      "id": "41d63e2d-6803-4a89-9a21-45c44535cb24",
      "metadata": {},
      "outputs": [],
      "source": [
        "<p>In this section, we will develop several models that will predict the price of the car using the variables or features. This is just an estimate but should give us an objective idea of how much the car should cost.</p>\n"
      ]
    },
    {
      "cell_type": "markdown",
      "id": "5857bd12-af70-47c2-a345-e11675588347",
      "metadata": {},
      "outputs": [],
      "source": [
        "Some questions we want to ask in this module\n",
        "\n",
        "<ul>\n",
        "    <li>Do I know if the dealer is offering fair value for my trade-in?</li>\n",
        "    <li>Do I know if I put a fair value on my car?</li>\n",
        "</ul>\n",
        "<p>In data analytics, we often use <b>Model Development</b> to help us predict future observations from the data we have.</p>\n",
        "\n",
        "<p>A model will help us understand the exact relationship between different variables and how these variables are used to predict the result.</p>\n"
      ]
    },
    {
      "cell_type": "markdown",
      "id": "8805118c-cd0c-49d4-8cfa-cc19e44ed48d",
      "metadata": {},
      "outputs": [],
      "source": [
        "<h4>Setup</h4>\n"
      ]
    },
    {
      "cell_type": "markdown",
      "id": "0378f675-8510-4e24-a99a-223185f18035",
      "metadata": {},
      "outputs": [],
      "source": [
        "Import libraries:\n"
      ]
    },
    {
      "cell_type": "markdown",
      "id": "c7d51333-6d89-49e3-aa4b-b4e341b32bbd",
      "metadata": {},
      "outputs": [],
      "source": [
        "you are running the lab in your  browser, so we will install the libraries using `piplite`\n"
      ]
    },
    {
      "cell_type": "code",
      "id": "dce62965-3608-426c-91b6-94e549d39e6c",
      "metadata": {},
      "outputs": [],
      "source": [
        "#you are running the lab in your  browser, so we will install the libraries using ``piplite``\nimport piplite\nawait piplite.install(['pandas'])\nawait piplite.install(['matplotlib'])\nawait piplite.install(['scipy'])\nawait piplite.install(['scikit-learn'])\nawait piplite.install(['skillsnetwork', 'seaborn'])"
      ]
    },
    {
      "cell_type": "markdown",
      "id": "ee554720-adf2-4372-b967-f3cd99e5bfe6",
      "metadata": {},
      "outputs": [],
      "source": [
        "If you run the lab locally using Anaconda, you can load the correct library and versions by uncommenting the following:\n"
      ]
    },
    {
      "cell_type": "code",
      "id": "1d67895e-d01a-4c83-97bb-265f6678f137",
      "metadata": {},
      "outputs": [],
      "source": [
        "#If you run the lab locally using Anaconda, you can load the correct library and versions by uncommenting the following:\n#install specific version of libraries used in lab\n#! mamba install pandas==1.3.3-y\n#! mamba install numpy=1.21.2-y\n#! mamba install sklearn=0.20.1-y"
      ]
    },
    {
      "cell_type": "code",
      "id": "77b68db7-0e36-4081-9965-4fdf677c2690",
      "metadata": {},
      "outputs": [],
      "source": [
        "import pandas as pd\nimport numpy as np\nimport matplotlib.pyplot as plt\nimport skillsnetwork\nimport warnings\nwarnings.filterwarnings('ignore')"
      ]
    },
    {
      "cell_type": "markdown",
      "id": "f287fa93-8ab6-4f83-9f2e-2893b8c2933d",
      "metadata": {},
      "outputs": [],
      "source": [
        "This function will download the dataset into your browser\n"
      ]
    },
    {
      "cell_type": "code",
      "id": "86937fbb-60c1-4f47-a41f-082e822f7468",
      "metadata": {},
      "outputs": [],
      "source": [
        "#This function will download the dataset into your browser \n\nfrom pyodide.http import pyfetch\n\nasync def download(url, filename):\n    response = await pyfetch(url)\n    if response.status == 200:\n        with open(filename, \"wb\") as f:\n            f.write(await response.bytes())"
      ]
    },
    {
      "cell_type": "markdown",
      "id": "132928ea-06da-445e-8dbd-0149ba74290a",
      "metadata": {},
      "outputs": [],
      "source": [
        "This dataset was hosted on IBM Cloud object. Click <a href=\"https://cocl.us/DA101EN_object_storage?utm_medium=Exinfluencer&utm_source=Exinfluencer&utm_content=000026UJ&utm_term=10006555&utm_id=NA-SkillsNetwork-Channel-SkillsNetworkCoursesIBMDeveloperSkillsNetworkDA0101ENSkillsNetwork20235326-2021-01-01\">HERE</a> for free storage.\n"
      ]
    },
    {
      "cell_type": "markdown",
      "id": "7bdc9c14-b5ff-4db9-a36b-d4a94dace9a4",
      "metadata": {},
      "outputs": [],
      "source": [
        "you will need to download the dataset; if you are running locally, please comment out the following\n"
      ]
    },
    {
      "cell_type": "code",
      "id": "4b98f431-fb89-4ff6-bd65-d3c4aacd72ec",
      "metadata": {},
      "outputs": [],
      "source": [
        "#you will need to download the dataset; if you are running locally, please comment out the following \nawait skillsnetwork.download_dataset('https://cf-courses-data.s3.us.cloud-object-storage.appdomain.cloud/IBMDeveloperSkillsNetwork-DA0101EN-SkillsNetwork/labs/Data%20files/automobileEDA.csv')\n"
      ]
    },
    {
      "cell_type": "markdown",
      "id": "594381bd-30ad-44b4-8ecc-a3b8f89a1fb7",
      "metadata": {},
      "outputs": [],
      "source": [
        "Load the data and store it in dataframe `df`:\n"
      ]
    },
    {
      "cell_type": "code",
      "id": "49344843-f959-46b4-8a20-5c5490deb2f7",
      "metadata": {},
      "outputs": [],
      "source": [
        "df = pd.read_csv(\"automobileEDA.csv\", header=0)"
      ]
    },
    {
      "cell_type": "markdown",
      "id": "0015c0f4-d71d-457b-9beb-5e3196d9971a",
      "metadata": {},
      "outputs": [],
      "source": [
        "<h2>1. Linear Regression and Multiple Linear Regression</h2>\n"
      ]
    },
    {
      "cell_type": "markdown",
      "id": "0a29d7bd-178b-4f83-a6a2-019242c2070e",
      "metadata": {},
      "outputs": [],
      "source": [
        "<h4>Linear Regression</h4>\n"
      ]
    },
    {
      "cell_type": "markdown",
      "id": "86e87fd5-57e8-4bfd-b417-1f98abfaf842",
      "metadata": {},
      "outputs": [],
      "source": [
        "<p>One example of a Data  Model that we will be using is:</p>\n",
        "<b>Simple Linear Regression</b>\n",
        "\n",
        "<br>\n",
        "<p>Simple Linear Regression is a method to help us understand the relationship between two variables:</p>\n",
        "<ul>\n",
        "    <li>The predictor/independent variable (X)</li>\n",
        "    <li>The response/dependent variable (that we want to predict)(Y)</li>\n",
        "</ul>\n",
        "\n",
        "<p>The result of Linear Regression is a <b>linear function</b> that predicts the response (dependent) variable as a function of the predictor (independent) variable.</p>\n"
      ]
    },
    {
      "cell_type": "markdown",
      "id": "b138be78-3658-4754-bf76-1bcdd8f6890d",
      "metadata": {},
      "outputs": [],
      "source": [
        "$$\n",
        "Y: Response \\ Variable\\\\\\\\\\\\\\\\\\\\\n",
        "X: Predictor \\ Variables\n",
        "$$\n"
      ]
    },
    {
      "cell_type": "markdown",
      "id": "963bb909-c5be-44d2-b299-ea6cf0b103b9",
      "metadata": {},
      "outputs": [],
      "source": [
        "<b>Linear Function</b>\n",
        "$$\n",
        "Yhat = a + b  X\n",
        "$$\n"
      ]
    },
    {
      "cell_type": "markdown",
      "id": "bbf57e88-fb95-4fba-a6a3-655caa516444",
      "metadata": {},
      "outputs": [],
      "source": [
        "<ul>\n",
        "    <li>a refers to the <b>intercept</b> of the regression line, in other words: the value of Y when X is 0</li>\n",
        "    <li>b refers to the <b>slope</b> of the regression line, in other words: the value with which Y changes when X increases by 1 unit</li>\n",
        "</ul>\n"
      ]
    },
    {
      "cell_type": "markdown",
      "id": "c49e12ca-dd40-4e8b-81f9-c3fe0dbeeb61",
      "metadata": {},
      "outputs": [],
      "source": [
        "<h4>Let's load the modules for linear regression:</h4>\n"
      ]
    },
    {
      "cell_type": "code",
      "id": "da1930a4-1aa6-4067-a75c-7019811ada08",
      "metadata": {},
      "outputs": [],
      "source": [
        "from sklearn.linear_model import LinearRegression"
      ]
    },
    {
      "cell_type": "markdown",
      "id": "a4c42f8e-1e74-43a0-b742-6c00a35063ee",
      "metadata": {},
      "outputs": [],
      "source": [
        "<h4>Create the linear regression object:</h4>\n"
      ]
    },
    {
      "cell_type": "code",
      "id": "6c176f57-7e4c-452d-9256-66e0bca672c2",
      "metadata": {},
      "outputs": [],
      "source": [
        "lm = LinearRegression()\nlm"
      ]
    },
    {
      "cell_type": "markdown",
      "id": "f82870bd-f76c-4f8f-94ee-105ea5d299a1",
      "metadata": {},
      "outputs": [],
      "source": [
        "<h4>How could \"highway-mpg\" help us predict car price?</h4>\n"
      ]
    },
    {
      "cell_type": "markdown",
      "id": "2d92b87e-010f-4cb3-9091-991fba51903b",
      "metadata": {},
      "outputs": [],
      "source": [
        "For this example, we want to look at how highway-mpg can help us predict car price.\n",
        "Using simple linear regression, we will create a linear function with \"highway-mpg\" as the predictor variable and the \"price\" as the response variable.\n"
      ]
    },
    {
      "cell_type": "code",
      "id": "56d6a658-e8f7-47cd-92e4-c89fe0ee2d71",
      "metadata": {},
      "outputs": [],
      "source": [
        "X = df[['highway-mpg']]\nY = df['price']"
      ]
    },
    {
      "cell_type": "markdown",
      "id": "a66d74ab-1651-471e-8e08-7cfb29bbf09c",
      "metadata": {},
      "outputs": [],
      "source": [
        "Fit the linear model using highway-mpg:\n"
      ]
    },
    {
      "cell_type": "code",
      "id": "72a9a3cb-0dc9-4861-8fb5-db58fb5727b2",
      "metadata": {},
      "outputs": [],
      "source": [
        "lm.fit(X,Y)"
      ]
    },
    {
      "cell_type": "markdown",
      "id": "96bcdd1b-a81e-4b0d-83e1-9cf0602eee88",
      "metadata": {},
      "outputs": [],
      "source": [
        "We can output a prediction:\n"
      ]
    },
    {
      "cell_type": "code",
      "id": "658b8998-697e-4c19-863d-153aa81ffe34",
      "metadata": {},
      "outputs": [],
      "source": [
        "Yhat=lm.predict(X)\nYhat[0:5]   "
      ]
    },
    {
      "cell_type": "markdown",
      "id": "e7401bcd-adcc-433a-bc5b-27989f4e1cb4",
      "metadata": {},
      "outputs": [],
      "source": [
        "<h4>What is the value of the intercept (a)?</h4>\n"
      ]
    },
    {
      "cell_type": "code",
      "id": "a5d69a2a-fc34-416f-b65e-5cbb7a4c552f",
      "metadata": {},
      "outputs": [],
      "source": [
        "lm.intercept_"
      ]
    },
    {
      "cell_type": "markdown",
      "id": "76a75b8f-5e4e-4e34-a076-81363d451e97",
      "metadata": {},
      "outputs": [],
      "source": [
        "<h4>What is the value of the slope (b)?</h4>\n"
      ]
    },
    {
      "cell_type": "code",
      "id": "f746957e-3298-4219-b659-5314cd91153e",
      "metadata": {},
      "outputs": [],
      "source": [
        "lm.coef_"
      ]
    },
    {
      "cell_type": "markdown",
      "id": "3e8b56e5-fd61-421b-b565-2ce154c1d742",
      "metadata": {},
      "outputs": [],
      "source": [
        "<h3>What is the final estimated linear model we get?</h3>\n"
      ]
    },
    {
      "cell_type": "markdown",
      "id": "1030a517-7af8-40c6-b9ba-13d39ea244d6",
      "metadata": {},
      "outputs": [],
      "source": [
        "As we saw above, we should get a final linear model with the structure:\n"
      ]
    },
    {
      "cell_type": "markdown",
      "id": "e33b4067-8232-4ddb-bada-d299dce522dd",
      "metadata": {},
      "outputs": [],
      "source": [
        "$$\n",
        "Yhat = a + b  X\n",
        "$$\n"
      ]
    },
    {
      "cell_type": "markdown",
      "id": "478e8ddd-7994-4498-8187-7fa6709c711d",
      "metadata": {},
      "outputs": [],
      "source": [
        "Plugging in the actual values we get:\n"
      ]
    },
    {
      "cell_type": "markdown",
      "id": "e4b2df42-a677-4c3e-9553-3ec729209006",
      "metadata": {},
      "outputs": [],
      "source": [
        "<b>Price</b> = 38423.31 - 821.73 x <b>highway-mpg</b>\n"
      ]
    },
    {
      "cell_type": "markdown",
      "id": "e0ee4816-d243-4284-83a0-35b0ec31b2bf",
      "metadata": {},
      "outputs": [],
      "source": [
        "<div class=\"alert alert-danger alertdanger\" style=\"margin-top: 20px\">\n",
        "<h1>Question #1 a): </h1>\n",
        "\n",
        "<b>Create a linear regression object called \"lm1\".</b>\n",
        "\n",
        "</div>\n"
      ]
    },
    {
      "cell_type": "code",
      "id": "f9a5afe2-a0c9-4836-b73a-7e4f8c536295",
      "metadata": {},
      "outputs": [],
      "source": [
        "# Write your code below and press Shift+Enter to execute \nlm1 = LinearRegression()\nlm1"
      ]
    },
    {
      "cell_type": "markdown",
      "id": "b2d59e71-af6b-484b-afea-ede5fd08a598",
      "metadata": {},
      "outputs": [],
      "source": [
        "<details><summary>Click here for the solution</summary>\n",
        "\n",
        "```python\n",
        "lm1 = LinearRegression()\n",
        "lm1\n",
        "```\n",
        "\n",
        "</details>\n"
      ]
    },
    {
      "cell_type": "markdown",
      "id": "6d599cf4-b9ee-404b-a1bf-78277b4ce8ac",
      "metadata": {},
      "outputs": [],
      "source": [
        "<div class=\"alert alert-danger alertdanger\" style=\"margin-top: 20px\">\n",
        "<h1> Question #1 b): </h1>\n",
        "\n",
        "<b>Train the model using \"engine-size\" as the independent variable and \"price\" as the dependent variable?</b>\n",
        "\n",
        "</div>\n"
      ]
    },
    {
      "cell_type": "code",
      "id": "9a0e420a-679f-4bc3-aaa8-834ec9664934",
      "metadata": {},
      "outputs": [],
      "source": [
        "# Write your code below and press Shift+Enter to execute \nlm1.fit(df[['engine-size']], df[['price']])\nlm1"
      ]
    },
    {
      "cell_type": "markdown",
      "id": "c58e847a-34b3-4fc1-a2e7-1fc422f7d636",
      "metadata": {},
      "outputs": [],
      "source": [
        "<details><summary>Click here for the solution</summary>\n",
        "\n",
        "```python\n",
        "lm1.fit(df[['engine-size']], df[['price']])\n",
        "lm1\n",
        "```\n",
        "\n",
        "</details>\n"
      ]
    },
    {
      "cell_type": "markdown",
      "id": "b9b9a40d-1179-4bb6-82fc-c59a6eb9c376",
      "metadata": {},
      "outputs": [],
      "source": [
        "<div class=\"alert alert-danger alertdanger\" style=\"margin-top: 20px\">\n",
        "<h1>Question #1 c):</h1>\n",
        "\n",
        "<b>Find the slope and intercept of the model.</b>\n",
        "\n",
        "</div>\n"
      ]
    },
    {
      "cell_type": "markdown",
      "id": "3c63c97c-4f1e-456e-8afb-ac88936e27b0",
      "metadata": {},
      "outputs": [],
      "source": [
        "<h4>Slope</h4>\n"
      ]
    },
    {
      "cell_type": "code",
      "id": "d1fc0814-ead2-4cfd-a5d5-efa4cad214c6",
      "metadata": {},
      "outputs": [],
      "source": [
        "# Write your code below and press Shift+Enter to execute \nlm1.coef_"
      ]
    },
    {
      "cell_type": "markdown",
      "id": "97e4e77f-3275-4c9c-b1f1-a6515265cd77",
      "metadata": {},
      "outputs": [],
      "source": [
        "<details><summary>Click here for the solution</summary>\n",
        "    \n",
        "```python\n",
        "# Slope \n",
        "lm1.coef_\n",
        "```\n",
        "</details>\n"
      ]
    },
    {
      "cell_type": "markdown",
      "id": "b15af4e7-0f77-41ef-b7ae-3a49bf90128d",
      "metadata": {},
      "outputs": [],
      "source": [
        "<h4>Intercept</h4>\n"
      ]
    },
    {
      "cell_type": "code",
      "id": "e8ccb846-67d6-4b28-936d-299ca9ca5671",
      "metadata": {},
      "outputs": [],
      "source": [
        "# Write your code below and press Shift+Enter to execute \nlm1.intercept_"
      ]
    },
    {
      "cell_type": "markdown",
      "id": "20ded49c-cc45-4906-9fd6-da002abc9939",
      "metadata": {},
      "outputs": [],
      "source": [
        "\n",
        "<details><summary>Click here for the solution</summary>\n",
        "\n",
        "```python\n",
        "# Intercept\n",
        "lm1.intercept_\n",
        "```\n",
        "\n",
        "</details>\n"
      ]
    },
    {
      "cell_type": "markdown",
      "id": "19983e5a-93aa-4bc7-ad13-0f499323035a",
      "metadata": {},
      "outputs": [],
      "source": [
        "<div class=\"alert alert-danger alertdanger\" style=\"margin-top: 20px\">\n",
        "<h1>Question #1 d): </h1>\n",
        "\n",
        "<b>What is the equation of the predicted line? You can use x and yhat or \"engine-size\" or \"price\".</b>\n",
        "\n",
        "</div>\n"
      ]
    },
    {
      "cell_type": "code",
      "id": "494fbd80-4be8-4a04-8437-d4e61e84ed60",
      "metadata": {},
      "outputs": [],
      "source": [
        "# Write your code below and press Shift+Enter to execute \n# using X and Y  \n#if engine is not defined it will print error (NameError: name 'engine' is not defined).\nYhat=-7963.34 + 166.86*X\n\nPrice=-7963.34 + 166.86*df['engine-size']"
      ]
    },
    {
      "cell_type": "code",
      "id": "db243a30-7696-4de7-bd4d-a163550889d3",
      "metadata": {},
      "outputs": [],
      "source": [
        "Price"
      ]
    },
    {
      "cell_type": "markdown",
      "id": "0bd5606a-f9bd-4a83-8313-f0e3bfc5bff8",
      "metadata": {},
      "outputs": [],
      "source": [
        "<details><summary>Click here for the solution</summary>\n",
        "\n",
        "```python\n",
        "# using X and Y  \n",
        "Yhat=-7963.34 + 166.86*X\n",
        "\n",
        "Price=-7963.34 + 166.86*df['engine-size']\n",
        "\n",
        "```\n",
        "\n",
        "</details>\n"
      ]
    },
    {
      "cell_type": "markdown",
      "id": "0be17daf-5719-4942-92f1-1243623aafb2",
      "metadata": {},
      "outputs": [],
      "source": [
        "<h4>Multiple Linear Regression</h4>\n"
      ]
    },
    {
      "cell_type": "markdown",
      "id": "a9943c05-aeeb-4a5b-81ef-2b626cc32d2c",
      "metadata": {},
      "outputs": [],
      "source": [
        "<p>What if we want to predict car price using more than one variable?</p>\n",
        "\n",
        "<p>If we want to use more variables in our model to predict car price, we can use <b>Multiple Linear Regression</b>.\n",
        "Multiple Linear Regression is very similar to Simple Linear Regression, but this method is used to explain the relationship between one continuous response (dependent) variable and <b>two or more</b> predictor (independent) variables.\n",
        "Most of the real-world regression models involve multiple predictors. We will illustrate the structure by using four predictor variables, but these results can generalize to any integer:</p>\n"
      ]
    },
    {
      "cell_type": "markdown",
      "id": "deb8626f-cc23-44bc-bcca-a65210315e6f",
      "metadata": {},
      "outputs": [],
      "source": [
        "$$\n",
        "Y: Response \\ Variable\\\\\\\\\\\\\\\\\\\\\n",
        "X\\_1 :Predictor\\ Variable \\ 1\\\\\\\\\n",
        "X\\_2: Predictor\\ Variable \\ 2\\\\\\\\\n",
        "X\\_3: Predictor\\ Variable \\ 3\\\\\\\\\n",
        "X\\_4: Predictor\\ Variable \\ 4\\\\\\\\\n",
        "$$\n"
      ]
    },
    {
      "cell_type": "markdown",
      "id": "2d7ac3a2-3719-4119-9c28-593fc979d3c4",
      "metadata": {},
      "outputs": [],
      "source": [
        "$$\n",
        "a: intercept\\\\\\\\\\\\\\\\\\\\\n",
        "b\\_1 :coefficients \\ of\\ Variable \\ 1\\\\\\\\\n",
        "b\\_2: coefficients \\ of\\ Variable \\ 2\\\\\\\\\n",
        "b\\_3: coefficients \\ of\\ Variable \\ 3\\\\\\\\\n",
        "b\\_4: coefficients \\ of\\ Variable \\ 4\\\\\\\\\n",
        "$$\n"
      ]
    },
    {
      "cell_type": "markdown",
      "id": "dbce0e1b-6359-417f-b1d8-6aefcee6ded3",
      "metadata": {},
      "outputs": [],
      "source": [
        "The equation is given by:\n"
      ]
    },
    {
      "cell_type": "markdown",
      "id": "11d33471-1672-4c08-a6e2-e80b4468ba19",
      "metadata": {},
      "outputs": [],
      "source": [
        "$$\n",
        "Yhat = a + b\\_1 X\\_1 + b\\_2 X\\_2 + b\\_3 X\\_3 + b\\_4 X\\_4\n",
        "$$\n"
      ]
    },
    {
      "cell_type": "markdown",
      "id": "ad80e567-68a8-44b1-a2a6-61c3c997c957",
      "metadata": {},
      "outputs": [],
      "source": [
        "<p>From the previous section  we know that other good predictors of price could be:</p>\n",
        "<ul>\n",
        "    <li>Horsepower</li>\n",
        "    <li>Curb-weight</li>\n",
        "    <li>Engine-size</li>\n",
        "    <li>Highway-mpg</li>\n",
        "</ul>\n",
        "Let's develop a model using these variables as the predictor variables.\n"
      ]
    },
    {
      "cell_type": "code",
      "id": "8210e288-3b0c-49e6-a400-5c88e0cb3267",
      "metadata": {},
      "outputs": [],
      "source": [
        "Z = df[['horsepower', 'curb-weight', 'engine-size', 'highway-mpg']]"
      ]
    },
    {
      "cell_type": "markdown",
      "id": "70a8119b-c4fc-4134-9bf2-0b5cab73cff9",
      "metadata": {},
      "outputs": [],
      "source": [
        "Fit the linear model using the four above-mentioned variables.\n"
      ]
    },
    {
      "cell_type": "code",
      "id": "3a6441e9-a37b-4e2d-8f10-f24886989754",
      "metadata": {},
      "outputs": [],
      "source": [
        "lm.fit(Z, df['price'])"
      ]
    },
    {
      "cell_type": "markdown",
      "id": "4a93c013-70a8-4c1b-9692-ef34e2a7f9bd",
      "metadata": {},
      "outputs": [],
      "source": [
        "What is the value of the intercept(a)?\n"
      ]
    },
    {
      "cell_type": "code",
      "id": "515b9bb4-f60f-46dd-bc0d-872f15f43188",
      "metadata": {},
      "outputs": [],
      "source": [
        "lm.intercept_"
      ]
    },
    {
      "cell_type": "markdown",
      "id": "5ab87a06-f159-47c9-8d38-991411c041d8",
      "metadata": {},
      "outputs": [],
      "source": [
        "What are the values of the coefficients (b1, b2, b3, b4)?\n"
      ]
    },
    {
      "cell_type": "code",
      "id": "ed11c670-2a55-4517-b90c-b1fdb915d888",
      "metadata": {},
      "outputs": [],
      "source": [
        "lm.coef_"
      ]
    },
    {
      "cell_type": "markdown",
      "id": "b40310a8-4448-4a06-bcef-18b59a835777",
      "metadata": {},
      "outputs": [],
      "source": [
        "What is the final estimated linear model that we get?\n"
      ]
    },
    {
      "cell_type": "markdown",
      "id": "3ecbc59a-7ffc-405f-846d-1af31ab8952e",
      "metadata": {},
      "outputs": [],
      "source": [
        "As we saw above, we should get a final linear function with the structure:\n",
        "\n",
        "$$\n",
        "Yhat = a + b\\_1 X\\_1 + b\\_2 X\\_2 + b\\_3 X\\_3 + b\\_4 X\\_4\n",
        "$$\n",
        "\n",
        "What is the linear function we get in this example?\n"
      ]
    },
    {
      "cell_type": "markdown",
      "id": "19b5a385-8ba3-4db8-8db6-ec87de0c0e97",
      "metadata": {},
      "outputs": [],
      "source": [
        "<b>Price</b> = -15678.742628061467 + 52.65851272 x <b>horsepower</b> + 4.69878948 x <b>curb-weight</b> + 81.95906216 x <b>engine-size</b> + 33.58258185 x <b>highway-mpg</b>\n"
      ]
    },
    {
      "cell_type": "markdown",
      "id": "d4c31760-5e57-498b-9509-178a8cb6c6c5",
      "metadata": {},
      "outputs": [],
      "source": [
        "<div class=\"alert alert-danger alertdanger\" style=\"margin-top: 20px\">\n",
        "<h1> Question  #2 a): </h1>\n",
        "Create and train a Multiple Linear Regression model \"lm2\" where the response variable is \"price\", and the predictor variable is \"normalized-losses\" and  \"highway-mpg\".\n",
        "</div>\n"
      ]
    },
    {
      "cell_type": "code",
      "id": "f67a406b-2e49-4511-8e91-533d1644d1de",
      "metadata": {},
      "outputs": [],
      "source": [
        "# Write your code below and press Shift+Enter to execute \nlm2 = LinearRegression()\nlm2.fit(df[['normalized-losses' , 'highway-mpg']],df['price'])"
      ]
    },
    {
      "cell_type": "markdown",
      "id": "f880c2c9-e755-463e-8a37-2c7d2034f02d",
      "metadata": {},
      "outputs": [],
      "source": [
        "<details><summary>Click here for the solution</summary>\n",
        "\n",
        "```python\n",
        "lm2 = LinearRegression()\n",
        "lm2.fit(df[['normalized-losses' , 'highway-mpg']],df['price'])\n",
        "\n",
        "\n",
        "```\n",
        "\n",
        "</details>\n"
      ]
    },
    {
      "cell_type": "markdown",
      "id": "bf0738b9-08c9-4e7e-aa83-7c2d9fa9663b",
      "metadata": {},
      "outputs": [],
      "source": [
        "<div class=\"alert alert-danger alertdanger\" style=\"margin-top: 20px\">\n",
        "<h1>Question  #2 b): </h1>\n",
        "<b>Find the coefficient of the model.</b>\n",
        "</div>\n"
      ]
    },
    {
      "cell_type": "code",
      "id": "b58c5b2c-c49b-4891-a82e-0dbdddae60d7",
      "metadata": {},
      "outputs": [],
      "source": [
        "# Write your code below and press Shift+Enter to execute \nlm2.coef_"
      ]
    },
    {
      "cell_type": "markdown",
      "id": "cfe94a6c-0894-484f-9410-741369807db9",
      "metadata": {},
      "outputs": [],
      "source": [
        "<details><summary>Click here for the solution</summary>\n",
        "\n",
        "```python\n",
        "lm2.coef_\n",
        "\n",
        "```\n",
        "\n",
        "</details>\n"
      ]
    },
    {
      "cell_type": "markdown",
      "id": "8b041166-1c9b-45e3-87cf-f93d7984fd07",
      "metadata": {},
      "outputs": [],
      "source": [
        "<h2>2. Model Evaluation Using Visualization</h2>\n"
      ]
    },
    {
      "cell_type": "markdown",
      "id": "cd604b04-b3a3-4a7e-b4a8-ea145c710867",
      "metadata": {},
      "outputs": [],
      "source": [
        "Now that we've developed some models, how do we evaluate our models and choose the best one? One way to do this is by using a visualization.\n"
      ]
    },
    {
      "cell_type": "markdown",
      "id": "f8b55edb-ef96-44f6-ad16-c026020315b2",
      "metadata": {},
      "outputs": [],
      "source": [
        "Import the visualization package, seaborn:\n"
      ]
    },
    {
      "cell_type": "code",
      "id": "8ebdc651-ae07-4e7b-a4eb-83c590c9aa26",
      "metadata": {},
      "outputs": [],
      "source": [
        "# import the visualization package: seaborn\nimport seaborn as sns\n%matplotlib inline "
      ]
    },
    {
      "cell_type": "markdown",
      "id": "5f0d19b8-bc68-4a22-b872-59d7d9b78d43",
      "metadata": {},
      "outputs": [],
      "source": [
        "<h3>Regression Plot</h3>\n"
      ]
    },
    {
      "cell_type": "markdown",
      "id": "82ae9d8d-c9e9-4a2c-9cf1-64054be19e7f",
      "metadata": {},
      "outputs": [],
      "source": [
        "<p>When it comes to simple linear regression, an excellent way to visualize the fit of our model is by using <b>regression plots</b>.</p>\n",
        "\n",
        "<p>This plot will show a combination of a scattered data points (a <b>scatterplot</b>), as well as the fitted <b>linear regression</b> line going through the data. This will give us a reasonable estimate of the relationship between the two variables, the strength of the correlation, as well as the direction (positive or negative correlation).</p>\n"
      ]
    },
    {
      "cell_type": "markdown",
      "id": "045ec0c4-abcd-4768-94b3-354f894eb5ae",
      "metadata": {},
      "outputs": [],
      "source": [
        "Let's visualize **highway-mpg** as potential predictor variable of price:\n"
      ]
    },
    {
      "cell_type": "code",
      "id": "fb48c028-8428-45f9-96f7-1d68fb7e0896",
      "metadata": {},
      "outputs": [],
      "source": [
        "width = 12\nheight = 10\nplt.figure(figsize=(width, height))\nsns.regplot(x=\"highway-mpg\", y=\"price\", data=df)\nplt.ylim(0,)"
      ]
    },
    {
      "cell_type": "markdown",
      "id": "f508a722-0ffc-485f-b06e-8ac5b6f826d6",
      "metadata": {},
      "outputs": [],
      "source": [
        "<p>We can see from this plot that price is negatively correlated to highway-mpg since the regression slope is negative.\n",
        "\n",
        "One thing to keep in mind when looking at a regression plot is to pay attention to how scattered the data points are around the regression line. This will give you a good indication of the variance of the data and whether a linear model would be the best fit or not. If the data is too far off from the line, this linear model might not be the best model for this data.\n",
        "\n",
        "Let's compare this plot to the regression plot of \"peak-rpm\".</p>\n"
      ]
    },
    {
      "cell_type": "code",
      "id": "1126c1bd-ed5c-48a5-9da9-70fb76ee396a",
      "metadata": {},
      "outputs": [],
      "source": [
        "plt.figure(figsize=(width, height))\nsns.regplot(x=\"peak-rpm\", y=\"price\", data=df)\nplt.ylim(0,)"
      ]
    },
    {
      "cell_type": "markdown",
      "id": "cea7a5ac-7240-4844-b950-7916d55e454b",
      "metadata": {},
      "outputs": [],
      "source": [
        "<p>Comparing the regression plot of \"peak-rpm\" and \"highway-mpg\", we see that the points for \"highway-mpg\" are much closer to the generated line and, on average, decrease. The points for \"peak-rpm\" have more spread around the predicted line and it is much harder to determine if the points are decreasing or increasing as the \"peak-rpm\" increases.</p>\n"
      ]
    },
    {
      "cell_type": "markdown",
      "id": "95446007-6730-4b98-aaf2-a49f66f46fb4",
      "metadata": {},
      "outputs": [],
      "source": [
        "<div class=\"alert alert-danger alertdanger\" style=\"margin-top: 20px\">\n",
        "<h1>Question #3:</h1>\n",
        "<b>Given the regression plots above, is \"peak-rpm\" or \"highway-mpg\" more strongly correlated with \"price\"? Use the method  \".corr()\" to verify your answer.</b>\n",
        "</div>\n"
      ]
    },
    {
      "cell_type": "code",
      "id": "d996e75d-08a5-49af-bcf8-0a1c0650250b",
      "metadata": {},
      "outputs": [],
      "source": [
        "# Write your code below and press Shift+Enter to execute \n# The variable \"highway-mpg\" has a stronger correlation with \"price\", it is approximate -0.704692  compared to \"peak-rpm\" which is approximate -0.101616. You can verify it using the following command:\n\ndf[[\"peak-rpm\",\"highway-mpg\",\"price\"]].corr()"
      ]
    },
    {
      "cell_type": "markdown",
      "id": "4ef8d349-85b7-4e6f-837b-815ae1a09781",
      "metadata": {},
      "outputs": [],
      "source": [
        "<details><summary>Click here for the solution</summary>\n",
        "\n",
        "```python\n",
        "# The variable \"highway-mpg\" has a stronger correlation with \"price\", it is approximate -0.704692  compared to \"peak-rpm\" which is approximate -0.101616. You can verify it using the following command:\n",
        "\n",
        "df[[\"peak-rpm\",\"highway-mpg\",\"price\"]].corr()\n",
        "\n",
        "```\n",
        "\n",
        "</details>\n"
      ]
    },
    {
      "cell_type": "markdown",
      "id": "27271042-dc2b-403b-be73-d123f75483f8",
      "metadata": {},
      "outputs": [],
      "source": [
        "<h3>Residual Plot</h3>\n",
        "\n",
        "<p>A good way to visualize the variance of the data is to use a residual plot.</p>\n",
        "\n",
        "<p>What is a <b>residual</b>?</p>\n",
        "\n",
        "<p>The difference between the observed value (y) and the predicted value (Yhat) is called the residual (e). When we look at a regression plot, the residual is the distance from the data point to the fitted regression line.</p>\n",
        "\n",
        "<p>So what is a <b>residual plot</b>?</p>\n",
        "\n",
        "<p>A residual plot is a graph that shows the residuals on the vertical y-axis and the independent variable on the horizontal x-axis.</p>\n",
        "\n",
        "<p>What do we pay attention to when looking at a residual plot?</p>\n",
        "\n",
        "<p>We look at the spread of the residuals:</p>\n",
        "\n",
        "<p>- If the points in a residual plot are <b>randomly spread out around the x-axis</b>, then a <b>linear model is appropriate</b> for the data.\n",
        "\n",
        "Why is that? Randomly spread out residuals means that the variance is constant, and thus the linear model is a good fit for this data.</p>\n"
      ]
    },
    {
      "cell_type": "code",
      "id": "f9745a1c-d724-4ef0-816e-7beb8d42fc0e",
      "metadata": {},
      "outputs": [],
      "source": [
        "width = 12\nheight = 10\nplt.figure(figsize=(width, height))\nsns.residplot(x=df['highway-mpg'],y=df['price'])\nplt.show()"
      ]
    },
    {
      "cell_type": "markdown",
      "id": "c02a50c7-4548-4bc4-a242-3ad52c955d38",
      "metadata": {},
      "outputs": [],
      "source": [
        "<i>What is this plot telling us?</i>\n",
        "\n",
        "<p>We can see from this residual plot that the residuals are not randomly spread around the x-axis, leading us to believe that maybe a non-linear model is more appropriate for this data.</p>\n"
      ]
    },
    {
      "cell_type": "markdown",
      "id": "b94b5197-be6d-41a5-b3f0-bcabe02efdc3",
      "metadata": {},
      "outputs": [],
      "source": [
        "<h3>Multiple Linear Regression</h3>\n"
      ]
    },
    {
      "cell_type": "markdown",
      "id": "977f1322-223a-4307-98ed-80d61671f10a",
      "metadata": {},
      "outputs": [],
      "source": [
        "<p>How do we visualize a model for Multiple Linear Regression? This gets a bit more complicated because you can't visualize it with regression or residual plot.</p>\n",
        "\n",
        "<p>One way to look at the fit of the model is by looking at the <b>distribution plot</b>. We can look at the distribution of the fitted values that result from the model and compare it to the distribution of the actual values.</p>\n"
      ]
    },
    {
      "cell_type": "markdown",
      "id": "bf5b1b50-259b-4341-84fe-486032af1ec5",
      "metadata": {},
      "outputs": [],
      "source": [
        "First, let's make a prediction:\n"
      ]
    },
    {
      "cell_type": "code",
      "id": "4539f882-fc01-4f06-935a-f0fbb9cebb76",
      "metadata": {},
      "outputs": [],
      "source": [
        "Y_hat = lm.predict(Z)\n"
      ]
    },
    {
      "cell_type": "code",
      "id": "bb65d52c-fdd4-44c0-8a7b-2c7e41f5d320",
      "metadata": {},
      "outputs": [],
      "source": [
        "plt.figure(figsize=(width, height))\n\n\nax1 = sns.distplot(df['price'], hist=False, color=\"r\", label=\"Actual Value\")\nsns.distplot(Y_hat, hist=False, color=\"b\", label=\"Fitted Values\" , ax=ax1)\n\n\nplt.title('Actual vs Fitted Values for Price')\nplt.xlabel('Price (in dollars)')\nplt.ylabel('Proportion of Cars')\n\nplt.show()\nplt.close()"
      ]
    },
    {
      "cell_type": "markdown",
      "id": "5cacf79f-c6c4-415e-8028-94e8098f5b26",
      "metadata": {},
      "outputs": [],
      "source": [
        "<p>We can see that the fitted values are reasonably close to the actual values since the two distributions overlap a bit. However, there is definitely some room for improvement.</p>\n"
      ]
    },
    {
      "cell_type": "markdown",
      "id": "9a6981c4-d729-4b9d-9cdb-eae4f239a718",
      "metadata": {},
      "outputs": [],
      "source": [
        "<h2>3. Polynomial Regression and Pipelines</h2>\n"
      ]
    },
    {
      "cell_type": "markdown",
      "id": "1e4d50d1-2208-4e54-8608-643bf7d8ff38",
      "metadata": {},
      "outputs": [],
      "source": [
        "<p><b>Polynomial regression</b> is a particular case of the general linear regression model or multiple linear regression models.</p> \n",
        "<p>We get non-linear relationships by squaring or setting higher-order terms of the predictor variables.</p>\n",
        "\n",
        "<p>There are different orders of polynomial regression:</p>\n"
      ]
    },
    {
      "cell_type": "markdown",
      "id": "c3ff942a-b772-435f-bbf6-34059b68daa5",
      "metadata": {},
      "outputs": [],
      "source": [
        "<center><b>Quadratic - 2nd Order</b></center>\n",
        "$$\n",
        "Yhat = a + b_1 X +b_2 X^2 \n",
        "$$\n",
        "\n",
        "<center><b>Cubic - 3rd Order</b></center>\n",
        "$$\n",
        "Yhat = a + b_1 X +b_2 X^2 +b_3 X^3\\\\\\\\\\\\\\\\\\\\\n",
        "$$\n",
        "\n",
        "<center><b>Higher-Order</b>:</center>\n",
        "$$\n",
        "Y = a + b_1 X +b_2 X^2 +b_3 X^3 ....\\\\\\\\\n",
        "$$\n"
      ]
    },
    {
      "cell_type": "markdown",
      "id": "06edbcf7-b46c-41a2-ac20-7c74770bfb4a",
      "metadata": {},
      "outputs": [],
      "source": [
        "<p>We saw earlier that a linear model did not provide the best fit while using \"highway-mpg\" as the predictor variable. Let's see if we can try fitting a polynomial model to the data instead.</p>\n"
      ]
    },
    {
      "cell_type": "markdown",
      "id": "82b33765-1c8f-4dd3-90b8-15a51c512dfd",
      "metadata": {},
      "outputs": [],
      "source": [
        "<p>We will use the following function to plot the data:</p>\n"
      ]
    },
    {
      "cell_type": "code",
      "id": "66157416-2040-4443-ace3-76e1220c3ce2",
      "metadata": {},
      "outputs": [],
      "source": [
        "def PlotPolly(model, independent_variable, dependent_variabble, Name):\n    x_new = np.linspace(15, 55, 100)\n    y_new = model(x_new)\n\n    plt.plot(independent_variable, dependent_variabble, '.', x_new, y_new, '-')\n    plt.title('Polynomial Fit with Matplotlib for Price ~ Length')\n    ax = plt.gca()\n    ax.set_facecolor((0.898, 0.898, 0.898))\n    fig = plt.gcf()\n    plt.xlabel(Name)\n    plt.ylabel('Price of Cars')\n\n    plt.show()\n    plt.close()"
      ]
    },
    {
      "cell_type": "markdown",
      "id": "fe2348ef-cd49-4069-a913-8450f6abec91",
      "metadata": {},
      "outputs": [],
      "source": [
        "Let's get the variables:\n"
      ]
    },
    {
      "cell_type": "code",
      "id": "8b46031d-a57f-4954-b205-5b1206a69b37",
      "metadata": {},
      "outputs": [],
      "source": [
        "x = df['highway-mpg']\ny = df['price']"
      ]
    },
    {
      "cell_type": "markdown",
      "id": "9c351833-604c-4aaa-9b7a-55d6e8d47319",
      "metadata": {},
      "outputs": [],
      "source": [
        "Let's fit the polynomial using the function <b>polyfit</b>, then use the function <b>poly1d</b> to display the polynomial function.\n"
      ]
    },
    {
      "cell_type": "code",
      "id": "3d3f7b26-74ba-4bde-a421-98a591c4a634",
      "metadata": {},
      "outputs": [],
      "source": [
        "# Here we use a polynomial of the 3rd order (cubic) \nf = np.polyfit(x, y, 3)\np = np.poly1d(f)\nprint(p)"
      ]
    },
    {
      "cell_type": "markdown",
      "id": "a431c891-dd1b-43e0-bba4-27a14349fc7a",
      "metadata": {},
      "outputs": [],
      "source": [
        "Let's plot the function:\n"
      ]
    },
    {
      "cell_type": "code",
      "id": "3286729d-0bca-4874-a0ed-8fbb92c532e9",
      "metadata": {},
      "outputs": [],
      "source": [
        "PlotPolly(p, x, y, 'highway-mpg')"
      ]
    },
    {
      "cell_type": "code",
      "id": "919dedc1-e472-4344-b500-04d06739b370",
      "metadata": {},
      "outputs": [],
      "source": [
        "np.polyfit(x, y, 3)"
      ]
    },
    {
      "cell_type": "markdown",
      "id": "08be2b16-f5ab-4fb0-bfce-821c852e0e56",
      "metadata": {},
      "outputs": [],
      "source": [
        "<p>We can already see from plotting that this polynomial model performs better than the linear model. This is because the generated polynomial function  \"hits\" more of the data points.</p>\n"
      ]
    },
    {
      "cell_type": "markdown",
      "id": "6dc6c52f-fd81-4f5d-b061-30ddd34a8527",
      "metadata": {},
      "outputs": [],
      "source": [
        "<div class=\"alert alert-danger alertdanger\" style=\"margin-top: 20px\">\n",
        "<h1>Question  #4:</h1>\n",
        "<b>Create 11 order polynomial model with the variables x and y from above.</b>\n",
        "</div>\n"
      ]
    },
    {
      "cell_type": "code",
      "id": "141be727-6da3-403c-ad8b-4d3e101f07a2",
      "metadata": {},
      "outputs": [],
      "source": [
        "# Write your code below and press Shift+Enter to execute \n"
      ]
    },
    {
      "cell_type": "markdown",
      "id": "5dc179ac-6cbf-4521-afff-9af47429d0c8",
      "metadata": {},
      "outputs": [],
      "source": [
        "<details><summary>Click here for the solution</summary>\n",
        "\n",
        "```python\n",
        "# Here we use a polynomial of the 11rd order (cubic) \n",
        "f1 = np.polyfit(x, y, 11)\n",
        "p1 = np.poly1d(f1)\n",
        "print(p1)\n",
        "PlotPolly(p1,x,y, 'Highway MPG')\n",
        "\n",
        "```\n",
        "\n",
        "</details>\n"
      ]
    },
    {
      "cell_type": "markdown",
      "id": "3ecbea41-7330-443f-9cfa-24cd4620bcb6",
      "metadata": {},
      "outputs": [],
      "source": [
        "<p>The analytical expression for Multivariate Polynomial function gets complicated. For example, the expression for a second-order (degree=2) polynomial with two variables is given by:</p>\n"
      ]
    },
    {
      "cell_type": "markdown",
      "id": "3f07340d-82fc-4e63-aeba-d6d05c465064",
      "metadata": {},
      "outputs": [],
      "source": [
        "$$\n",
        "Yhat = a + b\\_1 X\\_1 +b\\_2 X\\_2 +b\\_3 X\\_1 X\\_2+b\\_4 X\\_1^2+b\\_5 X\\_2^2\n",
        "$$\n"
      ]
    },
    {
      "cell_type": "markdown",
      "id": "3d3d62e2-9c97-4b56-bde3-72f1f7e5db38",
      "metadata": {},
      "outputs": [],
      "source": [
        "We can perform a polynomial transform on multiple features. First, we import the module:\n"
      ]
    },
    {
      "cell_type": "code",
      "id": "90c82071-47ef-492e-a7c4-d812e0e14ba6",
      "metadata": {},
      "outputs": [],
      "source": [
        "from sklearn.preprocessing import PolynomialFeatures"
      ]
    },
    {
      "cell_type": "markdown",
      "id": "4c454786-674f-4838-8623-170821206e8f",
      "metadata": {},
      "outputs": [],
      "source": [
        "We create a <b>PolynomialFeatures</b> object of degree 2:\n"
      ]
    },
    {
      "cell_type": "code",
      "id": "14ecd686-9129-41dc-94c8-720b80d92926",
      "metadata": {},
      "outputs": [],
      "source": [
        "pr=PolynomialFeatures(degree=2)\npr"
      ]
    },
    {
      "cell_type": "code",
      "id": "98335ae4-59f9-40db-9fff-b7a90efbfb4d",
      "metadata": {},
      "outputs": [],
      "source": [
        "Z_pr=pr.fit_transform(Z)"
      ]
    },
    {
      "cell_type": "markdown",
      "id": "fb03c96e-f5b3-4d81-a510-331bd17d04b7",
      "metadata": {},
      "outputs": [],
      "source": [
        "In the original data, there are 201 samples and 4 features.\n"
      ]
    },
    {
      "cell_type": "code",
      "id": "67daa71b-7bb9-4d50-ae41-120502984370",
      "metadata": {},
      "outputs": [],
      "source": [
        "Z.shape"
      ]
    },
    {
      "cell_type": "markdown",
      "id": "1cefcda0-9fdd-4a1e-916c-60ae36e42ead",
      "metadata": {},
      "outputs": [],
      "source": [
        "After the transformation, there are 201 samples and 15 features.\n"
      ]
    },
    {
      "cell_type": "code",
      "id": "22ec7e22-3e99-449b-b906-2512335b22a7",
      "metadata": {},
      "outputs": [],
      "source": [
        "Z_pr.shape"
      ]
    },
    {
      "cell_type": "markdown",
      "id": "d00b373c-aa2b-4f12-a365-89fbebdc2271",
      "metadata": {},
      "outputs": [],
      "source": [
        "<h2>Pipeline</h2>\n"
      ]
    },
    {
      "cell_type": "markdown",
      "id": "4dd4087a-06b7-4c51-9033-d34bf3537deb",
      "metadata": {},
      "outputs": [],
      "source": [
        "<p>Data Pipelines simplify the steps of processing the data. We use the module <b>Pipeline</b> to create a pipeline. We also use <b>StandardScaler</b> as a step in our pipeline.</p>\n"
      ]
    },
    {
      "cell_type": "code",
      "id": "8cd81478-c4cd-4ef8-abde-f1b13fc6712a",
      "metadata": {},
      "outputs": [],
      "source": [
        "from sklearn.pipeline import Pipeline\nfrom sklearn.preprocessing import StandardScaler"
      ]
    },
    {
      "cell_type": "markdown",
      "id": "e28eebb2-6980-4b76-9dc6-f85b46108e09",
      "metadata": {},
      "outputs": [],
      "source": [
        "We create the pipeline by creating a list of tuples including the name of the model or estimator and its corresponding constructor.\n"
      ]
    },
    {
      "cell_type": "code",
      "id": "bae17a91-9bc5-49db-aecb-280bbadf2457",
      "metadata": {},
      "outputs": [],
      "source": [
        "Input=[('scale',StandardScaler()), ('polynomial', PolynomialFeatures(include_bias=False)), ('model',LinearRegression())]"
      ]
    },
    {
      "cell_type": "markdown",
      "id": "66c6e9cf-a747-4cda-8139-10da8451a410",
      "metadata": {},
      "outputs": [],
      "source": [
        "We input the list as an argument to the pipeline constructor:\n"
      ]
    },
    {
      "cell_type": "code",
      "id": "81986654-4ead-4a9d-a0fd-2dffa377dd9e",
      "metadata": {},
      "outputs": [],
      "source": [
        "pipe=Pipeline(Input)\npipe"
      ]
    },
    {
      "cell_type": "markdown",
      "id": "4279762d-6a19-4d0d-b195-71343fba19cf",
      "metadata": {},
      "outputs": [],
      "source": [
        "First, we convert the data type Z to type float to avoid conversion warnings that may appear as a result of StandardScaler taking float inputs.\n",
        "\n",
        "Then, we can normalize the data,  perform a transform and fit the model simultaneously.\n"
      ]
    },
    {
      "cell_type": "code",
      "id": "b256dd44-56c8-4c2b-af5a-4dee39fc1253",
      "metadata": {},
      "outputs": [],
      "source": [
        "Z = Z.astype(float)\npipe.fit(Z,y)"
      ]
    },
    {
      "cell_type": "markdown",
      "id": "de9eb8fe-ac5c-4383-8b17-95395de4ec74",
      "metadata": {},
      "outputs": [],
      "source": [
        "Similarly,  we can normalize the data, perform a transform and produce a prediction  simultaneously.\n"
      ]
    },
    {
      "cell_type": "code",
      "id": "9a668ac3-ae60-4c99-95d1-12491e6cae66",
      "metadata": {},
      "outputs": [],
      "source": [
        "ypipe=pipe.predict(Z)\nypipe[0:4]"
      ]
    },
    {
      "cell_type": "markdown",
      "id": "7f1ca5c3-bc62-48cc-ac77-d86e34e1928d",
      "metadata": {},
      "outputs": [],
      "source": [
        "<div class=\"alert alert-danger alertdanger\" style=\"margin-top: 20px\">\n",
        "<h1>Question #5:</h1>\n",
        "<b>Create a pipeline that standardizes the data, then produce a prediction using a linear regression model using the features Z and target y.</b>\n",
        "</div>\n"
      ]
    },
    {
      "cell_type": "code",
      "id": "165191cf-3cda-40be-a070-15d886a80948",
      "metadata": {},
      "outputs": [],
      "source": [
        "# Write your code below and press Shift+Enter to execute \n"
      ]
    },
    {
      "cell_type": "markdown",
      "id": "6adee4e8-ded1-4d94-bac2-8a24ed7c1761",
      "metadata": {},
      "outputs": [],
      "source": [
        "<details><summary>Click here for the solution</summary>\n",
        "\n",
        "```python\n",
        "Input=[('scale',StandardScaler()),('model',LinearRegression())]\n",
        "\n",
        "pipe=Pipeline(Input)\n",
        "\n",
        "pipe.fit(Z,y)\n",
        "\n",
        "ypipe=pipe.predict(Z)\n",
        "ypipe[0:10]\n",
        "\n",
        "```\n",
        "\n",
        "</details>\n"
      ]
    },
    {
      "cell_type": "markdown",
      "id": "974e02b5-88b3-41ea-8854-283ee9654d95",
      "metadata": {},
      "outputs": [],
      "source": [
        "<h2>4. Measures for In-Sample Evaluation</h2>\n"
      ]
    },
    {
      "cell_type": "markdown",
      "id": "5e10a8cf-4c82-4dd8-92ea-df476f842d93",
      "metadata": {},
      "outputs": [],
      "source": [
        "<p>When evaluating our models, not only do we want to visualize the results, but we also want a quantitative measure to determine how accurate the model is.</p>\n",
        "\n",
        "<p>Two very important measures that are often used in Statistics to determine the accuracy of a model are:</p>\n",
        "<ul>\n",
        "    <li><b>R^2 / R-squared</b></li>\n",
        "    <li><b>Mean Squared Error (MSE)</b></li>\n",
        "</ul>\n",
        "\n",
        "<b>R-squared</b>\n",
        "\n",
        "<p>R squared, also known as the coefficient of determination, is a measure to indicate how close the data is to the fitted regression line.</p>\n",
        "\n",
        "<p>The value of the R-squared is the percentage of variation of the response variable (y) that is explained by a linear model.</p>\n",
        "\n",
        "<b>Mean Squared Error (MSE)</b>\n",
        "\n",
        "<p>The Mean Squared Error measures the average of the squares of errors. That is, the difference between actual value (y) and the estimated value (ŷ).</p>\n"
      ]
    },
    {
      "cell_type": "markdown",
      "id": "8e08f599-c609-4e6f-81db-0da1e5e575e3",
      "metadata": {},
      "outputs": [],
      "source": [
        "<h3>Model 1: Simple Linear Regression</h3>\n"
      ]
    },
    {
      "cell_type": "markdown",
      "id": "7f476784-b696-4974-8043-2898c21c3c42",
      "metadata": {},
      "outputs": [],
      "source": [
        "Let's calculate the R^2:\n"
      ]
    },
    {
      "cell_type": "code",
      "id": "ebf2e445-492c-4a35-ad28-e3e1540623de",
      "metadata": {},
      "outputs": [],
      "source": [
        "#highway_mpg_fit\nlm.fit(X, Y)\n# Find the R^2\nprint('The R-square is: ', lm.score(X, Y))"
      ]
    },
    {
      "cell_type": "markdown",
      "id": "b6b480d4-2889-4a13-bdd2-38fa6efc5565",
      "metadata": {},
      "outputs": [],
      "source": [
        "We can say that \\~49.659% of the variation of the price is explained by this simple linear model \"horsepower_fit\".\n"
      ]
    },
    {
      "cell_type": "markdown",
      "id": "cd223897-1fea-449a-b594-752c9be49e0e",
      "metadata": {},
      "outputs": [],
      "source": [
        "Let's calculate the MSE:\n"
      ]
    },
    {
      "cell_type": "markdown",
      "id": "61157785-1f73-4cff-a89a-30c6ccb73d1f",
      "metadata": {},
      "outputs": [],
      "source": [
        "We can predict the output i.e., \"yhat\" using the predict method, where X is the input variable:\n"
      ]
    },
    {
      "cell_type": "code",
      "id": "dbe0057b-c4c4-4355-b2b4-cab14d369e87",
      "metadata": {},
      "outputs": [],
      "source": [
        "Yhat=lm.predict(X)\nprint('The output of the first four predicted value is: ', Yhat[0:4])"
      ]
    },
    {
      "cell_type": "markdown",
      "id": "1a9fdf1d-76fc-48c4-a542-35a7b90ad7df",
      "metadata": {},
      "outputs": [],
      "source": [
        "Let's import the function <b>mean_squared_error</b> from the module <b>metrics</b>:\n"
      ]
    },
    {
      "cell_type": "code",
      "id": "38767eb8-8698-4be5-a7e6-836dc9659ff2",
      "metadata": {},
      "outputs": [],
      "source": [
        "from sklearn.metrics import mean_squared_error"
      ]
    },
    {
      "cell_type": "markdown",
      "id": "fd7c9fe4-f52e-43df-bd24-3b7db3663a78",
      "metadata": {},
      "outputs": [],
      "source": [
        "We can compare the predicted results with the actual results:\n"
      ]
    },
    {
      "cell_type": "code",
      "id": "7a751cef-e4ac-4fec-8fe3-fd06ebf8deed",
      "metadata": {},
      "outputs": [],
      "source": [
        "mse = mean_squared_error(df['price'], Yhat)\nprint('The mean square error of price and predicted value is: ', mse)"
      ]
    },
    {
      "cell_type": "markdown",
      "id": "5c08da7b-a11b-456b-b3d1-d53ccc8fc68d",
      "metadata": {},
      "outputs": [],
      "source": [
        "<h3>Model 2: Multiple Linear Regression</h3>\n"
      ]
    },
    {
      "cell_type": "markdown",
      "id": "7f6fbabe-1405-4900-a01b-cc2e388945e5",
      "metadata": {},
      "outputs": [],
      "source": [
        "Let's calculate the R^2:\n"
      ]
    },
    {
      "cell_type": "code",
      "id": "de48df44-0cb0-4c65-a971-a45b7a1c88c7",
      "metadata": {},
      "outputs": [],
      "source": [
        "# fit the model \nlm.fit(Z, df['price'])\n# Find the R^2\nprint('The R-square is: ', lm.score(Z, df['price']))"
      ]
    },
    {
      "cell_type": "markdown",
      "id": "d1c3a61a-4ab1-40ad-a487-57e76be00d4e",
      "metadata": {},
      "outputs": [],
      "source": [
        "We can say that \\~80.896 % of the variation of price is explained by this multiple linear regression \"multi_fit\".\n"
      ]
    },
    {
      "cell_type": "markdown",
      "id": "f3c33205-ccab-469b-bcb0-3de4e5a36c03",
      "metadata": {},
      "outputs": [],
      "source": [
        "Let's calculate the MSE.\n"
      ]
    },
    {
      "cell_type": "markdown",
      "id": "644be765-5fc2-46d5-9a38-e55a33509644",
      "metadata": {},
      "outputs": [],
      "source": [
        "We produce a prediction:\n"
      ]
    },
    {
      "cell_type": "code",
      "id": "25629f47-5639-4b82-8552-e56684fb1086",
      "metadata": {},
      "outputs": [],
      "source": [
        "Y_predict_multifit = lm.predict(Z)"
      ]
    },
    {
      "cell_type": "markdown",
      "id": "c86e929c-f85a-41ec-b9db-247e0ae952bb",
      "metadata": {},
      "outputs": [],
      "source": [
        "We compare the predicted results with the actual results:\n"
      ]
    },
    {
      "cell_type": "code",
      "id": "b5bbd98a-6627-4c6d-aedc-3c6e40dd4823",
      "metadata": {},
      "outputs": [],
      "source": [
        "print('The mean square error of price and predicted value using multifit is: ', \\\n      mean_squared_error(df['price'], Y_predict_multifit))"
      ]
    },
    {
      "cell_type": "markdown",
      "id": "be4f8b14-d496-4ba1-9e6a-47d14a1ea3f9",
      "metadata": {},
      "outputs": [],
      "source": [
        "<h3>Model 3: Polynomial Fit</h3>\n"
      ]
    },
    {
      "cell_type": "markdown",
      "id": "f104eebe-6856-4b11-8c46-6d06cb563c4c",
      "metadata": {},
      "outputs": [],
      "source": [
        "Let's calculate the R^2.\n"
      ]
    },
    {
      "cell_type": "markdown",
      "id": "0ecb2d43-7687-48f0-b25a-c5189fd3e874",
      "metadata": {},
      "outputs": [],
      "source": [
        "Let’s import the function <b>r2\\_score</b> from the module <b>metrics</b> as we are using a different function.\n"
      ]
    },
    {
      "cell_type": "code",
      "id": "3e931662-e9f8-4b8e-a809-63e3bb0c9a4b",
      "metadata": {},
      "outputs": [],
      "source": [
        "from sklearn.metrics import r2_score"
      ]
    },
    {
      "cell_type": "markdown",
      "id": "7939e68c-a6d0-44ae-8baa-69aacfd2aa49",
      "metadata": {},
      "outputs": [],
      "source": [
        "We apply the function to get the value of R^2:\n"
      ]
    },
    {
      "cell_type": "code",
      "id": "0bfeddea-59ea-4452-a8bc-7efc9a1b2d3a",
      "metadata": {},
      "outputs": [],
      "source": [
        "r_squared = r2_score(y, p(x))\nprint('The R-square value is: ', r_squared)"
      ]
    },
    {
      "cell_type": "markdown",
      "id": "13265d62-3c26-400b-923b-58ce40ec0d80",
      "metadata": {},
      "outputs": [],
      "source": [
        "We can say that \\~67.419 % of the variation of price is explained by this polynomial fit.\n"
      ]
    },
    {
      "cell_type": "markdown",
      "id": "9884b72a-6d6c-4f6b-8a33-8bea9e7f7521",
      "metadata": {},
      "outputs": [],
      "source": [
        "<h3>MSE</h3>\n"
      ]
    },
    {
      "cell_type": "markdown",
      "id": "075162bf-7d4b-4136-b87e-1df41155bea1",
      "metadata": {},
      "outputs": [],
      "source": [
        "We can also calculate the MSE:\n"
      ]
    },
    {
      "cell_type": "code",
      "id": "45dc290c-14cc-4149-830c-3780d1de367c",
      "metadata": {},
      "outputs": [],
      "source": [
        "mean_squared_error(df['price'], p(x))"
      ]
    },
    {
      "cell_type": "markdown",
      "id": "67c9378f-2a6a-496f-9394-6768541d1a10",
      "metadata": {},
      "outputs": [],
      "source": [
        "<h2>5. Prediction and Decision Making</h2>\n",
        "<h3>Prediction</h3>\n",
        "\n",
        "<p>In the previous section, we trained the model using the method <b>fit</b>. Now we will use the method <b>predict</b> to produce a prediction. Lets import <b>pyplot</b> for plotting; we will also be using some functions from numpy.</p>\n"
      ]
    },
    {
      "cell_type": "code",
      "id": "de1324f5-5f02-4fb0-a6f6-409afd542146",
      "metadata": {},
      "outputs": [],
      "source": [
        "import matplotlib.pyplot as plt\nimport numpy as np\n\n%matplotlib inline "
      ]
    },
    {
      "cell_type": "markdown",
      "id": "9e363711-778d-4c5f-8e7a-3229648e4e68",
      "metadata": {},
      "outputs": [],
      "source": [
        "Create a new input:\n"
      ]
    },
    {
      "cell_type": "code",
      "id": "2347ddbe-af4f-487c-b11e-8c253167c45d",
      "metadata": {},
      "outputs": [],
      "source": [
        "new_input=np.arange(1, 100, 1).reshape(-1, 1)"
      ]
    },
    {
      "cell_type": "markdown",
      "id": "a2d82ce8-02b3-4aec-9d9e-a56b848baeb3",
      "metadata": {},
      "outputs": [],
      "source": [
        "Fit the model:\n"
      ]
    },
    {
      "cell_type": "code",
      "id": "aed549e0-d845-487d-9d1d-143fc1dd5ee5",
      "metadata": {},
      "outputs": [],
      "source": [
        "lm.fit(X, Y)\nlm"
      ]
    },
    {
      "cell_type": "markdown",
      "id": "5e030ba1-563e-40ea-8b09-eba76b3b153f",
      "metadata": {},
      "outputs": [],
      "source": [
        "Produce a prediction:\n"
      ]
    },
    {
      "cell_type": "code",
      "id": "c1ab339c-d90e-4626-ae9c-a56438797de5",
      "metadata": {},
      "outputs": [],
      "source": [
        "yhat=lm.predict(new_input)\nyhat[0:5]"
      ]
    },
    {
      "cell_type": "markdown",
      "id": "550edcc0-a415-4f55-a34a-fd8b9697632a",
      "metadata": {},
      "outputs": [],
      "source": [
        "We can plot the data:\n"
      ]
    },
    {
      "cell_type": "code",
      "id": "c289e327-330d-47ab-b79e-cc21b83fdc23",
      "metadata": {},
      "outputs": [],
      "source": [
        "plt.plot(new_input, yhat)\nplt.show()"
      ]
    },
    {
      "cell_type": "markdown",
      "id": "9e52578c-99e2-4a31-a0b1-bb0b16a86749",
      "metadata": {},
      "outputs": [],
      "source": [
        "<h3>Decision Making: Determining a Good Model Fit</h3>\n"
      ]
    },
    {
      "cell_type": "markdown",
      "id": "e2fe7f34-70fc-4b6e-abd3-e1e96f10dee8",
      "metadata": {},
      "outputs": [],
      "source": [
        "<p>Now that we have visualized the different models, and generated the R-squared and MSE values for the fits, how do we determine a good model fit?\n",
        "<ul>\n",
        "    <li><i>What is a good R-squared value?</i></li>\n",
        "</ul>\n",
        "</p>\n",
        "\n",
        "<p>When comparing models, <b>the model with the higher R-squared value is a better fit</b> for the data.\n",
        "<ul>\n",
        "    <li><i>What is a good MSE?</i></li>\n",
        "</ul>\n",
        "</p>\n",
        "\n",
        "<p>When comparing models, <b>the model with the smallest MSE value is a better fit</b> for the data.</p>\n",
        "\n",
        "<h4>Let's take a look at the values for the different models.</h4>\n",
        "<p>Simple Linear Regression: Using Highway-mpg as a Predictor Variable of Price.\n",
        "<ul>\n",
        "    <li>R-squared: 0.49659118843391759</li>\n",
        "    <li>MSE: 3.16 x10^7</li>\n",
        "</ul>\n",
        "</p>\n",
        "\n",
        "<p>Multiple Linear Regression: Using Horsepower, Curb-weight, Engine-size, and Highway-mpg as Predictor Variables of Price.\n",
        "<ul>\n",
        "    <li>R-squared: 0.80896354913783497</li>\n",
        "    <li>MSE: 1.2 x10^7</li>\n",
        "</ul>\n",
        "</p>\n",
        "\n",
        "<p>Polynomial Fit: Using Highway-mpg as a Predictor Variable of Price.\n",
        "<ul>\n",
        "    <li>R-squared: 0.6741946663906514</li>\n",
        "    <li>MSE: 2.05 x 10^7</li>\n",
        "</ul>\n",
        "</p>\n"
      ]
    },
    {
      "cell_type": "markdown",
      "id": "ed682dc9-982f-42c5-9d23-2259a6908003",
      "metadata": {},
      "outputs": [],
      "source": [
        "<h3>Simple Linear Regression Model (SLR) vs Multiple Linear Regression Model (MLR)</h3>\n"
      ]
    },
    {
      "cell_type": "markdown",
      "id": "988b20e9-abf2-4387-9c81-094ea897adc6",
      "metadata": {},
      "outputs": [],
      "source": [
        "<p>Usually, the more variables you have, the better your model is at predicting, but this is not always true. Sometimes you may not have enough data, you may run into numerical problems, or many of the variables may not be useful and even act as noise. As a result, you should always check the MSE and R^2.</p>\n",
        "\n",
        "<p>In order to compare the results of the MLR vs SLR models, we look at a combination of both the R-squared and MSE to make the best conclusion about the fit of the model.\n",
        "<ul>\n",
        "    <li><b>MSE</b>: The MSE of SLR is  3.16x10^7  while MLR has an MSE of 1.2 x10^7.  The MSE of MLR is much smaller.</li>\n",
        "    <li><b>R-squared</b>: In this case, we can also see that there is a big difference between the R-squared of the SLR and the R-squared of the MLR. The R-squared for the SLR (~0.497) is very small compared to the R-squared for the MLR (~0.809).</li>\n",
        "</ul>\n",
        "</p>\n",
        "\n",
        "This R-squared in combination with the MSE show that MLR seems like the better model fit in this case compared to SLR.\n"
      ]
    },
    {
      "cell_type": "markdown",
      "id": "75e1b695-d104-4806-b54f-2e76ca77d1ea",
      "metadata": {},
      "outputs": [],
      "source": [
        "<h3>Simple Linear Model (SLR) vs. Polynomial Fit</h3>\n"
      ]
    },
    {
      "cell_type": "markdown",
      "id": "ae8f3a04-a0d5-48e1-8909-ceda1202e58d",
      "metadata": {},
      "outputs": [],
      "source": [
        "<ul>\n",
        "    <li><b>MSE</b>: We can see that Polynomial Fit brought down the MSE, since this MSE is smaller than the one from the SLR.</li> \n",
        "    <li><b>R-squared</b>: The R-squared for the Polynomial Fit is larger than the R-squared for the SLR, so the Polynomial Fit also brought up the R-squared quite a bit.</li>\n",
        "</ul>\n",
        "<p>Since the Polynomial Fit resulted in a lower MSE and a higher R-squared, we can conclude that this was a better fit model than the simple linear regression for predicting \"price\" with \"highway-mpg\" as a predictor variable.</p>\n"
      ]
    },
    {
      "cell_type": "markdown",
      "id": "1483ba02-53e2-458d-a145-3cf1b6e452c6",
      "metadata": {},
      "outputs": [],
      "source": [
        "<h3>Multiple Linear Regression (MLR) vs. Polynomial Fit</h3>\n"
      ]
    },
    {
      "cell_type": "markdown",
      "id": "0052cc0a-21a5-4345-8e9b-db316d97378a",
      "metadata": {},
      "outputs": [],
      "source": [
        "<ul>\n",
        "    <li><b>MSE</b>: The MSE for the MLR is smaller than the MSE for the Polynomial Fit.</li>\n",
        "    <li><b>R-squared</b>: The R-squared for the MLR is also much larger than for the Polynomial Fit.</li>\n",
        "</ul>\n"
      ]
    },
    {
      "cell_type": "markdown",
      "id": "ae151d79-db28-4181-ad38-a12407f0c83f",
      "metadata": {},
      "outputs": [],
      "source": [
        "<h2>Conclusion</h2>\n"
      ]
    },
    {
      "cell_type": "markdown",
      "id": "80fc3c81-1ec0-4dbc-94a2-3af8408b8025",
      "metadata": {},
      "outputs": [],
      "source": [
        "<p>Comparing these three models, we conclude that <b>the MLR model is the best model</b> to be able to predict price from our dataset. This result makes sense since we have 27 variables in total and we know that more than one of those variables are potential predictors of the final car price.</p>\n"
      ]
    },
    {
      "cell_type": "markdown",
      "id": "603fb73b-b6e5-4755-957c-3710be468a67",
      "metadata": {},
      "outputs": [],
      "source": [
        "### Thank you for completing this lab!\n",
        "\n",
        "## Author\n",
        "\n",
        "<a href=\"https://www.linkedin.com/in/joseph-s-50398b136/?utm_medium=Exinfluencer&utm_source=Exinfluencer&utm_content=000026UJ&utm_term=10006555&utm_id=NA-SkillsNetwork-Channel-SkillsNetworkCoursesIBMDeveloperSkillsNetworkDA0101ENSkillsNetwork20235326-2021-01-01\">Joseph Santarcangelo</a>\n",
        "\n",
        "### Other Contributors\n",
        "\n",
        "<a href=\"https://www.linkedin.com/in/mahdi-noorian-58219234/?utm_medium=Exinfluencer&utm_source=Exinfluencer&utm_content=000026UJ&utm_term=10006555&utm_id=NA-SkillsNetwork-Channel-SkillsNetworkCoursesIBMDeveloperSkillsNetworkDA0101ENSkillsNetwork20235326-2021-01-01\">Mahdi Noorian PhD</a>\n",
        "\n",
        "Bahare Talayian\n",
        "\n",
        "Eric Xiao\n",
        "\n",
        "Steven Dong\n",
        "\n",
        "Parizad\n",
        "\n",
        "Hima Vasudevan\n",
        "\n",
        "<a href=\"https://www.linkedin.com/in/fiorellawever/?utm_medium=Exinfluencer&utm_source=Exinfluencer&utm_content=000026UJ&utm_term=10006555&utm_id=NA-SkillsNetwork-Channel-SkillsNetworkCoursesIBMDeveloperSkillsNetworkDA0101ENSkillsNetwork20235326-2021-01-01\">Fiorella Wenver</a>\n",
        "\n",
        "<a href=\"https:// https://www.linkedin.com/in/yi-leng-yao-84451275/ \" target=\"_blank\" >Yi Yao</a>.\n",
        "\n",
        "## Change Log\n",
        "\n",
        "| Date (YYYY-MM-DD) | Version | Changed By | Change Description                            |\n",
        "| ----------------- | ------- | ---------- | --------------------------------------------- |\n",
        "| 2020-10-30        | 2.2     | Lakshmi    | Changed url of csv                            |\n",
        "| 2020-09-09        | 2.1     | Lakshmi    | Fixes made in Polynomial Regression Equations |\n",
        "| 2020-08-27        | 2.0     | Lavanya    | Moved lab to course repo in GitLab            |\n",
        "\n",
        "<hr>\n",
        "\n",
        "## <h3 align=\"center\"> © IBM Corporation 2020. All rights reserved. <h3/>\n"
      ]
    }
  ],
  "metadata": {
    "language_info": {
      "codemirror_mode": {
        "name": "python",
        "version": 3
      },
      "file_extension": ".py",
      "mimetype": "text/x-python",
      "name": "python",
      "nbconvert_exporter": "python",
      "pygments_lexer": "ipython3",
      "version": "3.8"
    },
    "kernelspec": {
      "name": "python",
      "display_name": "Pyolite",
      "language": "python"
    }
  },
  "nbformat": 4,
  "nbformat_minor": 4
}