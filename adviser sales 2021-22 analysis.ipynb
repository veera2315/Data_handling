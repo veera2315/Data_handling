{
 "cells": [
  {
   "cell_type": "code",
   "execution_count": 6,
   "id": "095269cd",
   "metadata": {},
   "outputs": [],
   "source": [
    "import numpy as np\n",
    "import pandas as pd\n",
    "import matplotlib.pyplot as plt\n",
    "import seaborn as sns"
   ]
  },
  {
   "cell_type": "code",
   "execution_count": 7,
   "id": "f445398d",
   "metadata": {},
   "outputs": [],
   "source": [
    "adv_2021= pd.read_excel(\"C:/Users/EFRNV/Downloads/Advisor analasis Norman_req_India/India Advisor Details 2021.xlsx\",'Sheet 1')\n",
    "adv_2022= pd.read_excel(\"C:/Users/EFRNV/Downloads/Advisor analasis Norman_req_India/India Advisor Details 2022.xlsx\")\n"
   ]
  },
  {
   "cell_type": "code",
   "execution_count": 8,
   "id": "3a0e68a6",
   "metadata": {},
   "outputs": [
    {
     "data": {
      "text/plain": [
       "Index(['index', 'Advisor name', 'Retailer Name', 'Retailer ID', 'Advisor ID',\n",
       "       'Month of Order Intent Created Date', 'Advisor Phone Number',\n",
       "       'Country Code ', 'Hierarchy Level 3', 'Hierarchy Level 2',\n",
       "       'Hierarchy Level 1', 'Advisor Type', 'Product category',\n",
       "       'Product Brand', 'Product Name', 'Unit', 'Total Order Intents',\n",
       "       'Distinct count of Cancelled Order Intents', 'Farmers with Intent',\n",
       "       'Farmers with multiple Intents', 'Farmers with Purchase',\n",
       "       'Distinct count of Farmers with multiple purchases',\n",
       "       'Farmer Conversion', 'Active Retailers', 'Volume Intent',\n",
       "       'Volume Cancelled', 'Volume Purchased', 'Returned Volume',\n",
       "       'Avg Volume Sold per Farmers', 'Total Intent Value',\n",
       "       'Cancelled Order Value', 'Sales Value', 'Avg Sales per Farmer',\n",
       "       'Actual Commission', 'Intended Commission'],\n",
       "      dtype='object')"
      ]
     },
     "execution_count": 8,
     "metadata": {},
     "output_type": "execute_result"
    }
   ],
   "source": [
    "adv_2022.columns"
   ]
  },
  {
   "cell_type": "code",
   "execution_count": 9,
   "id": "c6e8d336",
   "metadata": {},
   "outputs": [
    {
     "name": "stdout",
     "output_type": "stream",
     "text": [
      "Total sales revenue for 2021: 1402966161.97165\n",
      "Total sales revenue for 2022: 3362276288.8239317\n"
     ]
    }
   ],
   "source": [
    "# Total sales revenue for 2021\n",
    "total_sales_2021 = adv_2021['Sales Value'].sum()\n",
    "\n",
    "# Total sales revenue for 2022\n",
    "total_sales_2022 = adv_2022['Sales Value'].sum()\n",
    "\n",
    "print(f\"Total sales revenue for 2021: {total_sales_2021}\")\n",
    "print(f\"Total sales revenue for 2022: {total_sales_2022}\")"
   ]
  },
  {
   "cell_type": "code",
   "execution_count": 10,
   "id": "258fe1ac",
   "metadata": {},
   "outputs": [
    {
     "name": "stdout",
     "output_type": "stream",
     "text": [
      "Average sales revenue per location for 2021:\n",
      "Hierarchy Level 3\n",
      "Central    13347.367203\n",
      "East       29675.566429\n",
      "North      26395.401325\n",
      "South      19326.908685\n",
      "West       12712.844581\n",
      "Name: Sales Value, dtype: float64\n",
      "\n",
      "Average sales revenue per location for 2022:\n",
      "Hierarchy Level 3\n",
      "Central    14376.271015\n",
      "East       17673.578150\n",
      "North      26189.455044\n",
      "South      16996.718995\n",
      "West       11341.957071\n",
      "Name: Sales Value, dtype: float64\n"
     ]
    }
   ],
   "source": [
    "# Average sales revenue per location for 2021\n",
    "avg_sales_2021 = adv_2021.groupby('Hierarchy Level 3')['Sales Value'].mean()\n",
    "\n",
    "# Average sales revenue per location for 2022\n",
    "avg_sales_2022 = adv_2022.groupby('Hierarchy Level 3')['Sales Value'].mean()\n",
    "\n",
    "print(\"Average sales revenue per location for 2021:\")\n",
    "print(avg_sales_2021)\n",
    "print(\"\\nAverage sales revenue per location for 2022:\")\n",
    "print(avg_sales_2022)"
   ]
  },
  {
   "cell_type": "code",
   "execution_count": 11,
   "id": "b2d30f8c",
   "metadata": {},
   "outputs": [
    {
     "name": "stdout",
     "output_type": "stream",
     "text": [
      "Percentage change in sales revenue from 2021 to 2022: 139.65%\n"
     ]
    }
   ],
   "source": [
    "# Percentage change in sales revenue\n",
    "sales_change = (total_sales_2022 - total_sales_2021) / total_sales_2021 * 100\n",
    "\n",
    "print(f\"Percentage change in sales revenue from 2021 to 2022: {sales_change:.2f}%\")"
   ]
  },
  {
   "cell_type": "code",
   "execution_count": 12,
   "id": "beabe876",
   "metadata": {},
   "outputs": [
    {
     "ename": "MemoryError",
     "evalue": "Unable to allocate 17.6 GiB for an array with shape (2363942994,) and data type int64",
     "output_type": "error",
     "traceback": [
      "\u001b[1;31m---------------------------------------------------------------------------\u001b[0m",
      "\u001b[1;31mMemoryError\u001b[0m                               Traceback (most recent call last)",
      "Cell \u001b[1;32mIn[12], line 2\u001b[0m\n\u001b[0;32m      1\u001b[0m \u001b[39m# Merge the two data frames on Location\u001b[39;00m\n\u001b[1;32m----> 2\u001b[0m merged_sales \u001b[39m=\u001b[39m pd\u001b[39m.\u001b[39;49mmerge(adv_2021, adv_2022, on\u001b[39m=\u001b[39;49m\u001b[39m'\u001b[39;49m\u001b[39mHierarchy Level 3\u001b[39;49m\u001b[39m'\u001b[39;49m, suffixes\u001b[39m=\u001b[39;49m(\u001b[39m'\u001b[39;49m\u001b[39m_2021\u001b[39;49m\u001b[39m'\u001b[39;49m, \u001b[39m'\u001b[39;49m\u001b[39m_2022\u001b[39;49m\u001b[39m'\u001b[39;49m))\n",
      "File \u001b[1;32mc:\\Users\\EFRNV\\AppData\\Local\\Programs\\Python\\Python310\\lib\\site-packages\\pandas\\core\\reshape\\merge.py:158\u001b[0m, in \u001b[0;36mmerge\u001b[1;34m(left, right, how, on, left_on, right_on, left_index, right_index, sort, suffixes, copy, indicator, validate)\u001b[0m\n\u001b[0;32m    127\u001b[0m \u001b[39m@Substitution\u001b[39m(\u001b[39m\"\u001b[39m\u001b[39m\\n\u001b[39;00m\u001b[39mleft : DataFrame or named Series\u001b[39m\u001b[39m\"\u001b[39m)\n\u001b[0;32m    128\u001b[0m \u001b[39m@Appender\u001b[39m(_merge_doc, indents\u001b[39m=\u001b[39m\u001b[39m0\u001b[39m)\n\u001b[0;32m    129\u001b[0m \u001b[39mdef\u001b[39;00m \u001b[39mmerge\u001b[39m(\n\u001b[1;32m   (...)\u001b[0m\n\u001b[0;32m    142\u001b[0m     validate: \u001b[39mstr\u001b[39m \u001b[39m|\u001b[39m \u001b[39mNone\u001b[39;00m \u001b[39m=\u001b[39m \u001b[39mNone\u001b[39;00m,\n\u001b[0;32m    143\u001b[0m ) \u001b[39m-\u001b[39m\u001b[39m>\u001b[39m DataFrame:\n\u001b[0;32m    144\u001b[0m     op \u001b[39m=\u001b[39m _MergeOperation(\n\u001b[0;32m    145\u001b[0m         left,\n\u001b[0;32m    146\u001b[0m         right,\n\u001b[1;32m   (...)\u001b[0m\n\u001b[0;32m    156\u001b[0m         validate\u001b[39m=\u001b[39mvalidate,\n\u001b[0;32m    157\u001b[0m     )\n\u001b[1;32m--> 158\u001b[0m     \u001b[39mreturn\u001b[39;00m op\u001b[39m.\u001b[39;49mget_result(copy\u001b[39m=\u001b[39;49mcopy)\n",
      "File \u001b[1;32mc:\\Users\\EFRNV\\AppData\\Local\\Programs\\Python\\Python310\\lib\\site-packages\\pandas\\core\\reshape\\merge.py:805\u001b[0m, in \u001b[0;36m_MergeOperation.get_result\u001b[1;34m(self, copy)\u001b[0m\n\u001b[0;32m    802\u001b[0m \u001b[39mif\u001b[39;00m \u001b[39mself\u001b[39m\u001b[39m.\u001b[39mindicator:\n\u001b[0;32m    803\u001b[0m     \u001b[39mself\u001b[39m\u001b[39m.\u001b[39mleft, \u001b[39mself\u001b[39m\u001b[39m.\u001b[39mright \u001b[39m=\u001b[39m \u001b[39mself\u001b[39m\u001b[39m.\u001b[39m_indicator_pre_merge(\u001b[39mself\u001b[39m\u001b[39m.\u001b[39mleft, \u001b[39mself\u001b[39m\u001b[39m.\u001b[39mright)\n\u001b[1;32m--> 805\u001b[0m join_index, left_indexer, right_indexer \u001b[39m=\u001b[39m \u001b[39mself\u001b[39;49m\u001b[39m.\u001b[39;49m_get_join_info()\n\u001b[0;32m    807\u001b[0m result \u001b[39m=\u001b[39m \u001b[39mself\u001b[39m\u001b[39m.\u001b[39m_reindex_and_concat(\n\u001b[0;32m    808\u001b[0m     join_index, left_indexer, right_indexer, copy\u001b[39m=\u001b[39mcopy\n\u001b[0;32m    809\u001b[0m )\n\u001b[0;32m    810\u001b[0m result \u001b[39m=\u001b[39m result\u001b[39m.\u001b[39m__finalize__(\u001b[39mself\u001b[39m, method\u001b[39m=\u001b[39m\u001b[39mself\u001b[39m\u001b[39m.\u001b[39m_merge_type)\n",
      "File \u001b[1;32mc:\\Users\\EFRNV\\AppData\\Local\\Programs\\Python\\Python310\\lib\\site-packages\\pandas\\core\\reshape\\merge.py:1053\u001b[0m, in \u001b[0;36m_MergeOperation._get_join_info\u001b[1;34m(self)\u001b[0m\n\u001b[0;32m   1049\u001b[0m     join_index, right_indexer, left_indexer \u001b[39m=\u001b[39m _left_join_on_index(\n\u001b[0;32m   1050\u001b[0m         right_ax, left_ax, \u001b[39mself\u001b[39m\u001b[39m.\u001b[39mright_join_keys, sort\u001b[39m=\u001b[39m\u001b[39mself\u001b[39m\u001b[39m.\u001b[39msort\n\u001b[0;32m   1051\u001b[0m     )\n\u001b[0;32m   1052\u001b[0m \u001b[39melse\u001b[39;00m:\n\u001b[1;32m-> 1053\u001b[0m     (left_indexer, right_indexer) \u001b[39m=\u001b[39m \u001b[39mself\u001b[39;49m\u001b[39m.\u001b[39;49m_get_join_indexers()\n\u001b[0;32m   1055\u001b[0m     \u001b[39mif\u001b[39;00m \u001b[39mself\u001b[39m\u001b[39m.\u001b[39mright_index:\n\u001b[0;32m   1056\u001b[0m         \u001b[39mif\u001b[39;00m \u001b[39mlen\u001b[39m(\u001b[39mself\u001b[39m\u001b[39m.\u001b[39mleft) \u001b[39m>\u001b[39m \u001b[39m0\u001b[39m:\n",
      "File \u001b[1;32mc:\\Users\\EFRNV\\AppData\\Local\\Programs\\Python\\Python310\\lib\\site-packages\\pandas\\core\\reshape\\merge.py:1026\u001b[0m, in \u001b[0;36m_MergeOperation._get_join_indexers\u001b[1;34m(self)\u001b[0m\n\u001b[0;32m   1024\u001b[0m \u001b[39mdef\u001b[39;00m \u001b[39m_get_join_indexers\u001b[39m(\u001b[39mself\u001b[39m) \u001b[39m-\u001b[39m\u001b[39m>\u001b[39m \u001b[39mtuple\u001b[39m[npt\u001b[39m.\u001b[39mNDArray[np\u001b[39m.\u001b[39mintp], npt\u001b[39m.\u001b[39mNDArray[np\u001b[39m.\u001b[39mintp]]:\n\u001b[0;32m   1025\u001b[0m \u001b[39m    \u001b[39m\u001b[39m\"\"\"return the join indexers\"\"\"\u001b[39;00m\n\u001b[1;32m-> 1026\u001b[0m     \u001b[39mreturn\u001b[39;00m get_join_indexers(\n\u001b[0;32m   1027\u001b[0m         \u001b[39mself\u001b[39;49m\u001b[39m.\u001b[39;49mleft_join_keys, \u001b[39mself\u001b[39;49m\u001b[39m.\u001b[39;49mright_join_keys, sort\u001b[39m=\u001b[39;49m\u001b[39mself\u001b[39;49m\u001b[39m.\u001b[39;49msort, how\u001b[39m=\u001b[39;49m\u001b[39mself\u001b[39;49m\u001b[39m.\u001b[39;49mhow\n\u001b[0;32m   1028\u001b[0m     )\n",
      "File \u001b[1;32mc:\\Users\\EFRNV\\AppData\\Local\\Programs\\Python\\Python310\\lib\\site-packages\\pandas\\core\\reshape\\merge.py:1672\u001b[0m, in \u001b[0;36mget_join_indexers\u001b[1;34m(left_keys, right_keys, sort, how, **kwargs)\u001b[0m\n\u001b[0;32m   1662\u001b[0m join_func \u001b[39m=\u001b[39m {\n\u001b[0;32m   1663\u001b[0m     \u001b[39m\"\u001b[39m\u001b[39minner\u001b[39m\u001b[39m\"\u001b[39m: libjoin\u001b[39m.\u001b[39minner_join,\n\u001b[0;32m   1664\u001b[0m     \u001b[39m\"\u001b[39m\u001b[39mleft\u001b[39m\u001b[39m\"\u001b[39m: libjoin\u001b[39m.\u001b[39mleft_outer_join,\n\u001b[1;32m   (...)\u001b[0m\n\u001b[0;32m   1668\u001b[0m     \u001b[39m\"\u001b[39m\u001b[39mouter\u001b[39m\u001b[39m\"\u001b[39m: libjoin\u001b[39m.\u001b[39mfull_outer_join,\n\u001b[0;32m   1669\u001b[0m }[how]\n\u001b[0;32m   1671\u001b[0m \u001b[39m# error: Cannot call function of unknown type\u001b[39;00m\n\u001b[1;32m-> 1672\u001b[0m \u001b[39mreturn\u001b[39;00m join_func(lkey, rkey, count, \u001b[39m*\u001b[39m\u001b[39m*\u001b[39mkwargs)\n",
      "File \u001b[1;32mc:\\Users\\EFRNV\\AppData\\Local\\Programs\\Python\\Python310\\lib\\site-packages\\pandas\\_libs\\join.pyx:49\u001b[0m, in \u001b[0;36mpandas._libs.join.inner_join\u001b[1;34m()\u001b[0m\n",
      "\u001b[1;31mMemoryError\u001b[0m: Unable to allocate 17.6 GiB for an array with shape (2363942994,) and data type int64"
     ]
    }
   ],
   "source": [
    "# Merge the two data frames on Location\n",
    "merged_sales = pd.merge(adv_2021, adv_2022, on='Hierarchy Level 3', suffixes=('_2021', '_2022'))"
   ]
  },
  {
   "cell_type": "code",
   "execution_count": 8,
   "id": "d624b841",
   "metadata": {},
   "outputs": [
    {
     "ename": "NameError",
     "evalue": "name 'merged_sales' is not defined",
     "output_type": "error",
     "traceback": [
      "\u001b[1;31m---------------------------------------------------------------------------\u001b[0m",
      "\u001b[1;31mNameError\u001b[0m                                 Traceback (most recent call last)",
      "Cell \u001b[1;32mIn[8], line 8\u001b[0m\n\u001b[0;32m      5\u001b[0m sales_2022_by_level \u001b[39m=\u001b[39m adv_2022\u001b[39m.\u001b[39mgroupby([\u001b[39m'\u001b[39m\u001b[39mHierarchy Level 3\u001b[39m\u001b[39m'\u001b[39m, \u001b[39m'\u001b[39m\u001b[39mProduct category\u001b[39m\u001b[39m'\u001b[39m])[\u001b[39m'\u001b[39m\u001b[39mSales Value\u001b[39m\u001b[39m'\u001b[39m]\u001b[39m.\u001b[39msum()\u001b[39m.\u001b[39mreset_index()\n\u001b[0;32m      7\u001b[0m \u001b[39m# Total sales revenue for merged data by level and location\u001b[39;00m\n\u001b[1;32m----> 8\u001b[0m merged_sales_by_level \u001b[39m=\u001b[39m merged_sales\u001b[39m.\u001b[39mgroupby([\u001b[39m'\u001b[39m\u001b[39mHierarchy Level 3\u001b[39m\u001b[39m'\u001b[39m, \u001b[39m'\u001b[39m\u001b[39mProduct category\u001b[39m\u001b[39m'\u001b[39m])[[\u001b[39m'\u001b[39m\u001b[39mRevenue_2021\u001b[39m\u001b[39m'\u001b[39m, \u001b[39m'\u001b[39m\u001b[39mRevenue_2022\u001b[39m\u001b[39m'\u001b[39m]]\u001b[39m.\u001b[39msum()\u001b[39m.\u001b[39mreset_index()\n",
      "\u001b[1;31mNameError\u001b[0m: name 'merged_sales' is not defined"
     ]
    }
   ],
   "source": [
    "# Total sales revenue for 2021 by level and location\n",
    "sales_2021_by_level = adv_2021.groupby(['Hierarchy Level 3', 'Product category'])['Sales Value'].sum().reset_index()\n",
    "\n",
    "# Total sales revenue for 2022 by level and location\n",
    "sales_2022_by_level = adv_2022.groupby(['Hierarchy Level 3', 'Product category'])['Sales Value'].sum().reset_index()\n",
    "\n",
    "# Total sales revenue for merged data by level and location\n",
    "merged_sales_by_level = merged_sales.groupby(['Hierarchy Level 3', 'Product category'])[['Revenue_2021', 'Revenue_2022']].sum().reset_index()"
   ]
  },
  {
   "cell_type": "code",
   "execution_count": 9,
   "id": "9e9f12c4",
   "metadata": {},
   "outputs": [
    {
     "ename": "KeyError",
     "evalue": "'Level'",
     "output_type": "error",
     "traceback": [
      "\u001b[1;31m---------------------------------------------------------------------------\u001b[0m",
      "\u001b[1;31mKeyError\u001b[0m                                  Traceback (most recent call last)",
      "File \u001b[1;32mc:\\Users\\EFRNV\\AppData\\Local\\Programs\\Python\\Python310\\lib\\site-packages\\pandas\\core\\indexes\\base.py:3652\u001b[0m, in \u001b[0;36mIndex.get_loc\u001b[1;34m(self, key)\u001b[0m\n\u001b[0;32m   3651\u001b[0m \u001b[39mtry\u001b[39;00m:\n\u001b[1;32m-> 3652\u001b[0m     \u001b[39mreturn\u001b[39;00m \u001b[39mself\u001b[39;49m\u001b[39m.\u001b[39;49m_engine\u001b[39m.\u001b[39;49mget_loc(casted_key)\n\u001b[0;32m   3653\u001b[0m \u001b[39mexcept\u001b[39;00m \u001b[39mKeyError\u001b[39;00m \u001b[39mas\u001b[39;00m err:\n",
      "File \u001b[1;32mc:\\Users\\EFRNV\\AppData\\Local\\Programs\\Python\\Python310\\lib\\site-packages\\pandas\\_libs\\index.pyx:147\u001b[0m, in \u001b[0;36mpandas._libs.index.IndexEngine.get_loc\u001b[1;34m()\u001b[0m\n",
      "File \u001b[1;32mc:\\Users\\EFRNV\\AppData\\Local\\Programs\\Python\\Python310\\lib\\site-packages\\pandas\\_libs\\index.pyx:176\u001b[0m, in \u001b[0;36mpandas._libs.index.IndexEngine.get_loc\u001b[1;34m()\u001b[0m\n",
      "File \u001b[1;32mpandas\\_libs\\hashtable_class_helper.pxi:7080\u001b[0m, in \u001b[0;36mpandas._libs.hashtable.PyObjectHashTable.get_item\u001b[1;34m()\u001b[0m\n",
      "File \u001b[1;32mpandas\\_libs\\hashtable_class_helper.pxi:7088\u001b[0m, in \u001b[0;36mpandas._libs.hashtable.PyObjectHashTable.get_item\u001b[1;34m()\u001b[0m\n",
      "\u001b[1;31mKeyError\u001b[0m: 'Level'",
      "\nThe above exception was the direct cause of the following exception:\n",
      "\u001b[1;31mKeyError\u001b[0m                                  Traceback (most recent call last)",
      "Cell \u001b[1;32mIn[9], line 5\u001b[0m\n\u001b[0;32m      2\u001b[0m \u001b[39mimport\u001b[39;00m \u001b[39mnumpy\u001b[39;00m \u001b[39mas\u001b[39;00m \u001b[39mnp\u001b[39;00m\n\u001b[0;32m      4\u001b[0m \u001b[39m# Set the x-axis labels\u001b[39;00m\n\u001b[1;32m----> 5\u001b[0m x_labels \u001b[39m=\u001b[39m np\u001b[39m.\u001b[39munique(sales_2021_by_level[\u001b[39m'\u001b[39;49m\u001b[39mLevel\u001b[39;49m\u001b[39m'\u001b[39;49m])\n\u001b[0;32m      7\u001b[0m \u001b[39m# Set the bar width\u001b[39;00m\n\u001b[0;32m      8\u001b[0m bar_width \u001b[39m=\u001b[39m \u001b[39m0.35\u001b[39m\n",
      "File \u001b[1;32mc:\\Users\\EFRNV\\AppData\\Local\\Programs\\Python\\Python310\\lib\\site-packages\\pandas\\core\\frame.py:3761\u001b[0m, in \u001b[0;36mDataFrame.__getitem__\u001b[1;34m(self, key)\u001b[0m\n\u001b[0;32m   3759\u001b[0m \u001b[39mif\u001b[39;00m \u001b[39mself\u001b[39m\u001b[39m.\u001b[39mcolumns\u001b[39m.\u001b[39mnlevels \u001b[39m>\u001b[39m \u001b[39m1\u001b[39m:\n\u001b[0;32m   3760\u001b[0m     \u001b[39mreturn\u001b[39;00m \u001b[39mself\u001b[39m\u001b[39m.\u001b[39m_getitem_multilevel(key)\n\u001b[1;32m-> 3761\u001b[0m indexer \u001b[39m=\u001b[39m \u001b[39mself\u001b[39;49m\u001b[39m.\u001b[39;49mcolumns\u001b[39m.\u001b[39;49mget_loc(key)\n\u001b[0;32m   3762\u001b[0m \u001b[39mif\u001b[39;00m is_integer(indexer):\n\u001b[0;32m   3763\u001b[0m     indexer \u001b[39m=\u001b[39m [indexer]\n",
      "File \u001b[1;32mc:\\Users\\EFRNV\\AppData\\Local\\Programs\\Python\\Python310\\lib\\site-packages\\pandas\\core\\indexes\\base.py:3654\u001b[0m, in \u001b[0;36mIndex.get_loc\u001b[1;34m(self, key)\u001b[0m\n\u001b[0;32m   3652\u001b[0m     \u001b[39mreturn\u001b[39;00m \u001b[39mself\u001b[39m\u001b[39m.\u001b[39m_engine\u001b[39m.\u001b[39mget_loc(casted_key)\n\u001b[0;32m   3653\u001b[0m \u001b[39mexcept\u001b[39;00m \u001b[39mKeyError\u001b[39;00m \u001b[39mas\u001b[39;00m err:\n\u001b[1;32m-> 3654\u001b[0m     \u001b[39mraise\u001b[39;00m \u001b[39mKeyError\u001b[39;00m(key) \u001b[39mfrom\u001b[39;00m \u001b[39merr\u001b[39;00m\n\u001b[0;32m   3655\u001b[0m \u001b[39mexcept\u001b[39;00m \u001b[39mTypeError\u001b[39;00m:\n\u001b[0;32m   3656\u001b[0m     \u001b[39m# If we have a listlike key, _check_indexing_error will raise\u001b[39;00m\n\u001b[0;32m   3657\u001b[0m     \u001b[39m#  InvalidIndexError. Otherwise we fall through and re-raise\u001b[39;00m\n\u001b[0;32m   3658\u001b[0m     \u001b[39m#  the TypeError.\u001b[39;00m\n\u001b[0;32m   3659\u001b[0m     \u001b[39mself\u001b[39m\u001b[39m.\u001b[39m_check_indexing_error(key)\n",
      "\u001b[1;31mKeyError\u001b[0m: 'Level'"
     ]
    }
   ],
   "source": [
    "import matplotlib.pyplot as plt\n",
    "import numpy as np\n",
    "\n",
    "# Set the x-axis labels\n",
    "x_labels = np.unique(sales_2021_by_level['Level'])\n",
    "\n",
    "# Set the bar width\n",
    "bar_width = 0.35\n",
    "\n",
    "# Create subplots for each location\n",
    "for location in np.unique(sales_2021_by_level['Location']):\n",
    "    # Get the sales data for the location\n",
    "    sales_2021_loc = sales_2021_by_level[sales_2021_by_level['Location'] == location]['Revenue']\n",
    "    sales_2022_loc = sales_2022_by_level[sales_2022_by_level['Location'] == location]['Revenue']\n",
    "    merged_sales_2021_loc = merged_sales_by_level[(merged_sales_by_level['Location'] == location) & (merged_sales_by_level['Revenue_2021'] > 0)]['Revenue_2021']\n",
    "    merged_sales_2022_loc = merged_sales_by_level[(merged_sales_by_level['Location'] == location) & (merged_sales_by_level['Revenue_2022'] > 0)]['Revenue_2022']\n",
    "    \n",
    "    # Set the x-axis values\n",
    "    x_values = np.arange(len(x_labels))\n",
    "    \n",
    "    # Create the bar plots\n",
    "    fig, ax = plt.subplots()\n",
    "    ax.bar(x_values - bar_width/2, sales_2021_loc, width=bar_width, label='2021')\n",
    "    ax.bar(x_values + bar_width/2, sales_2022_loc, width=bar_width, label='2022')\n",
    "    ax.bar(x_values, merged_sales_2021_loc, width=bar_width/2, alpha=0.5, label='2021 merged')\n",
    "    ax.bar(x_values + bar_width/2, merged_sales_2022_loc, width=bar_width/2, alpha=0.5, label='2022 merged')\n",
    "\n",
    "    # Set the plot title and axis labels\n",
    "    ax.set_title(f\"Sales Revenue for {location}\")\n",
    "    ax.set_xlabel(\"Level\")\n",
    "    ax.set_ylabel(\"Revenue\")\n",
    "    \n",
    "    # Set the x-axis tick labels\n",
    "    ax.set_xticks(x_values)\n",
    "    ax.set_xticklabels(x_labels)\n",
    "    \n",
    "    # Add a legend\n",
    "    ax.legend()\n",
    "    \n",
    "    # Show the plot\n",
    "    plt.show()"
   ]
  },
  {
   "cell_type": "code",
   "execution_count": null,
   "id": "1f364d05",
   "metadata": {},
   "outputs": [],
   "source": []
  },
  {
   "cell_type": "code",
   "execution_count": null,
   "id": "1a976dc6",
   "metadata": {},
   "outputs": [],
   "source": []
  },
  {
   "cell_type": "code",
   "execution_count": null,
   "id": "eddccbd9",
   "metadata": {},
   "outputs": [],
   "source": []
  },
  {
   "cell_type": "code",
   "execution_count": 10,
   "id": "7445d610",
   "metadata": {},
   "outputs": [
    {
     "name": "stdout",
     "output_type": "stream",
     "text": [
      "<class 'pandas.core.frame.DataFrame'>\n",
      "RangeIndex: 68447 entries, 0 to 68446\n",
      "Data columns (total 35 columns):\n",
      " #   Column                                             Non-Null Count  Dtype  \n",
      "---  ------                                             --------------  -----  \n",
      " 0   index                                              68447 non-null  object \n",
      " 1   Advisor name                                       68447 non-null  object \n",
      " 2   Retailer Name                                      47304 non-null  object \n",
      " 3   Retailer ID                                        47304 non-null  object \n",
      " 4   Advisor ID                                         68447 non-null  object \n",
      " 5   Month of Order Intent Created Date                 68447 non-null  object \n",
      " 6   Advisor Phone Number                               68447 non-null  int64  \n",
      " 7   Country Code                                       68447 non-null  object \n",
      " 8   Hierarchy Level 3                                  62853 non-null  object \n",
      " 9   Hierarchy Level 2                                  62853 non-null  object \n",
      " 10  Hierarchy Level 1                                  62853 non-null  object \n",
      " 11  Advisor Type                                       68447 non-null  object \n",
      " 12  Product category                                   68447 non-null  object \n",
      " 13  Product Brand                                      68447 non-null  object \n",
      " 14  Product Name                                       68447 non-null  object \n",
      " 15  Unit                                               68447 non-null  object \n",
      " 16  Total Order Intents                                68447 non-null  int32  \n",
      " 17  Distinct count of Cancelled Order Intents          68447 non-null  int64  \n",
      " 18  Farmers with Intent                                68447 non-null  int64  \n",
      " 19  Farmers with multiple Intents                      68447 non-null  int64  \n",
      " 20  Farmers with Purchase                              68447 non-null  int64  \n",
      " 21  Distinct count of Farmers with multiple purchases  68447 non-null  int64  \n",
      " 22  Farmer Conversion                                  68446 non-null  float64\n",
      " 23  Active Retailers                                   68447 non-null  int64  \n",
      " 24  Volume Intent                                      60843 non-null  float64\n",
      " 25  Volume Cancelled                                   68447 non-null  float64\n",
      " 26  Volume Purchased                                   68447 non-null  float64\n",
      " 27  Returned Volume                                    68447 non-null  float64\n",
      " 28  Avg Volume Sold per Farmers                        68447 non-null  float64\n",
      " 29  Total Intent Value                                 60843 non-null  float64\n",
      " 30  Cancelled Order Value                              68447 non-null  float64\n",
      " 31  Sales Value                                        68447 non-null  float32\n",
      " 32  Avg Sales per Farmer                               46705 non-null  float64\n",
      " 33  Actual Commission                                  68447 non-null  float32\n",
      " 34  Intended Commission                                67666 non-null  float32\n",
      "dtypes: float32(3), float64(9), int32(1), int64(7), object(15)\n",
      "memory usage: 17.2+ MB\n"
     ]
    }
   ],
   "source": [
    "# Optimize the data types of the columns\n",
    "adv_2021['Total Order Intents'] = adv_2021['Total Order Intents'].astype('int32')\n",
    "adv_2021['Sales Value'] = adv_2021['Sales Value'].astype('float32')\n",
    "adv_2021['Actual Commission'] = adv_2021['Actual Commission'].astype('float32')\n",
    "adv_2021['Intended Commission'] = adv_2021['Intended Commission'].astype('float32')\n",
    "\n",
    "# Check the memory usage of the data frame again\n",
    "adv_2021.info()\n"
   ]
  },
  {
   "cell_type": "code",
   "execution_count": 11,
   "id": "729cae57",
   "metadata": {},
   "outputs": [
    {
     "name": "stdout",
     "output_type": "stream",
     "text": [
      "The history saving thread hit an unexpected error (OperationalError('database is locked')).History will not be written to the database.\n"
     ]
    },
    {
     "data": {
      "image/png": "[encoded data removed]",
      "text/plain": [
       "<Figure size 640x480 with 1 Axes>"
      ]
     },
     "metadata": {},
     "output_type": "display_data"
    },
    {
     "data": {
      "image/png": "[encoded data removed]",
      "text/plain": [
       "<Figure size 640x480 with 1 Axes>"
      ]
     },
     "metadata": {},
     "output_type": "display_data"
    }
   ],
   "source": [
    "import pandas as pd\n",
    "import matplotlib.pyplot as plt\n",
    "\n",
    "# Read only the columns needed from each data frame\n",
    "cols_to_use = ['Hierarchy Level 3', 'Product category', 'Sales Value']\n",
    "adv_2021= pd.read_excel(\"C:/Users/EFRNV/Downloads/Advisor analasis Norman_req_India/India Advisor Details 2021.xlsx\",'Sheet 1', usecols=cols_to_use, dtype={'Sales': float})\n",
    "adv_2022= pd.read_excel(\"C:/Users/EFRNV/Downloads/Advisor analasis Norman_req_India/India Advisor Details 2021.xlsx\", usecols=cols_to_use, dtype={'Sales': float})\n",
    "\n",
    "\n",
    "\n",
    "# Use pd.concat() to combine the data frames\n",
    "df_merged = pd.concat([adv_2021, adv_2022], ignore_index=True)\n",
    "\n",
    "# Plot a bar chart to compare the total sales in 2021 and 2022\n",
    "df_merged.groupby('Hierarchy Level 3')['Sales Value'].sum().plot(kind='bar')\n",
    "plt.title('Comparison of Sales in 2021 and 2022')\n",
    "plt.xlabel('Hierarchy Level 3')\n",
    "plt.ylabel('Sales Value')\n",
    "plt.show()\n",
    "\n",
    "df_merged.plot(kind='scatter', x='Sales Value', y='Sales Value')\n",
    "plt.title('Comparison of Sales in 2021 and 2022')\n",
    "plt.xlabel('Sales in 2021')\n",
    "plt.ylabel('Sales in 2022')\n",
    "plt.show()"
   ]
  },
  {
   "cell_type": "code",
   "execution_count": 1,
   "id": "5220e3cd",
   "metadata": {},
   "outputs": [
    {
     "ename": "NameError",
     "evalue": "name 'df_merged' is not defined",
     "output_type": "error",
     "traceback": [
      "\u001b[1;31m---------------------------------------------------------------------------\u001b[0m",
      "\u001b[1;31mNameError\u001b[0m                                 Traceback (most recent call last)",
      "Cell \u001b[1;32mIn[1], line 1\u001b[0m\n\u001b[1;32m----> 1\u001b[0m df_merged\u001b[39m.\u001b[39mcolumns\n",
      "\u001b[1;31mNameError\u001b[0m: name 'df_merged' is not defined"
     ]
    }
   ],
   "source": [
    "df_merged.columns"
   ]
  },
  {
   "cell_type": "code",
   "execution_count": null,
   "id": "b20b6e41",
   "metadata": {},
   "outputs": [],
   "source": []
  },
  {
   "cell_type": "code",
   "execution_count": null,
   "id": "c4736d2d",
   "metadata": {},
   "outputs": [],
   "source": []
  },
  {
   "cell_type": "code",
   "execution_count": null,
   "id": "a535ce0f",
   "metadata": {},
   "outputs": [],
   "source": []
  },
  {
   "cell_type": "code",
   "execution_count": 13,
   "id": "06e82dd0",
   "metadata": {},
   "outputs": [],
   "source": [
    "import pandas as pd\n",
    "import matplotlib.pyplot as plt\n",
    "import seaborn as sns\n"
   ]
  },
  {
   "cell_type": "code",
   "execution_count": 14,
   "id": "aa6c30dc",
   "metadata": {},
   "outputs": [],
   "source": [
    "adv_2021= pd.read_excel(\"C:/Users/EFRNV/Downloads/Advisor analasis Norman_req_India/India Advisor Details 2021.xlsx\",'Sheet 1')\n",
    "adv_2022= pd.read_excel(\"C:/Users/EFRNV/Downloads/Advisor analasis Norman_req_India/India Advisor Details 2022.xlsx\")\n"
   ]
  },
  {
   "cell_type": "code",
   "execution_count": 15,
   "id": "df0310ee",
   "metadata": {},
   "outputs": [],
   "source": [
    "adv_2021['Year'] = 2021\n",
    "adv_2022['Year'] = 2022\n"
   ]
  },
  {
   "cell_type": "code",
   "execution_count": 16,
   "id": "995d5934",
   "metadata": {},
   "outputs": [],
   "source": [
    "adv_2021 = adv_2021.apply(lambda x: pd.to_numeric(x, errors='coerce'))\n",
    "adv_2022 = adv_2022.apply(lambda x: pd.to_numeric(x, errors='coerce'))\n"
   ]
  },
  {
   "cell_type": "code",
   "execution_count": 17,
   "id": "15e4d4ff",
   "metadata": {},
   "outputs": [
    {
     "data": {
      "text/html": [
       "<div>\n",
       "<style scoped>\n",
       "    .dataframe tbody tr th:only-of-type {\n",
       "        vertical-align: middle;\n",
       "    }\n",
       "\n",
       "    .dataframe tbody tr th {\n",
       "        vertical-align: top;\n",
       "    }\n",
       "\n",
       "    .dataframe thead th {\n",
       "        text-align: right;\n",
       "    }\n",
       "</style>\n",
       "<table border=\"1\" class=\"dataframe\">\n",
       "  <thead>\n",
       "    <tr style=\"text-align: right;\">\n",
       "      <th></th>\n",
       "      <th>index</th>\n",
       "      <th>Advisor name</th>\n",
       "      <th>Retailer Name</th>\n",
       "      <th>Retailer ID</th>\n",
       "      <th>Advisor ID</th>\n",
       "      <th>Month of Order Intent Created Date</th>\n",
       "      <th>Advisor Phone Number</th>\n",
       "      <th>Country Code</th>\n",
       "      <th>Hierarchy Level 3</th>\n",
       "      <th>Hierarchy Level 2</th>\n",
       "      <th>...</th>\n",
       "      <th>Volume Purchased</th>\n",
       "      <th>Returned Volume</th>\n",
       "      <th>Avg Volume Sold per Farmers</th>\n",
       "      <th>Total Intent Value</th>\n",
       "      <th>Cancelled Order Value</th>\n",
       "      <th>Sales Value</th>\n",
       "      <th>Avg Sales per Farmer</th>\n",
       "      <th>Actual Commission</th>\n",
       "      <th>Intended Commission</th>\n",
       "      <th>Year</th>\n",
       "    </tr>\n",
       "  </thead>\n",
       "  <tbody>\n",
       "    <tr>\n",
       "      <th>0</th>\n",
       "      <td>219.0</td>\n",
       "      <td>NaN</td>\n",
       "      <td>NaN</td>\n",
       "      <td>NaN</td>\n",
       "      <td>NaN</td>\n",
       "      <td>NaN</td>\n",
       "      <td>8499901890</td>\n",
       "      <td>NaN</td>\n",
       "      <td>NaN</td>\n",
       "      <td>NaN</td>\n",
       "      <td>...</td>\n",
       "      <td>0.0</td>\n",
       "      <td>0.0</td>\n",
       "      <td>0.000000</td>\n",
       "      <td>26210.0</td>\n",
       "      <td>0.0</td>\n",
       "      <td>0.0</td>\n",
       "      <td>NaN</td>\n",
       "      <td>0.00</td>\n",
       "      <td>853.9</td>\n",
       "      <td>2021</td>\n",
       "    </tr>\n",
       "    <tr>\n",
       "      <th>1</th>\n",
       "      <td>221.0</td>\n",
       "      <td>NaN</td>\n",
       "      <td>NaN</td>\n",
       "      <td>NaN</td>\n",
       "      <td>NaN</td>\n",
       "      <td>NaN</td>\n",
       "      <td>8499901890</td>\n",
       "      <td>NaN</td>\n",
       "      <td>NaN</td>\n",
       "      <td>NaN</td>\n",
       "      <td>...</td>\n",
       "      <td>12.8</td>\n",
       "      <td>0.0</td>\n",
       "      <td>2.560000</td>\n",
       "      <td>186550.0</td>\n",
       "      <td>0.0</td>\n",
       "      <td>183680.0</td>\n",
       "      <td>36736.000000</td>\n",
       "      <td>14918.40</td>\n",
       "      <td>15151.5</td>\n",
       "      <td>2021</td>\n",
       "    </tr>\n",
       "    <tr>\n",
       "      <th>2</th>\n",
       "      <td>222.0</td>\n",
       "      <td>NaN</td>\n",
       "      <td>NaN</td>\n",
       "      <td>NaN</td>\n",
       "      <td>NaN</td>\n",
       "      <td>NaN</td>\n",
       "      <td>8499901890</td>\n",
       "      <td>NaN</td>\n",
       "      <td>NaN</td>\n",
       "      <td>NaN</td>\n",
       "      <td>...</td>\n",
       "      <td>73.0</td>\n",
       "      <td>0.0</td>\n",
       "      <td>24.333333</td>\n",
       "      <td>52100.0</td>\n",
       "      <td>0.0</td>\n",
       "      <td>76066.0</td>\n",
       "      <td>25355.333333</td>\n",
       "      <td>2478.35</td>\n",
       "      <td>1697.5</td>\n",
       "      <td>2021</td>\n",
       "    </tr>\n",
       "    <tr>\n",
       "      <th>3</th>\n",
       "      <td>223.0</td>\n",
       "      <td>NaN</td>\n",
       "      <td>NaN</td>\n",
       "      <td>NaN</td>\n",
       "      <td>NaN</td>\n",
       "      <td>NaN</td>\n",
       "      <td>8499901890</td>\n",
       "      <td>NaN</td>\n",
       "      <td>NaN</td>\n",
       "      <td>NaN</td>\n",
       "      <td>...</td>\n",
       "      <td>10.0</td>\n",
       "      <td>0.0</td>\n",
       "      <td>5.000000</td>\n",
       "      <td>5370.0</td>\n",
       "      <td>0.0</td>\n",
       "      <td>10740.0</td>\n",
       "      <td>5370.000000</td>\n",
       "      <td>349.80</td>\n",
       "      <td>174.9</td>\n",
       "      <td>2021</td>\n",
       "    </tr>\n",
       "    <tr>\n",
       "      <th>4</th>\n",
       "      <td>224.0</td>\n",
       "      <td>NaN</td>\n",
       "      <td>NaN</td>\n",
       "      <td>NaN</td>\n",
       "      <td>NaN</td>\n",
       "      <td>NaN</td>\n",
       "      <td>8499901890</td>\n",
       "      <td>NaN</td>\n",
       "      <td>NaN</td>\n",
       "      <td>NaN</td>\n",
       "      <td>...</td>\n",
       "      <td>54.0</td>\n",
       "      <td>0.0</td>\n",
       "      <td>27.000000</td>\n",
       "      <td>104900.0</td>\n",
       "      <td>0.0</td>\n",
       "      <td>113292.0</td>\n",
       "      <td>56646.000000</td>\n",
       "      <td>3766.50</td>\n",
       "      <td>3487.5</td>\n",
       "      <td>2021</td>\n",
       "    </tr>\n",
       "  </tbody>\n",
       "</table>\n",
       "<p>5 rows × 36 columns</p>\n",
       "</div>"
      ],
      "text/plain": [
       "   index  Advisor name  Retailer Name  Retailer ID  Advisor ID   \n",
       "0  219.0           NaN            NaN          NaN         NaN  \\\n",
       "1  221.0           NaN            NaN          NaN         NaN   \n",
       "2  222.0           NaN            NaN          NaN         NaN   \n",
       "3  223.0           NaN            NaN          NaN         NaN   \n",
       "4  224.0           NaN            NaN          NaN         NaN   \n",
       "\n",
       "   Month of Order Intent Created Date  Advisor Phone Number  Country Code    \n",
       "0                                 NaN            8499901890            NaN  \\\n",
       "1                                 NaN            8499901890            NaN   \n",
       "2                                 NaN            8499901890            NaN   \n",
       "3                                 NaN            8499901890            NaN   \n",
       "4                                 NaN            8499901890            NaN   \n",
       "\n",
       "   Hierarchy Level 3  Hierarchy Level 2  ...  Volume Purchased   \n",
       "0                NaN                NaN  ...               0.0  \\\n",
       "1                NaN                NaN  ...              12.8   \n",
       "2                NaN                NaN  ...              73.0   \n",
       "3                NaN                NaN  ...              10.0   \n",
       "4                NaN                NaN  ...              54.0   \n",
       "\n",
       "   Returned Volume  Avg Volume Sold per Farmers  Total Intent Value   \n",
       "0              0.0                     0.000000             26210.0  \\\n",
       "1              0.0                     2.560000            186550.0   \n",
       "2              0.0                    24.333333             52100.0   \n",
       "3              0.0                     5.000000              5370.0   \n",
       "4              0.0                    27.000000            104900.0   \n",
       "\n",
       "   Cancelled Order Value  Sales Value  Avg Sales per Farmer   \n",
       "0                    0.0          0.0                   NaN  \\\n",
       "1                    0.0     183680.0          36736.000000   \n",
       "2                    0.0      76066.0          25355.333333   \n",
       "3                    0.0      10740.0           5370.000000   \n",
       "4                    0.0     113292.0          56646.000000   \n",
       "\n",
       "   Actual Commission  Intended Commission  Year  \n",
       "0               0.00                853.9  2021  \n",
       "1           14918.40              15151.5  2021  \n",
       "2            2478.35               1697.5  2021  \n",
       "3             349.80                174.9  2021  \n",
       "4            3766.50               3487.5  2021  \n",
       "\n",
       "[5 rows x 36 columns]"
      ]
     },
     "execution_count": 17,
     "metadata": {},
     "output_type": "execute_result"
    }
   ],
   "source": [
    "df = pd.concat([adv_2021, adv_2022], ignore_index=True)\n",
    "df.head()"
   ]
  },
  {
   "cell_type": "code",
   "execution_count": 18,
   "id": "7554e8c8",
   "metadata": {},
   "outputs": [
    {
     "data": {
      "text/plain": [
       "index                                                float64\n",
       "Advisor name                                         float64\n",
       "Retailer Name                                        float64\n",
       "Retailer ID                                          float64\n",
       "Advisor ID                                           float64\n",
       "Month of Order Intent Created Date                   float64\n",
       "Advisor Phone Number                                   int64\n",
       "Country Code                                         float64\n",
       "Hierarchy Level 3                                    float64\n",
       "Hierarchy Level 2                                    float64\n",
       "Hierarchy Level 1                                    float64\n",
       "Advisor Type                                         float64\n",
       "Product category                                     float64\n",
       "Product Brand                                        float64\n",
       "Product Name                                         float64\n",
       "Unit                                                 float64\n",
       "Total Order Intents                                    int64\n",
       "Distinct count of Cancelled Order Intents              int64\n",
       "Farmers with Intent                                    int64\n",
       "Farmers with multiple Intents                          int64\n",
       "Farmers with Purchase                                  int64\n",
       "Distinct count of Farmers with multiple purchases      int64\n",
       "Farmer Conversion                                    float64\n",
       "Active Retailers                                       int64\n",
       "Volume Intent                                        float64\n",
       "Volume Cancelled                                     float64\n",
       "Volume Purchased                                     float64\n",
       "Returned Volume                                      float64\n",
       "Avg Volume Sold per Farmers                          float64\n",
       "Total Intent Value                                   float64\n",
       "Cancelled Order Value                                float64\n",
       "Sales Value                                          float64\n",
       "Avg Sales per Farmer                                 float64\n",
       "Actual Commission                                    float64\n",
       "Intended Commission                                  float64\n",
       "Year                                                   int64\n",
       "dtype: object"
      ]
     },
     "execution_count": 18,
     "metadata": {},
     "output_type": "execute_result"
    }
   ],
   "source": [
    "df.dtypes"
   ]
  },
  {
   "cell_type": "code",
   "execution_count": 19,
   "id": "f22f6d30",
   "metadata": {},
   "outputs": [
    {
     "data": {
      "text/plain": [
       "index                                                249120\n",
       "Advisor name                                         251118\n",
       "Retailer Name                                        251115\n",
       "Retailer ID                                          251118\n",
       "Advisor ID                                           251118\n",
       "Month of Order Intent Created Date                   251118\n",
       "Advisor Phone Number                                      0\n",
       "Country Code                                         251118\n",
       "Hierarchy Level 3                                    251118\n",
       "Hierarchy Level 2                                    251118\n",
       "Hierarchy Level 1                                    251118\n",
       "Advisor Type                                         251118\n",
       "Product category                                     251118\n",
       "Product Brand                                        251118\n",
       "Product Name                                         251118\n",
       "Unit                                                 250628\n",
       "Total Order Intents                                       0\n",
       "Distinct count of Cancelled Order Intents                 0\n",
       "Farmers with Intent                                       0\n",
       "Farmers with multiple Intents                             0\n",
       "Farmers with Purchase                                     0\n",
       "Distinct count of Farmers with multiple purchases         0\n",
       "Farmer Conversion                                         1\n",
       "Active Retailers                                          0\n",
       "Volume Intent                                         36364\n",
       "Volume Cancelled                                          0\n",
       "Volume Purchased                                          0\n",
       "Returned Volume                                           0\n",
       "Avg Volume Sold per Farmers                               0\n",
       "Total Intent Value                                    33406\n",
       "Cancelled Order Value                                     0\n",
       "Sales Value                                               0\n",
       "Avg Sales per Farmer                                  81470\n",
       "Actual Commission                                         0\n",
       "Intended Commission                                    2085\n",
       "Year                                                      0\n",
       "dtype: int64"
      ]
     },
     "execution_count": 19,
     "metadata": {},
     "output_type": "execute_result"
    }
   ],
   "source": [
    "df.isnull().sum()"
   ]
  },
  {
   "cell_type": "code",
   "execution_count": 20,
   "id": "d2831bb4",
   "metadata": {},
   "outputs": [
    {
     "name": "stdout",
     "output_type": "stream",
     "text": [
      "[nan]\n",
      "[     0. 183680.  76066. ...  80388. 380256.  62608.]\n",
      "[2021]\n"
     ]
    },
    {
     "ename": "IndexError",
     "evalue": "too many indices for array: array is 1-dimensional, but 2 were indexed",
     "output_type": "error",
     "traceback": [
      "\u001b[1;31m---------------------------------------------------------------------------\u001b[0m",
      "\u001b[1;31mIndexError\u001b[0m                                Traceback (most recent call last)",
      "Cell \u001b[1;32mIn[20], line 8\u001b[0m\n\u001b[0;32m      6\u001b[0m \u001b[39m# try specifying a different color palette\u001b[39;00m\n\u001b[0;32m      7\u001b[0m sns\u001b[39m.\u001b[39mset_palette(\u001b[39m'\u001b[39m\u001b[39mpastel\u001b[39m\u001b[39m'\u001b[39m)\n\u001b[1;32m----> 8\u001b[0m sns\u001b[39m.\u001b[39;49mbarplot(x\u001b[39m=\u001b[39;49m\u001b[39m'\u001b[39;49m\u001b[39mMonth of Order Intent Created Date\u001b[39;49m\u001b[39m'\u001b[39;49m, y\u001b[39m=\u001b[39;49m\u001b[39m'\u001b[39;49m\u001b[39mSales Value\u001b[39;49m\u001b[39m'\u001b[39;49m, hue\u001b[39m=\u001b[39;49m\u001b[39m'\u001b[39;49m\u001b[39mYear\u001b[39;49m\u001b[39m'\u001b[39;49m, data\u001b[39m=\u001b[39;49madv_2021)\n\u001b[0;32m      9\u001b[0m plt\u001b[39m.\u001b[39mshow()\n",
      "File \u001b[1;32mc:\\Users\\EFRNV\\AppData\\Local\\Programs\\Python\\Python310\\lib\\site-packages\\seaborn\\categorical.py:2763\u001b[0m, in \u001b[0;36mbarplot\u001b[1;34m(data, x, y, hue, order, hue_order, estimator, errorbar, n_boot, units, seed, orient, color, palette, saturation, width, errcolor, errwidth, capsize, dodge, ci, ax, **kwargs)\u001b[0m\n\u001b[0;32m   2760\u001b[0m \u001b[39mif\u001b[39;00m ax \u001b[39mis\u001b[39;00m \u001b[39mNone\u001b[39;00m:\n\u001b[0;32m   2761\u001b[0m     ax \u001b[39m=\u001b[39m plt\u001b[39m.\u001b[39mgca()\n\u001b[1;32m-> 2763\u001b[0m plotter\u001b[39m.\u001b[39;49mplot(ax, kwargs)\n\u001b[0;32m   2764\u001b[0m \u001b[39mreturn\u001b[39;00m ax\n",
      "File \u001b[1;32mc:\\Users\\EFRNV\\AppData\\Local\\Programs\\Python\\Python310\\lib\\site-packages\\seaborn\\categorical.py:1586\u001b[0m, in \u001b[0;36m_BarPlotter.plot\u001b[1;34m(self, ax, bar_kws)\u001b[0m\n\u001b[0;32m   1584\u001b[0m \u001b[39mdef\u001b[39;00m \u001b[39mplot\u001b[39m(\u001b[39mself\u001b[39m, ax, bar_kws):\n\u001b[0;32m   1585\u001b[0m \u001b[39m    \u001b[39m\u001b[39m\"\"\"Make the plot.\"\"\"\u001b[39;00m\n\u001b[1;32m-> 1586\u001b[0m     \u001b[39mself\u001b[39;49m\u001b[39m.\u001b[39;49mdraw_bars(ax, bar_kws)\n\u001b[0;32m   1587\u001b[0m     \u001b[39mself\u001b[39m\u001b[39m.\u001b[39mannotate_axes(ax)\n\u001b[0;32m   1588\u001b[0m     \u001b[39mif\u001b[39;00m \u001b[39mself\u001b[39m\u001b[39m.\u001b[39morient \u001b[39m==\u001b[39m \u001b[39m\"\u001b[39m\u001b[39mh\u001b[39m\u001b[39m\"\u001b[39m:\n",
      "File \u001b[1;32mc:\\Users\\EFRNV\\AppData\\Local\\Programs\\Python\\Python310\\lib\\site-packages\\seaborn\\categorical.py:1569\u001b[0m, in \u001b[0;36m_BarPlotter.draw_bars\u001b[1;34m(self, ax, kws)\u001b[0m\n\u001b[0;32m   1565\u001b[0m \u001b[39mfor\u001b[39;00m j, hue_level \u001b[39min\u001b[39;00m \u001b[39menumerate\u001b[39m(\u001b[39mself\u001b[39m\u001b[39m.\u001b[39mhue_names):\n\u001b[0;32m   1566\u001b[0m \n\u001b[0;32m   1567\u001b[0m     \u001b[39m# Draw the bars\u001b[39;00m\n\u001b[0;32m   1568\u001b[0m     offpos \u001b[39m=\u001b[39m barpos \u001b[39m+\u001b[39m \u001b[39mself\u001b[39m\u001b[39m.\u001b[39mhue_offsets[j]\n\u001b[1;32m-> 1569\u001b[0m     barfunc(offpos, \u001b[39mself\u001b[39;49m\u001b[39m.\u001b[39;49mstatistic[:, j], \u001b[39mself\u001b[39m\u001b[39m.\u001b[39mnested_width,\n\u001b[0;32m   1570\u001b[0m             color\u001b[39m=\u001b[39m\u001b[39mself\u001b[39m\u001b[39m.\u001b[39mcolors[j], align\u001b[39m=\u001b[39m\u001b[39m\"\u001b[39m\u001b[39mcenter\u001b[39m\u001b[39m\"\u001b[39m,\n\u001b[0;32m   1571\u001b[0m             label\u001b[39m=\u001b[39mhue_level, \u001b[39m*\u001b[39m\u001b[39m*\u001b[39mkws)\n\u001b[0;32m   1573\u001b[0m     \u001b[39m# Draw the confidence intervals\u001b[39;00m\n\u001b[0;32m   1574\u001b[0m     \u001b[39mif\u001b[39;00m \u001b[39mself\u001b[39m\u001b[39m.\u001b[39mconfint\u001b[39m.\u001b[39msize:\n",
      "\u001b[1;31mIndexError\u001b[0m: too many indices for array: array is 1-dimensional, but 2 were indexed"
     ]
    },
    {
     "data": {
      "image/png": "[encoded data removed]",
      "text/plain": [
       "<Figure size 640x480 with 1 Axes>"
      ]
     },
     "metadata": {},
     "output_type": "display_data"
    }
   ],
   "source": [
    "# print the unique values of each column\n",
    "print(adv_2021['Month of Order Intent Created Date'].unique())\n",
    "print(adv_2021['Sales Value'].unique())\n",
    "print(adv_2021['Year'].unique())\n",
    "\n",
    "# try specifying a different color palette\n",
    "sns.set_palette('pastel')\n",
    "sns.barplot(x='Month of Order Intent Created Date', y='Sales Value', hue='Year', data=adv_2021)\n",
    "plt.show()\n"
   ]
  },
  {
   "cell_type": "code",
   "execution_count": null,
   "id": "bf444c61",
   "metadata": {},
   "outputs": [],
   "source": [
    "import seaborn as sns\n",
    "import matplotlib.pyplot as plt\n",
    "\n",
    "# Create a bar plot using Seaborn\n",
    "sns.barplot(x='Month of Order Intent Created Date', y='Sales Value', hue='Year', data=adv_2021, palette='husl')\n",
    "\n",
    "# Set the plot title and axes labels\n",
    "plt.title('Monthly Sales in 2021')\n",
    "plt.xlabel('Month of Order Intent Created Date')\n",
    "plt.ylabel('Sales Value')\n",
    "\n",
    "# Display the plot\n",
    "plt.show()\n"
   ]
  },
  {
   "cell_type": "code",
   "execution_count": null,
   "id": "0fc80256",
   "metadata": {},
   "outputs": [],
   "source": [
    "df = df.apply(lambda x: pd.to_numeric(x, errors='coerce'))\n"
   ]
  },
  {
   "cell_type": "code",
   "execution_count": null,
   "id": "eedc28af",
   "metadata": {},
   "outputs": [],
   "source": [
    "df_diff = adv_2022.subtract(adv_2021, fill_value=0)\n",
    "df_diff"
   ]
  },
  {
   "cell_type": "code",
   "execution_count": null,
   "id": "f0395564",
   "metadata": {},
   "outputs": [],
   "source": [
    "df = df.dropna(subset=['Month of Order Intent Created Date'])\n",
    "df['Year'] = pd.DatetimeIndex(df['Month of Order Intent Created Date']).year\n",
    "sns.barplot(x='Month of Order Intent Created Date', y='Sales Value', hue='Year', data=df, palette='husl')\n"
   ]
  },
  {
   "cell_type": "code",
   "execution_count": null,
   "id": "a55a597a",
   "metadata": {},
   "outputs": [],
   "source": [
    "sns.barplot(x='Month of Order Intent Created Date', y='Sales Value', hue='Year', data=df[df['Sales Value'].notnull()], palette='husl')\n"
   ]
  },
  {
   "cell_type": "code",
   "execution_count": null,
   "id": "409c6dd9",
   "metadata": {},
   "outputs": [],
   "source": [
    "sns.lineplot(x='Month of Order Intent Created Date', y='Sales Value', hue='Year', data=df)"
   ]
  },
  {
   "cell_type": "code",
   "execution_count": null,
   "id": "a79fe5ef",
   "metadata": {},
   "outputs": [],
   "source": [
    "# Create a figure with a specific size\n",
    "fig, ax = plt.subplots(figsize=(18, 15))\n",
    "\n",
    "# Generate the heatmap with annotations\n",
    "sns.heatmap(df.corr(), annot=True, ax=ax)\n",
    "\n",
    "# Show the plot\n",
    "plt.show()"
   ]
  },
  {
   "cell_type": "code",
   "execution_count": null,
   "id": "e3c0c177",
   "metadata": {},
   "outputs": [],
   "source": []
  },
  {
   "cell_type": "code",
   "execution_count": null,
   "id": "42b72ffe",
   "metadata": {},
   "outputs": [],
   "source": []
  },
  {
   "cell_type": "code",
   "execution_count": null,
   "id": "561c39eb",
   "metadata": {},
   "outputs": [],
   "source": []
  },
  {
   "cell_type": "code",
   "execution_count": null,
   "id": "bce1946f",
   "metadata": {},
   "outputs": [],
   "source": []
  },
  {
   "cell_type": "code",
   "execution_count": null,
   "id": "200c15cc",
   "metadata": {},
   "outputs": [],
   "source": []
  },
  {
   "cell_type": "code",
   "execution_count": null,
   "id": "f8fa9402",
   "metadata": {},
   "outputs": [],
   "source": []
  },
  {
   "cell_type": "code",
   "execution_count": null,
   "id": "8fcab74a",
   "metadata": {},
   "outputs": [],
   "source": [
    "adv_2022.head()\n"
   ]
  },
  {
   "cell_type": "code",
   "execution_count": null,
   "id": "f5dd6553",
   "metadata": {},
   "outputs": [],
   "source": [
    "adv_2022.describe()\n"
   ]
  },
  {
   "cell_type": "code",
   "execution_count": null,
   "id": "a00ee8a8",
   "metadata": {},
   "outputs": [],
   "source": [
    "adv_2022.nunique()\n"
   ]
  },
  {
   "cell_type": "code",
   "execution_count": null,
   "id": "9739b12f",
   "metadata": {},
   "outputs": [],
   "source": [
    "adv_2022.info()\n"
   ]
  },
  {
   "cell_type": "code",
   "execution_count": null,
   "id": "73f1bb03",
   "metadata": {},
   "outputs": [],
   "source": [
    "print(\"Is there any missing data?\")\n",
    "print(adv_2022.isna().sum())"
   ]
  },
  {
   "cell_type": "code",
   "execution_count": null,
   "id": "e053af72",
   "metadata": {},
   "outputs": [],
   "source": [
    "# Group the data frame by 'month' and 'category' and sum the 'sales' column:\n",
    "\n",
    "#grouped = adv_2022.groupby(['Month of Order Intent Created Date', 'Product category','Product Brand','Product Name']).sum().reset_index()\n",
    "#grouped = adv_2022.groupby(['Month of Order Intent Created Date', 'Product category','Product Brand']).sum().reset_index()\n",
    "grouped = adv_2022.groupby(['Month of Order Intent Created Date', 'Product category']).sum().reset_index()\n"
   ]
  },
  {
   "cell_type": "code",
   "execution_count": null,
   "id": "339db242",
   "metadata": {},
   "outputs": [],
   "source": [
    "# Use pivot() function to create a pivot table with 'month' as the index and 'category' as the columns:\n",
    "\n",
    "#pivot_table = grouped.pivot(index='Month of Order Intent Created Date', columns=['Product category','Product Brand','Product Name'], values='Sales Value')\n",
    "#pivot_table = grouped.pivot(index='Month of Order Intent Created Date', columns=['Product category','Product Brand'], values='Sales Value')\n",
    "pivot_table = grouped.pivot(index='Month of Order Intent Created Date', columns='Product category', values='Sales Value')\n"
   ]
  },
  {
   "cell_type": "code",
   "execution_count": null,
   "id": "23230f17",
   "metadata": {},
   "outputs": [],
   "source": [
    "# Define your pivot table first\n",
    "pivot_table = pd.pivot_table(grouped, values='Sales Value', index='Month of Order Intent Created Date', columns='Product category', aggfunc=sum)\n",
    "# Convert index to DateTimeIndex\n",
    "#pivot_table.index = pd.to_datetime(pivot_table.index)\n",
    "\n",
    "# Sort index in ascending order\n",
    "pivot_table = pivot_table.sort_index()\n",
    "\n",
    "# Calculate sales values and sales values in millions\n",
    "sales_values = pivot_table.sum(axis=1)\n",
    "sales_values_millions = [value / 1000000 for value in sales_values]\n",
    "\n",
    "# Plot the pivot table and add labels\n",
    "#plt.figure(figsize=(30, 20)) # Set the figure size here\n",
    "fig, ax = plt.subplots(figsize=(15, 10))\n",
    "pivot_table.plot(kind='line', ax=ax)\n",
    "ax.set_xlabel('Month of Order Intent Created Date')\n",
    "ax.set_ylabel('Sales Value')\n",
    "ax.set_title('Sales patterns by Product category')\n",
    "plt.xticks(rotation=90)\n",
    "\n",
    "# Add labels to the plot\n",
    "for i, value in enumerate(sales_values_millions):\n",
    "    ax.text(i, sales_values[i]+0.005*max(sales_values), f'{value:.2f}M', ha='center', va='bottom')\n",
    "\n",
    "# Set y-axis limits\n",
    "ax.set_ylim([0, max(sales_values)*1.1])\n",
    "\n",
    "plt.show()"
   ]
  },
  {
   "cell_type": "code",
   "execution_count": null,
   "id": "d655333d",
   "metadata": {},
   "outputs": [],
   "source": [
    "plt.figure(figsize = (4,6))\n",
    "grouped = adv_2022.groupby(['Product category', 'Sales Value']).sum().reset_index()\n",
    "\n",
    "plt.pie(grouped[\"Product category\"].value_counts(), labels = grouped[\"Product category\"].value_counts().index, autopct='%1.1f%%', colors = [\"lightgreen\",\"skyblue\", \"lightpink\", \"#CC7DFF\"])\n",
    "plt.title(\"category Percentage\")\n",
    "\n",
    "plt.show()"
   ]
  },
  {
   "cell_type": "code",
   "execution_count": null,
   "id": "e4f3a3fc",
   "metadata": {},
   "outputs": [],
   "source": [
    "plt.figure(figsize = (6,6))\n",
    "grouped = adv_2022.groupby(['Month of Order Intent Created Date', 'Sales Value']).sum().reset_index()\n",
    "\n",
    "plt.pie(grouped[\"Month of Order Intent Created Date\"].value_counts(), labels = grouped[\"Month of Order Intent Created Date\"].value_counts().index, autopct='%1.1f%%', colors = [\"lightgreen\",\"skyblue\", \"lightpink\", \"#CC7DFF\"])\n",
    "plt.title(\"Monthly Percentage\")\n",
    "\n",
    "plt.show()"
   ]
  },
  {
   "cell_type": "code",
   "execution_count": null,
   "id": "60c3f008",
   "metadata": {},
   "outputs": [],
   "source": [
    "\n",
    "grouped = adv_2022.groupby(['Month of Order Intent Created Date', 'Product category']).sum().reset_index()\n",
    "\n",
    "# Define your pivot table first\n",
    "pivot_table = pd.pivot_table(grouped, values='Sales Value', index='Product category', columns='Month of Order Intent Created Date', aggfunc=sum)\n",
    "# Convert index to DateTimeIndex\n",
    "#pivot_table.index = pd.to_datetime(pivot_table.index)\n",
    "\n",
    "# Sort index in ascending order\n",
    "pivot_table = pivot_table.sort_index()\n",
    "\n",
    "# Calculate sales values and sales values in millions\n",
    "sales_values = pivot_table.sum(axis=1)\n",
    "sales_values_millions = [value / 1000000 for value in sales_values]\n",
    "\n",
    "# Plot the pivot table and add labels\n",
    "#plt.figure(figsize=(30, 20)) # Set the figure size here\n",
    "fig, ax = plt.subplots(figsize=(15, 10))\n",
    "pivot_table.plot(kind='line', ax=ax)\n",
    "ax.set_xlabel('Product category')\n",
    "ax.set_ylabel('Sales Value')\n",
    "ax.set_title('Sales patterns by month')\n",
    "#plt.xticks(rotation=90)\n",
    "\n",
    "# Add labels to the plot\n",
    "for i, value in enumerate(sales_values_millions):\n",
    "    ax.text(i, sales_values[i]+0.005*max(sales_values), f'{value:.2f}M', ha='center', va='bottom')\n",
    "\n",
    "# Set y-axis limits\n",
    "ax.set_ylim([0, max(sales_values)*1.1])\n",
    "\n",
    "plt.show()"
   ]
  },
  {
   "cell_type": "code",
   "execution_count": null,
   "id": "704b4a65",
   "metadata": {},
   "outputs": [],
   "source": [
    "import pandas as pd\n",
    "import matplotlib.pyplot as plt\n",
    "import numpy as np\n",
    "\n",
    "# group the data by the values in column1 and column2, and sum the values in column3\n",
    "grouped_data = adv_2022.groupby(['Hierarchy Level 3', 'Product category'])['Sales Value'].sum()\n",
    "\n",
    "# convert the grouped data to a dataframe\n",
    "grouped_data_df = grouped_data.reset_index()\n",
    "\n",
    "# extract column1, column2, and sales_value from the dataframe\n",
    "column1 = grouped_data_df['Hierarchy Level 3']\n",
    "column2 = grouped_data_df['Product category']\n",
    "sales_value = grouped_data_df['Sales Value']\n",
    "\n",
    "# create a list of unique values in column1\n",
    "unique_vals = column1.unique()\n",
    "\n",
    "# create a colormap that maps each unique value to a different color\n",
    "num_unique_vals = len(unique_vals)\n",
    "cmap = plt.get_cmap('tab20')\n",
    "colors = cmap(np.linspace(0, 1, num_unique_vals))\n",
    "\n",
    "# create a figure and axis objects\n",
    "fig, ax = plt.subplots(figsize=(8, 15))\n",
    "\n",
    "# plot sales_value against column1 and column2, using the colormap to set the colors\n",
    "for i, val in enumerate(unique_vals):\n",
    "    mask = (column1 == val)\n",
    "    ax.scatter(column2[mask], sales_value[mask], s=100, alpha=0.5, label=val, color=colors[i])\n",
    "\n",
    "# add text labels for the sales value sums\n",
    "for i, txt in enumerate(sales_value):\n",
    "    ax.text(column2[i], sales_value[i], f'{txt/1000000:.2f}M', ha='center', va='center', color='red')\n",
    "\n",
    "# set x and y axis labels\n",
    "ax.set_xlabel('Product category')\n",
    "ax.set_ylabel('Sales Value (USD millions)')\n",
    "\n",
    "# add a legend\n",
    "ax.legend(title='Hierarchy Level 3', loc='upper left')\n",
    "\n",
    "# display the plot\n",
    "plt.show()\n"
   ]
  },
  {
   "cell_type": "code",
   "execution_count": null,
   "id": "e9947f99",
   "metadata": {},
   "outputs": [],
   "source": [
    "# Import necessary libraries\n",
    "import seaborn as sns\n",
    "import matplotlib.pyplot as plt\n",
    "import matplotlib.ticker as ticker\n",
    "\n",
    "\n",
    "def millions_formatter(x, pos):\n",
    "return f\"${x/1000000:.1f}M\"\n",
    "\n",
    "plt.figure(figsize=(15,6))\n",
    "sns.countplot(data=adv_2022, x=\"Hierarchy Level 3\", y=\"Sales Value\", hue=\"Product category\", palette=\"pastel\")\n",
    "plt.gca().yaxis.set_major_formatter(ticker.FuncFormatter(millions_formatter)) \n",
    "\n",
    "plt.xlabel(\"Hierarchy Level 3\")\n",
    "plt.ylabel(\"Sales Value (in millions)\")\n",
    "plt.title(\"Count of Sales Values by Hierarchy Level 3 and Product Category\")\n",
    "plt.show()\n",
    "\n",
    "\n"
   ]
  },
  {
   "cell_type": "code",
   "execution_count": null,
   "id": "815e8791",
   "metadata": {},
   "outputs": [],
   "source": [
    "# Import necessary libraries\n",
    "import seaborn as sns\n",
    "import matplotlib.pyplot as plt\n",
    "import matplotlib.ticker as ticker\n",
    "\n",
    "grouped_data = adv_2022.groupby(['Hierarchy Level 3', 'Product category'])['Sales Value'].sum().reset_index()\n",
    "sorted_data = grouped_data.sort_values(['Hierarchy Level 3', 'Product category'], ascending=True)\n",
    "\n",
    "# Define function to format y-axis tick labels as millions\n",
    "def millions_formatter(x, pos):\n",
    "    return f\"${x/1000000:.1f}M\"\n",
    "\n",
    "# Create the bar plot with Sales Value as y-axis, Hierarchy Level 3 as x-axis, and Product category as hue\n",
    "plt.figure(figsize=(15,10))\n",
    "sns.barplot(data=sorted_data, x=\"Hierarchy Level 3\", y=\"Sales Value\", hue=\"Product category\", palette=\"pastel\", estimator=sum)\n",
    "\n",
    "# Add labels for the total Sales Values above each bar\n",
    "ax = plt.gca()\n",
    "for p in ax.patches:\n",
    "    ax.text(p.get_x() + p.get_width() / 2., p.get_height(), '${:.1f}M'.format(p.get_height()/1000000), \n",
    "            fontsize=10, color='black', ha='center', va='bottom')\n",
    "\n",
    "# Format y-axis tick labels as millions\n",
    "ax.yaxis.set_major_formatter(ticker.FuncFormatter(millions_formatter))\n",
    "\n",
    "# Set axis labels and title\n",
    "plt.xlabel(\"Hierarchy Level 3\")\n",
    "plt.ylabel(\"Sales Value (in millions)\")\n",
    "plt.title(\"Sum of Sales Values by Hierarchy Level 3 and Product Category\")\n",
    "\n",
    "plt.show()\n"
   ]
  },
  {
   "cell_type": "code",
   "execution_count": null,
   "id": "514c03da",
   "metadata": {},
   "outputs": [],
   "source": [
    "plt.figure(figsize = (4,6))\n",
    "grouped = adv_2022.groupby(['Hierarchy Level 3', 'Sales Value']).sum().reset_index()\n",
    "\n",
    "plt.pie(grouped[\"Hierarchy Level 3\"].value_counts(), labels = grouped[\"Hierarchy Level 3\"].value_counts().index, autopct='%1.1f%%', colors = [\"lightgreen\",\"skyblue\", \"lightpink\", \"#CC7DFF\"])\n",
    "plt.title(\"CU level Percentage of sales\")\n",
    "\n",
    "plt.show()"
   ]
  },
  {
   "cell_type": "code",
   "execution_count": null,
   "id": "b8f77dfd",
   "metadata": {},
   "outputs": [],
   "source": [
    "# Import necessary libraries\n",
    "import seaborn as sns\n",
    "import matplotlib.pyplot as plt\n",
    "import matplotlib.ticker as ticker\n",
    "\n",
    "grouped_data = adv_2022.groupby(['Hierarchy Level 2', 'Product category'])['Sales Value'].sum().reset_index()\n",
    "sorted_data = grouped_data.sort_values(['Hierarchy Level 2', 'Product category'], ascending=True)\n",
    "# Define function to format y-axis tick labels as millions\n",
    "def millions_formatter(x, pos):\n",
    "    return f\"${x/1000000:.1f}M\"\n",
    "\n",
    "# Create the bar plot with Sales Value as y-axis, Hierarchy Level 3 as x-axis, and Product category as hue\n",
    "plt.figure(figsize=(20,13))\n",
    "sns.barplot(data=sorted_data, x=\"Hierarchy Level 2\", y=\"Sales Value\", hue=\"Product category\", palette=\"pastel\", estimator=sum, width=0.8)\n",
    "\n",
    "# Add labels for the total Sales Values above each bar\n",
    "##ax = plt.gca()\n",
    "##for p in ax.patches:\n",
    "##    ax.text(p.get_x() + p.get_width() / 2., p.get_height(), '${:.1f}M'.format(p.get_height()/1000000), \n",
    "          ##  fontsize=10, color='black', ha='center', va='bottom')\n",
    "\n",
    "# Format y-axis tick labels as millions\n",
    "ax.yaxis.set_major_formatter(ticker.FuncFormatter(millions_formatter))\n",
    "\n",
    "# Set axis labels and title\n",
    "plt.xlabel(\"Hierarchy Level 2\")\n",
    "plt.ylabel(\"Sales Value (in millions)\")\n",
    "plt.title(\"Sum of Sales Values by Hierarchy Level 2 and Product Category\")\n",
    "plt.xticks(rotation=90)\n",
    "\n",
    "plt.show()\n"
   ]
  },
  {
   "cell_type": "code",
   "execution_count": null,
   "id": "eae2d90b",
   "metadata": {},
   "outputs": [],
   "source": [
    "plt.figure(figsize = (13,13))\n",
    "grouped = adv_2022.groupby(['Hierarchy Level 2', 'Sales Value']).sum().reset_index()\n",
    "sorted_data = grouped_data.sort_values('Hierarchy Level 2', ascending=True)\n",
    "\n",
    "plt.pie(sorted_data[\"Hierarchy Level 2\"].value_counts(), labels = grouped[\"Hierarchy Level 2\"].value_counts().index, autopct='%1.1f%%', colors = [\"lightgreen\",\"skyblue\", \"lightpink\", \"#CC7DFF\"])\n",
    "plt.title(\"CA level Percentage of sales\")\n",
    "\n",
    "plt.show()"
   ]
  },
  {
   "cell_type": "code",
   "execution_count": null,
   "id": "8720a04a",
   "metadata": {},
   "outputs": [],
   "source": [
    "grouped"
   ]
  },
  {
   "cell_type": "code",
   "execution_count": null,
   "id": "2f789cbe",
   "metadata": {},
   "outputs": [],
   "source": [
    "sns.boxplot(y=adv_2022['Sales Value'])\n",
    "plt.show()"
   ]
  },
  {
   "cell_type": "code",
   "execution_count": null,
   "id": "61c96376",
   "metadata": {},
   "outputs": [],
   "source": [
    "sns.boxplot(x=adv_2022['Hierarchy Level 3'], y=adv_2022['Sales Value'])\n",
    "plt.show()"
   ]
  },
  {
   "cell_type": "code",
   "execution_count": null,
   "id": "6082d476",
   "metadata": {},
   "outputs": [],
   "source": [
    "plt.figure(figsize = (10,7))\n",
    "sns.boxplot(x=adv_2021['Product category'], y=adv_2021['Sales Value'])\n",
    "plt.show()"
   ]
  },
  {
   "cell_type": "code",
   "execution_count": null,
   "id": "309ba20e",
   "metadata": {},
   "outputs": [],
   "source": [
    "from matplotlib.pyplot import figure\n",
    "figure(figsize=(20, 10), dpi=80)\n",
    "ax=sns.barplot(x='Product category',y='Sales Value', hue=\"Hierarchy Level 3\" , data=adv_2022)"
   ]
  },
  {
   "cell_type": "code",
   "execution_count": null,
   "id": "87d77701",
   "metadata": {},
   "outputs": [],
   "source": [
    "df_by_country=adv_2022.groupby(['Hierarchy Level 3','Product category'])['Sales Value'].sum().reset_index()\n",
    "df_by_country"
   ]
  },
  {
   "cell_type": "code",
   "execution_count": null,
   "id": "1cadc90d",
   "metadata": {},
   "outputs": [],
   "source": [
    "from matplotlib.pyplot import figure\n",
    "figure(figsize=(20, 10), dpi=80)\n",
    "ax=sns.barplot(x='Hierarchy Level 2',y='Sales Value', hue=\"Product category\" , data=adv_2022)"
   ]
  },
  {
   "cell_type": "code",
   "execution_count": null,
   "id": "f7fc67b4",
   "metadata": {},
   "outputs": [],
   "source": []
  },
  {
   "cell_type": "code",
   "execution_count": null,
   "id": "f8b9b8b7",
   "metadata": {},
   "outputs": [],
   "source": [
    "corr=adv_2022.corr()\n",
    "figure(figsize=(13, 10), dpi=80)\n",
    "sns.heatmap(corr, cmap=\"coolwarm\")"
   ]
  },
  {
   "cell_type": "code",
   "execution_count": null,
   "id": "adfebbbd",
   "metadata": {},
   "outputs": [],
   "source": [
    "adv_2022.corr()['Sales Value']"
   ]
  },
  {
   "cell_type": "code",
   "execution_count": null,
   "id": "1e6dac88",
   "metadata": {},
   "outputs": [],
   "source": [
    "adv_2022['Farmer Conversion'].corr(adv_2022['Active Retailers']) "
   ]
  },
  {
   "cell_type": "code",
   "execution_count": null,
   "id": "266089f7",
   "metadata": {},
   "outputs": [],
   "source": [
    "adv_2022['Total Intent Value'].corr(adv_2022['Intended Commission']) "
   ]
  },
  {
   "cell_type": "code",
   "execution_count": null,
   "id": "6db28aab",
   "metadata": {},
   "outputs": [],
   "source": [
    "adv_2022['Distinct count of Farmers with multiple purchases'].corr(adv_2022['Farmers with multiple Intents']) \n"
   ]
  },
  {
   "cell_type": "code",
   "execution_count": null,
   "id": "a4d74c96",
   "metadata": {},
   "outputs": [],
   "source": [
    "adv_2022['Total Order Intents'].corr(adv_2022['Farmers with Intent']) "
   ]
  },
  {
   "cell_type": "code",
   "execution_count": null,
   "id": "2e5f0b45",
   "metadata": {},
   "outputs": [],
   "source": [
    "results = adv_2022.groupby('Product category').sum().sort_values(by='Sales Value',ascending=True)\n",
    "categories = results.index.tolist()\n",
    "font1 = {'color':'#676767','size':11,'weight':'bold'}\n",
    "font2 = {'color':'#919093','size':9,'weight':'bold'}\n",
    "\n",
    "fig,ax = plt.subplots(figsize=(6,4))\n",
    "bars = ax.barh(categories,results['Sales Value'],zorder=2,color='#CEB992')\n",
    "\n",
    "ax.grid(color='#CACACA', linestyle='--', linewidth=0.5)\n",
    "ax.set_title('Sales by Category',fontdict = font, loc = 'left')\n",
    "ax.set_ylabel('', fontdict = font2)\n",
    "ax.tick_params(axis='x', labelsize=9)\n",
    "ax.tick_params(axis='y', labelsize=9)\n",
    "ax.set_facecolor('#F2F2F2')\n",
    "\n",
    "plt.gca().xaxis.set_major_formatter(FuncFormatter(lambda x,_: '{:,.0f}M'.format(x/1000000)))\n",
    "\n",
    "plt.show()"
   ]
  },
  {
   "cell_type": "code",
   "execution_count": null,
   "id": "960f13e4",
   "metadata": {},
   "outputs": [],
   "source": [
    "# Create a pivot of HL3 and Product Type\n",
    "resultspivot = adv_2022.groupby([\"Hierarchy Level 3\",\"Product category\"]).sum()\n",
    "pivot = resultspivot.groupby([\"Hierarchy Level 3\",\"Product category\"])[\"Sales Value\"].sum().unstack().fillna(0)\n",
    "pivot = pivot.loc[pivot.sum(axis=1).sort_values(ascending=False).index]\n",
    "pivot"
   ]
  },
  {
   "cell_type": "code",
   "execution_count": null,
   "id": "8a25dafb",
   "metadata": {},
   "outputs": [],
   "source": [
    "# Graph the pivot table\n",
    "ax = pivot.plot.bar(stacked=True, color=['#5B867F','#84DCCF','#CEB234','#CEB992','#CEB552'], width=0.8, figsize=(8, 4), zorder=2)\n",
    "\n",
    "font3 = {'color':'#474747','size':6,'weight':'bold'}\n",
    "\n",
    "ax.set_facecolor('#F2F2F2')\n",
    "ax.set_title(\"Product Sales by caregory\", fontdict = font, loc='left')\n",
    "ax.set_xlabel('', fontdict = font3)\n",
    "ax.set_ylabel('', fontdict = font3)\n",
    "ax.tick_params(axis='x', labelsize=8)\n",
    "ax.tick_params(axis='y', labelsize=8)\n",
    "ax.set_xticklabels(ax.get_xticklabels(), rotation=45, ha='right')\n",
    "ax.legend(prop={'size':8})\n",
    "ax.grid(color='#CACACA', linestyle='--', linewidth=0.5)\n",
    "\n",
    "# Use FuncFormatter to add commas to x-axis labels\n",
    "plt.gca().yaxis.set_major_formatter(FuncFormatter(lambda x, _: format(int(x), ',')))\n",
    "\n",
    "plt.show()"
   ]
  },
  {
   "attachments": {},
   "cell_type": "markdown",
   "id": "487f24c8",
   "metadata": {},
   "source": [
    "# What is the historical trend of sales?"
   ]
  },
  {
   "cell_type": "code",
   "execution_count": null,
   "id": "54e52f0d",
   "metadata": {},
   "outputs": [],
   "source": [
    "ts=data.groupby([\"date\",'invoice_date'])[\"price\"].sum().sort_index()\n",
    "ts = ts.droplevel(level=0)\n",
    "rolling_avg = ts.rolling(window=20).mean()\n",
    "font5 = {'color':'#474747','size':10,'weight':'bold'}\n",
    "\n",
    "ts.astype('float')\n",
    "plt.figure(figsize=(15,8))\n",
    "plt.gca().set_xlabel(None)\n",
    "plt.title('Historical Sales', fontdict = font5, loc='left')\n",
    "\n",
    "# Use FuncFormatter to add commas to x-axis labels\n",
    "plt.gca().yaxis.set_major_formatter(FuncFormatter(lambda x, _: format(int(x), ',')))\n",
    "\n",
    "plt.gca().set_facecolor('#F2F2F2')\n",
    "plt.gca().grid(color='#CACACA', linestyle='--', linewidth=0.5)\n",
    "\n",
    "ts.plot(label='Sales', color = '#6BA7DF', linewidth=2, zorder=2) \n",
    "rolling_avg.plot(label='20-Day Rolling Average', linewidth=2, color = '#FE9E00') \n",
    "plt.grid(True, color='#CACACA', linestyle='--', linewidth=0.5)\n",
    "plt.legend()\n",
    "plt.show()"
   ]
  },
  {
   "attachments": {},
   "cell_type": "markdown",
   "id": "3da09fac",
   "metadata": {},
   "source": [
    "# What is the distribution of sales by product type ?\n"
   ]
  },
  {
   "cell_type": "code",
   "execution_count": null,
   "id": "6bc59299",
   "metadata": {},
   "outputs": [],
   "source": [
    "What is the distribution of sales by product type and payment method?\n",
    "# Create a pivot of Payment Type and Product Type\n",
    "paymentpivot = data.groupby([\"category\",\"payment_method\"]).sum()\n",
    "paymentpivot2 = paymentpivot.groupby([\"category\",\"payment_method\"])[\"price\"].sum().unstack().fillna(0)\n",
    "paymentpivot2 = paymentpivot2.loc[pivot.sum(axis=1).sort_values(ascending=False).index]\n",
    "paymentpivot2"
   ]
  },
  {
   "cell_type": "code",
   "execution_count": null,
   "id": "2c4a9ce6",
   "metadata": {},
   "outputs": [],
   "source": [
    "# Graph the pivot table\n",
    "ax = paymentpivot2.plot.bar(color=['#73937E','#CEB992','#585563'], width=0.7, figsize=(9, 5), zorder=2)\n",
    "\n",
    "\n",
    "ax.set_facecolor('#F2F2F2')\n",
    "ax.set_title(\"Sales by Product Type and Payment Method\", fontdict = font, loc='left')\n",
    "ax.set_xlabel('', fontdict = font3)\n",
    "ax.set_ylabel('', fontdict = font3)\n",
    "ax.tick_params(axis='x', labelsize=8)\n",
    "ax.tick_params(axis='y', labelsize=8)\n",
    "ax.set_xticklabels(ax.get_xticklabels(), rotation=45, ha='right')\n",
    "ax.legend(prop={'size':8})\n",
    "ax.grid(color='#CACACA', linestyle='--', linewidth=0.5)\n",
    "\n",
    "# Use FuncFormatter to add commas to y-axis labels\n",
    "ax.yaxis.set_major_formatter(FuncFormatter(lambda x, _: format(int(x), ',')))\n",
    "\n",
    "plt.show()"
   ]
  },
  {
   "cell_type": "code",
   "execution_count": null,
   "id": "fa27685c",
   "metadata": {},
   "outputs": [],
   "source": []
  },
  {
   "cell_type": "code",
   "execution_count": null,
   "id": "3c46d757",
   "metadata": {},
   "outputs": [],
   "source": []
  },
  {
   "cell_type": "code",
   "execution_count": null,
   "id": "9e3a1a69",
   "metadata": {},
   "outputs": [],
   "source": [
    "df['shopping_mall'].value_counts().plot(kind='pie', subplots=True, autopct='%1.2f', figsize=(8,8), title='The most visited shopping malls')\n",
    "plt.show()"
   ]
  },
  {
   "cell_type": "code",
   "execution_count": null,
   "id": "10ea4338",
   "metadata": {},
   "outputs": [],
   "source": [
    "df['shopping_mall'].value_counts()"
   ]
  },
  {
   "cell_type": "code",
   "execution_count": null,
   "id": "018ab79f",
   "metadata": {},
   "outputs": [],
   "source": []
  },
  {
   "cell_type": "code",
   "execution_count": null,
   "id": "e7278da6",
   "metadata": {},
   "outputs": [],
   "source": [
    "df['gender'].value_counts().plot(kind='pie', subplots=True, autopct='%1.2f', figsize=(8,8), title='Gender distribution')\n",
    "plt.show()"
   ]
  },
  {
   "cell_type": "code",
   "execution_count": null,
   "id": "15714722",
   "metadata": {},
   "outputs": [],
   "source": [
    "df['age'].value_counts()"
   ]
  },
  {
   "attachments": {},
   "cell_type": "markdown",
   "id": "3ff096bd",
   "metadata": {},
   "source": [
    "# Distribution by"
   ]
  },
  {
   "cell_type": "code",
   "execution_count": null,
   "id": "d7dfb421",
   "metadata": {},
   "outputs": [],
   "source": [
    "def age_group_(x):\n",
    "    if x <= 20 :\n",
    "        x= '18-20yo'\n",
    "    elif x >20 and x <=30:\n",
    "        x= '21-30yo'\n",
    "    elif x >30 and x <=40:\n",
    "        x= '31-40yo'\n",
    "    elif x >40 and x <=50:\n",
    "        x= '41-50yo'\n",
    "    elif x >50 and x <=60:\n",
    "        x= '51-60yo'\n",
    "    else:\n",
    "        x= '61yo+'\n",
    "    return x"
   ]
  },
  {
   "cell_type": "code",
   "execution_count": null,
   "id": "9cd05464",
   "metadata": {},
   "outputs": [],
   "source": [
    "df['age_group']=df['age'].apply(age_group_)"
   ]
  },
  {
   "cell_type": "code",
   "execution_count": null,
   "id": "832bc83b",
   "metadata": {},
   "outputs": [],
   "source": [
    "df.groupby('age_group')['gender'].agg(['count'])"
   ]
  },
  {
   "attachments": {},
   "cell_type": "markdown",
   "id": "079ce57b",
   "metadata": {},
   "source": [
    "# Distribution of the average product price"
   ]
  },
  {
   "cell_type": "code",
   "execution_count": null,
   "id": "bb6d75df",
   "metadata": {},
   "outputs": [],
   "source": [
    "df.groupby('category')['price'].agg(['mean','sum']).sort_values(by='mean',ascending=False)"
   ]
  },
  {
   "cell_type": "code",
   "execution_count": null,
   "id": "bca22b73",
   "metadata": {},
   "outputs": [],
   "source": [
    "fig = px.box(df, x='category', color='category', y='price', title='Distribution of the average product price', width=1200, height=600 ,template='plotly_dark')\n",
    "fig.show()"
   ]
  },
  {
   "cell_type": "code",
   "execution_count": null,
   "id": "9ee7f7ef",
   "metadata": {},
   "outputs": [],
   "source": [
    "plt.subplots(figsize=(18,10))\n",
    "plt.xticks(rotation=90)\n",
    "sns.stripplot(y='category', x='price', data=df, palette='Pastel1', s=15, marker='o', linewidth=1, alpha=0.1).set(title='Distribution of the average product price')\n",
    "plt.show()"
   ]
  },
  {
   "cell_type": "code",
   "execution_count": null,
   "id": "e1b948e0",
   "metadata": {},
   "outputs": [],
   "source": [
    "fig = px.histogram(df, x='age', y='price', color='shopping_mall',barmode='relative',marginal='box', title='Distribution of the price of goods in shopping centers and the costs of buyers', width=1200, height=600 ,template='plotly_dark')\n",
    "fig.show()"
   ]
  },
  {
   "cell_type": "code",
   "execution_count": null,
   "id": "f5bf5eb6",
   "metadata": {},
   "outputs": [],
   "source": [
    "df['price'] = df['price'].astype(int)"
   ]
  },
  {
   "cell_type": "code",
   "execution_count": null,
   "id": "ce5aab40",
   "metadata": {},
   "outputs": [],
   "source": [
    "from sklearn import svm, preprocessing\n",
    "from sklearn.model_selection import train_test_split\n",
    "from sklearn.linear_model import LinearRegression\n",
    "from sklearn import metrics\n",
    "from sklearn.metrics import r2_score\n",
    "from matplotlib import style"
   ]
  },
  {
   "attachments": {},
   "cell_type": "markdown",
   "id": "71041de9",
   "metadata": {},
   "source": [
    "# Distribution price by date"
   ]
  },
  {
   "cell_type": "code",
   "execution_count": null,
   "id": "8fa1e209",
   "metadata": {},
   "outputs": [],
   "source": [
    "df['invoice_date']= pd.to_datetime(df['invoice_date'])"
   ]
  },
  {
   "cell_type": "code",
   "execution_count": null,
   "id": "306fdbaf",
   "metadata": {},
   "outputs": [],
   "source": [
    "df.index = df.invoice_date"
   ]
  },
  {
   "cell_type": "code",
   "execution_count": null,
   "id": "8ff34bbe",
   "metadata": {},
   "outputs": [],
   "source": [
    "plt.figure(figsize=(20,10))\n",
    "df.resample('M').customer_id.nunique().plot()\n",
    "plt.show()"
   ]
  },
  {
   "cell_type": "code",
   "execution_count": null,
   "id": "e171c231",
   "metadata": {},
   "outputs": [],
   "source": [
    "plt.figure(figsize=(18,10))\n",
    "df.resample('D').customer_id.nunique().rolling(10).mean().plot()\n",
    "plt.show()"
   ]
  },
  {
   "cell_type": "code",
   "execution_count": null,
   "id": "1efa45d8",
   "metadata": {},
   "outputs": [],
   "source": [
    "plt.figure(figsize=(18,10))\n",
    "df.resample('M').price.mean().plot()\n",
    "plt.show()"
   ]
  },
  {
   "cell_type": "code",
   "execution_count": null,
   "id": "d4d7cb7a",
   "metadata": {},
   "outputs": [],
   "source": [
    "fig = px.histogram(df, x='invoice_date', y='price', color='gender',barmode='relative',marginal='box', title='Distribution of the price of goods in shopping centers and the costs of buyers', width=1200, height=600 ,template='plotly_dark')\n",
    "fig.show()"
   ]
  },
  {
   "cell_type": "code",
   "execution_count": null,
   "id": "b76952e6",
   "metadata": {},
   "outputs": [],
   "source": []
  },
  {
   "cell_type": "code",
   "execution_count": null,
   "id": "1916a12e",
   "metadata": {},
   "outputs": [],
   "source": []
  },
  {
   "cell_type": "code",
   "execution_count": null,
   "id": "8f68fcf3",
   "metadata": {},
   "outputs": [],
   "source": [
    "## We Will do Age Range Column To help us In Analysis\n",
    "cut_labels_4 = ['10-20', '21-30', '31-50', '51-70']\n",
    "cut_bins = [0,20, 30, 50, 71]\n",
    "df[\"Age_Range\"] =pd.cut(df.Age,\n",
    "                            bins=cut_bins, \n",
    "                         labels=cut_labels_4)"
   ]
  },
  {
   "cell_type": "code",
   "execution_count": null,
   "id": "6a8e761d",
   "metadata": {},
   "outputs": [],
   "source": [
    "#Average Total Payment For Both Genders\n",
    "df.groupby('Gender')['Total_payment'].describe()"
   ]
  },
  {
   "cell_type": "code",
   "execution_count": null,
   "id": "cb272bc3",
   "metadata": {},
   "outputs": [],
   "source": [
    "#The Correlation Age & Bill Price\n",
    "df[['Age','Total_payment']].corr()"
   ]
  },
  {
   "cell_type": "code",
   "execution_count": null,
   "id": "2d0526df",
   "metadata": {},
   "outputs": [],
   "source": [
    "px.imshow(df[['Age','Total_payment']].corr(),text_auto=True , color_continuous_scale= 'redor')"
   ]
  },
  {
   "cell_type": "code",
   "execution_count": null,
   "id": "c42e8df9",
   "metadata": {},
   "outputs": [],
   "source": [
    "#Average Price for each category\n",
    "px.box(df , y= 'Price', color='Category')"
   ]
  },
  {
   "cell_type": "code",
   "execution_count": null,
   "id": "b23f3fe7",
   "metadata": {},
   "outputs": [],
   "source": [
    "#Performance of Malls across years\n",
    "df5 =df.groupby(['MonthNo','Month','Shopping_mall','Year'])['Total_payment'].sum().reset_index()\n",
    "df5"
   ]
  },
  {
   "cell_type": "code",
   "execution_count": null,
   "id": "e8932a1b",
   "metadata": {},
   "outputs": [],
   "source": [
    "px.bar(df5 , x='Year' , y='Total_payment' , \n",
    "       color='Shopping_mall'\n",
    "      ,barmode='group')"
   ]
  },
  {
   "cell_type": "code",
   "execution_count": null,
   "id": "8f900535",
   "metadata": {},
   "outputs": [],
   "source": []
  },
  {
   "cell_type": "code",
   "execution_count": null,
   "id": "3b54c55f",
   "metadata": {},
   "outputs": [],
   "source": []
  },
  {
   "cell_type": "code",
   "execution_count": null,
   "id": "705c18b7",
   "metadata": {},
   "outputs": [],
   "source": []
  },
  {
   "cell_type": "code",
   "execution_count": null,
   "id": "bcb443bc",
   "metadata": {},
   "outputs": [],
   "source": []
  },
  {
   "cell_type": "code",
   "execution_count": null,
   "id": "cbdd6947",
   "metadata": {},
   "outputs": [],
   "source": []
  },
  {
   "cell_type": "code",
   "execution_count": null,
   "id": "a02cded8",
   "metadata": {},
   "outputs": [],
   "source": []
  },
  {
   "cell_type": "code",
   "execution_count": null,
   "id": "667a6cf6",
   "metadata": {},
   "outputs": [],
   "source": []
  },
  {
   "cell_type": "code",
   "execution_count": null,
   "id": "c39718b2",
   "metadata": {},
   "outputs": [],
   "source": []
  },
  {
   "cell_type": "code",
   "execution_count": null,
   "id": "cf44be43",
   "metadata": {},
   "outputs": [],
   "source": []
  },
  {
   "cell_type": "code",
   "execution_count": null,
   "id": "9f7e4e2f",
   "metadata": {},
   "outputs": [],
   "source": []
  },
  {
   "cell_type": "code",
   "execution_count": null,
   "id": "7a1d9359",
   "metadata": {},
   "outputs": [],
   "source": []
  },
  {
   "cell_type": "code",
   "execution_count": null,
   "id": "a064ab23",
   "metadata": {},
   "outputs": [],
   "source": []
  },
  {
   "cell_type": "code",
   "execution_count": null,
   "id": "2054ccd3",
   "metadata": {},
   "outputs": [],
   "source": []
  },
  {
   "cell_type": "code",
   "execution_count": null,
   "id": "b9221afd",
   "metadata": {},
   "outputs": [],
   "source": []
  },
  {
   "cell_type": "code",
   "execution_count": null,
   "id": "6a4ce584",
   "metadata": {},
   "outputs": [],
   "source": []
  },
  {
   "cell_type": "code",
   "execution_count": null,
   "id": "44164b56",
   "metadata": {},
   "outputs": [],
   "source": []
  },
  {
   "cell_type": "code",
   "execution_count": null,
   "id": "a65e235a",
   "metadata": {},
   "outputs": [],
   "source": []
  },
  {
   "cell_type": "code",
   "execution_count": null,
   "id": "f4b379ee",
   "metadata": {},
   "outputs": [],
   "source": []
  },
  {
   "cell_type": "code",
   "execution_count": null,
   "id": "69fcec17",
   "metadata": {},
   "outputs": [],
   "source": []
  },
  {
   "cell_type": "code",
   "execution_count": null,
   "id": "8bb27940",
   "metadata": {},
   "outputs": [],
   "source": []
  },
  {
   "cell_type": "code",
   "execution_count": null,
   "id": "87273b56",
   "metadata": {},
   "outputs": [],
   "source": []
  },
  {
   "cell_type": "code",
   "execution_count": null,
   "id": "6102cae2",
   "metadata": {},
   "outputs": [],
   "source": []
  },
  {
   "cell_type": "code",
   "execution_count": null,
   "id": "f8e158a4",
   "metadata": {},
   "outputs": [],
   "source": []
  },
  {
   "cell_type": "code",
   "execution_count": null,
   "id": "14b93efb",
   "metadata": {},
   "outputs": [],
   "source": []
  },
  {
   "cell_type": "code",
   "execution_count": null,
   "id": "899ce2e4",
   "metadata": {},
   "outputs": [],
   "source": []
  },
  {
   "cell_type": "code",
   "execution_count": null,
   "id": "5271d19e",
   "metadata": {},
   "outputs": [],
   "source": []
  },
  {
   "cell_type": "code",
   "execution_count": null,
   "id": "6563dc05",
   "metadata": {},
   "outputs": [],
   "source": []
  },
  {
   "cell_type": "code",
   "execution_count": null,
   "id": "4fc7c412",
   "metadata": {},
   "outputs": [],
   "source": []
  },
  {
   "cell_type": "code",
   "execution_count": null,
   "id": "b85fe709",
   "metadata": {},
   "outputs": [],
   "source": []
  },
  {
   "cell_type": "code",
   "execution_count": null,
   "id": "8789e6e2",
   "metadata": {},
   "outputs": [],
   "source": []
  },
  {
   "cell_type": "code",
   "execution_count": null,
   "id": "fe9f2752",
   "metadata": {},
   "outputs": [],
   "source": []
  },
  {
   "cell_type": "code",
   "execution_count": null,
   "id": "b599a47f",
   "metadata": {},
   "outputs": [],
   "source": []
  },
  {
   "cell_type": "code",
   "execution_count": null,
   "id": "b508b57c",
   "metadata": {},
   "outputs": [],
   "source": []
  },
  {
   "cell_type": "code",
   "execution_count": null,
   "id": "7463d88a",
   "metadata": {},
   "outputs": [],
   "source": []
  },
  {
   "cell_type": "code",
   "execution_count": null,
   "id": "bae83bc2",
   "metadata": {},
   "outputs": [],
   "source": []
  },
  {
   "cell_type": "code",
   "execution_count": null,
   "id": "32c7669a",
   "metadata": {},
   "outputs": [],
   "source": []
  },
  {
   "cell_type": "code",
   "execution_count": null,
   "id": "912c5c6c",
   "metadata": {},
   "outputs": [],
   "source": []
  },
  {
   "cell_type": "code",
   "execution_count": null,
   "id": "6c1a8d06",
   "metadata": {},
   "outputs": [],
   "source": []
  },
  {
   "cell_type": "code",
   "execution_count": null,
   "id": "d2a0a605",
   "metadata": {},
   "outputs": [],
   "source": []
  },
  {
   "cell_type": "code",
   "execution_count": null,
   "id": "8eb189b8",
   "metadata": {},
   "outputs": [],
   "source": []
  },
  {
   "cell_type": "code",
   "execution_count": null,
   "id": "c0d2d655",
   "metadata": {},
   "outputs": [],
   "source": []
  },
  {
   "cell_type": "code",
   "execution_count": null,
   "id": "655953ea",
   "metadata": {},
   "outputs": [],
   "source": []
  },
  {
   "cell_type": "code",
   "execution_count": null,
   "id": "2abf376f",
   "metadata": {},
   "outputs": [],
   "source": []
  }
 ],
 "metadata": {
  "kernelspec": {
   "display_name": "Python 3 (ipykernel)",
   "language": "python",
   "name": "python3"
  },
  "language_info": {
   "codemirror_mode": {
    "name": "ipython",
    "version": 3
   },
   "file_extension": ".py",
   "mimetype": "text/x-python",
   "name": "python",
   "nbconvert_exporter": "python",
   "pygments_lexer": "ipython3",
   "version": "3.10.4"
  }
 },
 "nbformat": 4,
 "nbformat_minor": 5
}
