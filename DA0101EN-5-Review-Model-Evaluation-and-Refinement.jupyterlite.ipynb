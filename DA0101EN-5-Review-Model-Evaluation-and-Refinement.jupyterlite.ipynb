{
  "cells": [
    {
      "cell_type": "markdown",
      "id": "15f16c18-263e-448f-8608-842767bf7489",
      "metadata": {},
      "outputs": [],
      "source": [
        "<center>\n",
        "    <img src=\"https://cf-courses-data.s3.us.cloud-object-storage.appdomain.cloud/IBMDeveloperSkillsNetwork-DA0101EN-SkillsNetwork/labs/Module%205/images/IDSNlogo.png\" width=\"300\" alt=\"cognitiveclass.ai logo\">\n",
        "</center>\n",
        "\n",
        "# Model Evaluation and Refinement\n",
        "\n",
        "Estimated time needed: **30** minutes\n",
        "\n",
        "## Objectives\n",
        "\n",
        "After completing this lab you will be able to:\n",
        "\n",
        "*   Evaluate and refine prediction models\n"
      ]
    },
    {
      "cell_type": "markdown",
      "id": "3460750d-f3df-4f6f-9d54-6db044750b11",
      "metadata": {},
      "outputs": [],
      "source": [
        "<h2>Table of Contents</h2>\n",
        "<ul>\n",
        "    <li><a href=\"https://#ref1\">Model Evaluation </a></li>\n",
        "    <li><a href=\"https://#ref2\">Over-fitting, Under-fitting and Model Selection </a></li>\n",
        "    <li><a href=\"https://#ref3\">Ridge Regression </a></li>\n",
        "    <li><a href=\"https://#ref4\">Grid Search</a></li>\n",
        "</ul>\n"
      ]
    },
    {
      "cell_type": "markdown",
      "id": "576b27ae-216a-4746-84ea-8d3118eabff6",
      "metadata": {},
      "outputs": [],
      "source": [
        "<h4>Setup</h4>\n"
      ]
    },
    {
      "cell_type": "markdown",
      "id": "496a7297-bce2-4202-835f-4d49ca9f4e4f",
      "metadata": {},
      "outputs": [],
      "source": [
        "you are running the lab in your  browser, so we will install the libraries using `piplite`\n"
      ]
    },
    {
      "cell_type": "code",
      "id": "30d4f1c0-7400-4f85-abb3-b6aadc70556a",
      "metadata": {},
      "outputs": [],
      "source": [
        "#you are running the lab in your  browser, so we will install the libraries using ``piplite``\nimport piplite\nimport micropip\nawait piplite.install(['pandas'])\nawait piplite.install(['matplotlib'])\nawait piplite.install(['scipy'])\nawait piplite.install(['seaborn'])\nawait micropip.install(['ipywidgets'],keep_going=True)\nawait micropip.install(['tqdm'],keep_going=True)"
      ]
    },
    {
      "cell_type": "markdown",
      "id": "89d47017-9354-4336-b824-4165e10077ac",
      "metadata": {},
      "outputs": [],
      "source": [
        "If you run the lab locally using Anaconda, you can load the correct library and versions by uncommenting the following:\n"
      ]
    },
    {
      "cell_type": "code",
      "id": "307db45b-a3ee-4f8f-85b5-b0b91d01882f",
      "metadata": {},
      "outputs": [],
      "source": [
        "#install specific version of libraries used in lab\n#! mamba install pandas==1.3.3 -y\n#! mamba install numpy=1.21.2 -y\n#! mamba install sklearn=0.20.1 -y\n#! mamba install   ipywidgets=7.4.2 -y\n#! mamba install tqdm"
      ]
    },
    {
      "cell_type": "code",
      "id": "d355aa85-65d5-4871-957b-2d5232074375",
      "metadata": {},
      "outputs": [],
      "source": [
        "import pandas as pd\nimport numpy as np"
      ]
    },
    {
      "cell_type": "markdown",
      "id": "7590de03-ed34-476c-8104-b234aabbf4f8",
      "metadata": {},
      "outputs": [],
      "source": [
        "This function will download the dataset into your browser\n"
      ]
    },
    {
      "cell_type": "code",
      "id": "d6258191-96bf-4a7a-8133-ffa339c86da2",
      "metadata": {},
      "outputs": [],
      "source": [
        "#This function will download the dataset into your browser \n\nfrom pyodide.http import pyfetch\n\nasync def download(url, filename):\n    response = await pyfetch(url)\n    if response.status == 200:\n        with open(filename, \"wb\") as f:\n            f.write(await response.bytes())"
      ]
    },
    {
      "cell_type": "code",
      "id": "1792786f-cc50-4a6a-a931-3171272edc93",
      "metadata": {},
      "outputs": [],
      "source": [
        "import pandas as pd\nimport numpy as np\n"
      ]
    },
    {
      "cell_type": "markdown",
      "id": "44342d47-bdb8-4fd2-8200-9998736fa36b",
      "metadata": {},
      "outputs": [],
      "source": [
        "This dataset was hosted on IBM Cloud object. Click <a href=\"https://cocl.us/DA101EN_object_storage?utm_medium=Exinfluencer&utm_source=Exinfluencer&utm_content=000026UJ&utm_term=10006555&utm_id=NA-SkillsNetwork-Channel-SkillsNetworkCoursesIBMDeveloperSkillsNetworkDA0101ENSkillsNetwork20235326-2021-01-01\">HERE</a> for free storage.\n"
      ]
    },
    {
      "cell_type": "code",
      "id": "739181c5-4a09-441f-ae84-9ef50f6eab49",
      "metadata": {},
      "outputs": [],
      "source": [
        "path = 'https://cf-courses-data.s3.us.cloud-object-storage.appdomain.cloud/IBMDeveloperSkillsNetwork-DA0101EN-SkillsNetwork/labs/Data%20files/module_5_auto.csv'"
      ]
    },
    {
      "cell_type": "markdown",
      "id": "881bb64f-09d8-4625-bf67-e0f2c80ba0bc",
      "metadata": {},
      "outputs": [],
      "source": [
        "you will need to download the dataset; if you are running locally, please comment out the following\n"
      ]
    },
    {
      "cell_type": "code",
      "id": "c5210194-ab92-42cd-9f31-371b2f3f6709",
      "metadata": {},
      "outputs": [],
      "source": [
        "#you will need to download the dataset; if you are running locally, please comment out the following \nawait download(path, \"auto.csv\")\npath=\"auto.csv\""
      ]
    },
    {
      "cell_type": "code",
      "id": "fc024974-c778-43fe-a2c9-eb58bc993dba",
      "metadata": {},
      "outputs": [],
      "source": [
        "\ndf = pd.read_csv(path)"
      ]
    },
    {
      "cell_type": "code",
      "id": "e092fc1a-8ae4-4d66-bcf4-d0a2b7906448",
      "metadata": {},
      "outputs": [],
      "source": [
        "df.to_csv('module_5_auto.csv')"
      ]
    },
    {
      "cell_type": "markdown",
      "id": "14c55d05-fea7-4122-bdb3-c2d3d0b84d06",
      "metadata": {},
      "outputs": [],
      "source": [
        "First, let's only use numeric data:\n"
      ]
    },
    {
      "cell_type": "code",
      "id": "808b0ed1-9139-4ac5-bfcb-da0dfeee6f07",
      "metadata": {},
      "outputs": [],
      "source": [
        "df=df._get_numeric_data()\ndf.head()"
      ]
    },
    {
      "cell_type": "markdown",
      "id": "809f4460-3cb6-496d-8943-d849ffb8b662",
      "metadata": {},
      "outputs": [],
      "source": [
        "Libraries for plotting:\n"
      ]
    },
    {
      "cell_type": "code",
      "id": "ec429d1f-4127-4eb8-aa9b-c23d0a28b012",
      "metadata": {},
      "outputs": [],
      "source": [
        "from ipywidgets import interact, interactive, fixed, interact_manual"
      ]
    },
    {
      "cell_type": "markdown",
      "id": "30010c5f-e192-40a2-8a66-0f87d0e369ea",
      "metadata": {},
      "outputs": [],
      "source": [
        "<h2>Functions for Plotting</h2>\n"
      ]
    },
    {
      "cell_type": "code",
      "id": "184a986a-c74c-4830-a65c-0eccd31a3164",
      "metadata": {},
      "outputs": [],
      "source": [
        "def DistributionPlot(RedFunction, BlueFunction, RedName, BlueName, Title):\n    width = 12\n    height = 10\n    plt.figure(figsize=(width, height))\n\n    ax1 = sns.distplot(RedFunction, hist=False, color=\"r\", label=RedName)\n    ax2 = sns.distplot(BlueFunction, hist=False, color=\"b\", label=BlueName, ax=ax1)\n\n    plt.title(Title)\n    plt.xlabel('Price (in dollars)')\n    plt.ylabel('Proportion of Cars')\n\n    plt.show()\n    plt.close()"
      ]
    },
    {
      "cell_type": "code",
      "id": "285ce891-120a-471c-9d2e-ffdfb257421b",
      "metadata": {},
      "outputs": [],
      "source": [
        "def PollyPlot(xtrain, xtest, y_train, y_test, lr,poly_transform):\n    width = 12\n    height = 10\n    plt.figure(figsize=(width, height))\n    \n    \n    #training data \n    #testing data \n    # lr:  linear regression object \n    #poly_transform:  polynomial transformation object \n \n    xmax=max([xtrain.values.max(), xtest.values.max()])\n\n    xmin=min([xtrain.values.min(), xtest.values.min()])\n\n    x=np.arange(xmin, xmax, 0.1)\n\n\n    plt.plot(xtrain, y_train, 'ro', label='Training Data')\n    plt.plot(xtest, y_test, 'go', label='Test Data')\n    plt.plot(x, lr.predict(poly_transform.fit_transform(x.reshape(-1, 1))), label='Predicted Function')\n    plt.ylim([-10000, 60000])\n    plt.ylabel('Price')\n    plt.legend()"
      ]
    },
    {
      "cell_type": "markdown",
      "id": "451aea94-99eb-403d-b48b-137fa2af2dd4",
      "metadata": {},
      "outputs": [],
      "source": [
        "<h2 id=\"ref1\">Part 1: Training and Testing</h2>\n",
        "\n",
        "<p>An important step in testing your model is to split your data into training and testing data. We will place the target data <b>price</b> in a separate dataframe <b>y_data</b>:</p>\n"
      ]
    },
    {
      "cell_type": "code",
      "id": "cbad3cfc-ade6-4aeb-8979-702be92fb87c",
      "metadata": {},
      "outputs": [],
      "source": [
        "y_data = df['price']"
      ]
    },
    {
      "cell_type": "markdown",
      "id": "59786a2a-20c2-4416-a707-5c65e9ed7fb3",
      "metadata": {},
      "outputs": [],
      "source": [
        "Drop price data in dataframe **x_data**:\n"
      ]
    },
    {
      "cell_type": "code",
      "id": "5ff60f22-5711-44ea-aa77-7ad5bb950677",
      "metadata": {},
      "outputs": [],
      "source": [
        "x_data=df.drop('price',axis=1)"
      ]
    },
    {
      "cell_type": "markdown",
      "id": "e9c75bc7-6f69-4788-a6ec-179d810afecb",
      "metadata": {},
      "outputs": [],
      "source": [
        "Now, we randomly split our data into training and testing data using the function <b>train_test_split</b>.\n"
      ]
    },
    {
      "cell_type": "code",
      "id": "4db5f9e2-d798-4df8-82eb-1c2c0d40f883",
      "metadata": {},
      "outputs": [],
      "source": [
        "from sklearn.model_selection import train_test_split\n\n\nx_train, x_test, y_train, y_test = train_test_split(x_data, y_data, test_size=0.10, random_state=1)\n\n\nprint(\"number of test samples :\", x_test.shape[0])\nprint(\"number of training samples:\",x_train.shape[0])\n"
      ]
    },
    {
      "cell_type": "markdown",
      "id": "68a3b62a-87f4-4594-9dc7-6ac727e4d50d",
      "metadata": {},
      "outputs": [],
      "source": [
        "The <b>test_size</b> parameter sets the proportion of data that is split into the testing set. In the above, the testing set is 10% of the total dataset.\n"
      ]
    },
    {
      "cell_type": "markdown",
      "id": "5c5c7d5f-4eac-4471-9682-66848ccf0ca8",
      "metadata": {},
      "outputs": [],
      "source": [
        "<div class=\"alert alert-danger alertdanger\" style=\"margin-top: 20px\">\n",
        "<h1> Question  #1):</h1>\n",
        "\n",
        "<b>Use the function \"train_test_split\" to split up the dataset such that 40% of the data samples will be utilized for testing. Set the parameter \"random_state\" equal to zero. The output of the function should be the following:  \"x_train1\" , \"x_test1\", \"y_train1\" and  \"y_test1\".</b>\n",
        "\n",
        "</div>\n"
      ]
    },
    {
      "cell_type": "code",
      "id": "c77b53db-46a3-47f8-a03f-b750a0b54d0e",
      "metadata": {},
      "outputs": [],
      "source": [
        "# Write your code below and press Shift+Enter to execute \nx_train1, x_test1, y_train1, y_test1 = train_test_split(x_data, y_data, test_size=0.4, random_state=0) \nprint(\"number of test samples :\", x_test1.shape[0])\nprint(\"number of training samples:\",x_train1.shape[0])"
      ]
    },
    {
      "cell_type": "markdown",
      "id": "c392079c-608b-49c0-a103-2a38fbee64cf",
      "metadata": {},
      "outputs": [],
      "source": [
        "<details><summary>Click here for the solution</summary>\n",
        "\n",
        "```python\n",
        "x_train1, x_test1, y_train1, y_test1 = train_test_split(x_data, y_data, test_size=0.4, random_state=0) \n",
        "print(\"number of test samples :\", x_test1.shape[0])\n",
        "print(\"number of training samples:\",x_train1.shape[0])\n",
        "```\n",
        "\n",
        "</details>\n"
      ]
    },
    {
      "cell_type": "markdown",
      "id": "6ee4df34-7c2c-428b-96fc-6b09cfb0438f",
      "metadata": {},
      "outputs": [],
      "source": [
        "Let's import <b>LinearRegression</b> from the module <b>linear_model</b>.\n"
      ]
    },
    {
      "cell_type": "code",
      "id": "96e73e21-e15b-418e-90b2-53b797896398",
      "metadata": {},
      "outputs": [],
      "source": [
        "from sklearn.linear_model import LinearRegression"
      ]
    },
    {
      "cell_type": "markdown",
      "id": "314cc253-adfb-49e9-beaa-8d371b6b707d",
      "metadata": {},
      "outputs": [],
      "source": [
        "We create a Linear Regression object:\n"
      ]
    },
    {
      "cell_type": "code",
      "id": "48760177-ce79-4fd8-a67e-da163afef788",
      "metadata": {},
      "outputs": [],
      "source": [
        "lre=LinearRegression()"
      ]
    },
    {
      "cell_type": "markdown",
      "id": "39812568-52da-4f90-944a-084345f3df34",
      "metadata": {},
      "outputs": [],
      "source": [
        "We fit the model using the feature \"horsepower\":\n"
      ]
    },
    {
      "cell_type": "code",
      "id": "fb8ac206-e944-4355-837e-143701cd87f1",
      "metadata": {},
      "outputs": [],
      "source": [
        "lre.fit(x_train[['horsepower']], y_train)"
      ]
    },
    {
      "cell_type": "markdown",
      "id": "7e90074b-0863-4109-93df-ebf1a01c5577",
      "metadata": {},
      "outputs": [],
      "source": [
        "Let's calculate the R^2 on the test data:\n"
      ]
    },
    {
      "cell_type": "code",
      "id": "c976bc58-10d3-4ed6-96aa-2aade2094f90",
      "metadata": {},
      "outputs": [],
      "source": [
        "lre.score(x_test[['horsepower']], y_test)"
      ]
    },
    {
      "cell_type": "markdown",
      "id": "8fe7a9b3-4e62-42bd-9c52-e50536d47a2f",
      "metadata": {},
      "outputs": [],
      "source": [
        "We can see the R^2 is much smaller using the test data compared to the training data.\n"
      ]
    },
    {
      "cell_type": "code",
      "id": "80ba0588-2f58-4c69-9fdf-1226fa1f5056",
      "metadata": {},
      "outputs": [],
      "source": [
        "lre.score(x_train[['horsepower']], y_train)"
      ]
    },
    {
      "cell_type": "markdown",
      "id": "e56debc3-7bc1-407e-99b4-aec8c5a22d7c",
      "metadata": {},
      "outputs": [],
      "source": [
        "<div class=\"alert alert-danger alertdanger\" style=\"margin-top: 20px\">\n",
        "<h1> Question  #2): </h1>\n",
        "<b> \n",
        "Find the R^2  on the test data using 40% of the dataset for testing.\n",
        "</b>\n",
        "</div>\n"
      ]
    },
    {
      "cell_type": "code",
      "id": "2034c403-1cb4-4ddd-8634-382eceaa1774",
      "metadata": {},
      "outputs": [],
      "source": [
        "# Write your code below and press Shift+Enter to execute \nx_train1, x_test1, y_train1, y_test1 = train_test_split(x_data, y_data, test_size=0.4, random_state=0)\nlre.fit(x_train1[['horsepower']],y_train1)\nlre.score(x_test1[['horsepower']],y_test1)"
      ]
    },
    {
      "cell_type": "markdown",
      "id": "eb4970ff-4eeb-4cd5-ac62-54b1d533402c",
      "metadata": {},
      "outputs": [],
      "source": [
        "<details><summary>Click here for the solution</summary>\n",
        "\n",
        "```python\n",
        "x_train1, x_test1, y_train1, y_test1 = train_test_split(x_data, y_data, test_size=0.4, random_state=0)\n",
        "lre.fit(x_train1[['horsepower']],y_train1)\n",
        "lre.score(x_test1[['horsepower']],y_test1)\n",
        "\n",
        "```\n",
        "\n",
        "</details>\n"
      ]
    },
    {
      "cell_type": "markdown",
      "id": "4c085928-8957-4914-97ee-4d416a79cba4",
      "metadata": {},
      "outputs": [],
      "source": [
        "Sometimes you do not have sufficient testing data; as a result, you may want to perform cross-validation. Let's go over several methods that you can use for cross-validation.\n"
      ]
    },
    {
      "cell_type": "markdown",
      "id": "0f5761b5-a26b-41ab-8990-241ed9bcfaa6",
      "metadata": {},
      "outputs": [],
      "source": [
        "<h2>Cross-Validation Score</h2>\n"
      ]
    },
    {
      "cell_type": "markdown",
      "id": "9801309c-722d-4d80-8564-404cb283dfa3",
      "metadata": {},
      "outputs": [],
      "source": [
        "Let's import <b>model_selection</b> from the module <b>cross_val_score</b>.\n"
      ]
    },
    {
      "cell_type": "code",
      "id": "d65fe54e-90c0-4011-80dc-4417447bd831",
      "metadata": {},
      "outputs": [],
      "source": [
        "from sklearn.model_selection import cross_val_score"
      ]
    },
    {
      "cell_type": "markdown",
      "id": "85102210-c8bc-4018-90cf-1c30ea89de3a",
      "metadata": {},
      "outputs": [],
      "source": [
        "We input the object, the feature (\"horsepower\"), and the target data (y_data). The parameter 'cv' determines the number of folds. In this case, it is 4.\n"
      ]
    },
    {
      "cell_type": "code",
      "id": "9e9b5ed5-5be0-43f4-9881-e4ef6c1b7f35",
      "metadata": {},
      "outputs": [],
      "source": [
        "Rcross = cross_val_score(lre, x_data[['horsepower']], y_data, cv=4)"
      ]
    },
    {
      "cell_type": "markdown",
      "id": "f9391ed5-ab8d-44e5-a87a-8a0fe7ace4e1",
      "metadata": {},
      "outputs": [],
      "source": [
        "The default scoring is R^2. Each element in the array has the average R^2 value for the fold:\n"
      ]
    },
    {
      "cell_type": "code",
      "id": "8a141702-92b9-4700-95e6-590f3ba3666a",
      "metadata": {},
      "outputs": [],
      "source": [
        "Rcross"
      ]
    },
    {
      "cell_type": "markdown",
      "id": "76735760-d34c-46b0-938c-97f311d83f6b",
      "metadata": {},
      "outputs": [],
      "source": [
        "We can calculate the average and standard deviation of our estimate:\n"
      ]
    },
    {
      "cell_type": "code",
      "id": "b78a6736-81e5-41d9-8e9c-af2eb300b610",
      "metadata": {},
      "outputs": [],
      "source": [
        "print(\"The mean of the folds are\", Rcross.mean(), \"and the standard deviation is\" , Rcross.std())"
      ]
    },
    {
      "cell_type": "markdown",
      "id": "c5951f82-9902-46f4-8788-59b80be4c067",
      "metadata": {},
      "outputs": [],
      "source": [
        "We can use negative squared error as a score by setting the parameter  'scoring' metric to 'neg_mean_squared_error'.\n"
      ]
    },
    {
      "cell_type": "code",
      "id": "f87ada0c-ce59-45cb-9095-81d9acb79d38",
      "metadata": {},
      "outputs": [],
      "source": [
        "-1 * cross_val_score(lre,x_data[['horsepower']], y_data,cv=4,scoring='neg_mean_squared_error')"
      ]
    },
    {
      "cell_type": "markdown",
      "id": "474589c2-e017-41fb-bc0b-cfae4a978a0c",
      "metadata": {},
      "outputs": [],
      "source": [
        "<div class=\"alert alert-danger alertdanger\" style=\"margin-top: 20px\">\n",
        "<h1> Question  #3): </h1>\n",
        "<b> \n",
        "Calculate the average R^2 using two folds, then find the average R^2 for the second fold utilizing the \"horsepower\" feature: \n",
        "</b>\n",
        "</div>\n"
      ]
    },
    {
      "cell_type": "code",
      "id": "19c40b41-35ae-4f2e-9bac-e8beb7f1e465",
      "metadata": {},
      "outputs": [],
      "source": [
        "# Write your code below and press Shift+Enter to execute \nRc=cross_val_score(lre,x_data[['horsepower']], y_data,cv=2)\nRc.mean()"
      ]
    },
    {
      "cell_type": "markdown",
      "id": "8d13a344-b12b-4570-a329-6ac6a0f50c9e",
      "metadata": {},
      "outputs": [],
      "source": [
        "<details><summary>Click here for the solution</summary>\n",
        "\n",
        "```python\n",
        "Rc=cross_val_score(lre,x_data[['horsepower']], y_data,cv=2)\n",
        "Rc.mean()\n",
        "\n",
        "```\n",
        "\n",
        "</details>\n"
      ]
    },
    {
      "cell_type": "markdown",
      "id": "08cb2066-b6cc-4e48-a5ea-b1ac05d9c6a6",
      "metadata": {},
      "outputs": [],
      "source": [
        "You can also use the function 'cross_val_predict' to predict the output. The function splits up the data into the specified number of folds, with one fold for testing and the other folds are used for training. First, import the function:\n"
      ]
    },
    {
      "cell_type": "code",
      "id": "329f2b32-fefb-497d-9e45-1191c4a1b9fe",
      "metadata": {},
      "outputs": [],
      "source": [
        "from sklearn.model_selection import cross_val_predict"
      ]
    },
    {
      "cell_type": "markdown",
      "id": "0d237de4-8b03-47a9-8f34-921e1f44e09c",
      "metadata": {},
      "outputs": [],
      "source": [
        "We input the object, the feature <b>\"horsepower\"</b>, and the target data <b>y_data</b>. The parameter 'cv' determines the number of folds. In this case, it is 4. We can produce an output:\n"
      ]
    },
    {
      "cell_type": "code",
      "id": "ce1aaec9-4e8b-45f9-81b0-da772a16f313",
      "metadata": {},
      "outputs": [],
      "source": [
        "yhat = cross_val_predict(lre,x_data[['horsepower']], y_data,cv=4)\nyhat[0:5]"
      ]
    },
    {
      "cell_type": "markdown",
      "id": "56867c47-c594-4e21-82b4-bae7c5e0ba77",
      "metadata": {},
      "outputs": [],
      "source": [
        "<h2 id=\"ref2\">Part 2: Overfitting, Underfitting and Model Selection</h2>\n",
        "\n",
        "<p>It turns out that the test data, sometimes referred to as the \"out of sample data\", is a much better measure of how well your model performs in the real world.  One reason for this is overfitting.\n",
        "\n",
        "Let's go over some examples. It turns out these differences are more apparent in Multiple Linear Regression and Polynomial Regression so we will explore overfitting in that context.</p>\n"
      ]
    },
    {
      "cell_type": "markdown",
      "id": "66ab4e9e-88fd-4cdb-b29c-b2a193054ef3",
      "metadata": {},
      "outputs": [],
      "source": [
        "Let's create Multiple Linear Regression objects and train the model using <b>'horsepower'</b>, <b>'curb-weight'</b>, <b>'engine-size'</b> and <b>'highway-mpg'</b> as features.\n"
      ]
    },
    {
      "cell_type": "code",
      "id": "2dd65e52-02c2-4869-ac84-0b9e73cef26d",
      "metadata": {},
      "outputs": [],
      "source": [
        "lr = LinearRegression()\nlr.fit(x_train[['horsepower', 'curb-weight', 'engine-size', 'highway-mpg']], y_train)"
      ]
    },
    {
      "cell_type": "markdown",
      "id": "871c967c-1f78-428f-8a70-7f9c516c7194",
      "metadata": {},
      "outputs": [],
      "source": [
        "Prediction using training data:\n"
      ]
    },
    {
      "cell_type": "code",
      "id": "c20a58d1-0fb7-4b1a-a3a9-ab392aeb2790",
      "metadata": {},
      "outputs": [],
      "source": [
        "yhat_train = lr.predict(x_train[['horsepower', 'curb-weight', 'engine-size', 'highway-mpg']])\nyhat_train[0:5]"
      ]
    },
    {
      "cell_type": "markdown",
      "id": "e2c27805-cd2f-43c6-bfe5-0379c57d6541",
      "metadata": {},
      "outputs": [],
      "source": [
        "Prediction using test data:\n"
      ]
    },
    {
      "cell_type": "code",
      "id": "01c05368-73e2-4000-8b2d-48b23cc6e04f",
      "metadata": {},
      "outputs": [],
      "source": [
        "yhat_test = lr.predict(x_test[['horsepower', 'curb-weight', 'engine-size', 'highway-mpg']])\nyhat_test[0:5]"
      ]
    },
    {
      "cell_type": "markdown",
      "id": "8c584331-c147-4f93-a7d3-d5812b2e2a09",
      "metadata": {},
      "outputs": [],
      "source": [
        "Let's perform some model evaluation using our training and testing data separately. First, we import the seaborn and matplotlib library for plotting.\n"
      ]
    },
    {
      "cell_type": "code",
      "id": "fc30e0aa-cfad-4a33-8849-cb7a6ed31320",
      "metadata": {},
      "outputs": [],
      "source": [
        "import matplotlib.pyplot as plt\n%matplotlib inline\nimport seaborn as sns"
      ]
    },
    {
      "cell_type": "markdown",
      "id": "d3b9177f-9b3b-4006-b93e-d210f36c012f",
      "metadata": {},
      "outputs": [],
      "source": [
        "Let's examine the distribution of the predicted values of the training data.\n"
      ]
    },
    {
      "cell_type": "code",
      "id": "d80a4915-8e62-4fb9-af1a-d273b41799e0",
      "metadata": {},
      "outputs": [],
      "source": [
        "Title = 'Distribution  Plot of  Predicted Value Using Training Data vs Training Data Distribution'\nDistributionPlot(y_train, yhat_train, \"Actual Values (Train)\", \"Predicted Values (Train)\", Title)"
      ]
    },
    {
      "cell_type": "markdown",
      "id": "a1aa8ebf-1d1b-4ffe-9767-06a98f83b6ac",
      "metadata": {},
      "outputs": [],
      "source": [
        "Figure 1: Plot of predicted values using the training data compared to the actual values of the training data.\n"
      ]
    },
    {
      "cell_type": "markdown",
      "id": "12a8b4c9-2655-4294-94b5-c37faf441892",
      "metadata": {},
      "outputs": [],
      "source": [
        "So far, the model seems to be doing well in learning from the training dataset. But what happens when the model encounters new data from the testing dataset? When the model generates new values from the test data, we see the distribution of the predicted values is much different from the actual target values.\n"
      ]
    },
    {
      "cell_type": "code",
      "id": "8696d07c-c739-4547-83c2-d1a3d1856807",
      "metadata": {},
      "outputs": [],
      "source": [
        "Title='Distribution  Plot of  Predicted Value Using Test Data vs Data Distribution of Test Data'\nDistributionPlot(y_test,yhat_test,\"Actual Values (Test)\",\"Predicted Values (Test)\",Title)"
      ]
    },
    {
      "cell_type": "markdown",
      "id": "66649bf3-cd7d-4d35-b13e-03ced27c1b72",
      "metadata": {},
      "outputs": [],
      "source": [
        "Figure 2: Plot of predicted value using the test data compared to the actual values of the test data.\n"
      ]
    },
    {
      "cell_type": "markdown",
      "id": "154cbecb-87b6-4808-8dc4-5965e677542b",
      "metadata": {},
      "outputs": [],
      "source": [
        "<p>Comparing Figure 1 and Figure 2, it is evident that the distribution of the test data in Figure 1 is much better at fitting the data. This difference in Figure 2 is apparent in the range of 5000 to 15,000. This is where the shape of the distribution is extremely different. Let's see if polynomial regression also exhibits a drop in the prediction accuracy when analysing the test dataset.</p>\n"
      ]
    },
    {
      "cell_type": "code",
      "id": "82dd7835-f1bc-4f7c-90f1-a30517aabcc9",
      "metadata": {},
      "outputs": [],
      "source": [
        "from sklearn.preprocessing import PolynomialFeatures"
      ]
    },
    {
      "cell_type": "markdown",
      "id": "231d7513-ae00-4413-8f9f-03721f09bef1",
      "metadata": {},
      "outputs": [],
      "source": [
        "<h4>Overfitting</h4>\n",
        "<p>Overfitting occurs when the model fits the noise, but not the underlying process. Therefore, when testing your model using the test set, your model does not perform as well since it is modelling noise, not the underlying process that generated the relationship. Let's create a degree 5 polynomial model.</p>\n"
      ]
    },
    {
      "cell_type": "markdown",
      "id": "25cff700-4fa9-40d0-ad53-152ba4762c79",
      "metadata": {},
      "outputs": [],
      "source": [
        "Let's use 55 percent of the data for training and the rest for testing:\n"
      ]
    },
    {
      "cell_type": "code",
      "id": "34a740d9-783d-4e20-a886-f95087ea4b06",
      "metadata": {},
      "outputs": [],
      "source": [
        "x_train, x_test, y_train, y_test = train_test_split(x_data, y_data, test_size=0.45, random_state=0)"
      ]
    },
    {
      "cell_type": "markdown",
      "id": "93b1512d-7d41-4ba0-a0a6-bd20cee09e11",
      "metadata": {},
      "outputs": [],
      "source": [
        "We will perform a degree 5 polynomial transformation on the feature <b>'horsepower'</b>.\n"
      ]
    },
    {
      "cell_type": "code",
      "id": "30a919d3-cf6a-47fd-98a6-334cfc011017",
      "metadata": {},
      "outputs": [],
      "source": [
        "pr = PolynomialFeatures(degree=5)\nx_train_pr = pr.fit_transform(x_train[['horsepower']])\nx_test_pr = pr.fit_transform(x_test[['horsepower']])\npr"
      ]
    },
    {
      "cell_type": "markdown",
      "id": "980930f7-1bc7-4663-b53f-c4f9fc41cb38",
      "metadata": {},
      "outputs": [],
      "source": [
        "Now, let's create a Linear Regression model \"poly\" and train it.\n"
      ]
    },
    {
      "cell_type": "code",
      "id": "c7759764-ed14-4288-960c-d7e60292b9eb",
      "metadata": {},
      "outputs": [],
      "source": [
        "poly = LinearRegression()\npoly.fit(x_train_pr, y_train)"
      ]
    },
    {
      "cell_type": "markdown",
      "id": "54fb0271-4059-4cf5-96e0-5decff6441cc",
      "metadata": {},
      "outputs": [],
      "source": [
        "We can see the output of our model using the method \"predict.\" We assign the values to \"yhat\".\n"
      ]
    },
    {
      "cell_type": "code",
      "id": "dfcf9cd5-c55c-4d0b-904e-88396eb70117",
      "metadata": {},
      "outputs": [],
      "source": [
        "yhat = poly.predict(x_test_pr)\nyhat[0:5]"
      ]
    },
    {
      "cell_type": "markdown",
      "id": "45816331-c103-4d9a-83b8-fef9adf71a87",
      "metadata": {},
      "outputs": [],
      "source": [
        "Let's take the first five predicted values and compare it to the actual targets.\n"
      ]
    },
    {
      "cell_type": "code",
      "id": "ea5b0e7e-4394-466c-976c-4f287032b641",
      "metadata": {},
      "outputs": [],
      "source": [
        "print(\"Predicted values:\", yhat[0:4])\nprint(\"True values:\", y_test[0:4].values)"
      ]
    },
    {
      "cell_type": "markdown",
      "id": "3b2e9a93-26eb-42b7-aa62-ed723ff4e629",
      "metadata": {},
      "outputs": [],
      "source": [
        "We will use the function \"PollyPlot\" that we defined at the beginning of the lab to display the training data, testing data, and the predicted function.\n"
      ]
    },
    {
      "cell_type": "code",
      "id": "9828db8b-9fbf-48c0-a91f-35aa7539e541",
      "metadata": {},
      "outputs": [],
      "source": [
        "PollyPlot(x_train[['horsepower']], x_test[['horsepower']], y_train, y_test, poly,pr)"
      ]
    },
    {
      "cell_type": "markdown",
      "id": "cc2fd891-0ed7-4e30-b590-385caf3fc52c",
      "metadata": {},
      "outputs": [],
      "source": [
        "Figure 3: A polynomial regression model where red dots represent training data, green dots represent test data, and the blue line represents the model prediction.\n"
      ]
    },
    {
      "cell_type": "markdown",
      "id": "380ddfb6-633c-450d-8fba-4328060c2ef1",
      "metadata": {},
      "outputs": [],
      "source": [
        "We see that the estimated function appears to track the data but around 200 horsepower, the function begins to diverge from the data points.\n"
      ]
    },
    {
      "cell_type": "markdown",
      "id": "c513b5a2-3abf-4053-8fda-5be35b444b5b",
      "metadata": {},
      "outputs": [],
      "source": [
        "R^2 of the training data:\n"
      ]
    },
    {
      "cell_type": "code",
      "id": "8b359f6f-1ffe-451b-85d5-33c31a9b0b88",
      "metadata": {},
      "outputs": [],
      "source": [
        "poly.score(x_train_pr, y_train)"
      ]
    },
    {
      "cell_type": "markdown",
      "id": "6c3ec656-eb4d-47c8-9b8b-f754e1ea4695",
      "metadata": {},
      "outputs": [],
      "source": [
        "R^2 of the test data:\n"
      ]
    },
    {
      "cell_type": "code",
      "id": "046566c0-2c5f-47d8-9f7d-db920e308998",
      "metadata": {},
      "outputs": [],
      "source": [
        "poly.score(x_test_pr, y_test)"
      ]
    },
    {
      "cell_type": "markdown",
      "id": "3224a66a-e8b4-4650-95f5-91910ebd0289",
      "metadata": {},
      "outputs": [],
      "source": [
        "We see the R^2 for the training data is 0.5567 while the R^2 on the test data was -29.87.  The lower the R^2, the worse the model. A negative R^2 is a sign of overfitting.\n"
      ]
    },
    {
      "cell_type": "markdown",
      "id": "d0bcd929-b338-43e4-a75c-2c36483308e2",
      "metadata": {},
      "outputs": [],
      "source": [
        "Let's see how the R^2 changes on the test data for different order polynomials and then plot the results:\n"
      ]
    },
    {
      "cell_type": "code",
      "id": "99572481-c1c2-4037-a4ae-1d182ca8e2bf",
      "metadata": {},
      "outputs": [],
      "source": [
        "Rsqu_test = []\n\norder = [1, 2, 3, 4]\nfor n in order:\n    pr = PolynomialFeatures(degree=n)\n    \n    x_train_pr = pr.fit_transform(x_train[['horsepower']])\n    \n    x_test_pr = pr.fit_transform(x_test[['horsepower']])    \n    \n    lr.fit(x_train_pr, y_train)\n    \n    Rsqu_test.append(lr.score(x_test_pr, y_test))\n\nplt.plot(order, Rsqu_test)\nplt.xlabel('order')\nplt.ylabel('R^2')\nplt.title('R^2 Using Test Data')\nplt.text(3, 0.75, 'Maximum R^2 ')    "
      ]
    },
    {
      "cell_type": "markdown",
      "id": "4836f80a-1bf8-47da-b7e4-0e76965cb3d3",
      "metadata": {},
      "outputs": [],
      "source": [
        "We see the R^2 gradually increases until an order three polynomial is used. Then, the R^2 dramatically decreases at an order four polynomial.\n"
      ]
    },
    {
      "cell_type": "markdown",
      "id": "6f61ca97-0533-4950-8eee-93313f6fd3bd",
      "metadata": {},
      "outputs": [],
      "source": [
        "The following function will be used in the next section. Please run the cell below.\n"
      ]
    },
    {
      "cell_type": "code",
      "id": "a5315061-81b2-4441-9e13-c03d22342927",
      "metadata": {},
      "outputs": [],
      "source": [
        "\nimport numpy as np\nimport matplotlib.pyplot as plt\nfrom sklearn.model_selection import train_test_split\nfrom sklearn.preprocessing import PolynomialFeatures\nfrom sklearn.linear_model import LinearRegression\n\n# Generate some sample data\nx = np.linspace(0, 10, 100)\ny = np.sin(x) + np.random.normal(0, 0.1, size=len(x))\n\n# Split data into training and test sets\nx_train, x_test, y_train, y_test = train_test_split(x, y, test_size=0.2)\n\n# Create polynomial features for training and test sets\npoly = PolynomialFeatures(degree=2)\nX_train_poly = poly.fit_transform(x_train.reshape(-1, 1))\nX_test_poly = poly.transform(x_test.reshape(-1, 1))\n\n# Fit linear regression model to training data\nlin_reg = LinearRegression()\nlin_reg.fit(X_train_poly, y_train)\n\n# Predict on test data and calculate R^2 score\ny_pred = lin_reg.predict(X_test_poly)\nr2_score = lin_reg.score(X_test_poly, y_test)\n\n# Plot the test data and polynomial fit\nplt.scatter(x_test, y_test)\nplt.plot(x_test, y_pred, color='red')\nplt.title(f\"Polynomial Regression (degree=2)\\nTest R^2 score: {r2_score:.2f}\")\nplt.show()\n"
      ]
    },
    {
      "cell_type": "code",
      "id": "896af48a-0198-43e3-92b7-eed1415c3e39",
      "metadata": {},
      "outputs": [],
      "source": [
        "import matplotlib.pyplot as plt\ndef f(order, test_data):\n    x_train, x_test, y_train, y_test = train_test_split(x, y, test_size=0.2)\n    # Create polynomial features for training and test sets\n    poly = PolynomialFeatures(degree=2)\n    X_train_poly = poly.fit_transform(x_train.reshape(-1, 1))\n    X_test_poly = poly.transform(x_test.reshape(-1, 1))\n\n    # Fit linear regression model to training data\n    lin_reg = LinearRegression()\n    lin_reg.fit(X_train_poly, y_train)\n\n    # Predict on test data and calculate R^2 score\n    y_pred = lin_reg.predict(X_test_poly)\n    r2_score = lin_reg.score(X_test_poly, y_test)\n\n    # Plot the test data and polynomial fit\n    plt.scatter(x_test, y_test)\n    plt.plot(x_test, y_pred, color='red')\n    plt.title(f\"Polynomial Regression (degree=2)\\nTest R^2 score: {r2_score:.2f}\")\n    plt.show()\n"
      ]
    },
    {
      "cell_type": "markdown",
      "id": "7bc9e084-7c30-445e-860f-f3785b75b953",
      "metadata": {},
      "outputs": [],
      "source": [
        "The following interface allows you to experiment with different polynomial orders and different amounts of data.\n"
      ]
    },
    {
      "cell_type": "code",
      "id": "6acae3f3-dbcb-488c-974b-6919922cb23a",
      "metadata": {},
      "outputs": [],
      "source": [
        "interact(f, order=(0, 6, 1), test_data=(0.05, 0.95, 0.05))"
      ]
    },
    {
      "cell_type": "markdown",
      "id": "7d5eff84-b1a1-4ec7-a6dc-d321af995b32",
      "metadata": {},
      "outputs": [],
      "source": [
        "<div class=\"alert alert-danger alertdanger\" style=\"margin-top: 20px\">\n",
        "<h1> Question  #4a):</h1>\n",
        "\n",
        "<b>We can perform polynomial transformations with more than one feature. Create a \"PolynomialFeatures\" object \"pr1\" of degree two.</b>\n",
        "\n",
        "</div>\n"
      ]
    },
    {
      "cell_type": "code",
      "id": "16d2eb28-71b9-4113-bb7b-38117f97936d",
      "metadata": {},
      "outputs": [],
      "source": [
        "# Write your code below and press Shift+Enter to execute \n"
      ]
    },
    {
      "cell_type": "markdown",
      "id": "1facde6e-ae1e-41cf-8f45-ebc3b7253f40",
      "metadata": {},
      "outputs": [],
      "source": [
        "<details><summary>Click here for the solution</summary>\n",
        "\n",
        "```python\n",
        "pr1=PolynomialFeatures(degree=2)\n",
        "\n",
        "```\n",
        "\n",
        "</details>\n"
      ]
    },
    {
      "cell_type": "markdown",
      "id": "78c85315-37a6-41f8-8e78-a8a69772bf13",
      "metadata": {},
      "outputs": [],
      "source": [
        "<div class=\"alert alert-danger alertdanger\" style=\"margin-top: 20px\">\n",
        "<h1> Question  #4b): </h1>\n",
        "\n",
        "<b> \n",
        " Transform the training and testing samples for the features 'horsepower', 'curb-weight', 'engine-size' and 'highway-mpg'. Hint: use the method \"fit_transform\".</b>\n",
        "</div>\n"
      ]
    },
    {
      "cell_type": "code",
      "id": "238f68a0-6be3-4a76-bd8d-6bb44494c27f",
      "metadata": {},
      "outputs": [],
      "source": [
        "# Write your code below and press Shift+Enter to execute \n"
      ]
    },
    {
      "cell_type": "markdown",
      "id": "2110eb00-8d99-4c12-bf66-26a328aea058",
      "metadata": {},
      "outputs": [],
      "source": [
        "<details><summary>Click here for the solution</summary>\n",
        "\n",
        "```python\n",
        "x_train, x_test, y_train, y_test = train_test_split(x_data, y_data, test_size=0.2, random_state=0)\n",
        "\n",
        "x_train_pr1=pr1.fit_transform(x_train[['horsepower', 'curb-weight', 'engine-size', 'highway-mpg']])\n",
        "\n",
        "x_test_pr1=pr1.fit_transform(x_test[['horsepower', 'curb-weight', 'engine-size', 'highway-mpg']])\n",
        "\n",
        "\n",
        "```\n",
        "\n",
        "</details>\n"
      ]
    },
    {
      "cell_type": "markdown",
      "id": "c36c33bf-e744-4262-9d78-c6c16a364ba3",
      "metadata": {},
      "outputs": [],
      "source": [
        "<!-- The answer is below:\n",
        "\n",
        "x_train_pr1=pr.fit_transform(x_train[['horsepower', 'curb-weight', 'engine-size', 'highway-mpg']])\n",
        "x_test_pr1=pr.fit_transform(x_test[['horsepower', 'curb-weight', 'engine-size', 'highway-mpg']])\n",
        "\n",
        "-->\n"
      ]
    },
    {
      "cell_type": "markdown",
      "id": "5b584b1f-5aae-4bb0-ae4d-8156d05f2473",
      "metadata": {},
      "outputs": [],
      "source": [
        "<div class=\"alert alert-danger alertdanger\" style=\"margin-top: 20px\">\n",
        "<h1> Question  #4c): </h1>\n",
        "<b> \n",
        "How many dimensions does the new feature have? Hint: use the attribute \"shape\".\n",
        "</b>\n",
        "</div>\n"
      ]
    },
    {
      "cell_type": "code",
      "id": "9285631f-7613-4508-98d0-3727cbb33c58",
      "metadata": {},
      "outputs": [],
      "source": [
        "# Write your code below and press Shift+Enter to execute \n"
      ]
    },
    {
      "cell_type": "markdown",
      "id": "823994e7-f49c-47f1-86cc-74c3dd63b254",
      "metadata": {},
      "outputs": [],
      "source": [
        "<details><summary>Click here for the solution</summary>\n",
        "\n",
        "```python\n",
        "x_train_pr1.shape #there are now 15 features\n",
        "\n",
        "\n",
        "```\n",
        "\n",
        "</details>\n"
      ]
    },
    {
      "cell_type": "markdown",
      "id": "7c132344-e4d7-449c-96f5-438516304bc1",
      "metadata": {},
      "outputs": [],
      "source": [
        "<div class=\"alert alert-danger alertdanger\" style=\"margin-top: 20px\">\n",
        "<h1> Question  #4d): </h1>\n",
        "\n",
        "<b> \n",
        "Create a linear regression model \"poly1\". Train the object using the method \"fit\" using the polynomial features.</b>\n",
        "</div>\n"
      ]
    },
    {
      "cell_type": "code",
      "id": "3e6422b8-40ad-484d-b305-62f9f7f27fa2",
      "metadata": {},
      "outputs": [],
      "source": [
        "# Write your code below and press Shift+Enter to execute \n"
      ]
    },
    {
      "cell_type": "markdown",
      "id": "bfe69866-aa80-4abd-962b-6aa8a64cb465",
      "metadata": {},
      "outputs": [],
      "source": [
        "<details><summary>Click here for the solution</summary>\n",
        "\n",
        "```python\n",
        "poly1=LinearRegression().fit(x_train_pr1,y_train)\n",
        "\n",
        "\n",
        "```\n",
        "\n",
        "</details>\n"
      ]
    },
    {
      "cell_type": "markdown",
      "id": "db10e236-532f-44a9-afb1-6c06a4ec338f",
      "metadata": {},
      "outputs": [],
      "source": [
        " <div class=\"alert alert-danger alertdanger\" style=\"margin-top: 20px\">\n",
        "<h1> Question  #4e): </h1>\n",
        "<b>Use the method  \"predict\" to predict an output on the polynomial features, then use the function \"DistributionPlot\" to display the distribution of the predicted test output vs. the actual test data.</b>\n",
        "</div>\n"
      ]
    },
    {
      "cell_type": "code",
      "id": "285f30b0-affc-49ab-be7f-057f88ce7314",
      "metadata": {},
      "outputs": [],
      "source": [
        "# Write your code below and press Shift+Enter to execute \n"
      ]
    },
    {
      "cell_type": "markdown",
      "id": "d81da070-78e5-4643-ba18-7a0da4cb0757",
      "metadata": {},
      "outputs": [],
      "source": [
        "<details><summary>Click here for the solution</summary>\n",
        "\n",
        "```python\n",
        "yhat_test1=poly1.predict(x_test_pr1)\n",
        "\n",
        "Title='Distribution  Plot of  Predicted Value Using Test Data vs Data Distribution of Test Data'\n",
        "\n",
        "DistributionPlot(y_test, yhat_test1, \"Actual Values (Test)\", \"Predicted Values (Test)\", Title)\n",
        "\n",
        "```\n",
        "\n",
        "</details>\n"
      ]
    },
    {
      "cell_type": "markdown",
      "id": "f9378ea1-1686-4406-9ae7-ba8cfc56e04b",
      "metadata": {},
      "outputs": [],
      "source": [
        "<div class=\"alert alert-danger alertdanger\" style=\"margin-top: 20px\">\n",
        "<h1> Question  #4f): </h1>\n",
        "\n",
        "<b>Using the distribution plot above, describe (in words) the two regions where the predicted prices are less accurate than the actual prices.</b>\n",
        "\n",
        "</div>\n"
      ]
    },
    {
      "cell_type": "code",
      "id": "b7f46c9a-2104-4ff8-a696-0d7b78b11fc2",
      "metadata": {},
      "outputs": [],
      "source": [
        "# Write your code below and press Shift+Enter to execute \n#The predicted value is higher than actual value for cars where the price $10,000 range, conversely the predicted price is lower than the price cost in the $30,000 to $40,000 range. As such the model is not as accurate in these ranges.\n"
      ]
    },
    {
      "cell_type": "markdown",
      "id": "d6b88e13-7d75-4375-922a-28f7e129d9b4",
      "metadata": {},
      "outputs": [],
      "source": [
        "<details><summary>Click here for the solution</summary>\n",
        "\n",
        "```python\n",
        "print(\"predicted values:\",yhat[0:4])\n",
        "print(\"True values:\",y_test[0:4].values)\n",
        "\n",
        "```\n",
        "\n",
        "</details>\n"
      ]
    },
    {
      "cell_type": "markdown",
      "id": "41744567-c27b-4f57-b5d2-4da01e229531",
      "metadata": {},
      "outputs": [],
      "source": [
        "<h2 id=\"ref3\">Part 3: Ridge Regression</h2> \n"
      ]
    },
    {
      "cell_type": "markdown",
      "id": "f0547923-af3b-4bef-9cce-5f8c41a72f42",
      "metadata": {},
      "outputs": [],
      "source": [
        "In this section, we will review Ridge Regression and see how the parameter alpha changes the model. Just a note, here our test data will be used as validation data.\n"
      ]
    },
    {
      "cell_type": "markdown",
      "id": "fb827e00-0dfd-488b-ad8f-df3a979e9bda",
      "metadata": {},
      "outputs": [],
      "source": [
        "Let's perform a degree two polynomial transformation on our data.\n"
      ]
    },
    {
      "cell_type": "code",
      "id": "e90b3ef8-fc00-4642-9bb0-f29113c01c60",
      "metadata": {},
      "outputs": [],
      "source": [
        "pr=PolynomialFeatures(degree=2)\nx_train_pr=pr.fit_transform(x_train[['horsepower', 'curb-weight', 'engine-size', 'highway-mpg','normalized-losses','symboling']])\nx_test_pr=pr.fit_transform(x_test[['horsepower', 'curb-weight', 'engine-size', 'highway-mpg','normalized-losses','symboling']])"
      ]
    },
    {
      "cell_type": "markdown",
      "id": "0ea767e9-4d03-4307-9bfe-b9335ad49da8",
      "metadata": {},
      "outputs": [],
      "source": [
        "Let's import  <b>Ridge</b>  from the module <b>linear models</b>.\n"
      ]
    },
    {
      "cell_type": "code",
      "id": "1dbdf4de-73da-4358-9ef9-bed25151f760",
      "metadata": {},
      "outputs": [],
      "source": [
        "from sklearn.linear_model import Ridge"
      ]
    },
    {
      "cell_type": "markdown",
      "id": "4052dc83-d9a7-4b6e-909b-c804fb58d16b",
      "metadata": {},
      "outputs": [],
      "source": [
        "Let's create a Ridge regression object, setting the regularization parameter (alpha) to 0.1\n"
      ]
    },
    {
      "cell_type": "code",
      "id": "e85ef086-c4da-416f-af80-a45658822169",
      "metadata": {},
      "outputs": [],
      "source": [
        "RigeModel=Ridge(alpha=1)"
      ]
    },
    {
      "cell_type": "markdown",
      "id": "731bfc20-d326-4bd8-8fc7-dcf24d817bb9",
      "metadata": {},
      "outputs": [],
      "source": [
        "Like regular regression, you can fit the model using the method <b>fit</b>.\n"
      ]
    },
    {
      "cell_type": "code",
      "id": "19253d5e-f602-4cab-8ea3-e4909b32eae3",
      "metadata": {},
      "outputs": [],
      "source": [
        "RigeModel.fit(x_train_pr, y_train)"
      ]
    },
    {
      "cell_type": "markdown",
      "id": "941d6f22-f94b-4cf4-9a8c-90c2f768e0b9",
      "metadata": {},
      "outputs": [],
      "source": [
        "Similarly, you can obtain a prediction:\n"
      ]
    },
    {
      "cell_type": "code",
      "id": "eec968f6-5058-446b-90c9-c6398b602b3c",
      "metadata": {},
      "outputs": [],
      "source": [
        "yhat = RigeModel.predict(x_test_pr)"
      ]
    },
    {
      "cell_type": "markdown",
      "id": "94aeb9bb-29e6-4a9b-a8f7-a0011e9630e9",
      "metadata": {},
      "outputs": [],
      "source": [
        "Let's compare the first five predicted samples to our test set:\n"
      ]
    },
    {
      "cell_type": "code",
      "id": "162cc2ca-0145-4b95-8268-2be2cfeccb41",
      "metadata": {},
      "outputs": [],
      "source": [
        "print('predicted:', yhat[0:4])\nprint('test set :', y_test[0:4].values)"
      ]
    },
    {
      "cell_type": "markdown",
      "id": "fa53f7b3-023f-4d9b-93e1-0694d6e4b38f",
      "metadata": {},
      "outputs": [],
      "source": [
        "We select the value of alpha that minimizes the test error. To do so, we can use a for loop. We have also created a progress bar to see how many iterations we have completed so far.\n"
      ]
    },
    {
      "cell_type": "code",
      "id": "f8f9ab03-bda5-4a8c-8a7e-5cad4e277ac2",
      "metadata": {},
      "outputs": [],
      "source": [
        "from tqdm import tqdm\n\nRsqu_test = []\nRsqu_train = []\ndummy1 = []\nAlpha = 10 * np.array(range(0,1000))\npbar = tqdm(Alpha)\n\nfor alpha in pbar:\n    RigeModel = Ridge(alpha=alpha) \n    RigeModel.fit(x_train_pr, y_train)\n    test_score, train_score = RigeModel.score(x_test_pr, y_test), RigeModel.score(x_train_pr, y_train)\n    \n    pbar.set_postfix({\"Test Score\": test_score, \"Train Score\": train_score})\n\n    Rsqu_test.append(test_score)\n    Rsqu_train.append(train_score)"
      ]
    },
    {
      "cell_type": "markdown",
      "id": "cf2dd6d8-e344-4365-a329-ba45ff8590b2",
      "metadata": {},
      "outputs": [],
      "source": [
        "We can plot out the value of R^2 for different alphas:\n"
      ]
    },
    {
      "cell_type": "code",
      "id": "32d4001a-de08-46a0-a94f-777fab4e5c5d",
      "metadata": {},
      "outputs": [],
      "source": [
        "width = 12\nheight = 10\nplt.figure(figsize=(width, height))\n\nplt.plot(Alpha,Rsqu_test, label='validation data  ')\nplt.plot(Alpha,Rsqu_train, 'r', label='training Data ')\nplt.xlabel('alpha')\nplt.ylabel('R^2')\nplt.legend()"
      ]
    },
    {
      "cell_type": "markdown",
      "id": "8588ecdd-9452-4585-8056-db6b6d9f2168",
      "metadata": {},
      "outputs": [],
      "source": [
        "**Figure 4**: The blue line represents the R^2 of the validation data, and the red line represents the R^2 of the training data. The x-axis represents the different values of Alpha.\n"
      ]
    },
    {
      "cell_type": "markdown",
      "id": "e9b6182b-efd2-430d-bbe2-b9a9fa828295",
      "metadata": {},
      "outputs": [],
      "source": [
        "Here the model is built and tested on the same data, so the training and test data are the same.\n",
        "\n",
        "The red line in Figure 4 represents the R^2 of the training data. As alpha increases the R^2 decreases. Therefore, as alpha increases, the model performs worse on the training data\n",
        "\n",
        "The blue line represents the R^2 on the validation data. As the value for alpha increases, the R^2 increases and converges at a point.\n"
      ]
    },
    {
      "cell_type": "markdown",
      "id": "358a17e6-21c1-4448-8107-803df9af4ca4",
      "metadata": {},
      "outputs": [],
      "source": [
        "<div class=\"alert alert-danger alertdanger\" style=\"margin-top: 20px\">\n",
        "<h1> Question  #5): </h1>\n",
        "\n",
        "Perform Ridge regression. Calculate the R^2 using the polynomial features, use the training data to train the model and use the test data to test the model. The parameter alpha should be set to 10.\n",
        "\n",
        "</div>\n"
      ]
    },
    {
      "cell_type": "code",
      "id": "2fb92a01-53f0-4d4c-a67a-0fc02b6d477e",
      "metadata": {},
      "outputs": [],
      "source": [
        "# Write your code below and press Shift+Enter to execute \n"
      ]
    },
    {
      "cell_type": "markdown",
      "id": "7b6b1fdb-15e0-4817-b3d4-088abf4452c0",
      "metadata": {},
      "outputs": [],
      "source": [
        "<details><summary>Click here for the solution</summary>\n",
        "\n",
        "```python\n",
        "RigeModel = Ridge(alpha=10) \n",
        "RigeModel.fit(x_train_pr, y_train)\n",
        "RigeModel.score(x_test_pr, y_test)\n",
        "\n",
        "```\n",
        "\n",
        "</details>\n"
      ]
    },
    {
      "cell_type": "markdown",
      "id": "979c174a-707e-40db-957e-0b0ed07ee794",
      "metadata": {},
      "outputs": [],
      "source": [
        "<h2 id=\"ref4\">Part 4: Grid Search</h2>\n"
      ]
    },
    {
      "cell_type": "markdown",
      "id": "eb8276b6-1e76-46f8-920e-c26fe2fc5177",
      "metadata": {},
      "outputs": [],
      "source": [
        "The term alpha is a hyperparameter. Sklearn has the class <b>GridSearchCV</b> to make the process of finding the best hyperparameter simpler.\n"
      ]
    },
    {
      "cell_type": "markdown",
      "id": "1f663151-68b8-4895-81c8-cca5d2a26e8a",
      "metadata": {},
      "outputs": [],
      "source": [
        "Let's import <b>GridSearchCV</b> from  the module <b>model_selection</b>.\n"
      ]
    },
    {
      "cell_type": "code",
      "id": "5b96a586-7651-483d-8a0e-6faf8aa822be",
      "metadata": {},
      "outputs": [],
      "source": [
        "from sklearn.model_selection import GridSearchCV"
      ]
    },
    {
      "cell_type": "markdown",
      "id": "2a37fcef-c38b-4334-bc7c-51076cf08fb5",
      "metadata": {},
      "outputs": [],
      "source": [
        "We create a dictionary of parameter values:\n"
      ]
    },
    {
      "cell_type": "code",
      "id": "16a81cc1-cb75-4ad7-ab5a-6d9ed0392234",
      "metadata": {},
      "outputs": [],
      "source": [
        "parameters1= [{'alpha': [0.001,0.1,1, 10, 100, 1000, 10000, 100000, 100000]}]\nparameters1"
      ]
    },
    {
      "cell_type": "markdown",
      "id": "2cb3a388-1772-49cc-a460-2fb86e6fae68",
      "metadata": {},
      "outputs": [],
      "source": [
        "Create a Ridge regression object:\n"
      ]
    },
    {
      "cell_type": "code",
      "id": "7bd0a227-f454-4a86-884b-fcc2904b168f",
      "metadata": {},
      "outputs": [],
      "source": [
        "RR=Ridge()\nRR"
      ]
    },
    {
      "cell_type": "markdown",
      "id": "936f4202-c824-4503-bf6c-3c8ee5ac6266",
      "metadata": {},
      "outputs": [],
      "source": [
        "Create a ridge grid search object:\n"
      ]
    },
    {
      "cell_type": "code",
      "id": "0b041646-8916-46f4-bb3a-1fa1f057d9ce",
      "metadata": {},
      "outputs": [],
      "source": [
        "Grid1 = GridSearchCV(RR, parameters1,cv=4)"
      ]
    },
    {
      "cell_type": "markdown",
      "id": "17e5f7b0-cf1d-4d5a-a939-1f9fc2654430",
      "metadata": {},
      "outputs": [],
      "source": [
        "\n",
        "Fit the model:\n"
      ]
    },
    {
      "cell_type": "code",
      "id": "39e8e4e4-ce9b-498c-89c1-036ecdc8bb2d",
      "metadata": {},
      "outputs": [],
      "source": [
        "Grid1.fit(x_data[['horsepower', 'curb-weight', 'engine-size', 'highway-mpg']], y_data)"
      ]
    },
    {
      "cell_type": "markdown",
      "id": "e5cc2bfd-038c-4c4b-9889-91adee4d3a4a",
      "metadata": {},
      "outputs": [],
      "source": [
        "The object finds the best parameter values on the validation data. We can obtain the estimator with the best parameters and assign it to the variable BestRR as follows:\n"
      ]
    },
    {
      "cell_type": "code",
      "id": "494c32db-b556-4aa7-9bef-057e537298b7",
      "metadata": {},
      "outputs": [],
      "source": [
        "BestRR=Grid1.best_estimator_\nBestRR"
      ]
    },
    {
      "cell_type": "markdown",
      "id": "4ef8d05d-bd4c-4399-a788-c811334a0744",
      "metadata": {},
      "outputs": [],
      "source": [
        "We now test our model on the test data:\n"
      ]
    },
    {
      "cell_type": "code",
      "id": "1214e8dc-b189-4290-b5a1-f972f8bfadaa",
      "metadata": {},
      "outputs": [],
      "source": [
        "BestRR.score(x_test[['horsepower', 'curb-weight', 'engine-size', 'highway-mpg']], y_test)"
      ]
    },
    {
      "cell_type": "markdown",
      "id": "1e5c5bf7-b6a4-47a8-810a-6e0570796e0b",
      "metadata": {},
      "outputs": [],
      "source": [
        "### Thank you for completing this lab!\n",
        "\n",
        "## Author\n",
        "\n",
        "<a href=\"https://www.linkedin.com/in/joseph-s-50398b136/?utm_medium=Exinfluencer&utm_source=Exinfluencer&utm_content=000026UJ&utm_term=10006555&utm_id=NA-SkillsNetwork-Channel-SkillsNetworkCoursesIBMDeveloperSkillsNetworkDA0101ENSkillsNetwork20235326-2021-01-01\">Joseph Santarcangelo</a>\n",
        "\n",
        "### Other Contributors\n",
        "\n",
        "<a href=\"https://www.linkedin.com/in/mahdi-noorian-58219234/?utm_medium=Exinfluencer&utm_source=Exinfluencer&utm_content=000026UJ&utm_term=10006555&utm_id=NA-SkillsNetwork-Channel-SkillsNetworkCoursesIBMDeveloperSkillsNetworkDA0101ENSkillsNetwork20235326-2021-01-01\">Mahdi Noorian PhD</a>\n",
        "\n",
        "Bahare Talayian\n",
        "\n",
        "Eric Xiao\n",
        "\n",
        "Steven Dong\n",
        "\n",
        "Parizad\n",
        "\n",
        "Hima Vasudevan\n",
        "\n",
        "<a href=\"https://www.linkedin.com/in/fiorellawever/?utm_medium=Exinfluencer&utm_source=Exinfluencer&utm_content=000026UJ&utm_term=10006555&utm_id=NA-SkillsNetwork-Channel-SkillsNetworkCoursesIBMDeveloperSkillsNetworkDA0101ENSkillsNetwork20235326-2021-01-01\">Fiorella Wenver</a>\n",
        "\n",
        "<a href=\"https:// https://www.linkedin.com/in/yi-leng-yao-84451275/ \" target=\"_blank\" >Yi Yao</a>.\n",
        "\n",
        "## Change Log\n",
        "\n",
        "| Date (YYYY-MM-DD) | Version | Changed By | Change Description                  |\n",
        "| ----------------- | ------- | ---------- | ----------------------------------- |\n",
        "| 2022-08-23        | 2.4     | Malika     | Updated packages by adding keep_going=True |\n",
        "| 2020-10-30        | 2.3     | Lakshmi    | Changed URL of csv                  |\n",
        "| 2020-10-05        | 2.2     | Lakshmi    | Removed unused library imports      |\n",
        "| 2020-09-14        | 2.1     | Lakshmi    | Made changes in OverFitting section |\n",
        "| 2020-08-27        | 2.0     | Lavanya    | Moved lab to course repo in GitLab  |\n",
        "\n",
        "<hr>\n",
        "\n",
        "## <h3 align=\"center\"> © IBM Corporation 2020. All rights reserved. <h3/>\n"
      ]
    }
  ],
  "metadata": {
    "language_info": {
      "codemirror_mode": {
        "name": "python",
        "version": 3
      },
      "file_extension": ".py",
      "mimetype": "text/x-python",
      "name": "python",
      "nbconvert_exporter": "python",
      "pygments_lexer": "ipython3",
      "version": "3.8"
    },
    "kernelspec": {
      "name": "python",
      "display_name": "Pyolite",
      "language": "python"
    }
  },
  "nbformat": 4,
  "nbformat_minor": 4
}